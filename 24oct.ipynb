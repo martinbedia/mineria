{
  "nbformat": 4,
  "nbformat_minor": 0,
  "metadata": {
    "colab": {
      "provenance": [],
      "toc_visible": true,
      "include_colab_link": true
    },
    "kernelspec": {
      "name": "python3",
      "display_name": "Python 3"
    },
    "language_info": {
      "name": "python"
    }
  },
  "cells": [
    {
      "cell_type": "markdown",
      "metadata": {
        "id": "view-in-github",
        "colab_type": "text"
      },
      "source": [
        "<a href=\"https://colab.research.google.com/github/martinbedia/mineria/blob/main/24oct.ipynb\" target=\"_parent\"><img src=\"https://colab.research.google.com/assets/colab-badge.svg\" alt=\"Open In Colab\"/></a>"
      ]
    },
    {
      "cell_type": "markdown",
      "source": [
        "# Clase 24 oct\n",
        "\n",
        "Expresiones regulares\n",
        "\n",
        "\n"
      ],
      "metadata": {
        "id": "JZ5w1s0QBBFW"
      }
    },
    {
      "cell_type": "markdown",
      "source": [
        "Metodos de la clase str:\n",
        " - upper()\n",
        " - lower\n",
        " - strip\n",
        " - replace\n",
        " - split\n",
        " - join\n",
        "\n",
        "\n"
      ],
      "metadata": {
        "id": "n98Wa22sBPxx"
      }
    },
    {
      "cell_type": "code",
      "source": [
        "cadena = '   Hola, mundo   '"
      ],
      "metadata": {
        "id": "uFSM_hnQBYC5"
      },
      "execution_count": 1,
      "outputs": []
    },
    {
      "cell_type": "code",
      "source": [
        "cadena.upper()"
      ],
      "metadata": {
        "id": "xNDZlyGCBedW",
        "outputId": "384cb760-76d4-483a-ef7d-a8702f0e02dd",
        "colab": {
          "base_uri": "https://localhost:8080/",
          "height": 35
        }
      },
      "execution_count": 2,
      "outputs": [
        {
          "output_type": "execute_result",
          "data": {
            "text/plain": [
              "'   HOLA, MUNDO   '"
            ],
            "application/vnd.google.colaboratory.intrinsic+json": {
              "type": "string"
            }
          },
          "metadata": {},
          "execution_count": 2
        }
      ]
    },
    {
      "cell_type": "code",
      "source": [
        "cadena.lower()    # para buscar comparaciones en el texto, hay que pasar todo a mayusculas o minusculas"
      ],
      "metadata": {
        "id": "O7_eueDhBks4",
        "outputId": "43b47c64-1f03-4520-95d9-4f8bf6e1e543",
        "colab": {
          "base_uri": "https://localhost:8080/",
          "height": 35
        }
      },
      "execution_count": 3,
      "outputs": [
        {
          "output_type": "execute_result",
          "data": {
            "text/plain": [
              "'   hola, mundo   '"
            ],
            "application/vnd.google.colaboratory.intrinsic+json": {
              "type": "string"
            }
          },
          "metadata": {},
          "execution_count": 3
        }
      ]
    },
    {
      "cell_type": "code",
      "source": [
        "cadena.strip()   # quita los espacios en blanco"
      ],
      "metadata": {
        "id": "OW2sHw48Bsq6",
        "outputId": "753c4ee1-8f33-4637-ba27-3c5ded8e7ecb",
        "colab": {
          "base_uri": "https://localhost:8080/",
          "height": 35
        }
      },
      "execution_count": 4,
      "outputs": [
        {
          "output_type": "execute_result",
          "data": {
            "text/plain": [
              "'Hola, mundo'"
            ],
            "application/vnd.google.colaboratory.intrinsic+json": {
              "type": "string"
            }
          },
          "metadata": {},
          "execution_count": 4
        }
      ]
    },
    {
      "cell_type": "code",
      "source": [
        "cadena.replace('mundo','Pyhton')"
      ],
      "metadata": {
        "id": "5cnDQEiYB0XL",
        "outputId": "24d32e36-26c4-473d-8e34-f4fe2e8a14de",
        "colab": {
          "base_uri": "https://localhost:8080/",
          "height": 35
        }
      },
      "execution_count": 11,
      "outputs": [
        {
          "output_type": "execute_result",
          "data": {
            "text/plain": [
              "'   Hola, Pyhton   '"
            ],
            "application/vnd.google.colaboratory.intrinsic+json": {
              "type": "string"
            }
          },
          "metadata": {},
          "execution_count": 11
        }
      ]
    },
    {
      "cell_type": "code",
      "source": [
        "cadena.split(\",\")   # indicamos el caracter por el que dividimos"
      ],
      "metadata": {
        "id": "kHAO-jdiB520",
        "outputId": "7ec79935-c69d-4c36-d953-0d6b9702435e",
        "colab": {
          "base_uri": "https://localhost:8080/"
        }
      },
      "execution_count": 6,
      "outputs": [
        {
          "output_type": "execute_result",
          "data": {
            "text/plain": [
              "['   Hola', ' mundo   ']"
            ]
          },
          "metadata": {},
          "execution_count": 6
        }
      ]
    },
    {
      "cell_type": "code",
      "source": [
        "\"Todas las palabras de una frase\".split(\" \")"
      ],
      "metadata": {
        "id": "RvanMQSkCHMs",
        "outputId": "a5c566f2-3d74-493e-91dd-3c05460311dd",
        "colab": {
          "base_uri": "https://localhost:8080/"
        }
      },
      "execution_count": 10,
      "outputs": [
        {
          "output_type": "execute_result",
          "data": {
            "text/plain": [
              "['Todas', 'las', 'palabras', 'de', 'una', 'frase']"
            ]
          },
          "metadata": {},
          "execution_count": 10
        }
      ]
    },
    {
      "cell_type": "code",
      "source": [
        "# de la lista devuelve un unico string donde estan todos los elementos separados por el string con el que se llama al join\n",
        "\" \".join(['Palabras','de','una','frase'])   # recibe un iterable"
      ],
      "metadata": {
        "id": "JlCdYZxFCSA1",
        "outputId": "8b873d1d-1318-4658-c830-b027a07353e2",
        "colab": {
          "base_uri": "https://localhost:8080/",
          "height": 35
        }
      },
      "execution_count": 12,
      "outputs": [
        {
          "output_type": "execute_result",
          "data": {
            "text/plain": [
              "'Palabras de una frase'"
            ],
            "application/vnd.google.colaboratory.intrinsic+json": {
              "type": "string"
            }
          },
          "metadata": {},
          "execution_count": 12
        }
      ]
    },
    {
      "cell_type": "markdown",
      "source": [
        "Buscar dentro de los strings:\n",
        " - startswith()\n",
        " -.endswith()\n",
        " -in\n",
        " -.find()\n",
        " -.count()"
      ],
      "metadata": {
        "id": "4fLGlJ-TCsjt"
      }
    },
    {
      "cell_type": "code",
      "source": [
        "\"hola mundo\".startswith(\"hol\")"
      ],
      "metadata": {
        "id": "C9WHs_3NC7DT",
        "outputId": "0bc8b04f-2963-4d53-d8e3-040ab7c249a0",
        "colab": {
          "base_uri": "https://localhost:8080/"
        }
      },
      "execution_count": 13,
      "outputs": [
        {
          "output_type": "execute_result",
          "data": {
            "text/plain": [
              "True"
            ]
          },
          "metadata": {},
          "execution_count": 13
        }
      ]
    },
    {
      "cell_type": "code",
      "source": [
        "\"hola mundo\".endswith(\"ndo\")"
      ],
      "metadata": {
        "id": "4Wmqntq4DCWk",
        "outputId": "5efd1a59-f134-40c9-aea4-d4d2f1bc6e84",
        "colab": {
          "base_uri": "https://localhost:8080/"
        }
      },
      "execution_count": 14,
      "outputs": [
        {
          "output_type": "execute_result",
          "data": {
            "text/plain": [
              "True"
            ]
          },
          "metadata": {},
          "execution_count": 14
        }
      ]
    },
    {
      "cell_type": "code",
      "source": [
        "\"hola\" in \"hola mundo\""
      ],
      "metadata": {
        "id": "3xTbtX9kDOOD",
        "outputId": "3ef4dd7c-ab2f-4a2a-e85c-cdb83f6d2977",
        "colab": {
          "base_uri": "https://localhost:8080/"
        }
      },
      "execution_count": 15,
      "outputs": [
        {
          "output_type": "execute_result",
          "data": {
            "text/plain": [
              "True"
            ]
          },
          "metadata": {},
          "execution_count": 15
        }
      ]
    },
    {
      "cell_type": "code",
      "source": [
        "texto = \"Python es un lenguaje de programacion\"\n",
        "texto.find(\"es\")"
      ],
      "metadata": {
        "id": "RLuoQBe3DXYb",
        "outputId": "f71bed39-37dc-4bd6-adba-8a2c1986225c",
        "colab": {
          "base_uri": "https://localhost:8080/"
        }
      },
      "execution_count": 16,
      "outputs": [
        {
          "output_type": "execute_result",
          "data": {
            "text/plain": [
              "7"
            ]
          },
          "metadata": {},
          "execution_count": 16
        }
      ]
    },
    {
      "cell_type": "code",
      "source": [
        "texto.count(\"e\")"
      ],
      "metadata": {
        "id": "HuhbQTv-Dk87",
        "outputId": "07ca345f-bda3-4981-cc6e-f3539d57ccd0",
        "colab": {
          "base_uri": "https://localhost:8080/"
        }
      },
      "execution_count": 17,
      "outputs": [
        {
          "output_type": "execute_result",
          "data": {
            "text/plain": [
              "4"
            ]
          },
          "metadata": {},
          "execution_count": 17
        }
      ]
    },
    {
      "cell_type": "markdown",
      "source": [
        "Diferencia sobre lo que codificamos y lo que vemos"
      ],
      "metadata": {
        "id": "3pxgYrDHD2Zm"
      }
    },
    {
      "cell_type": "code",
      "source": [
        "saludo = 'Hola\\nmundo'   # \\n es un salto de linea\n",
        "print(saludo)"
      ],
      "metadata": {
        "id": "U0dMfI1rEQ02",
        "outputId": "89a64f3d-6fd4-4fcd-a672-ebe230a19c0e",
        "colab": {
          "base_uri": "https://localhost:8080/"
        }
      },
      "execution_count": 18,
      "outputs": [
        {
          "output_type": "stream",
          "name": "stdout",
          "text": [
            "Hola\n",
            "mundo\n"
          ]
        }
      ]
    },
    {
      "cell_type": "code",
      "source": [
        "saludo = 'Hola\\tmundo'   # \\t es un tabulador\n",
        "print(saludo)"
      ],
      "metadata": {
        "id": "zss41d6XEpA0",
        "outputId": "5987f8b2-ee4b-48bc-e8ab-f1a802e87be9",
        "colab": {
          "base_uri": "https://localhost:8080/"
        }
      },
      "execution_count": 19,
      "outputs": [
        {
          "output_type": "stream",
          "name": "stdout",
          "text": [
            "Hola\tmundo\n"
          ]
        }
      ]
    },
    {
      "cell_type": "code",
      "source": [
        "saludo = 'Hola\\rmundo'   # \\r se pone al principio de la linea y vuelve a escribir\n",
        "print(saludo)"
      ],
      "metadata": {
        "id": "8xGsM4SFEw6f",
        "outputId": "b3408603-9434-440d-f822-195a6fb9646d",
        "colab": {
          "base_uri": "https://localhost:8080/"
        }
      },
      "execution_count": 20,
      "outputs": [
        {
          "output_type": "stream",
          "name": "stdout",
          "text": [
            "Hola\rmundo\n"
          ]
        }
      ]
    },
    {
      "cell_type": "code",
      "source": [
        "saludo = 'Hola\\bmundo'   # \\b pone el cursor una posicion hacia atras, sobreescribe la 'a'\n",
        "print(saludo)"
      ],
      "metadata": {
        "id": "dc2SosBUE5AP",
        "outputId": "fde158ed-fa47-454e-864d-366d6a3044f3",
        "colab": {
          "base_uri": "https://localhost:8080/"
        }
      },
      "execution_count": 21,
      "outputs": [
        {
          "output_type": "stream",
          "name": "stdout",
          "text": [
            "Hola\bmundo\n"
          ]
        }
      ]
    },
    {
      "cell_type": "markdown",
      "source": [
        "# Expresiones regulares"
      ],
      "metadata": {
        "id": "OV9qVwQ1FI9e"
      }
    },
    {
      "cell_type": "code",
      "source": [
        "import re"
      ],
      "metadata": {
        "id": "Z5sVTc6yF4-t"
      },
      "execution_count": 24,
      "outputs": []
    },
    {
      "cell_type": "code",
      "source": [
        "ejemplo = '123abc456789abc123ABC'\n",
        "pattern = re.compile('abc')\n",
        "pattern.findall(ejemplo)"
      ],
      "metadata": {
        "id": "7Cgavb2eFpam",
        "outputId": "73d88b9d-23c2-4335-c982-9705c3f05cbc",
        "colab": {
          "base_uri": "https://localhost:8080/"
        }
      },
      "execution_count": 29,
      "outputs": [
        {
          "output_type": "execute_result",
          "data": {
            "text/plain": [
              "['abc', 'abc']"
            ]
          },
          "metadata": {},
          "execution_count": 29
        }
      ]
    },
    {
      "cell_type": "code",
      "source": [
        "# lo mismo\n",
        "texto = '123abc456789abc123ABC'\n",
        "regex = 'abc'\n",
        "re.findall(regex,texto)"
      ],
      "metadata": {
        "id": "sVAODlV6GiNN",
        "outputId": "8e885c7f-e1c6-4644-df03-80723d467d25",
        "colab": {
          "base_uri": "https://localhost:8080/"
        }
      },
      "execution_count": 31,
      "outputs": [
        {
          "output_type": "execute_result",
          "data": {
            "text/plain": [
              "['abc', 'abc']"
            ]
          },
          "metadata": {},
          "execution_count": 31
        }
      ]
    },
    {
      "cell_type": "code",
      "source": [
        "type(ejemplo)  # str\n",
        "type('abc')  # str\n",
        "type(pattern)   # re.Pattern (matching enginee)\n",
        "type(pattern.findall(ejemplo))"
      ],
      "metadata": {
        "id": "Rt064FyBGGnq",
        "outputId": "88d5f43d-30c9-4ed1-ba83-6291c4cc3dde",
        "colab": {
          "base_uri": "https://localhost:8080/"
        }
      },
      "execution_count": 30,
      "outputs": [
        {
          "output_type": "execute_result",
          "data": {
            "text/plain": [
              "list"
            ]
          },
          "metadata": {},
          "execution_count": 30
        }
      ]
    },
    {
      "cell_type": "markdown",
      "source": [
        "## re.search()"
      ],
      "metadata": {
        "id": "fJgb_sNZG548"
      }
    },
    {
      "cell_type": "code",
      "source": [
        "texto = 'escaso'\n",
        "regex = 'ca'\n",
        "[texto if re.search(regex,texto) else None ]"
      ],
      "metadata": {
        "id": "2L1ZSyVjGEq_",
        "outputId": "06f14368-bf31-4e2d-c9b2-5ec1be27ca76",
        "colab": {
          "base_uri": "https://localhost:8080/"
        }
      },
      "execution_count": 32,
      "outputs": [
        {
          "output_type": "execute_result",
          "data": {
            "text/plain": [
              "['escaso']"
            ]
          },
          "metadata": {},
          "execution_count": 32
        }
      ]
    },
    {
      "cell_type": "code",
      "source": [
        "palabras = ['escaso','casa','acatar','blanca','perro','cacahuete']\n",
        "regex = 'ca'\n",
        "# generar una lista solo con las palabras que contienen el patron a partir de una lista de palabras (que estamos filtrando)\n",
        "[palabra for palabra in palabras if re.search(regex,palabra)]"
      ],
      "metadata": {
        "id": "GFOxFcVqGFca",
        "outputId": "0851cc8a-3ab7-4570-aa17-43026fa6b189",
        "colab": {
          "base_uri": "https://localhost:8080/"
        }
      },
      "execution_count": 35,
      "outputs": [
        {
          "output_type": "execute_result",
          "data": {
            "text/plain": [
              "['escaso', 'casa', 'acatar', 'blanca', 'cacahuete']"
            ]
          },
          "metadata": {},
          "execution_count": 35
        }
      ]
    },
    {
      "cell_type": "markdown",
      "source": [
        "## Caracteres especiales de 're'\n",
        "  - '^' empieza con\n",
        "  - '$' termina con\n",
        "  -'.' comodin que sirve por cualquier caracter\n",
        "  - '\\' escapar de una secuencia\n",
        "  - '*' cuantificador cero o más\n",
        "  - '+' cuantificador uno o más\n",
        "  - '?' cuantificador cero o uno\n",
        "  - '{n}' cuantificador de 'n' veces\n",
        "  - '{n,m}' cuantificador rango (ambos incluidos)\n",
        "  - '[]' para definir conjuntos\n",
        "  - '()' para definir grupos\n",
        "  - '|' operador condicional 'or'\n"
      ],
      "metadata": {
        "id": "57TvTl40H_dL"
      }
    },
    {
      "cell_type": "code",
      "source": [
        "def palabra_contiene_patron(regex, texto):\n",
        "  return [texto if re.search(regex,texto) else None]"
      ],
      "metadata": {
        "id": "r8LTc6YjGFn2"
      },
      "execution_count": 37,
      "outputs": []
    },
    {
      "cell_type": "code",
      "source": [
        "def palabras_contienen_patron(regex, palabras):\n",
        "  return [palabra for palabra in palabras if re.search(regex,palabra)]"
      ],
      "metadata": {
        "id": "Qefc_rkXGFww"
      },
      "execution_count": 38,
      "outputs": []
    },
    {
      "cell_type": "code",
      "source": [
        "palabra_contiene_patron('ca','escaso')"
      ],
      "metadata": {
        "id": "LMI1chsaJg0o",
        "outputId": "6007584b-e01f-4096-ef11-a6db97afdfd9",
        "colab": {
          "base_uri": "https://localhost:8080/"
        }
      },
      "execution_count": 39,
      "outputs": [
        {
          "output_type": "execute_result",
          "data": {
            "text/plain": [
              "['escaso']"
            ]
          },
          "metadata": {},
          "execution_count": 39
        }
      ]
    },
    {
      "cell_type": "code",
      "source": [
        "palabra_contiene_patron('ca','palabra')"
      ],
      "metadata": {
        "id": "iI7OHcvvJmJ4",
        "outputId": "8d8a181f-4a0a-49b6-a28c-48f984b9047d",
        "colab": {
          "base_uri": "https://localhost:8080/"
        }
      },
      "execution_count": 40,
      "outputs": [
        {
          "output_type": "execute_result",
          "data": {
            "text/plain": [
              "[None]"
            ]
          },
          "metadata": {},
          "execution_count": 40
        }
      ]
    },
    {
      "cell_type": "code",
      "source": [
        "palabras_contienen_patron('ca',palabras)"
      ],
      "metadata": {
        "id": "39W793XYJsbE",
        "outputId": "163c60c2-055c-4fcb-f78b-7c3a2bb63d62",
        "colab": {
          "base_uri": "https://localhost:8080/"
        }
      },
      "execution_count": 41,
      "outputs": [
        {
          "output_type": "execute_result",
          "data": {
            "text/plain": [
              "['escaso', 'casa', 'acatar', 'blanca', 'cacahuete']"
            ]
          },
          "metadata": {},
          "execution_count": 41
        }
      ]
    },
    {
      "cell_type": "code",
      "source": [
        "palabra_contiene_patron('^ca','escaso')"
      ],
      "metadata": {
        "id": "APc9CXQgJzTg",
        "outputId": "d6fdb055-0e2b-455b-c83a-96a98cac5766",
        "colab": {
          "base_uri": "https://localhost:8080/"
        }
      },
      "execution_count": 43,
      "outputs": [
        {
          "output_type": "execute_result",
          "data": {
            "text/plain": [
              "[None]"
            ]
          },
          "metadata": {},
          "execution_count": 43
        }
      ]
    },
    {
      "cell_type": "code",
      "source": [
        "palabra_contiene_patron('ca$','cabeza')"
      ],
      "metadata": {
        "id": "ZR5dEonBJ-J6",
        "outputId": "280361cf-0313-42af-b530-8324c6d61334",
        "colab": {
          "base_uri": "https://localhost:8080/"
        }
      },
      "execution_count": 45,
      "outputs": [
        {
          "output_type": "execute_result",
          "data": {
            "text/plain": [
              "[None]"
            ]
          },
          "metadata": {},
          "execution_count": 45
        }
      ]
    },
    {
      "cell_type": "code",
      "source": [
        "palabra_contiene_patron('ca$','roca')"
      ],
      "metadata": {
        "id": "u2CaydHOJzYI",
        "outputId": "0d9aef05-3c31-45aa-a732-8bbb5f95a002",
        "colab": {
          "base_uri": "https://localhost:8080/"
        }
      },
      "execution_count": 46,
      "outputs": [
        {
          "output_type": "execute_result",
          "data": {
            "text/plain": [
              "['roca']"
            ]
          },
          "metadata": {},
          "execution_count": 46
        }
      ]
    },
    {
      "cell_type": "code",
      "source": [
        "palabra_contiene_patron('ca$','escaso')"
      ],
      "metadata": {
        "id": "_7dgi-8fJzdH",
        "outputId": "1de0c985-bc20-4086-ba77-3d9928d1ea1a",
        "colab": {
          "base_uri": "https://localhost:8080/"
        }
      },
      "execution_count": 47,
      "outputs": [
        {
          "output_type": "execute_result",
          "data": {
            "text/plain": [
              "[None]"
            ]
          },
          "metadata": {},
          "execution_count": 47
        }
      ]
    },
    {
      "cell_type": "code",
      "source": [
        "regex = 'ca.a'\n",
        "palabras = ['caja','casa','perro','cama']\n",
        "palabras_contienen_patron(regex,palabras)"
      ],
      "metadata": {
        "id": "zUTbp2IqJzgn",
        "outputId": "6a402f8f-e860-4692-99f8-0d1ca160f9ff",
        "colab": {
          "base_uri": "https://localhost:8080/"
        }
      },
      "execution_count": 48,
      "outputs": [
        {
          "output_type": "execute_result",
          "data": {
            "text/plain": [
              "['caja', 'casa', 'cama']"
            ]
          },
          "metadata": {},
          "execution_count": 48
        }
      ]
    },
    {
      "cell_type": "code",
      "source": [
        "# quiero una expresion que coincide con una palabra que acaba en a seguida de .\n",
        "regex = 'a.'   # mal porque el punto es un comodin\n"
      ],
      "metadata": {
        "id": "PgHXvhaqJzjQ"
      },
      "execution_count": null,
      "outputs": []
    },
    {
      "cell_type": "code",
      "source": [
        "palabra_contiene_patron(regex,'acaba.')  # sale"
      ],
      "metadata": {
        "id": "0seqrZ3LKt5n",
        "outputId": "79fa7ee7-0c17-4250-d731-d52bb09549d2",
        "colab": {
          "base_uri": "https://localhost:8080/"
        }
      },
      "execution_count": 49,
      "outputs": [
        {
          "output_type": "execute_result",
          "data": {
            "text/plain": [
              "['acaba.']"
            ]
          },
          "metadata": {},
          "execution_count": 49
        }
      ]
    },
    {
      "cell_type": "code",
      "source": [
        "palabra_contiene_patron(regex,'acabar')  # sale pero no deberia"
      ],
      "metadata": {
        "id": "PcTif-uzK0gO",
        "outputId": "d249adee-329e-4058-b9f2-f4165e9bc575",
        "colab": {
          "base_uri": "https://localhost:8080/"
        }
      },
      "execution_count": 50,
      "outputs": [
        {
          "output_type": "execute_result",
          "data": {
            "text/plain": [
              "['acabar']"
            ]
          },
          "metadata": {},
          "execution_count": 50
        }
      ]
    },
    {
      "cell_type": "code",
      "source": [
        "regex = 'a\\.'\n",
        "palabra_contiene_patron(regex,'acabar')"
      ],
      "metadata": {
        "id": "obMUfzLUK4o2",
        "outputId": "02cdfb82-7315-4cea-9882-fae0c4376423",
        "colab": {
          "base_uri": "https://localhost:8080/"
        }
      },
      "execution_count": 51,
      "outputs": [
        {
          "output_type": "execute_result",
          "data": {
            "text/plain": [
              "[None]"
            ]
          },
          "metadata": {},
          "execution_count": 51
        }
      ]
    },
    {
      "cell_type": "markdown",
      "source": [
        "- 'ga*to' coincide con _gato_, _gaato_, _gaaato_ pero tambien con _gto_\n",
        "- 'ga+to' coincide con _gato_, _gaato_, _gaaato_ pero no coincide con _gto_\n",
        "- audio-?libro coincide con audio-libro y audiolibro"
      ],
      "metadata": {
        "id": "9g3NmHUVLDWG"
      }
    },
    {
      "cell_type": "code",
      "source": [
        "palabras = ['hola',   # 1,2,3\n",
        "            'hxla',   # 1,2,3\n",
        "            'hoola',  # 1,2\n",
        "            'hla',    # 1,3\n",
        "            'ola']    # con ninguna, todas exigen que el patron lleve la h\n",
        "\n",
        "# 1. h.*la\n",
        "# 2. h.+la\n",
        "# 3. h.?la"
      ],
      "metadata": {
        "id": "In0dIZ_yLmYj"
      },
      "execution_count": null,
      "outputs": []
    },
    {
      "cell_type": "markdown",
      "source": [
        "## Ejercicios\n",
        "1. Encontrar las palabras que terminen en _mente_\n",
        "2. Encontrar las palabras que comienzan con _re_ y además contengan una _s_\n",
        "3. Encontrar las palabras que tengan dos _c_ separadas por otra letra\n",
        "4. Encontrar las palabras que contiene una _m_ seguida de al menos una letra y  luego una _s_\n",
        "5. Encontrar las palabras que contienen dos _a_ seguidas o separadas por una unica letra"
      ],
      "metadata": {
        "id": "FdWVxOZDMk0s"
      }
    },
    {
      "cell_type": "code",
      "source": [
        "# 1. Encontrar las palabras que terminen en _mente_\n",
        "regex = 'mente$'\n",
        "palabra_contiene_patron(regex,'acabar')"
      ],
      "metadata": {
        "id": "0T19ul5eNKz5",
        "outputId": "cab3e45e-6c83-4c06-ad2a-9e2fbfdc959c",
        "colab": {
          "base_uri": "https://localhost:8080/"
        }
      },
      "execution_count": 54,
      "outputs": [
        {
          "output_type": "execute_result",
          "data": {
            "text/plain": [
              "[None]"
            ]
          },
          "metadata": {},
          "execution_count": 54
        }
      ]
    },
    {
      "cell_type": "code",
      "source": [
        "# 2. Encontrar las palabras que comienzan con re y además contengan una s\n",
        "regex = '^re.*s.*'   # o solo '^re.*s'\n",
        "lista = ['reposo', 'rescate', 'gato']\n",
        "palabras_contienen_patron(regex, lista)"
      ],
      "metadata": {
        "id": "ZvE5J7tbNK8Q",
        "outputId": "d6cf157b-e340-4c47-9504-682231c4b38e",
        "colab": {
          "base_uri": "https://localhost:8080/"
        }
      },
      "execution_count": 64,
      "outputs": [
        {
          "output_type": "execute_result",
          "data": {
            "text/plain": [
              "['reposo', 'rescate']"
            ]
          },
          "metadata": {},
          "execution_count": 64
        }
      ]
    },
    {
      "cell_type": "code",
      "source": [
        "# 3. Encontrar las palabras que tengan dos _c_ separadas por otra letra\n",
        "regex = 'c.c'\n",
        "palabra_contiene_patron(regex,'acabar')"
      ],
      "metadata": {
        "id": "7he6Dub8NLJh",
        "outputId": "af12dbe0-4763-4fc8-dfee-c25c492991cf",
        "colab": {
          "base_uri": "https://localhost:8080/"
        }
      },
      "execution_count": 68,
      "outputs": [
        {
          "output_type": "execute_result",
          "data": {
            "text/plain": [
              "[None]"
            ]
          },
          "metadata": {},
          "execution_count": 68
        }
      ]
    },
    {
      "cell_type": "code",
      "source": [
        "# 4. Encontrar las palabras que contiene una _m_ seguida de al menos una letra y  luego una _s_\n",
        "regex = 'm.+s'\n",
        "palabra_contiene_patron(regex,'acabar')"
      ],
      "metadata": {
        "id": "9isImTPmNLQw",
        "outputId": "1b12b5d3-ef2b-4b24-8a08-56fe0507763d",
        "colab": {
          "base_uri": "https://localhost:8080/"
        }
      },
      "execution_count": 65,
      "outputs": [
        {
          "output_type": "execute_result",
          "data": {
            "text/plain": [
              "[None]"
            ]
          },
          "metadata": {},
          "execution_count": 65
        }
      ]
    },
    {
      "cell_type": "code",
      "source": [
        "# 5. Encontrar las palabras que contienen dos _a_ seguidas o separadas por una unica letra\n",
        "regex = 'a.?a'\n",
        "palabra_contiene_patron(regex,'acabar')"
      ],
      "metadata": {
        "id": "l0cpfb9zNLYf",
        "outputId": "3fecfc46-2516-459e-d1c3-6beb677ba5a2",
        "colab": {
          "base_uri": "https://localhost:8080/"
        }
      },
      "execution_count": 69,
      "outputs": [
        {
          "output_type": "execute_result",
          "data": {
            "text/plain": [
              "['acabar']"
            ]
          },
          "metadata": {},
          "execution_count": 69
        }
      ]
    },
    {
      "cell_type": "code",
      "source": [
        "palabra_contiene_patron('o{2}','hoola')"
      ],
      "metadata": {
        "id": "Vd6itUL8RJHo",
        "outputId": "43c3a0f7-6b9f-48ee-e644-5ff922259b3e",
        "colab": {
          "base_uri": "https://localhost:8080/"
        }
      },
      "execution_count": 70,
      "outputs": [
        {
          "output_type": "execute_result",
          "data": {
            "text/plain": [
              "['hoola']"
            ]
          },
          "metadata": {},
          "execution_count": 70
        }
      ]
    },
    {
      "cell_type": "code",
      "source": [
        "palabra_contiene_patron('o{3}','hoola')"
      ],
      "metadata": {
        "id": "sh7OmiIeRPrl",
        "outputId": "71104874-4ad2-4290-c234-fcb83e9ac391",
        "colab": {
          "base_uri": "https://localhost:8080/"
        }
      },
      "execution_count": 71,
      "outputs": [
        {
          "output_type": "execute_result",
          "data": {
            "text/plain": [
              "[None]"
            ]
          },
          "metadata": {},
          "execution_count": 71
        }
      ]
    },
    {
      "cell_type": "code",
      "source": [
        "palabra_contiene_patron('o{2,3}','hooola')    # dos o tres"
      ],
      "metadata": {
        "id": "uri_qYdARR6c",
        "outputId": "509e26e5-16f4-45f9-9ce1-5e1d8256737d",
        "colab": {
          "base_uri": "https://localhost:8080/"
        }
      },
      "execution_count": 72,
      "outputs": [
        {
          "output_type": "execute_result",
          "data": {
            "text/plain": [
              "['hooola']"
            ]
          },
          "metadata": {},
          "execution_count": 72
        }
      ]
    },
    {
      "cell_type": "markdown",
      "source": [
        "En el cuantificador '{n,m}' se pueden omitir valores. Si se omite el limite inferior se asume que es 0. Si se omite el limite superior se asumen que es infinito"
      ],
      "metadata": {
        "id": "eN3VgZhwRd4p"
      }
    },
    {
      "cell_type": "code",
      "source": [
        "palabras = ['1', '12', '123', '1234','12345','234']\n",
        "palabras_contienen_patron('1{1,3}',palabras)"
      ],
      "metadata": {
        "id": "FIweC3iyRYpD",
        "outputId": "334b85f0-5afe-4c45-da14-70aeddb151f2",
        "colab": {
          "base_uri": "https://localhost:8080/"
        }
      },
      "execution_count": 73,
      "outputs": [
        {
          "output_type": "execute_result",
          "data": {
            "text/plain": [
              "['1', '12', '123', '1234', '12345']"
            ]
          },
          "metadata": {},
          "execution_count": 73
        }
      ]
    },
    {
      "cell_type": "code",
      "source": [
        "palabras = ['1', '12', '123', '1234','12345','234']\n",
        "palabras_contienen_patron('1{2,}',palabras)"
      ],
      "metadata": {
        "id": "NBKICTFPSGWd",
        "outputId": "a3c1ae5f-ee78-44a9-bdce-53e11973bad6",
        "colab": {
          "base_uri": "https://localhost:8080/"
        }
      },
      "execution_count": 74,
      "outputs": [
        {
          "output_type": "execute_result",
          "data": {
            "text/plain": [
              "[]"
            ]
          },
          "metadata": {},
          "execution_count": 74
        }
      ]
    },
    {
      "cell_type": "markdown",
      "source": [
        "## Clases (conjuntos de caracteres)\n",
        "Se definen utilizando [ ]\n",
        "Define un conjunto de caracteres válidos. No significa que los este buscando solo a la vez"
      ],
      "metadata": {
        "id": "sVNRFvumSOME"
      }
    },
    {
      "cell_type": "code",
      "source": [
        "regex = '[a-c]'  # equivalente a [abc], pero el operador guion genera un rango\n",
        "re.findall(regex,'abecedario')"
      ],
      "metadata": {
        "id": "eJrVnA0CSVUE",
        "outputId": "718044f0-24e7-4d98-cad6-7508fecdadf3",
        "colab": {
          "base_uri": "https://localhost:8080/"
        }
      },
      "execution_count": 75,
      "outputs": [
        {
          "output_type": "execute_result",
          "data": {
            "text/plain": [
              "['a', 'b', 'c', 'a']"
            ]
          },
          "metadata": {},
          "execution_count": 75
        }
      ]
    }
  ]
}