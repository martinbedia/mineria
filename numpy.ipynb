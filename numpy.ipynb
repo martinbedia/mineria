{
  "nbformat": 4,
  "nbformat_minor": 0,
  "metadata": {
    "colab": {
      "provenance": [],
      "toc_visible": true,
      "include_colab_link": true
    },
    "kernelspec": {
      "name": "python3",
      "display_name": "Python 3"
    },
    "language_info": {
      "name": "python"
    }
  },
  "cells": [
    {
      "cell_type": "markdown",
      "metadata": {
        "id": "view-in-github",
        "colab_type": "text"
      },
      "source": [
        "<a href=\"https://colab.research.google.com/github/martinbedia/mineria/blob/main/numpy.ipynb\" target=\"_parent\"><img src=\"https://colab.research.google.com/assets/colab-badge.svg\" alt=\"Open In Colab\"/></a>"
      ]
    },
    {
      "cell_type": "markdown",
      "source": [
        "Introduccion"
      ],
      "metadata": {
        "id": "IYFtvM_17aZc"
      }
    },
    {
      "cell_type": "code",
      "source": [
        "import numpy as np"
      ],
      "metadata": {
        "id": "qtxXAoFD5-4Y"
      },
      "execution_count": 1,
      "outputs": []
    },
    {
      "cell_type": "markdown",
      "source": [
        "Proporciona objetos de tipo ndarray. Son lista eficientes. Tienen tamaño estático. Los elementos son del mismo tipo (mas o menos, podemos crear arrays de tipo distinto).\n",
        "Tienen funcionalidades precompiladas que son mucho mas eficientes y rapidas\n",
        "Vectorización y broadcasting"
      ],
      "metadata": {
        "id": "ZVzch_bX6F7y"
      }
    },
    {
      "cell_type": "code",
      "source": [
        "arr = np.array([3,5,1,7])"
      ],
      "metadata": {
        "id": "7mGxn6FD69VM"
      },
      "execution_count": 2,
      "outputs": []
    },
    {
      "cell_type": "code",
      "source": [
        "print(type(arr))"
      ],
      "metadata": {
        "id": "cOV1T1yn7PIr",
        "outputId": "1e17dfb1-1e91-48e7-ba68-388cc46dbbfa",
        "colab": {
          "base_uri": "https://localhost:8080/"
        }
      },
      "execution_count": 3,
      "outputs": [
        {
          "output_type": "stream",
          "name": "stdout",
          "text": [
            "<class 'numpy.ndarray'>\n"
          ]
        }
      ]
    },
    {
      "cell_type": "markdown",
      "source": [
        "Los arrays son de dimensiones diferentes y la funcion array lo infiere en el momento de la creacion. Pueden tener todas las dimensiones que queremos:\n",
        "- 0D: es un elemento simple\n",
        "-1D: es una lista\n",
        "-2D: es una matriz\n",
        "-3D: es"
      ],
      "metadata": {
        "id": "xKu5MYMS7v8b"
      }
    },
    {
      "cell_type": "code",
      "source": [
        "arr0D = np.array(34)\n",
        "print(arr0D)\n",
        "print(type(arr0D))"
      ],
      "metadata": {
        "id": "5ay0wOD37240",
        "outputId": "66958706-d3b0-4858-ea0a-4111a245812b",
        "colab": {
          "base_uri": "https://localhost:8080/"
        }
      },
      "execution_count": 4,
      "outputs": [
        {
          "output_type": "stream",
          "name": "stdout",
          "text": [
            "34\n",
            "<class 'numpy.ndarray'>\n"
          ]
        }
      ]
    },
    {
      "cell_type": "code",
      "source": [
        "arr1D = np.array([3,5,1,7])    #ojo poner los corchetes, lo que recibe la funcion es un objeto de tipo list\n",
        "print(arr1D)"
      ],
      "metadata": {
        "id": "yhyJGMYq8D1k",
        "outputId": "94809e56-4deb-444b-9b8b-d2379e982d47",
        "colab": {
          "base_uri": "https://localhost:8080/"
        }
      },
      "execution_count": 5,
      "outputs": [
        {
          "output_type": "stream",
          "name": "stdout",
          "text": [
            "[3 5 1 7]\n"
          ]
        }
      ]
    },
    {
      "cell_type": "code",
      "source": [
        "arr2D= np.array([[10,20],[30,40]])\n",
        "print(arr2D)\n",
        "\n",
        "arr3D= np.array([[[10,20],[30,40]],[[50,60],[70,80]]])\n",
        "print(arr3D)"
      ],
      "metadata": {
        "id": "-8Cc2IVC8gFE",
        "outputId": "fb880934-92cb-451b-ef85-be3314630b22",
        "colab": {
          "base_uri": "https://localhost:8080/"
        }
      },
      "execution_count": 7,
      "outputs": [
        {
          "output_type": "stream",
          "name": "stdout",
          "text": [
            "[[10 20]\n",
            " [30 40]]\n",
            "[[[10 20]\n",
            "  [30 40]]\n",
            "\n",
            " [[50 60]\n",
            "  [70 80]]]\n"
          ]
        }
      ]
    },
    {
      "cell_type": "markdown",
      "source": [
        "Llamamos dimension a un nivel de profundidad"
      ],
      "metadata": {
        "id": "216y7sFt8zcs"
      }
    },
    {
      "cell_type": "code",
      "source": [
        "print(arr0D.ndim)\n",
        "print(arr1D.ndim)\n",
        "print(arr2D.ndim)"
      ],
      "metadata": {
        "id": "pTvWBANE9Rz5",
        "outputId": "89a276c5-694a-46c8-ba11-dd39b3ecb95b",
        "colab": {
          "base_uri": "https://localhost:8080/"
        }
      },
      "execution_count": 9,
      "outputs": [
        {
          "output_type": "stream",
          "name": "stdout",
          "text": [
            "0\n",
            "1\n",
            "2\n"
          ]
        }
      ]
    },
    {
      "cell_type": "markdown",
      "source": [
        "funcion: accedemos a ella usamos np.cosa()\n",
        "metodo: accedemos a ellos a traves de un objeto tipo ndarray, es decir, arr.cosa()\n",
        "propiedades o atributos: accedemos a ellos a traves de un objeto de tipo ndarray pero solo almacenan informacion y no ejecutan funcionalidades arr.cosa ,sin los parentesis"
      ],
      "metadata": {
        "id": "_XyR9Nva9NJU"
      }
    },
    {
      "cell_type": "code",
      "source": [
        "arr = np.array([])"
      ],
      "metadata": {
        "id": "bQdOIW5l96sx"
      },
      "execution_count": null,
      "outputs": []
    }
  ]
}