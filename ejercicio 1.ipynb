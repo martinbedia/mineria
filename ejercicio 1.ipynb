{
  "nbformat": 4,
  "nbformat_minor": 0,
  "metadata": {
    "colab": {
      "provenance": [],
      "include_colab_link": true
    },
    "kernelspec": {
      "name": "python3",
      "display_name": "Python 3"
    },
    "language_info": {
      "name": "python"
    }
  },
  "cells": [
    {
      "cell_type": "markdown",
      "metadata": {
        "id": "view-in-github",
        "colab_type": "text"
      },
      "source": [
        "<a href=\"https://colab.research.google.com/github/martinbedia/mineria/blob/main/ejercicio%201.ipynb\" target=\"_parent\"><img src=\"https://colab.research.google.com/assets/colab-badge.svg\" alt=\"Open In Colab\"/></a>"
      ]
    },
    {
      "cell_type": "markdown",
      "source": [
        "# Ejercicio 1\n",
        "Sobre el código realizado durante las clases para analizar tickets estudia si los tickets\n",
        "contienen parking o no. Aquellos que lo contienen aportan información adicional. Modifica el programa para tener esto en cuenta. El resultado del código deberán ser dos archivos csv. Uno tendrá las columnas id ticket, producto, cantidad, precio por unidad. El otro tendrá para cada id de ticket, parking (booleana), fecha, total precio ticket, hora entrada, hora salida, tiempo total (que podéis calcularlo de las anteriores). Las columnas para las que no se dispone de datos en algunos de los tickets deberán ser NA."
      ],
      "metadata": {
        "id": "IYFtvM_17aZc"
      }
    },
    {
      "cell_type": "code",
      "source": [
        "!pip install PyPDF2"
      ],
      "metadata": {
        "id": "M84YIg9J9UzR",
        "outputId": "1fd99a0c-4b6a-416c-b38c-c53d93a92772",
        "colab": {
          "base_uri": "https://localhost:8080/"
        }
      },
      "execution_count": 3,
      "outputs": [
        {
          "output_type": "stream",
          "name": "stdout",
          "text": [
            "Collecting PyPDF2\n",
            "  Downloading pypdf2-3.0.1-py3-none-any.whl (232 kB)\n",
            "\u001b[2K     \u001b[90m━━━━━━━━━━━━━━━━━━━━━━━━━━━━━━━━━━━━━━━━\u001b[0m \u001b[32m232.6/232.6 kB\u001b[0m \u001b[31m3.7 MB/s\u001b[0m eta \u001b[36m0:00:00\u001b[0m\n",
            "\u001b[?25hInstalling collected packages: PyPDF2\n",
            "Successfully installed PyPDF2-3.0.1\n"
          ]
        }
      ]
    },
    {
      "cell_type": "code",
      "source": [
        "import sklearn\n",
        "import pandas as pd\n",
        "import numpy as np\n",
        "from sklearn.model_selection import train_test_split\n",
        "from sklearn.preprocessing import StandardScaler\n",
        "from sklearn.metrics import accuracy_score, classification_report\n",
        "from sklearn.cluster import KMeans, AgglomerativeClustering\n",
        "import matplotlib.pyplot as plt\n",
        "import seaborn as sns\n",
        "import glob, os\n",
        "import PyPDF2\n",
        "import re\n",
        "import csv"
      ],
      "metadata": {
        "id": "UX9Z5Wwr9qV4"
      },
      "execution_count": 10,
      "outputs": []
    },
    {
      "cell_type": "code",
      "source": [
        "# leer archivos de un tipo concreto de una carpeta y sus subcarpetas\n",
        "# recursive para que busque en las subcarpetas\n",
        "ruta_carpeta_raiz = '.'\n",
        "tickets = glob.glob(os.path.join(ruta_carpeta_raiz, '**/*.pdf'),recursive=True)\n",
        "tickets"
      ],
      "metadata": {
        "colab": {
          "base_uri": "https://localhost:8080/"
        },
        "id": "mZ38Iot6Sq7J",
        "outputId": "d4c00e77-1573-444f-dea6-114ff77dddf1"
      },
      "execution_count": 5,
      "outputs": [
        {
          "output_type": "execute_result",
          "data": {
            "text/plain": [
              "['./Ticket-23_11_2023.pdf',\n",
              " './Ticket-13_11_2023.pdf',\n",
              " './Ticket-3_11_2023.pdf',\n",
              " './20230909 Mercadona 21,23 €.pdf']"
            ]
          },
          "metadata": {},
          "execution_count": 5
        }
      ]
    },
    {
      "cell_type": "markdown",
      "source": [
        "Veo que me salen los 3 tickets sobre los que trabajaremos."
      ],
      "metadata": {
        "id": "CJaEXB3VbaBc"
      }
    },
    {
      "cell_type": "code",
      "source": [
        "# leer el ticket\n",
        "pdf_reader = PyPDF2.PdfReader(tickets[3])    # conectar el archivo pdf con el codigo en python\n",
        "ticket = pdf_reader.pages[0]   # acceder a la primera pagina\n",
        "texto_ticket = ticket.extract_text()\n",
        "texto_ticket"
      ],
      "metadata": {
        "colab": {
          "base_uri": "https://localhost:8080/",
          "height": 157
        },
        "id": "ITMiVa3mSq-z",
        "outputId": "bd03f504-8582-41b2-d51c-a7d043dad424"
      },
      "execution_count": 6,
      "outputs": [
        {
          "output_type": "execute_result",
          "data": {
            "text/plain": [
              "'MERCADONA, S.A.   A-46103834\\nPLAZA DAOIZ Y VELARDE 5\\n33009 OVIEDO\\nTELÉFONO: 985216153\\n09/09/2023 20:35  OP: 191484\\nFACTURA SIMPLIFICADA: 3433-011-051093\\nDescripción P. Unit Importe\\n2TAQUITOS SALMÓN 3,80 7,60\\n1TROTTOLE TRICOLORE 0,95\\n1QUESO RALLADO GOUDA 1,44\\n1ÑOQUIS DE PATATA 1,12\\n2LECHE SEMI S/LACT 1,46 2,92\\n1QUESO FETA 2,35\\n1PICATOSTE AJO 0,85\\n2NEGRA RODAJAS P3 2,00 4,00\\n1PARKING 0,00\\nENTRADA  20:22       SALIDA  20:35\\nTOTAL (€) 21,23\\nTARJETA BANCARIA 21,23\\nIVA BASE IMPONIBLE (€) CUOTA (€)\\n10% 11,32 1,13\\n5% 1,97 0,10\\n0% 6,71 0,00\\nTOTAL 20,00 1,23\\nTARJ. BANCARIA:  **** **** **** 4016\\nN.C: 003943818  AUT: 729144\\nAID: A0000000041010   ARC: 3030\\nMASTERCARD\\nImporte: 21,23 € MASTERCARD\\nSE ADMITEN DEVOLUCIONES CON TICKET\\nDISPONE DE 20 MINUTOS\\nPARA RETIRAR SU VEHÍCULO'"
            ],
            "application/vnd.google.colaboratory.intrinsic+json": {
              "type": "string"
            }
          },
          "metadata": {},
          "execution_count": 6
        }
      ]
    },
    {
      "cell_type": "code",
      "source": [
        "# texto del ticket por lineas\n",
        "lineas = np.array(texto_ticket.split('\\n'))\n",
        "lineas"
      ],
      "metadata": {
        "colab": {
          "base_uri": "https://localhost:8080/"
        },
        "id": "dNLn7ilaSrAz",
        "outputId": "0ae7bf43-527f-4f50-b113-f7921149e249"
      },
      "execution_count": 7,
      "outputs": [
        {
          "output_type": "execute_result",
          "data": {
            "text/plain": [
              "array(['MERCADONA, S.A.   A-46103834', 'PLAZA DAOIZ Y VELARDE 5',\n",
              "       '33009 OVIEDO', 'TELÉFONO: 985216153',\n",
              "       '09/09/2023 20:35  OP: 191484',\n",
              "       'FACTURA SIMPLIFICADA: 3433-011-051093',\n",
              "       'Descripción P. Unit Importe', '2TAQUITOS SALMÓN 3,80 7,60',\n",
              "       '1TROTTOLE TRICOLORE 0,95', '1QUESO RALLADO GOUDA 1,44',\n",
              "       '1ÑOQUIS DE PATATA 1,12', '2LECHE SEMI S/LACT 1,46 2,92',\n",
              "       '1QUESO FETA 2,35', '1PICATOSTE AJO 0,85',\n",
              "       '2NEGRA RODAJAS P3 2,00 4,00', '1PARKING 0,00',\n",
              "       'ENTRADA  20:22       SALIDA  20:35', 'TOTAL (€) 21,23',\n",
              "       'TARJETA BANCARIA 21,23', 'IVA BASE IMPONIBLE (€) CUOTA (€)',\n",
              "       '10% 11,32 1,13', '5% 1,97 0,10', '0% 6,71 0,00',\n",
              "       'TOTAL 20,00 1,23', 'TARJ. BANCARIA:  **** **** **** 4016',\n",
              "       'N.C: 003943818  AUT: 729144', 'AID: A0000000041010   ARC: 3030',\n",
              "       'MASTERCARD', 'Importe: 21,23 € MASTERCARD',\n",
              "       'SE ADMITEN DEVOLUCIONES CON TICKET', 'DISPONE DE 20 MINUTOS',\n",
              "       'PARA RETIRAR SU VEHÍCULO'], dtype='<U37')"
            ]
          },
          "metadata": {},
          "execution_count": 7
        }
      ]
    },
    {
      "cell_type": "markdown",
      "source": [
        "Meto lo anterior en una funcion a la que le diga la ruta y me devuelva el array con las lineas\n",
        "\n"
      ],
      "metadata": {
        "id": "SMV8WTnre6Ux"
      }
    },
    {
      "cell_type": "code",
      "source": [
        "# lineas_ticekt1 = leer_lineas_de_pdf(archivo)\n",
        "\n",
        "def leer_lineas_de_pdf (nombre_del_pdf):\n",
        "  pdf_reader = PyPDF2.PdfReader(nombre_del_pdf)\n",
        "  ticket = pdf_reader.pages[0]\n",
        "  texto_ticket = ticket.extract_text()\n",
        "  lineas = np.array(texto_ticket.split('\\n'))\n",
        "  return lineas"
      ],
      "metadata": {
        "id": "3lUTDCuEeysr"
      },
      "execution_count": null,
      "outputs": []
    },
    {
      "cell_type": "code",
      "source": [
        "def procesar_ticket_lineas(lineas):\n",
        "    id_ticket = re.match(r'\\d*-\\d*-\\d*', linea)\n",
        "    productos = []\n",
        "\n",
        "    for linea in lineas[7:-7]:\n",
        "        # Asumir que cada línea tiene el formato: \"Descripción P. Unit Importe\"\n",
        "        match = re.match(r'\\d[A-Z\\s]*\\d{1,2},\\d{1,2}', linea)\n",
        "        if match:\n",
        "            cantidad, producto, importe = match.groups()\n",
        "            productos.append((cantidad, producto.strip(), importe))\n",
        "\n",
        "    return id_ticket, productos\n",
        "\n"
      ],
      "metadata": {
        "id": "ufNPKF7xREaY"
      },
      "execution_count": 26,
      "outputs": []
    },
    {
      "cell_type": "code",
      "source": [
        "id_ticket\n"
      ],
      "metadata": {
        "id": "-zARGkWyREfc",
        "outputId": "06dfd856-7d76-495e-8932-9769ef2ede60",
        "colab": {
          "base_uri": "https://localhost:8080/",
          "height": 35
        }
      },
      "execution_count": 28,
      "outputs": [
        {
          "output_type": "execute_result",
          "data": {
            "text/plain": [
              "'3433-011-051093'"
            ],
            "application/vnd.google.colaboratory.intrinsic+json": {
              "type": "string"
            }
          },
          "metadata": {},
          "execution_count": 28
        }
      ]
    },
    {
      "cell_type": "code",
      "source": [
        "productos"
      ],
      "metadata": {
        "id": "drog3Aw4U6Yf",
        "outputId": "cbefb797-0edd-4684-ec63-99d2cc79c27d",
        "colab": {
          "base_uri": "https://localhost:8080/"
        }
      },
      "execution_count": 23,
      "outputs": [
        {
          "output_type": "execute_result",
          "data": {
            "text/plain": [
              "[]"
            ]
          },
          "metadata": {},
          "execution_count": 23
        }
      ]
    },
    {
      "cell_type": "code",
      "source": [],
      "metadata": {
        "id": "gRn69igkewQM"
      },
      "execution_count": null,
      "outputs": []
    },
    {
      "cell_type": "code",
      "source": [],
      "metadata": {
        "id": "SQraVwkbewTH"
      },
      "execution_count": null,
      "outputs": []
    }
  ]
}