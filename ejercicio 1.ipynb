{
  "nbformat": 4,
  "nbformat_minor": 0,
  "metadata": {
    "colab": {
      "provenance": [],
      "include_colab_link": true
    },
    "kernelspec": {
      "name": "python3",
      "display_name": "Python 3"
    },
    "language_info": {
      "name": "python"
    }
  },
  "cells": [
    {
      "cell_type": "markdown",
      "metadata": {
        "id": "view-in-github",
        "colab_type": "text"
      },
      "source": [
        "<a href=\"https://colab.research.google.com/github/martinbedia/mineria/blob/main/ejercicio%201.ipynb\" target=\"_parent\"><img src=\"https://colab.research.google.com/assets/colab-badge.svg\" alt=\"Open In Colab\"/></a>"
      ]
    },
    {
      "cell_type": "markdown",
      "source": [
        "# Ejercicio 1\n",
        "Sobre el código realizado durante las clases para analizar tickets estudia si los tickets\n",
        "contienen parking o no. Aquellos que lo contienen aportan información adicional. Modifica el programa para tener esto en cuenta. El resultado del código deberán ser dos archivos csv. Uno tendrá las columnas id ticket, producto, cantidad, precio por unidad. El otro tendrá para cada id de ticket, parking (booleana), fecha, total precio ticket, hora entrada, hora salida, tiempo total (que podéis calcularlo de las anteriores). Las columnas para las que no se dispone de datos en algunos de los tickets deberán ser NA."
      ],
      "metadata": {
        "id": "IYFtvM_17aZc"
      }
    },
    {
      "cell_type": "code",
      "source": [
        "!pip install PyPDF2"
      ],
      "metadata": {
        "id": "M84YIg9J9UzR",
        "outputId": "aed434b0-a654-460a-97ce-93b514a3f79a",
        "colab": {
          "base_uri": "https://localhost:8080/"
        }
      },
      "execution_count": 53,
      "outputs": [
        {
          "output_type": "stream",
          "name": "stdout",
          "text": [
            "Requirement already satisfied: PyPDF2 in /usr/local/lib/python3.10/dist-packages (3.0.1)\n"
          ]
        }
      ]
    },
    {
      "cell_type": "code",
      "source": [
        "import sklearn\n",
        "import pandas as pd\n",
        "import numpy as np\n",
        "from sklearn.model_selection import train_test_split\n",
        "from sklearn.preprocessing import StandardScaler\n",
        "from sklearn.metrics import accuracy_score, classification_report\n",
        "from sklearn.cluster import KMeans, AgglomerativeClustering\n",
        "import matplotlib.pyplot as plt\n",
        "import seaborn as sns\n",
        "import glob, os\n",
        "import PyPDF2\n",
        "import re\n",
        "import csv\n",
        "from datetime import datetime"
      ],
      "metadata": {
        "id": "UX9Z5Wwr9qV4"
      },
      "execution_count": 54,
      "outputs": []
    },
    {
      "cell_type": "markdown",
      "source": [
        "## Funciones individuales\n",
        "Para realizar el ejercicio, realizare funciones individuales de cada operacion que me manda para en el siguiente paso, unir lo relevante en una unica funcion que me devuelva el archivo csv. De esta manera veo que me va saliendo el ejercicio y voy obteniendo los resultados que busco."
      ],
      "metadata": {
        "id": "AHreX24GpZlt"
      }
    },
    {
      "cell_type": "code",
      "source": [
        "# leer archivos de un tipo concreto de una carpeta y sus subcarpetas\n",
        "# recursive para que busque en las subcarpetas\n",
        "ruta_carpeta_raiz = '.'\n",
        "tickets = glob.glob(os.path.join(ruta_carpeta_raiz, '**/*.pdf'),recursive=True)\n",
        "tickets"
      ],
      "metadata": {
        "colab": {
          "base_uri": "https://localhost:8080/"
        },
        "id": "mZ38Iot6Sq7J",
        "outputId": "c6101c01-d21d-4cab-954e-457c0f04d952"
      },
      "execution_count": 55,
      "outputs": [
        {
          "output_type": "execute_result",
          "data": {
            "text/plain": [
              "['./20230921 Mercadona 9,70 €.pdf', './20230909 Mercadona 21,23 €.pdf']"
            ]
          },
          "metadata": {},
          "execution_count": 55
        }
      ]
    },
    {
      "cell_type": "markdown",
      "source": [
        "Veo que me salen los tickets sobre los que trabajaremos."
      ],
      "metadata": {
        "id": "CJaEXB3VbaBc"
      }
    },
    {
      "cell_type": "code",
      "source": [
        "# leer el ticket\n",
        "pdf_reader = PyPDF2.PdfReader(tickets[0])    # conectar el archivo pdf con el codigo en python\n",
        "ticket = pdf_reader.pages[0]   # acceder a la primera pagina\n",
        "texto_ticket = ticket.extract_text()\n",
        "texto_ticket"
      ],
      "metadata": {
        "colab": {
          "base_uri": "https://localhost:8080/",
          "height": 105
        },
        "id": "ITMiVa3mSq-z",
        "outputId": "56533c57-a2ff-4bbc-9013-06448325a682"
      },
      "execution_count": 56,
      "outputs": [
        {
          "output_type": "execute_result",
          "data": {
            "text/plain": [
              "'MERCADONA, S.A.   A-46103834\\nC/ ALFONSO ARGUELLES 2\\n33900 LANGREO\\nTELÉFONO: 985698053\\n21/09/2023 17:12  OP: 371122\\nFACTURA SIMPLIFICADA: 2363-011-208468\\nDescripción P. Unit Importe\\n1MÁSCARA DE CEJAS 4,00\\n1PICATOSTE AJO 0,85\\n1TAQUITOS SALMÓN 3,80\\n1DUO CANONIGOS RUCULA 1,05\\nTOTAL (€) 9,70\\nTARJETA BANCARIA 9,70\\nIVA BASE IMPONIBLE (€) CUOTA (€)\\n10% 4,23 0,42\\n21% 3,31 0,69\\n0% 1,05 0,00\\nTOTAL 8,59 1,11\\nTARJ. BANCARIA:  **** **** **** 4016\\nN.C: 003765716  AUT: 766364\\nAID: A0000000041010   ARC: 3030\\nMASTERCARD\\nImporte: 9,70 €  MASTERCARD\\nSE ADMITEN DEVOLUCIONES CON TICKET'"
            ],
            "application/vnd.google.colaboratory.intrinsic+json": {
              "type": "string"
            }
          },
          "metadata": {},
          "execution_count": 56
        }
      ]
    },
    {
      "cell_type": "code",
      "source": [
        "# funcion para leer todos los tickets a la vez, aunque trabajaremos con la anterior que los hace de uno en uno\n",
        "def extraer_texto(tickets):\n",
        "    # Listas para almacenar la información de cada ticket\n",
        "    texto_ticket = []\n",
        "\n",
        "    for ticket_path in tickets:\n",
        "        # Conectar el archivo PDF con el código en Python\n",
        "        pdf_reader = PyPDF2.PdfReader(ticket_path)\n",
        "        # Acceder a la primera página\n",
        "        ticket = pdf_reader.pages[0]\n",
        "        # Extraer texto del ticket\n",
        "        texto = ticket.extract_text()\n",
        "        # Agregar el texto del ticket a la lista\n",
        "        texto_ticket.append(texto)\n",
        "    return texto_ticket\n",
        "\n",
        "textos_tickets = extraer_texto(tickets)\n"
      ],
      "metadata": {
        "id": "XkUnvh_FkTOa"
      },
      "execution_count": 57,
      "outputs": []
    },
    {
      "cell_type": "code",
      "source": [
        "# texto del ticket por lineas\n",
        "lineas = np.array(texto_ticket.split('\\n'))\n",
        "lineas"
      ],
      "metadata": {
        "colab": {
          "base_uri": "https://localhost:8080/"
        },
        "id": "dNLn7ilaSrAz",
        "outputId": "1489e9eb-f4ef-4667-f460-9f5a0398f41b"
      },
      "execution_count": 58,
      "outputs": [
        {
          "output_type": "execute_result",
          "data": {
            "text/plain": [
              "array(['MERCADONA, S.A.   A-46103834', 'C/ ALFONSO ARGUELLES 2',\n",
              "       '33900 LANGREO', 'TELÉFONO: 985698053',\n",
              "       '21/09/2023 17:12  OP: 371122',\n",
              "       'FACTURA SIMPLIFICADA: 2363-011-208468',\n",
              "       'Descripción P. Unit Importe', '1MÁSCARA DE CEJAS 4,00',\n",
              "       '1PICATOSTE AJO 0,85', '1TAQUITOS SALMÓN 3,80',\n",
              "       '1DUO CANONIGOS RUCULA 1,05', 'TOTAL (€) 9,70',\n",
              "       'TARJETA BANCARIA 9,70', 'IVA BASE IMPONIBLE (€) CUOTA (€)',\n",
              "       '10% 4,23 0,42', '21% 3,31 0,69', '0% 1,05 0,00',\n",
              "       'TOTAL 8,59 1,11', 'TARJ. BANCARIA:  **** **** **** 4016',\n",
              "       'N.C: 003765716  AUT: 766364', 'AID: A0000000041010   ARC: 3030',\n",
              "       'MASTERCARD', 'Importe: 9,70 €  MASTERCARD',\n",
              "       'SE ADMITEN DEVOLUCIONES CON TICKET'], dtype='<U37')"
            ]
          },
          "metadata": {},
          "execution_count": 58
        }
      ]
    },
    {
      "cell_type": "markdown",
      "source": [
        "Meto lo anterior en una funcion a la que le diga la ruta y me devuelva el array con las lineas\n",
        "\n"
      ],
      "metadata": {
        "id": "SMV8WTnre6Ux"
      }
    },
    {
      "cell_type": "code",
      "source": [
        "def leer_lineas_de_pdf (nombre_del_pdf):\n",
        "  pdf_reader = PyPDF2.PdfReader(nombre_del_pdf)\n",
        "  ticket = pdf_reader.pages[0]\n",
        "  texto_ticket = ticket.extract_text()\n",
        "  lineas = np.array(texto_ticket.split('\\n'))\n",
        "  return lineas"
      ],
      "metadata": {
        "id": "3lUTDCuEeysr"
      },
      "execution_count": 59,
      "outputs": []
    },
    {
      "cell_type": "code",
      "source": [
        "lineas_ticekt1 = leer_lineas_de_pdf('/content/20230909 Mercadona 21,23 €.pdf')\n",
        "lineas_ticekt1"
      ],
      "metadata": {
        "colab": {
          "base_uri": "https://localhost:8080/"
        },
        "id": "lXZzlBtEf1IB",
        "outputId": "f107e3b4-2d71-4a0e-e20e-adbb8100de8a"
      },
      "execution_count": 60,
      "outputs": [
        {
          "output_type": "execute_result",
          "data": {
            "text/plain": [
              "array(['MERCADONA, S.A.   A-46103834', 'PLAZA DAOIZ Y VELARDE 5',\n",
              "       '33009 OVIEDO', 'TELÉFONO: 985216153',\n",
              "       '09/09/2023 20:35  OP: 191484',\n",
              "       'FACTURA SIMPLIFICADA: 3433-011-051093',\n",
              "       'Descripción P. Unit Importe', '2TAQUITOS SALMÓN 3,80 7,60',\n",
              "       '1TROTTOLE TRICOLORE 0,95', '1QUESO RALLADO GOUDA 1,44',\n",
              "       '1ÑOQUIS DE PATATA 1,12', '2LECHE SEMI S/LACT 1,46 2,92',\n",
              "       '1QUESO FETA 2,35', '1PICATOSTE AJO 0,85',\n",
              "       '2NEGRA RODAJAS P3 2,00 4,00', '1PARKING 0,00',\n",
              "       'ENTRADA  20:22       SALIDA  20:35', 'TOTAL (€) 21,23',\n",
              "       'TARJETA BANCARIA 21,23', 'IVA BASE IMPONIBLE (€) CUOTA (€)',\n",
              "       '10% 11,32 1,13', '5% 1,97 0,10', '0% 6,71 0,00',\n",
              "       'TOTAL 20,00 1,23', 'TARJ. BANCARIA:  **** **** **** 4016',\n",
              "       'N.C: 003943818  AUT: 729144', 'AID: A0000000041010   ARC: 3030',\n",
              "       'MASTERCARD', 'Importe: 21,23 € MASTERCARD',\n",
              "       'SE ADMITEN DEVOLUCIONES CON TICKET', 'DISPONE DE 20 MINUTOS',\n",
              "       'PARA RETIRAR SU VEHÍCULO'], dtype='<U37')"
            ]
          },
          "metadata": {},
          "execution_count": 60
        }
      ]
    },
    {
      "cell_type": "markdown",
      "source": [
        "Ahora, una vez que tengo la informacion, debo extraer el id del ticket, los productos, la cantidad y el precio por unidad. Usare expresiones regulares para identificar esa informacion en el texto en bruto."
      ],
      "metadata": {
        "id": "U9AmPToKgbQt"
      }
    },
    {
      "cell_type": "code",
      "source": [
        "def procesar_ticket_lineas(lineas):\n",
        "    id_ticket_match = re.search(r'\\d*-\\d*-\\d*', '\\n'.join(lineas))\n",
        "    id_ticket = id_ticket_match.group() if id_ticket_match else None\n",
        "\n",
        "    productos = []\n",
        "    for linea in lineas:\n",
        "        producto_match = re.search(r'\\d[A-ZÑñÁÉÍÓÚáéíóú][[A-ZÑñÁÉÍÓÚáéíóú/0-9\\s]*((\\d{1,2},\\d{1,2}\\s*){1,2})', linea, flags=re.IGNORECASE)\n",
        "        if producto_match:\n",
        "            productos.append(producto_match.group())\n",
        "\n",
        "    return id_ticket, productos"
      ],
      "metadata": {
        "id": "1fezfObxiyky"
      },
      "execution_count": 61,
      "outputs": []
    },
    {
      "cell_type": "code",
      "source": [
        "ticket1_prepro = procesar_ticket_lineas(lineas_ticekt1)\n",
        "ticket1_pro = ticket1_prepro[1]\n",
        "ticket1_pro"
      ],
      "metadata": {
        "colab": {
          "base_uri": "https://localhost:8080/"
        },
        "id": "gRn69igkewQM",
        "outputId": "02abfeea-d458-46b6-c66f-28d846816a0e"
      },
      "execution_count": 62,
      "outputs": [
        {
          "output_type": "execute_result",
          "data": {
            "text/plain": [
              "['2TAQUITOS SALMÓN 3,80 7,60',\n",
              " '1TROTTOLE TRICOLORE 0,95',\n",
              " '1QUESO RALLADO GOUDA 1,44',\n",
              " '1ÑOQUIS DE PATATA 1,12',\n",
              " '2LECHE SEMI S/LACT 1,46 2,92',\n",
              " '1QUESO FETA 2,35',\n",
              " '1PICATOSTE AJO 0,85',\n",
              " '2NEGRA RODAJAS P3 2,00 4,00',\n",
              " '1PARKING 0,00']"
            ]
          },
          "metadata": {},
          "execution_count": 62
        }
      ]
    },
    {
      "cell_type": "code",
      "source": [
        "id_ticket = ticket1_prepro[0]\n",
        "id_ticket"
      ],
      "metadata": {
        "colab": {
          "base_uri": "https://localhost:8080/",
          "height": 35
        },
        "id": "CWjL9TYEojma",
        "outputId": "eb2accc0-6e96-4084-f327-6b8d35304d4d"
      },
      "execution_count": 63,
      "outputs": [
        {
          "output_type": "execute_result",
          "data": {
            "text/plain": [
              "'3433-011-051093'"
            ],
            "application/vnd.google.colaboratory.intrinsic+json": {
              "type": "string"
            }
          },
          "metadata": {},
          "execution_count": 63
        }
      ]
    },
    {
      "cell_type": "code",
      "source": [
        "def obtener_cantidad(linea):\n",
        "    # Buscar coincidencias en la línea\n",
        "    coincidencia = re.search(r'^(\\d{1,})', linea)\n",
        "\n",
        "    if coincidencia:\n",
        "        return coincidencia.group()\n",
        "    else:\n",
        "        return None\n",
        "\n",
        "# Obtener las cantidades\n",
        "cantidades = [obtener_cantidad(linea) for linea in ticket1_pro]\n",
        "\n",
        "print(cantidades)"
      ],
      "metadata": {
        "colab": {
          "base_uri": "https://localhost:8080/"
        },
        "id": "_JZEqtKUIP_t",
        "outputId": "e7123efc-120e-44a2-8ef1-0ea8460792e1"
      },
      "execution_count": 64,
      "outputs": [
        {
          "output_type": "stream",
          "name": "stdout",
          "text": [
            "['2', '1', '1', '1', '2', '1', '1', '2', '1']\n"
          ]
        }
      ]
    },
    {
      "cell_type": "code",
      "source": [
        "def obtener_nombre_producto(linea):\n",
        "    # Buscar coincidencias en la línea\n",
        "    coincidencia = re.search(r'^\\d{1,}([A-ZÑñÁÉÍÓÚáéíóú/0-9\\s]*\\s)', linea, flags=re.IGNORECASE)\n",
        "\n",
        "    if coincidencia:\n",
        "        return coincidencia.group(1).strip()\n",
        "    else:\n",
        "        return None\n",
        "\n",
        "# Obtener los nombres de los productos\n",
        "nombres_productos = [obtener_nombre_producto(linea) for linea in ticket1_pro]\n",
        "\n",
        "print(nombres_productos)"
      ],
      "metadata": {
        "colab": {
          "base_uri": "https://localhost:8080/"
        },
        "id": "ObwRFZgEE4bL",
        "outputId": "f54c12a4-d35e-48f4-83f8-84e9df4ffbdc"
      },
      "execution_count": 65,
      "outputs": [
        {
          "output_type": "stream",
          "name": "stdout",
          "text": [
            "['TAQUITOS SALMÓN', 'TROTTOLE TRICOLORE', 'QUESO RALLADO GOUDA', 'ÑOQUIS DE PATATA', 'LECHE SEMI S/LACT', 'QUESO FETA', 'PICATOSTE AJO', 'NEGRA RODAJAS P3', 'PARKING']\n"
          ]
        }
      ]
    },
    {
      "cell_type": "code",
      "source": [
        "def obtener_precio_producto(linea):\n",
        "    # Buscar coincidencias en la línea\n",
        "    coincidencia = re.search(r'(\\d{1,2},\\d{1,2})', linea)\n",
        "\n",
        "    if coincidencia:\n",
        "        return coincidencia.group(1)\n",
        "    else:\n",
        "        return None\n",
        "\n",
        "# Obtener los precios de los productos\n",
        "precios_productos = [obtener_precio_producto(linea) for linea in ticket1_pro]\n",
        "\n",
        "print(precios_productos)"
      ],
      "metadata": {
        "colab": {
          "base_uri": "https://localhost:8080/"
        },
        "id": "YjsKgim2LxxD",
        "outputId": "00292b8f-2fc2-4fbc-95a0-cd65d2da6038"
      },
      "execution_count": 66,
      "outputs": [
        {
          "output_type": "stream",
          "name": "stdout",
          "text": [
            "['3,80', '0,95', '1,44', '1,12', '1,46', '2,35', '0,85', '2,00', '0,00']\n"
          ]
        }
      ]
    },
    {
      "cell_type": "code",
      "source": [
        "df = pd.DataFrame({\n",
        "    'id ticket': id_ticket,\n",
        "    'cantidad': cantidades,\n",
        "    'producto': nombres_productos,\n",
        "    'precio_individual': precios_productos\n",
        "})\n",
        "df"
      ],
      "metadata": {
        "colab": {
          "base_uri": "https://localhost:8080/",
          "height": 332
        },
        "id": "2BBGBFYZJxBc",
        "outputId": "918b9bae-d477-4f2e-8339-834725d357b8"
      },
      "execution_count": 67,
      "outputs": [
        {
          "output_type": "execute_result",
          "data": {
            "text/plain": [
              "         id ticket cantidad             producto precio_individual\n",
              "0  3433-011-051093        2      TAQUITOS SALMÓN              3,80\n",
              "1  3433-011-051093        1   TROTTOLE TRICOLORE              0,95\n",
              "2  3433-011-051093        1  QUESO RALLADO GOUDA              1,44\n",
              "3  3433-011-051093        1     ÑOQUIS DE PATATA              1,12\n",
              "4  3433-011-051093        2    LECHE SEMI S/LACT              1,46\n",
              "5  3433-011-051093        1           QUESO FETA              2,35\n",
              "6  3433-011-051093        1        PICATOSTE AJO              0,85\n",
              "7  3433-011-051093        2     NEGRA RODAJAS P3              2,00\n",
              "8  3433-011-051093        1              PARKING              0,00"
            ],
            "text/html": [
              "\n",
              "  <div id=\"df-c7bf2622-b81b-484f-ba7f-2ee1f54d6fee\" class=\"colab-df-container\">\n",
              "    <div>\n",
              "<style scoped>\n",
              "    .dataframe tbody tr th:only-of-type {\n",
              "        vertical-align: middle;\n",
              "    }\n",
              "\n",
              "    .dataframe tbody tr th {\n",
              "        vertical-align: top;\n",
              "    }\n",
              "\n",
              "    .dataframe thead th {\n",
              "        text-align: right;\n",
              "    }\n",
              "</style>\n",
              "<table border=\"1\" class=\"dataframe\">\n",
              "  <thead>\n",
              "    <tr style=\"text-align: right;\">\n",
              "      <th></th>\n",
              "      <th>id ticket</th>\n",
              "      <th>cantidad</th>\n",
              "      <th>producto</th>\n",
              "      <th>precio_individual</th>\n",
              "    </tr>\n",
              "  </thead>\n",
              "  <tbody>\n",
              "    <tr>\n",
              "      <th>0</th>\n",
              "      <td>3433-011-051093</td>\n",
              "      <td>2</td>\n",
              "      <td>TAQUITOS SALMÓN</td>\n",
              "      <td>3,80</td>\n",
              "    </tr>\n",
              "    <tr>\n",
              "      <th>1</th>\n",
              "      <td>3433-011-051093</td>\n",
              "      <td>1</td>\n",
              "      <td>TROTTOLE TRICOLORE</td>\n",
              "      <td>0,95</td>\n",
              "    </tr>\n",
              "    <tr>\n",
              "      <th>2</th>\n",
              "      <td>3433-011-051093</td>\n",
              "      <td>1</td>\n",
              "      <td>QUESO RALLADO GOUDA</td>\n",
              "      <td>1,44</td>\n",
              "    </tr>\n",
              "    <tr>\n",
              "      <th>3</th>\n",
              "      <td>3433-011-051093</td>\n",
              "      <td>1</td>\n",
              "      <td>ÑOQUIS DE PATATA</td>\n",
              "      <td>1,12</td>\n",
              "    </tr>\n",
              "    <tr>\n",
              "      <th>4</th>\n",
              "      <td>3433-011-051093</td>\n",
              "      <td>2</td>\n",
              "      <td>LECHE SEMI S/LACT</td>\n",
              "      <td>1,46</td>\n",
              "    </tr>\n",
              "    <tr>\n",
              "      <th>5</th>\n",
              "      <td>3433-011-051093</td>\n",
              "      <td>1</td>\n",
              "      <td>QUESO FETA</td>\n",
              "      <td>2,35</td>\n",
              "    </tr>\n",
              "    <tr>\n",
              "      <th>6</th>\n",
              "      <td>3433-011-051093</td>\n",
              "      <td>1</td>\n",
              "      <td>PICATOSTE AJO</td>\n",
              "      <td>0,85</td>\n",
              "    </tr>\n",
              "    <tr>\n",
              "      <th>7</th>\n",
              "      <td>3433-011-051093</td>\n",
              "      <td>2</td>\n",
              "      <td>NEGRA RODAJAS P3</td>\n",
              "      <td>2,00</td>\n",
              "    </tr>\n",
              "    <tr>\n",
              "      <th>8</th>\n",
              "      <td>3433-011-051093</td>\n",
              "      <td>1</td>\n",
              "      <td>PARKING</td>\n",
              "      <td>0,00</td>\n",
              "    </tr>\n",
              "  </tbody>\n",
              "</table>\n",
              "</div>\n",
              "    <div class=\"colab-df-buttons\">\n",
              "\n",
              "  <div class=\"colab-df-container\">\n",
              "    <button class=\"colab-df-convert\" onclick=\"convertToInteractive('df-c7bf2622-b81b-484f-ba7f-2ee1f54d6fee')\"\n",
              "            title=\"Convert this dataframe to an interactive table.\"\n",
              "            style=\"display:none;\">\n",
              "\n",
              "  <svg xmlns=\"http://www.w3.org/2000/svg\" height=\"24px\" viewBox=\"0 -960 960 960\">\n",
              "    <path d=\"M120-120v-720h720v720H120Zm60-500h600v-160H180v160Zm220 220h160v-160H400v160Zm0 220h160v-160H400v160ZM180-400h160v-160H180v160Zm440 0h160v-160H620v160ZM180-180h160v-160H180v160Zm440 0h160v-160H620v160Z\"/>\n",
              "  </svg>\n",
              "    </button>\n",
              "\n",
              "  <style>\n",
              "    .colab-df-container {\n",
              "      display:flex;\n",
              "      gap: 12px;\n",
              "    }\n",
              "\n",
              "    .colab-df-convert {\n",
              "      background-color: #E8F0FE;\n",
              "      border: none;\n",
              "      border-radius: 50%;\n",
              "      cursor: pointer;\n",
              "      display: none;\n",
              "      fill: #1967D2;\n",
              "      height: 32px;\n",
              "      padding: 0 0 0 0;\n",
              "      width: 32px;\n",
              "    }\n",
              "\n",
              "    .colab-df-convert:hover {\n",
              "      background-color: #E2EBFA;\n",
              "      box-shadow: 0px 1px 2px rgba(60, 64, 67, 0.3), 0px 1px 3px 1px rgba(60, 64, 67, 0.15);\n",
              "      fill: #174EA6;\n",
              "    }\n",
              "\n",
              "    .colab-df-buttons div {\n",
              "      margin-bottom: 4px;\n",
              "    }\n",
              "\n",
              "    [theme=dark] .colab-df-convert {\n",
              "      background-color: #3B4455;\n",
              "      fill: #D2E3FC;\n",
              "    }\n",
              "\n",
              "    [theme=dark] .colab-df-convert:hover {\n",
              "      background-color: #434B5C;\n",
              "      box-shadow: 0px 1px 3px 1px rgba(0, 0, 0, 0.15);\n",
              "      filter: drop-shadow(0px 1px 2px rgba(0, 0, 0, 0.3));\n",
              "      fill: #FFFFFF;\n",
              "    }\n",
              "  </style>\n",
              "\n",
              "    <script>\n",
              "      const buttonEl =\n",
              "        document.querySelector('#df-c7bf2622-b81b-484f-ba7f-2ee1f54d6fee button.colab-df-convert');\n",
              "      buttonEl.style.display =\n",
              "        google.colab.kernel.accessAllowed ? 'block' : 'none';\n",
              "\n",
              "      async function convertToInteractive(key) {\n",
              "        const element = document.querySelector('#df-c7bf2622-b81b-484f-ba7f-2ee1f54d6fee');\n",
              "        const dataTable =\n",
              "          await google.colab.kernel.invokeFunction('convertToInteractive',\n",
              "                                                    [key], {});\n",
              "        if (!dataTable) return;\n",
              "\n",
              "        const docLinkHtml = 'Like what you see? Visit the ' +\n",
              "          '<a target=\"_blank\" href=https://colab.research.google.com/notebooks/data_table.ipynb>data table notebook</a>'\n",
              "          + ' to learn more about interactive tables.';\n",
              "        element.innerHTML = '';\n",
              "        dataTable['output_type'] = 'display_data';\n",
              "        await google.colab.output.renderOutput(dataTable, element);\n",
              "        const docLink = document.createElement('div');\n",
              "        docLink.innerHTML = docLinkHtml;\n",
              "        element.appendChild(docLink);\n",
              "      }\n",
              "    </script>\n",
              "  </div>\n",
              "\n",
              "\n",
              "<div id=\"df-badc8d1a-6573-40bc-a052-5354cb098787\">\n",
              "  <button class=\"colab-df-quickchart\" onclick=\"quickchart('df-badc8d1a-6573-40bc-a052-5354cb098787')\"\n",
              "            title=\"Suggest charts\"\n",
              "            style=\"display:none;\">\n",
              "\n",
              "<svg xmlns=\"http://www.w3.org/2000/svg\" height=\"24px\"viewBox=\"0 0 24 24\"\n",
              "     width=\"24px\">\n",
              "    <g>\n",
              "        <path d=\"M19 3H5c-1.1 0-2 .9-2 2v14c0 1.1.9 2 2 2h14c1.1 0 2-.9 2-2V5c0-1.1-.9-2-2-2zM9 17H7v-7h2v7zm4 0h-2V7h2v10zm4 0h-2v-4h2v4z\"/>\n",
              "    </g>\n",
              "</svg>\n",
              "  </button>\n",
              "\n",
              "<style>\n",
              "  .colab-df-quickchart {\n",
              "      --bg-color: #E8F0FE;\n",
              "      --fill-color: #1967D2;\n",
              "      --hover-bg-color: #E2EBFA;\n",
              "      --hover-fill-color: #174EA6;\n",
              "      --disabled-fill-color: #AAA;\n",
              "      --disabled-bg-color: #DDD;\n",
              "  }\n",
              "\n",
              "  [theme=dark] .colab-df-quickchart {\n",
              "      --bg-color: #3B4455;\n",
              "      --fill-color: #D2E3FC;\n",
              "      --hover-bg-color: #434B5C;\n",
              "      --hover-fill-color: #FFFFFF;\n",
              "      --disabled-bg-color: #3B4455;\n",
              "      --disabled-fill-color: #666;\n",
              "  }\n",
              "\n",
              "  .colab-df-quickchart {\n",
              "    background-color: var(--bg-color);\n",
              "    border: none;\n",
              "    border-radius: 50%;\n",
              "    cursor: pointer;\n",
              "    display: none;\n",
              "    fill: var(--fill-color);\n",
              "    height: 32px;\n",
              "    padding: 0;\n",
              "    width: 32px;\n",
              "  }\n",
              "\n",
              "  .colab-df-quickchart:hover {\n",
              "    background-color: var(--hover-bg-color);\n",
              "    box-shadow: 0 1px 2px rgba(60, 64, 67, 0.3), 0 1px 3px 1px rgba(60, 64, 67, 0.15);\n",
              "    fill: var(--button-hover-fill-color);\n",
              "  }\n",
              "\n",
              "  .colab-df-quickchart-complete:disabled,\n",
              "  .colab-df-quickchart-complete:disabled:hover {\n",
              "    background-color: var(--disabled-bg-color);\n",
              "    fill: var(--disabled-fill-color);\n",
              "    box-shadow: none;\n",
              "  }\n",
              "\n",
              "  .colab-df-spinner {\n",
              "    border: 2px solid var(--fill-color);\n",
              "    border-color: transparent;\n",
              "    border-bottom-color: var(--fill-color);\n",
              "    animation:\n",
              "      spin 1s steps(1) infinite;\n",
              "  }\n",
              "\n",
              "  @keyframes spin {\n",
              "    0% {\n",
              "      border-color: transparent;\n",
              "      border-bottom-color: var(--fill-color);\n",
              "      border-left-color: var(--fill-color);\n",
              "    }\n",
              "    20% {\n",
              "      border-color: transparent;\n",
              "      border-left-color: var(--fill-color);\n",
              "      border-top-color: var(--fill-color);\n",
              "    }\n",
              "    30% {\n",
              "      border-color: transparent;\n",
              "      border-left-color: var(--fill-color);\n",
              "      border-top-color: var(--fill-color);\n",
              "      border-right-color: var(--fill-color);\n",
              "    }\n",
              "    40% {\n",
              "      border-color: transparent;\n",
              "      border-right-color: var(--fill-color);\n",
              "      border-top-color: var(--fill-color);\n",
              "    }\n",
              "    60% {\n",
              "      border-color: transparent;\n",
              "      border-right-color: var(--fill-color);\n",
              "    }\n",
              "    80% {\n",
              "      border-color: transparent;\n",
              "      border-right-color: var(--fill-color);\n",
              "      border-bottom-color: var(--fill-color);\n",
              "    }\n",
              "    90% {\n",
              "      border-color: transparent;\n",
              "      border-bottom-color: var(--fill-color);\n",
              "    }\n",
              "  }\n",
              "</style>\n",
              "\n",
              "  <script>\n",
              "    async function quickchart(key) {\n",
              "      const quickchartButtonEl =\n",
              "        document.querySelector('#' + key + ' button');\n",
              "      quickchartButtonEl.disabled = true;  // To prevent multiple clicks.\n",
              "      quickchartButtonEl.classList.add('colab-df-spinner');\n",
              "      try {\n",
              "        const charts = await google.colab.kernel.invokeFunction(\n",
              "            'suggestCharts', [key], {});\n",
              "      } catch (error) {\n",
              "        console.error('Error during call to suggestCharts:', error);\n",
              "      }\n",
              "      quickchartButtonEl.classList.remove('colab-df-spinner');\n",
              "      quickchartButtonEl.classList.add('colab-df-quickchart-complete');\n",
              "    }\n",
              "    (() => {\n",
              "      let quickchartButtonEl =\n",
              "        document.querySelector('#df-badc8d1a-6573-40bc-a052-5354cb098787 button');\n",
              "      quickchartButtonEl.style.display =\n",
              "        google.colab.kernel.accessAllowed ? 'block' : 'none';\n",
              "    })();\n",
              "  </script>\n",
              "</div>\n",
              "    </div>\n",
              "  </div>\n"
            ]
          },
          "metadata": {},
          "execution_count": 67
        }
      ]
    },
    {
      "cell_type": "markdown",
      "source": [
        "Ahora haré la segunda parte del ejercicio, donde ver para cada ticket su id, parking (booleana), fecha, total precio ticket, hora entrada, hora salida, tiempo total. Las columnas para las que no se dispone de datos en algunos de los tickets deberán ser NA."
      ],
      "metadata": {
        "id": "1IBGcrfbQdZq"
      }
    },
    {
      "cell_type": "code",
      "source": [
        "def parking_TOF(lineas):\n",
        "    # Buscar la presencia de \"PARKING\" en el ticket\n",
        "    parking_match = re.search(r'1PARKING', '\\n'.join(lineas), flags=re.IGNORECASE)\n",
        "\n",
        "    # Determinar si el ticket contiene \"1PARKING\"\n",
        "    contiene_parking = True if parking_match else False\n",
        "\n",
        "    return contiene_parking\n",
        "\n",
        "parking = parking_TOF(lineas_ticekt1)\n",
        "parking"
      ],
      "metadata": {
        "colab": {
          "base_uri": "https://localhost:8080/"
        },
        "id": "uyEMqrhJNonb",
        "outputId": "5a3049a3-700e-45af-afb0-fc61c1ea9b5d"
      },
      "execution_count": 68,
      "outputs": [
        {
          "output_type": "execute_result",
          "data": {
            "text/plain": [
              "True"
            ]
          },
          "metadata": {},
          "execution_count": 68
        }
      ]
    },
    {
      "cell_type": "code",
      "source": [
        "def obtener_horas_parking(lineas):\n",
        "    # Buscar coincidencias en las líneas del ticket\n",
        "    coincidencia_horas_parking = re.search(r'ENTRADA\\s+(\\d{2}:\\d{2})\\s+SALIDA\\s+(\\d{2}:\\d{2})', '\\n'.join(lineas), flags=re.IGNORECASE)\n",
        "\n",
        "    # Obtener las horas de entrada y salida si hay coincidencia\n",
        "    horas_entrada, horas_salida = coincidencia_horas_parking.groups() if coincidencia_horas_parking else (None, None)\n",
        "\n",
        "    return horas_entrada, horas_salida\n",
        "\n",
        "horas_entrada, horas_salida = obtener_horas_parking(lineas_ticekt1)\n",
        "\n",
        "print(\"Hora de Entrada:\", horas_entrada)\n",
        "print(\"Hora de Salida:\", horas_salida)"
      ],
      "metadata": {
        "colab": {
          "base_uri": "https://localhost:8080/"
        },
        "id": "-8nCELdONo4R",
        "outputId": "b2635f2c-23a0-4bbd-f543-4b8bfe24eb33"
      },
      "execution_count": 69,
      "outputs": [
        {
          "output_type": "stream",
          "name": "stdout",
          "text": [
            "Hora de Entrada: 20:22\n",
            "Hora de Salida: 20:35\n"
          ]
        }
      ]
    },
    {
      "cell_type": "code",
      "source": [
        "def calcular_tiempo_total(hora_entrada, hora_salida):\n",
        "    # Convertir las cadenas de hora a objetos de tipo datetime\n",
        "    hora_entrada_obj = datetime.strptime(hora_entrada, '%H:%M')\n",
        "    hora_salida_obj = datetime.strptime(hora_salida, '%H:%M')\n",
        "\n",
        "    # Calcular la diferencia de tiempo\n",
        "    tiempo_total = hora_salida_obj - hora_entrada_obj\n",
        "\n",
        "    # Extraer la duración en horas y minutos\n",
        "    horas, minutos = divmod(tiempo_total.seconds // 60, 60)\n",
        "\n",
        "    return f\"{horas} horas y {minutos} minutos\"\n",
        "\n",
        "print(tiempo_total)"
      ],
      "metadata": {
        "colab": {
          "base_uri": "https://localhost:8080/"
        },
        "id": "ZBGg8vjgSwHF",
        "outputId": "1acee857-9e1a-41e0-90e4-50cdd51ffc15"
      },
      "execution_count": 70,
      "outputs": [
        {
          "output_type": "stream",
          "name": "stdout",
          "text": [
            "0 horas y 13 minutos\n"
          ]
        }
      ]
    },
    {
      "cell_type": "code",
      "source": [
        "def procesar_parking(lineas):\n",
        "    # entendemos que por ejemplo las 9 am en el ticket vendria como 09 y no como tan solo 9\n",
        "    # Buscar coincidencias en las líneas del ticket\n",
        "    coincidencia_horas_parking = re.search(r'ENTRADA\\s+(\\d{2}:\\d{2})\\s+SALIDA\\s+(\\d{2}:\\d{2})', '\\n'.join(lineas), flags=re.IGNORECASE)\n",
        "\n",
        "    # Obtener las horas de entrada y salida si hay coincidencia\n",
        "    horas_entrada, horas_salida = coincidencia_horas_parking.groups() if coincidencia_horas_parking else (None, None)\n",
        "\n",
        "    # Calcular el tiempo total en el supermercado\n",
        "    tiempo_total = None\n",
        "    if horas_entrada and horas_salida:\n",
        "        tiempo_total = calcular_tiempo_total(horas_entrada, horas_salida)\n",
        "\n",
        "    return horas_entrada, horas_salida, tiempo_total\n",
        "\n",
        "\n",
        "# Prueba de la función\n",
        "horas_entrada, horas_salida, tiempo_total = procesar_parking(lineas_ticekt1)\n",
        "\n",
        "print(\"Hora de Entrada:\", horas_entrada)\n",
        "print(\"Hora de Salida:\", horas_salida)\n",
        "print(\"Tiempo Total en el Supermercado:\", tiempo_total)\n"
      ],
      "metadata": {
        "colab": {
          "base_uri": "https://localhost:8080/"
        },
        "id": "GcWJUv1ASyrK",
        "outputId": "e2b5c46c-523d-4961-eec0-915a9abc1a01"
      },
      "execution_count": 71,
      "outputs": [
        {
          "output_type": "stream",
          "name": "stdout",
          "text": [
            "Hora de Entrada: 20:22\n",
            "Hora de Salida: 20:35\n",
            "Tiempo Total en el Supermercado: 0 horas y 13 minutos\n"
          ]
        }
      ]
    },
    {
      "cell_type": "code",
      "source": [
        "def procesar_precio(lineas):\n",
        "    precio_match = re.search(r'TOTAL.*\\s\\d{1,2},\\d{1,2}', '\\n'.join(lineas))\n",
        "    precio_total = precio_match.group() if precio_match else None\n",
        "\n",
        "    total_match = re.search(r'\\d{1,2},\\d{1,2}', precio_total)\n",
        "    total_pagado = total_match.group() if total_match else None\n",
        "\n",
        "    return total_pagado\n",
        "\n",
        "total_pagado = procesar_precio(lineas_ticekt1)\n",
        "total_pagado"
      ],
      "metadata": {
        "colab": {
          "base_uri": "https://localhost:8080/",
          "height": 35
        },
        "id": "YRKdPVxoZkEo",
        "outputId": "5dc22d98-1c9c-4626-bc44-fda33c572481"
      },
      "execution_count": 72,
      "outputs": [
        {
          "output_type": "execute_result",
          "data": {
            "text/plain": [
              "'21,23'"
            ],
            "application/vnd.google.colaboratory.intrinsic+json": {
              "type": "string"
            }
          },
          "metadata": {},
          "execution_count": 72
        }
      ]
    },
    {
      "cell_type": "code",
      "source": [
        "def extraer_fecha(lineas):\n",
        "    # buscar fechas en formato DD/MM/YYYY\n",
        "    fecha_match = re.search(r'\\b(\\d{2}/\\d{2}/\\d{4})\\b', '\\n'.join(lineas))\n",
        "    fecha_final = fecha_match.group() if fecha_match else None\n",
        "\n",
        "    return fecha_final\n",
        "\n",
        "fecha_1 = extraer_fecha(lineas_ticekt1)\n",
        "fecha_1"
      ],
      "metadata": {
        "colab": {
          "base_uri": "https://localhost:8080/",
          "height": 35
        },
        "id": "ybBgdYr1hYZU",
        "outputId": "3642c5e2-e4fb-4092-eaaa-9b3a1207e6bd"
      },
      "execution_count": 73,
      "outputs": [
        {
          "output_type": "execute_result",
          "data": {
            "text/plain": [
              "'09/09/2023'"
            ],
            "application/vnd.google.colaboratory.intrinsic+json": {
              "type": "string"
            }
          },
          "metadata": {},
          "execution_count": 73
        }
      ]
    },
    {
      "cell_type": "code",
      "source": [
        "df = pd.DataFrame({\n",
        "    'id ticket': id_ticket,\n",
        "    'parking': parking,\n",
        "    'fecha': fecha_1,\n",
        "    'total precio': total_pagado,\n",
        "    'hora entrada': horas_entrada,\n",
        "    'hora salida': horas_salida,\n",
        "    'tiempo total': tiempo_total,\n",
        "},index=[0])\n",
        "df"
      ],
      "metadata": {
        "colab": {
          "base_uri": "https://localhost:8080/",
          "height": 81
        },
        "id": "idHe9x4-l7CF",
        "outputId": "53346e51-87eb-4dd2-ef0c-dce3999de80d"
      },
      "execution_count": 74,
      "outputs": [
        {
          "output_type": "execute_result",
          "data": {
            "text/plain": [
              "         id ticket  parking       fecha total precio hora entrada hora salida  \\\n",
              "0  3433-011-051093     True  09/09/2023        21,23        20:22       20:35   \n",
              "\n",
              "           tiempo total  \n",
              "0  0 horas y 13 minutos  "
            ],
            "text/html": [
              "\n",
              "  <div id=\"df-faed08fd-921e-47ea-8522-01205c6c4103\" class=\"colab-df-container\">\n",
              "    <div>\n",
              "<style scoped>\n",
              "    .dataframe tbody tr th:only-of-type {\n",
              "        vertical-align: middle;\n",
              "    }\n",
              "\n",
              "    .dataframe tbody tr th {\n",
              "        vertical-align: top;\n",
              "    }\n",
              "\n",
              "    .dataframe thead th {\n",
              "        text-align: right;\n",
              "    }\n",
              "</style>\n",
              "<table border=\"1\" class=\"dataframe\">\n",
              "  <thead>\n",
              "    <tr style=\"text-align: right;\">\n",
              "      <th></th>\n",
              "      <th>id ticket</th>\n",
              "      <th>parking</th>\n",
              "      <th>fecha</th>\n",
              "      <th>total precio</th>\n",
              "      <th>hora entrada</th>\n",
              "      <th>hora salida</th>\n",
              "      <th>tiempo total</th>\n",
              "    </tr>\n",
              "  </thead>\n",
              "  <tbody>\n",
              "    <tr>\n",
              "      <th>0</th>\n",
              "      <td>3433-011-051093</td>\n",
              "      <td>True</td>\n",
              "      <td>09/09/2023</td>\n",
              "      <td>21,23</td>\n",
              "      <td>20:22</td>\n",
              "      <td>20:35</td>\n",
              "      <td>0 horas y 13 minutos</td>\n",
              "    </tr>\n",
              "  </tbody>\n",
              "</table>\n",
              "</div>\n",
              "    <div class=\"colab-df-buttons\">\n",
              "\n",
              "  <div class=\"colab-df-container\">\n",
              "    <button class=\"colab-df-convert\" onclick=\"convertToInteractive('df-faed08fd-921e-47ea-8522-01205c6c4103')\"\n",
              "            title=\"Convert this dataframe to an interactive table.\"\n",
              "            style=\"display:none;\">\n",
              "\n",
              "  <svg xmlns=\"http://www.w3.org/2000/svg\" height=\"24px\" viewBox=\"0 -960 960 960\">\n",
              "    <path d=\"M120-120v-720h720v720H120Zm60-500h600v-160H180v160Zm220 220h160v-160H400v160Zm0 220h160v-160H400v160ZM180-400h160v-160H180v160Zm440 0h160v-160H620v160ZM180-180h160v-160H180v160Zm440 0h160v-160H620v160Z\"/>\n",
              "  </svg>\n",
              "    </button>\n",
              "\n",
              "  <style>\n",
              "    .colab-df-container {\n",
              "      display:flex;\n",
              "      gap: 12px;\n",
              "    }\n",
              "\n",
              "    .colab-df-convert {\n",
              "      background-color: #E8F0FE;\n",
              "      border: none;\n",
              "      border-radius: 50%;\n",
              "      cursor: pointer;\n",
              "      display: none;\n",
              "      fill: #1967D2;\n",
              "      height: 32px;\n",
              "      padding: 0 0 0 0;\n",
              "      width: 32px;\n",
              "    }\n",
              "\n",
              "    .colab-df-convert:hover {\n",
              "      background-color: #E2EBFA;\n",
              "      box-shadow: 0px 1px 2px rgba(60, 64, 67, 0.3), 0px 1px 3px 1px rgba(60, 64, 67, 0.15);\n",
              "      fill: #174EA6;\n",
              "    }\n",
              "\n",
              "    .colab-df-buttons div {\n",
              "      margin-bottom: 4px;\n",
              "    }\n",
              "\n",
              "    [theme=dark] .colab-df-convert {\n",
              "      background-color: #3B4455;\n",
              "      fill: #D2E3FC;\n",
              "    }\n",
              "\n",
              "    [theme=dark] .colab-df-convert:hover {\n",
              "      background-color: #434B5C;\n",
              "      box-shadow: 0px 1px 3px 1px rgba(0, 0, 0, 0.15);\n",
              "      filter: drop-shadow(0px 1px 2px rgba(0, 0, 0, 0.3));\n",
              "      fill: #FFFFFF;\n",
              "    }\n",
              "  </style>\n",
              "\n",
              "    <script>\n",
              "      const buttonEl =\n",
              "        document.querySelector('#df-faed08fd-921e-47ea-8522-01205c6c4103 button.colab-df-convert');\n",
              "      buttonEl.style.display =\n",
              "        google.colab.kernel.accessAllowed ? 'block' : 'none';\n",
              "\n",
              "      async function convertToInteractive(key) {\n",
              "        const element = document.querySelector('#df-faed08fd-921e-47ea-8522-01205c6c4103');\n",
              "        const dataTable =\n",
              "          await google.colab.kernel.invokeFunction('convertToInteractive',\n",
              "                                                    [key], {});\n",
              "        if (!dataTable) return;\n",
              "\n",
              "        const docLinkHtml = 'Like what you see? Visit the ' +\n",
              "          '<a target=\"_blank\" href=https://colab.research.google.com/notebooks/data_table.ipynb>data table notebook</a>'\n",
              "          + ' to learn more about interactive tables.';\n",
              "        element.innerHTML = '';\n",
              "        dataTable['output_type'] = 'display_data';\n",
              "        await google.colab.output.renderOutput(dataTable, element);\n",
              "        const docLink = document.createElement('div');\n",
              "        docLink.innerHTML = docLinkHtml;\n",
              "        element.appendChild(docLink);\n",
              "      }\n",
              "    </script>\n",
              "  </div>\n",
              "\n",
              "    </div>\n",
              "  </div>\n"
            ]
          },
          "metadata": {},
          "execution_count": 74
        }
      ]
    },
    {
      "cell_type": "markdown",
      "source": [
        "## Función final\n",
        "En este apartado, tomando la información del paso previo, haré una única funcion que me devuelva el resultado que me pide el ejercicio que es un csv con el id ticket, producto, cantidad y precio por unidad. También haré otra que me devuelva el id e ticket, parking (booleana), fecha, total precio ticket, hora entrada, hora salida y tiempo total. Finalmente, haré una que devuelva los dos csv a la vez."
      ],
      "metadata": {
        "id": "nmtZrMeTqUCk"
      }
    },
    {
      "cell_type": "code",
      "source": [
        "# todo en la misma funcion\n",
        "ruta_carpeta_raiz = '.'\n",
        "tickets = glob.glob(os.path.join(ruta_carpeta_raiz, '**/*.pdf'),recursive=True)\n",
        "tickets\n",
        "\n",
        "def ejercicio1(tickets):\n",
        "  # leer el ticket\n",
        "  pdf_reader = PyPDF2.PdfReader(tickets)    # conectar el archivo pdf con el codigo en python\n",
        "  ticket = pdf_reader.pages[0]   # acceder a la primera pagina\n",
        "  texto_ticket = ticket.extract_text()\n",
        "  # texto del ticket por lineas\n",
        "  lineas = np.array(texto_ticket.split('\\n'))\n",
        "\n",
        "  id_ticket_match = re.search(r'\\d*-\\d*-\\d*', '\\n'.join(lineas))\n",
        "  id_ticket = id_ticket_match.group() if id_ticket_match else None\n",
        "\n",
        "  productos = []\n",
        "  for linea in lineas:\n",
        "        producto_match = re.search(r'\\d[A-ZÑñÁÉÍÓÚáéíóú][[A-ZÑñÁÉÍÓÚáéíóú/0-9\\s]*((\\d{1,2},\\d{1,2}\\s*){1,2})', linea, flags=re.IGNORECASE)\n",
        "        if producto_match:\n",
        "            productos.append(producto_match.group())\n",
        "\n",
        "  # Buscar coincidencias en la cantidad\n",
        "  cantidades = []\n",
        "  for linea in productos:\n",
        "    cantidad_match = re.search(r'^(\\d{1,})',linea)\n",
        "    cantidades.append(cantidad_match.group(1) if cantidad_match else None)\n",
        "\n",
        "  # Buscar coincidencias en el nombre\n",
        "  nombres = []\n",
        "  for linea in productos:\n",
        "    nombres_matches = re.search(r'^\\d{1,}([A-ZÑñÁÉÍÓÚáéíóú/0-9\\s]*\\s)', linea, flags=re.IGNORECASE)\n",
        "    nombres.append(nombres_matches.group(1).strip() if nombres_matches else None)\n",
        "\n",
        "  # Buscar coincidencias en el precio\n",
        "  precios = []\n",
        "  for linea in productos:\n",
        "    precio_matches = re.search(r'(\\d{1,2},\\d{1,2})', linea)\n",
        "    precios.append(precio_matches.group(1) if precio_matches else None)\n",
        "\n",
        "  df = pd.DataFrame({\n",
        "    'id ticket': id_ticket,\n",
        "    'cantidad': cantidades,\n",
        "    'producto': nombres,\n",
        "    'precio_individual': precios\n",
        "  })\n",
        "\n",
        "\n",
        "  return df"
      ],
      "metadata": {
        "id": "8x0-sLz70TIN"
      },
      "execution_count": 75,
      "outputs": []
    },
    {
      "cell_type": "code",
      "source": [
        "ejercicio1('/content/20230909 Mercadona 21,23 €.pdf')"
      ],
      "metadata": {
        "colab": {
          "base_uri": "https://localhost:8080/",
          "height": 332
        },
        "id": "Q9DA5z5x122l",
        "outputId": "42598f44-c304-410b-f3cf-938ac1be2e53"
      },
      "execution_count": 76,
      "outputs": [
        {
          "output_type": "execute_result",
          "data": {
            "text/plain": [
              "         id ticket cantidad             producto precio_individual\n",
              "0  3433-011-051093        2      TAQUITOS SALMÓN              3,80\n",
              "1  3433-011-051093        1   TROTTOLE TRICOLORE              0,95\n",
              "2  3433-011-051093        1  QUESO RALLADO GOUDA              1,44\n",
              "3  3433-011-051093        1     ÑOQUIS DE PATATA              1,12\n",
              "4  3433-011-051093        2    LECHE SEMI S/LACT              1,46\n",
              "5  3433-011-051093        1           QUESO FETA              2,35\n",
              "6  3433-011-051093        1        PICATOSTE AJO              0,85\n",
              "7  3433-011-051093        2     NEGRA RODAJAS P3              2,00\n",
              "8  3433-011-051093        1              PARKING              0,00"
            ],
            "text/html": [
              "\n",
              "  <div id=\"df-b1aec175-7d84-45b6-a6a7-bcc5a887abfa\" class=\"colab-df-container\">\n",
              "    <div>\n",
              "<style scoped>\n",
              "    .dataframe tbody tr th:only-of-type {\n",
              "        vertical-align: middle;\n",
              "    }\n",
              "\n",
              "    .dataframe tbody tr th {\n",
              "        vertical-align: top;\n",
              "    }\n",
              "\n",
              "    .dataframe thead th {\n",
              "        text-align: right;\n",
              "    }\n",
              "</style>\n",
              "<table border=\"1\" class=\"dataframe\">\n",
              "  <thead>\n",
              "    <tr style=\"text-align: right;\">\n",
              "      <th></th>\n",
              "      <th>id ticket</th>\n",
              "      <th>cantidad</th>\n",
              "      <th>producto</th>\n",
              "      <th>precio_individual</th>\n",
              "    </tr>\n",
              "  </thead>\n",
              "  <tbody>\n",
              "    <tr>\n",
              "      <th>0</th>\n",
              "      <td>3433-011-051093</td>\n",
              "      <td>2</td>\n",
              "      <td>TAQUITOS SALMÓN</td>\n",
              "      <td>3,80</td>\n",
              "    </tr>\n",
              "    <tr>\n",
              "      <th>1</th>\n",
              "      <td>3433-011-051093</td>\n",
              "      <td>1</td>\n",
              "      <td>TROTTOLE TRICOLORE</td>\n",
              "      <td>0,95</td>\n",
              "    </tr>\n",
              "    <tr>\n",
              "      <th>2</th>\n",
              "      <td>3433-011-051093</td>\n",
              "      <td>1</td>\n",
              "      <td>QUESO RALLADO GOUDA</td>\n",
              "      <td>1,44</td>\n",
              "    </tr>\n",
              "    <tr>\n",
              "      <th>3</th>\n",
              "      <td>3433-011-051093</td>\n",
              "      <td>1</td>\n",
              "      <td>ÑOQUIS DE PATATA</td>\n",
              "      <td>1,12</td>\n",
              "    </tr>\n",
              "    <tr>\n",
              "      <th>4</th>\n",
              "      <td>3433-011-051093</td>\n",
              "      <td>2</td>\n",
              "      <td>LECHE SEMI S/LACT</td>\n",
              "      <td>1,46</td>\n",
              "    </tr>\n",
              "    <tr>\n",
              "      <th>5</th>\n",
              "      <td>3433-011-051093</td>\n",
              "      <td>1</td>\n",
              "      <td>QUESO FETA</td>\n",
              "      <td>2,35</td>\n",
              "    </tr>\n",
              "    <tr>\n",
              "      <th>6</th>\n",
              "      <td>3433-011-051093</td>\n",
              "      <td>1</td>\n",
              "      <td>PICATOSTE AJO</td>\n",
              "      <td>0,85</td>\n",
              "    </tr>\n",
              "    <tr>\n",
              "      <th>7</th>\n",
              "      <td>3433-011-051093</td>\n",
              "      <td>2</td>\n",
              "      <td>NEGRA RODAJAS P3</td>\n",
              "      <td>2,00</td>\n",
              "    </tr>\n",
              "    <tr>\n",
              "      <th>8</th>\n",
              "      <td>3433-011-051093</td>\n",
              "      <td>1</td>\n",
              "      <td>PARKING</td>\n",
              "      <td>0,00</td>\n",
              "    </tr>\n",
              "  </tbody>\n",
              "</table>\n",
              "</div>\n",
              "    <div class=\"colab-df-buttons\">\n",
              "\n",
              "  <div class=\"colab-df-container\">\n",
              "    <button class=\"colab-df-convert\" onclick=\"convertToInteractive('df-b1aec175-7d84-45b6-a6a7-bcc5a887abfa')\"\n",
              "            title=\"Convert this dataframe to an interactive table.\"\n",
              "            style=\"display:none;\">\n",
              "\n",
              "  <svg xmlns=\"http://www.w3.org/2000/svg\" height=\"24px\" viewBox=\"0 -960 960 960\">\n",
              "    <path d=\"M120-120v-720h720v720H120Zm60-500h600v-160H180v160Zm220 220h160v-160H400v160Zm0 220h160v-160H400v160ZM180-400h160v-160H180v160Zm440 0h160v-160H620v160ZM180-180h160v-160H180v160Zm440 0h160v-160H620v160Z\"/>\n",
              "  </svg>\n",
              "    </button>\n",
              "\n",
              "  <style>\n",
              "    .colab-df-container {\n",
              "      display:flex;\n",
              "      gap: 12px;\n",
              "    }\n",
              "\n",
              "    .colab-df-convert {\n",
              "      background-color: #E8F0FE;\n",
              "      border: none;\n",
              "      border-radius: 50%;\n",
              "      cursor: pointer;\n",
              "      display: none;\n",
              "      fill: #1967D2;\n",
              "      height: 32px;\n",
              "      padding: 0 0 0 0;\n",
              "      width: 32px;\n",
              "    }\n",
              "\n",
              "    .colab-df-convert:hover {\n",
              "      background-color: #E2EBFA;\n",
              "      box-shadow: 0px 1px 2px rgba(60, 64, 67, 0.3), 0px 1px 3px 1px rgba(60, 64, 67, 0.15);\n",
              "      fill: #174EA6;\n",
              "    }\n",
              "\n",
              "    .colab-df-buttons div {\n",
              "      margin-bottom: 4px;\n",
              "    }\n",
              "\n",
              "    [theme=dark] .colab-df-convert {\n",
              "      background-color: #3B4455;\n",
              "      fill: #D2E3FC;\n",
              "    }\n",
              "\n",
              "    [theme=dark] .colab-df-convert:hover {\n",
              "      background-color: #434B5C;\n",
              "      box-shadow: 0px 1px 3px 1px rgba(0, 0, 0, 0.15);\n",
              "      filter: drop-shadow(0px 1px 2px rgba(0, 0, 0, 0.3));\n",
              "      fill: #FFFFFF;\n",
              "    }\n",
              "  </style>\n",
              "\n",
              "    <script>\n",
              "      const buttonEl =\n",
              "        document.querySelector('#df-b1aec175-7d84-45b6-a6a7-bcc5a887abfa button.colab-df-convert');\n",
              "      buttonEl.style.display =\n",
              "        google.colab.kernel.accessAllowed ? 'block' : 'none';\n",
              "\n",
              "      async function convertToInteractive(key) {\n",
              "        const element = document.querySelector('#df-b1aec175-7d84-45b6-a6a7-bcc5a887abfa');\n",
              "        const dataTable =\n",
              "          await google.colab.kernel.invokeFunction('convertToInteractive',\n",
              "                                                    [key], {});\n",
              "        if (!dataTable) return;\n",
              "\n",
              "        const docLinkHtml = 'Like what you see? Visit the ' +\n",
              "          '<a target=\"_blank\" href=https://colab.research.google.com/notebooks/data_table.ipynb>data table notebook</a>'\n",
              "          + ' to learn more about interactive tables.';\n",
              "        element.innerHTML = '';\n",
              "        dataTable['output_type'] = 'display_data';\n",
              "        await google.colab.output.renderOutput(dataTable, element);\n",
              "        const docLink = document.createElement('div');\n",
              "        docLink.innerHTML = docLinkHtml;\n",
              "        element.appendChild(docLink);\n",
              "      }\n",
              "    </script>\n",
              "  </div>\n",
              "\n",
              "\n",
              "<div id=\"df-6209eb09-eec5-42a8-aa52-be98a7380d23\">\n",
              "  <button class=\"colab-df-quickchart\" onclick=\"quickchart('df-6209eb09-eec5-42a8-aa52-be98a7380d23')\"\n",
              "            title=\"Suggest charts\"\n",
              "            style=\"display:none;\">\n",
              "\n",
              "<svg xmlns=\"http://www.w3.org/2000/svg\" height=\"24px\"viewBox=\"0 0 24 24\"\n",
              "     width=\"24px\">\n",
              "    <g>\n",
              "        <path d=\"M19 3H5c-1.1 0-2 .9-2 2v14c0 1.1.9 2 2 2h14c1.1 0 2-.9 2-2V5c0-1.1-.9-2-2-2zM9 17H7v-7h2v7zm4 0h-2V7h2v10zm4 0h-2v-4h2v4z\"/>\n",
              "    </g>\n",
              "</svg>\n",
              "  </button>\n",
              "\n",
              "<style>\n",
              "  .colab-df-quickchart {\n",
              "      --bg-color: #E8F0FE;\n",
              "      --fill-color: #1967D2;\n",
              "      --hover-bg-color: #E2EBFA;\n",
              "      --hover-fill-color: #174EA6;\n",
              "      --disabled-fill-color: #AAA;\n",
              "      --disabled-bg-color: #DDD;\n",
              "  }\n",
              "\n",
              "  [theme=dark] .colab-df-quickchart {\n",
              "      --bg-color: #3B4455;\n",
              "      --fill-color: #D2E3FC;\n",
              "      --hover-bg-color: #434B5C;\n",
              "      --hover-fill-color: #FFFFFF;\n",
              "      --disabled-bg-color: #3B4455;\n",
              "      --disabled-fill-color: #666;\n",
              "  }\n",
              "\n",
              "  .colab-df-quickchart {\n",
              "    background-color: var(--bg-color);\n",
              "    border: none;\n",
              "    border-radius: 50%;\n",
              "    cursor: pointer;\n",
              "    display: none;\n",
              "    fill: var(--fill-color);\n",
              "    height: 32px;\n",
              "    padding: 0;\n",
              "    width: 32px;\n",
              "  }\n",
              "\n",
              "  .colab-df-quickchart:hover {\n",
              "    background-color: var(--hover-bg-color);\n",
              "    box-shadow: 0 1px 2px rgba(60, 64, 67, 0.3), 0 1px 3px 1px rgba(60, 64, 67, 0.15);\n",
              "    fill: var(--button-hover-fill-color);\n",
              "  }\n",
              "\n",
              "  .colab-df-quickchart-complete:disabled,\n",
              "  .colab-df-quickchart-complete:disabled:hover {\n",
              "    background-color: var(--disabled-bg-color);\n",
              "    fill: var(--disabled-fill-color);\n",
              "    box-shadow: none;\n",
              "  }\n",
              "\n",
              "  .colab-df-spinner {\n",
              "    border: 2px solid var(--fill-color);\n",
              "    border-color: transparent;\n",
              "    border-bottom-color: var(--fill-color);\n",
              "    animation:\n",
              "      spin 1s steps(1) infinite;\n",
              "  }\n",
              "\n",
              "  @keyframes spin {\n",
              "    0% {\n",
              "      border-color: transparent;\n",
              "      border-bottom-color: var(--fill-color);\n",
              "      border-left-color: var(--fill-color);\n",
              "    }\n",
              "    20% {\n",
              "      border-color: transparent;\n",
              "      border-left-color: var(--fill-color);\n",
              "      border-top-color: var(--fill-color);\n",
              "    }\n",
              "    30% {\n",
              "      border-color: transparent;\n",
              "      border-left-color: var(--fill-color);\n",
              "      border-top-color: var(--fill-color);\n",
              "      border-right-color: var(--fill-color);\n",
              "    }\n",
              "    40% {\n",
              "      border-color: transparent;\n",
              "      border-right-color: var(--fill-color);\n",
              "      border-top-color: var(--fill-color);\n",
              "    }\n",
              "    60% {\n",
              "      border-color: transparent;\n",
              "      border-right-color: var(--fill-color);\n",
              "    }\n",
              "    80% {\n",
              "      border-color: transparent;\n",
              "      border-right-color: var(--fill-color);\n",
              "      border-bottom-color: var(--fill-color);\n",
              "    }\n",
              "    90% {\n",
              "      border-color: transparent;\n",
              "      border-bottom-color: var(--fill-color);\n",
              "    }\n",
              "  }\n",
              "</style>\n",
              "\n",
              "  <script>\n",
              "    async function quickchart(key) {\n",
              "      const quickchartButtonEl =\n",
              "        document.querySelector('#' + key + ' button');\n",
              "      quickchartButtonEl.disabled = true;  // To prevent multiple clicks.\n",
              "      quickchartButtonEl.classList.add('colab-df-spinner');\n",
              "      try {\n",
              "        const charts = await google.colab.kernel.invokeFunction(\n",
              "            'suggestCharts', [key], {});\n",
              "      } catch (error) {\n",
              "        console.error('Error during call to suggestCharts:', error);\n",
              "      }\n",
              "      quickchartButtonEl.classList.remove('colab-df-spinner');\n",
              "      quickchartButtonEl.classList.add('colab-df-quickchart-complete');\n",
              "    }\n",
              "    (() => {\n",
              "      let quickchartButtonEl =\n",
              "        document.querySelector('#df-6209eb09-eec5-42a8-aa52-be98a7380d23 button');\n",
              "      quickchartButtonEl.style.display =\n",
              "        google.colab.kernel.accessAllowed ? 'block' : 'none';\n",
              "    })();\n",
              "  </script>\n",
              "</div>\n",
              "    </div>\n",
              "  </div>\n"
            ]
          },
          "metadata": {},
          "execution_count": 76
        }
      ]
    },
    {
      "cell_type": "markdown",
      "source": [
        "Ahora haremos la del parking"
      ],
      "metadata": {
        "id": "E7ZSQDiXLyLn"
      }
    },
    {
      "cell_type": "code",
      "source": [
        "# todo en la misma funcion\n",
        "ruta_carpeta_raiz = '.'\n",
        "tickets = glob.glob(os.path.join(ruta_carpeta_raiz, '**/*.pdf'),recursive=True)\n",
        "tickets\n",
        "\n",
        "def ejercicio1_parking(tickets):\n",
        "  # leer el ticket\n",
        "  pdf_reader = PyPDF2.PdfReader(tickets)    # conectar el archivo pdf con el codigo en python\n",
        "  ticket = pdf_reader.pages[0]   # acceder a la primera pagina\n",
        "  texto_ticket = ticket.extract_text()\n",
        "  # texto del ticket por lineas\n",
        "  lineas = np.array(texto_ticket.split('\\n'))\n",
        "\n",
        "  id_ticket_match = re.search(r'\\d*-\\d*-\\d*', '\\n'.join(lineas))\n",
        "  id_ticket = id_ticket_match.group() if id_ticket_match else None\n",
        "\n",
        "  # Buscar la presencia de \"PARKING\" en el ticket\n",
        "  parking_match = re.search(r'1PARKING', '\\n'.join(lineas), flags=re.IGNORECASE)\n",
        "  # Determinar si el ticket contiene \"1PARKING\"\n",
        "  contiene_parking = True if parking_match else False\n",
        "\n",
        "  fecha_match = re.search(r'\\b(\\d{2}/\\d{2}/\\d{4})\\b', '\\n'.join(lineas))\n",
        "  fecha_final = fecha_match.group() if fecha_match else None\n",
        "\n",
        "  precio_match = re.search(r'TOTAL.*\\s\\d{1,2},\\d{1,2}', '\\n'.join(lineas))\n",
        "  precio_total = precio_match.group() if precio_match else None\n",
        "  total_match = re.search(r'\\d{1,2},\\d{1,2}', precio_total)\n",
        "  total_pagado = total_match.group() if total_match else None\n",
        "\n",
        "  coincidencia_horas_parking = re.search(r'ENTRADA\\s+(\\d{2}:\\d{2})\\s+SALIDA\\s+(\\d{2}:\\d{2})', '\\n'.join(lineas), flags=re.IGNORECASE)\n",
        "  horas_entrada, horas_salida = coincidencia_horas_parking.groups() if coincidencia_horas_parking else (None, None)\n",
        "\n",
        "  if contiene_parking == True:\n",
        "    hora_entrada_obj = datetime.strptime(horas_entrada, '%H:%M')\n",
        "    hora_salida_obj = datetime.strptime(horas_salida, '%H:%M')\n",
        "    # Calcular la diferencia de tiempo\n",
        "    tiempo_total = None\n",
        "    if horas_entrada and horas_salida:\n",
        "        tiempo_total = hora_salida_obj - hora_entrada_obj\n",
        "        # Extraer la duración en horas y minutos\n",
        "        horas, minutos = divmod(tiempo_total.seconds // 60, 60)\n",
        "        tiempo_total = f\"{horas} horas y {minutos} minutos\"\n",
        "  else: tiempo_total = None\n",
        "\n",
        "\n",
        "  df = pd.DataFrame({\n",
        "    'id ticket': id_ticket,\n",
        "    'parking': contiene_parking,\n",
        "    'fecha': fecha_final,\n",
        "    'total precio': total_pagado,\n",
        "    'hora entrada': horas_entrada,\n",
        "    'hora salida': horas_salida,\n",
        "    'tiempo total': tiempo_total,\n",
        "  },index=[0])\n",
        "\n",
        "  return df"
      ],
      "metadata": {
        "id": "Nv4ge6pP3iOa"
      },
      "execution_count": 77,
      "outputs": []
    },
    {
      "cell_type": "code",
      "source": [
        "ejercicio1_parking('/content/20230921 Mercadona 9,70 €.pdf')"
      ],
      "metadata": {
        "colab": {
          "base_uri": "https://localhost:8080/",
          "height": 81
        },
        "id": "lxe-5F7q4Heg",
        "outputId": "56e56aa7-6b69-450a-9421-4bbb8fd2f9d5"
      },
      "execution_count": 78,
      "outputs": [
        {
          "output_type": "execute_result",
          "data": {
            "text/plain": [
              "         id ticket  parking       fecha total precio hora entrada hora salida  \\\n",
              "0  2363-011-208468    False  21/09/2023         9,70         None        None   \n",
              "\n",
              "  tiempo total  \n",
              "0         None  "
            ],
            "text/html": [
              "\n",
              "  <div id=\"df-a60c883a-64b4-4b8c-98b1-df54c42654e9\" class=\"colab-df-container\">\n",
              "    <div>\n",
              "<style scoped>\n",
              "    .dataframe tbody tr th:only-of-type {\n",
              "        vertical-align: middle;\n",
              "    }\n",
              "\n",
              "    .dataframe tbody tr th {\n",
              "        vertical-align: top;\n",
              "    }\n",
              "\n",
              "    .dataframe thead th {\n",
              "        text-align: right;\n",
              "    }\n",
              "</style>\n",
              "<table border=\"1\" class=\"dataframe\">\n",
              "  <thead>\n",
              "    <tr style=\"text-align: right;\">\n",
              "      <th></th>\n",
              "      <th>id ticket</th>\n",
              "      <th>parking</th>\n",
              "      <th>fecha</th>\n",
              "      <th>total precio</th>\n",
              "      <th>hora entrada</th>\n",
              "      <th>hora salida</th>\n",
              "      <th>tiempo total</th>\n",
              "    </tr>\n",
              "  </thead>\n",
              "  <tbody>\n",
              "    <tr>\n",
              "      <th>0</th>\n",
              "      <td>2363-011-208468</td>\n",
              "      <td>False</td>\n",
              "      <td>21/09/2023</td>\n",
              "      <td>9,70</td>\n",
              "      <td>None</td>\n",
              "      <td>None</td>\n",
              "      <td>None</td>\n",
              "    </tr>\n",
              "  </tbody>\n",
              "</table>\n",
              "</div>\n",
              "    <div class=\"colab-df-buttons\">\n",
              "\n",
              "  <div class=\"colab-df-container\">\n",
              "    <button class=\"colab-df-convert\" onclick=\"convertToInteractive('df-a60c883a-64b4-4b8c-98b1-df54c42654e9')\"\n",
              "            title=\"Convert this dataframe to an interactive table.\"\n",
              "            style=\"display:none;\">\n",
              "\n",
              "  <svg xmlns=\"http://www.w3.org/2000/svg\" height=\"24px\" viewBox=\"0 -960 960 960\">\n",
              "    <path d=\"M120-120v-720h720v720H120Zm60-500h600v-160H180v160Zm220 220h160v-160H400v160Zm0 220h160v-160H400v160ZM180-400h160v-160H180v160Zm440 0h160v-160H620v160ZM180-180h160v-160H180v160Zm440 0h160v-160H620v160Z\"/>\n",
              "  </svg>\n",
              "    </button>\n",
              "\n",
              "  <style>\n",
              "    .colab-df-container {\n",
              "      display:flex;\n",
              "      gap: 12px;\n",
              "    }\n",
              "\n",
              "    .colab-df-convert {\n",
              "      background-color: #E8F0FE;\n",
              "      border: none;\n",
              "      border-radius: 50%;\n",
              "      cursor: pointer;\n",
              "      display: none;\n",
              "      fill: #1967D2;\n",
              "      height: 32px;\n",
              "      padding: 0 0 0 0;\n",
              "      width: 32px;\n",
              "    }\n",
              "\n",
              "    .colab-df-convert:hover {\n",
              "      background-color: #E2EBFA;\n",
              "      box-shadow: 0px 1px 2px rgba(60, 64, 67, 0.3), 0px 1px 3px 1px rgba(60, 64, 67, 0.15);\n",
              "      fill: #174EA6;\n",
              "    }\n",
              "\n",
              "    .colab-df-buttons div {\n",
              "      margin-bottom: 4px;\n",
              "    }\n",
              "\n",
              "    [theme=dark] .colab-df-convert {\n",
              "      background-color: #3B4455;\n",
              "      fill: #D2E3FC;\n",
              "    }\n",
              "\n",
              "    [theme=dark] .colab-df-convert:hover {\n",
              "      background-color: #434B5C;\n",
              "      box-shadow: 0px 1px 3px 1px rgba(0, 0, 0, 0.15);\n",
              "      filter: drop-shadow(0px 1px 2px rgba(0, 0, 0, 0.3));\n",
              "      fill: #FFFFFF;\n",
              "    }\n",
              "  </style>\n",
              "\n",
              "    <script>\n",
              "      const buttonEl =\n",
              "        document.querySelector('#df-a60c883a-64b4-4b8c-98b1-df54c42654e9 button.colab-df-convert');\n",
              "      buttonEl.style.display =\n",
              "        google.colab.kernel.accessAllowed ? 'block' : 'none';\n",
              "\n",
              "      async function convertToInteractive(key) {\n",
              "        const element = document.querySelector('#df-a60c883a-64b4-4b8c-98b1-df54c42654e9');\n",
              "        const dataTable =\n",
              "          await google.colab.kernel.invokeFunction('convertToInteractive',\n",
              "                                                    [key], {});\n",
              "        if (!dataTable) return;\n",
              "\n",
              "        const docLinkHtml = 'Like what you see? Visit the ' +\n",
              "          '<a target=\"_blank\" href=https://colab.research.google.com/notebooks/data_table.ipynb>data table notebook</a>'\n",
              "          + ' to learn more about interactive tables.';\n",
              "        element.innerHTML = '';\n",
              "        dataTable['output_type'] = 'display_data';\n",
              "        await google.colab.output.renderOutput(dataTable, element);\n",
              "        const docLink = document.createElement('div');\n",
              "        docLink.innerHTML = docLinkHtml;\n",
              "        element.appendChild(docLink);\n",
              "      }\n",
              "    </script>\n",
              "  </div>\n",
              "\n",
              "    </div>\n",
              "  </div>\n"
            ]
          },
          "metadata": {},
          "execution_count": 78
        }
      ]
    },
    {
      "cell_type": "markdown",
      "source": [
        "Finalmente, haremos una funcion conjunta si no queremos tener la informacion por separado."
      ],
      "metadata": {
        "id": "qq54NACmM44L"
      }
    },
    {
      "cell_type": "code",
      "source": [
        "def ejercicio1_final(tickets):\n",
        "  # leer el ticket\n",
        "  pdf_reader = PyPDF2.PdfReader(tickets)    # conectar el archivo pdf con el codigo en python\n",
        "  ticket = pdf_reader.pages[0]   # acceder a la primera pagina\n",
        "  texto_ticket = ticket.extract_text()\n",
        "  # texto del ticket por lineas\n",
        "  lineas = np.array(texto_ticket.split('\\n'))\n",
        "\n",
        "  id_ticket_match = re.search(r'\\d*-\\d*-\\d*', '\\n'.join(lineas))\n",
        "  id_ticket = id_ticket_match.group() if id_ticket_match else None\n",
        "\n",
        "  productos = []\n",
        "  for linea in lineas:\n",
        "        producto_match = re.search(r'\\d[A-ZÑñÁÉÍÓÚáéíóú][[A-ZÑñÁÉÍÓÚáéíóú/0-9\\s]*((\\d{1,2},\\d{1,2}\\s*){1,2})', linea, flags=re.IGNORECASE)\n",
        "        if producto_match:\n",
        "            productos.append(producto_match.group())\n",
        "\n",
        "  # Buscar coincidencias en la cantidad\n",
        "  cantidades = []\n",
        "  for linea in productos:\n",
        "    cantidad_match = re.search(r'^(\\d{1,})',linea)\n",
        "    cantidades.append(cantidad_match.group(1) if cantidad_match else None)\n",
        "\n",
        "  # Buscar coincidencias en el nombre\n",
        "  nombres = []\n",
        "  for linea in productos:\n",
        "    nombres_matches = re.search(r'^\\d{1,}([A-ZÑñÁÉÍÓÚáéíóú/0-9\\s]*\\s)', linea, flags=re.IGNORECASE)\n",
        "    nombres.append(nombres_matches.group(1).strip() if nombres_matches else None)\n",
        "\n",
        "  # Buscar coincidencias en el precio\n",
        "  precios = []\n",
        "  for linea in productos:\n",
        "    precio_matches = re.search(r'(\\d{1,2},\\d{1,2})', linea)\n",
        "    precios.append(precio_matches.group(1) if precio_matches else None)\n",
        "\n",
        "  # Buscar la presencia de \"PARKING\" en el ticket\n",
        "  parking_match = re.search(r'1PARKING', '\\n'.join(lineas), flags=re.IGNORECASE)\n",
        "  # Determinar si el ticket contiene \"1PARKING\"\n",
        "  contiene_parking = True if parking_match else False\n",
        "\n",
        "  fecha_match = re.search(r'\\b(\\d{2}/\\d{2}/\\d{4})\\b', '\\n'.join(lineas))\n",
        "  fecha_final = fecha_match.group() if fecha_match else None\n",
        "\n",
        "  precio_match = re.search(r'TOTAL.*\\s\\d{1,2},\\d{1,2}', '\\n'.join(lineas))\n",
        "  precio_total = precio_match.group() if precio_match else None\n",
        "  total_match = re.search(r'\\d{1,2},\\d{1,2}', precio_total)\n",
        "  total_pagado = total_match.group() if total_match else None\n",
        "\n",
        "  # Buscar coincidencias en las líneas del ticket\n",
        "  coincidencia_horas_parking = re.search(r'ENTRADA\\s+(\\d{2}:\\d{2})\\s+SALIDA\\s+(\\d{2}:\\d{2})', '\\n'.join(lineas), flags=re.IGNORECASE)\n",
        "  # Obtener las horas de entrada y salida si hay coincidencia\n",
        "  horas_entrada, horas_salida = coincidencia_horas_parking.groups() if coincidencia_horas_parking else (None, None)\n",
        "\n",
        "  if contiene_parking == True:\n",
        "    hora_entrada_obj = datetime.strptime(horas_entrada, '%H:%M')\n",
        "    hora_salida_obj = datetime.strptime(horas_salida, '%H:%M')\n",
        "    # Calcular la diferencia de tiempo\n",
        "    tiempo_total = None\n",
        "    if horas_entrada and horas_salida:\n",
        "        tiempo_total = hora_salida_obj - hora_entrada_obj\n",
        "        # Extraer la duración en horas y minutos\n",
        "        horas, minutos = divmod(tiempo_total.seconds // 60, 60)\n",
        "        tiempo_total = f\"{horas} horas y {minutos} minutos\"\n",
        "  else: tiempo_total = None\n",
        "\n",
        "\n",
        "  df1 = pd.DataFrame({\n",
        "    'id ticket': id_ticket,\n",
        "    'cantidad': cantidades,\n",
        "    'producto': nombres,\n",
        "    'precio_individual': precios\n",
        "  })\n",
        "\n",
        "  df2 = pd.DataFrame({\n",
        "    'id ticket': id_ticket,\n",
        "    'parking': contiene_parking,\n",
        "    'fecha': fecha_final,\n",
        "    'total precio': total_pagado,\n",
        "    'hora entrada': horas_entrada,\n",
        "    'hora salida': horas_salida,\n",
        "    'tiempo total': tiempo_total,\n",
        "  },index=[0])\n",
        "\n",
        "  df1_csv = df1.to_csv('df1_csv', index= False)\n",
        "  df2_csv = df2.to_csv('df2_csv', index= False)\n",
        "\n",
        "  return df1_csv, df2_csv"
      ],
      "metadata": {
        "id": "j4Ky_NVNNAND"
      },
      "execution_count": 79,
      "outputs": []
    },
    {
      "cell_type": "code",
      "source": [
        "ejercicio1_final('/content/20230921 Mercadona 9,70 €.pdf')"
      ],
      "metadata": {
        "colab": {
          "base_uri": "https://localhost:8080/"
        },
        "id": "6eSNxhzJNkYn",
        "outputId": "6a2dc549-ed2f-49b1-b82b-8b7cf806e73c"
      },
      "execution_count": 80,
      "outputs": [
        {
          "output_type": "execute_result",
          "data": {
            "text/plain": [
              "(None, None)"
            ]
          },
          "metadata": {},
          "execution_count": 80
        }
      ]
    },
    {
      "cell_type": "code",
      "source": [
        "ejercicio1_final('/content/20230909 Mercadona 21,23 €.pdf')"
      ],
      "metadata": {
        "colab": {
          "base_uri": "https://localhost:8080/"
        },
        "id": "RyogIUGZNsZk",
        "outputId": "5c9e3bb6-c492-4c9a-f19d-07f9d0538fe0"
      },
      "execution_count": 81,
      "outputs": [
        {
          "output_type": "execute_result",
          "data": {
            "text/plain": [
              "(None, None)"
            ]
          },
          "metadata": {},
          "execution_count": 81
        }
      ]
    },
    {
      "cell_type": "code",
      "source": [],
      "metadata": {
        "colab": {
          "base_uri": "https://localhost:8080/",
          "height": 321
        },
        "id": "o7OBrpNcyygj",
        "outputId": "e9fba6fd-ad8e-41fb-c6cb-c03e2686c60d"
      },
      "execution_count": 85,
      "outputs": [
        {
          "output_type": "error",
          "ename": "AttributeError",
          "evalue": "'list' object has no attribute 'seek'",
          "traceback": [
            "\u001b[0;31m---------------------------------------------------------------------------\u001b[0m",
            "\u001b[0;31mAttributeError\u001b[0m                            Traceback (most recent call last)",
            "\u001b[0;32m<ipython-input-85-14a307485cc5>\u001b[0m in \u001b[0;36m<cell line: 1>\u001b[0;34m()\u001b[0m\n\u001b[0;32m----> 1\u001b[0;31m \u001b[0mejercicio1_final\u001b[0m\u001b[0;34m(\u001b[0m\u001b[0mtickets\u001b[0m\u001b[0;34m)\u001b[0m\u001b[0;34m\u001b[0m\u001b[0;34m\u001b[0m\u001b[0m\n\u001b[0m",
            "\u001b[0;32m<ipython-input-79-0de9d2ff0d53>\u001b[0m in \u001b[0;36mejercicio1_final\u001b[0;34m(tickets)\u001b[0m\n\u001b[1;32m      1\u001b[0m \u001b[0;32mdef\u001b[0m \u001b[0mejercicio1_final\u001b[0m\u001b[0;34m(\u001b[0m\u001b[0mtickets\u001b[0m\u001b[0;34m)\u001b[0m\u001b[0;34m:\u001b[0m\u001b[0;34m\u001b[0m\u001b[0;34m\u001b[0m\u001b[0m\n\u001b[1;32m      2\u001b[0m   \u001b[0;31m# leer el ticket\u001b[0m\u001b[0;34m\u001b[0m\u001b[0;34m\u001b[0m\u001b[0m\n\u001b[0;32m----> 3\u001b[0;31m   \u001b[0mpdf_reader\u001b[0m \u001b[0;34m=\u001b[0m \u001b[0mPyPDF2\u001b[0m\u001b[0;34m.\u001b[0m\u001b[0mPdfReader\u001b[0m\u001b[0;34m(\u001b[0m\u001b[0mtickets\u001b[0m\u001b[0;34m)\u001b[0m    \u001b[0;31m# conectar el archivo pdf con el codigo en python\u001b[0m\u001b[0;34m\u001b[0m\u001b[0;34m\u001b[0m\u001b[0m\n\u001b[0m\u001b[1;32m      4\u001b[0m   \u001b[0mticket\u001b[0m \u001b[0;34m=\u001b[0m \u001b[0mpdf_reader\u001b[0m\u001b[0;34m.\u001b[0m\u001b[0mpages\u001b[0m\u001b[0;34m[\u001b[0m\u001b[0;36m0\u001b[0m\u001b[0;34m]\u001b[0m   \u001b[0;31m# acceder a la primera pagina\u001b[0m\u001b[0;34m\u001b[0m\u001b[0;34m\u001b[0m\u001b[0m\n\u001b[1;32m      5\u001b[0m   \u001b[0mtexto_ticket\u001b[0m \u001b[0;34m=\u001b[0m \u001b[0mticket\u001b[0m\u001b[0;34m.\u001b[0m\u001b[0mextract_text\u001b[0m\u001b[0;34m(\u001b[0m\u001b[0;34m)\u001b[0m\u001b[0;34m\u001b[0m\u001b[0;34m\u001b[0m\u001b[0m\n",
            "\u001b[0;32m/usr/local/lib/python3.10/dist-packages/PyPDF2/_reader.py\u001b[0m in \u001b[0;36m__init__\u001b[0;34m(self, stream, strict, password)\u001b[0m\n\u001b[1;32m    317\u001b[0m             \u001b[0;32mwith\u001b[0m \u001b[0mopen\u001b[0m\u001b[0;34m(\u001b[0m\u001b[0mstream\u001b[0m\u001b[0;34m,\u001b[0m \u001b[0;34m\"rb\"\u001b[0m\u001b[0;34m)\u001b[0m \u001b[0;32mas\u001b[0m \u001b[0mfh\u001b[0m\u001b[0;34m:\u001b[0m\u001b[0;34m\u001b[0m\u001b[0;34m\u001b[0m\u001b[0m\n\u001b[1;32m    318\u001b[0m                 \u001b[0mstream\u001b[0m \u001b[0;34m=\u001b[0m \u001b[0mBytesIO\u001b[0m\u001b[0;34m(\u001b[0m\u001b[0mfh\u001b[0m\u001b[0;34m.\u001b[0m\u001b[0mread\u001b[0m\u001b[0;34m(\u001b[0m\u001b[0;34m)\u001b[0m\u001b[0;34m)\u001b[0m\u001b[0;34m\u001b[0m\u001b[0;34m\u001b[0m\u001b[0m\n\u001b[0;32m--> 319\u001b[0;31m         \u001b[0mself\u001b[0m\u001b[0;34m.\u001b[0m\u001b[0mread\u001b[0m\u001b[0;34m(\u001b[0m\u001b[0mstream\u001b[0m\u001b[0;34m)\u001b[0m\u001b[0;34m\u001b[0m\u001b[0;34m\u001b[0m\u001b[0m\n\u001b[0m\u001b[1;32m    320\u001b[0m         \u001b[0mself\u001b[0m\u001b[0;34m.\u001b[0m\u001b[0mstream\u001b[0m \u001b[0;34m=\u001b[0m \u001b[0mstream\u001b[0m\u001b[0;34m\u001b[0m\u001b[0;34m\u001b[0m\u001b[0m\n\u001b[1;32m    321\u001b[0m \u001b[0;34m\u001b[0m\u001b[0m\n",
            "\u001b[0;32m/usr/local/lib/python3.10/dist-packages/PyPDF2/_reader.py\u001b[0m in \u001b[0;36mread\u001b[0;34m(self, stream)\u001b[0m\n\u001b[1;32m   1412\u001b[0m \u001b[0;34m\u001b[0m\u001b[0m\n\u001b[1;32m   1413\u001b[0m     \u001b[0;32mdef\u001b[0m \u001b[0mread\u001b[0m\u001b[0;34m(\u001b[0m\u001b[0mself\u001b[0m\u001b[0;34m,\u001b[0m \u001b[0mstream\u001b[0m\u001b[0;34m:\u001b[0m \u001b[0mStreamType\u001b[0m\u001b[0;34m)\u001b[0m \u001b[0;34m->\u001b[0m \u001b[0;32mNone\u001b[0m\u001b[0;34m:\u001b[0m\u001b[0;34m\u001b[0m\u001b[0;34m\u001b[0m\u001b[0m\n\u001b[0;32m-> 1414\u001b[0;31m         \u001b[0mself\u001b[0m\u001b[0;34m.\u001b[0m\u001b[0m_basic_validation\u001b[0m\u001b[0;34m(\u001b[0m\u001b[0mstream\u001b[0m\u001b[0;34m)\u001b[0m\u001b[0;34m\u001b[0m\u001b[0;34m\u001b[0m\u001b[0m\n\u001b[0m\u001b[1;32m   1415\u001b[0m         \u001b[0mself\u001b[0m\u001b[0;34m.\u001b[0m\u001b[0m_find_eof_marker\u001b[0m\u001b[0;34m(\u001b[0m\u001b[0mstream\u001b[0m\u001b[0;34m)\u001b[0m\u001b[0;34m\u001b[0m\u001b[0;34m\u001b[0m\u001b[0m\n\u001b[1;32m   1416\u001b[0m         \u001b[0mstartxref\u001b[0m \u001b[0;34m=\u001b[0m \u001b[0mself\u001b[0m\u001b[0;34m.\u001b[0m\u001b[0m_find_startxref_pos\u001b[0m\u001b[0;34m(\u001b[0m\u001b[0mstream\u001b[0m\u001b[0;34m)\u001b[0m\u001b[0;34m\u001b[0m\u001b[0;34m\u001b[0m\u001b[0m\n",
            "\u001b[0;32m/usr/local/lib/python3.10/dist-packages/PyPDF2/_reader.py\u001b[0m in \u001b[0;36m_basic_validation\u001b[0;34m(self, stream)\u001b[0m\n\u001b[1;32m   1451\u001b[0m     \u001b[0;32mdef\u001b[0m \u001b[0m_basic_validation\u001b[0m\u001b[0;34m(\u001b[0m\u001b[0mself\u001b[0m\u001b[0;34m,\u001b[0m \u001b[0mstream\u001b[0m\u001b[0;34m:\u001b[0m \u001b[0mStreamType\u001b[0m\u001b[0;34m)\u001b[0m \u001b[0;34m->\u001b[0m \u001b[0;32mNone\u001b[0m\u001b[0;34m:\u001b[0m\u001b[0;34m\u001b[0m\u001b[0;34m\u001b[0m\u001b[0m\n\u001b[1;32m   1452\u001b[0m         \u001b[0;31m# start at the end:\u001b[0m\u001b[0;34m\u001b[0m\u001b[0;34m\u001b[0m\u001b[0m\n\u001b[0;32m-> 1453\u001b[0;31m         \u001b[0mstream\u001b[0m\u001b[0;34m.\u001b[0m\u001b[0mseek\u001b[0m\u001b[0;34m(\u001b[0m\u001b[0;36m0\u001b[0m\u001b[0;34m,\u001b[0m \u001b[0mos\u001b[0m\u001b[0;34m.\u001b[0m\u001b[0mSEEK_END\u001b[0m\u001b[0;34m)\u001b[0m\u001b[0;34m\u001b[0m\u001b[0;34m\u001b[0m\u001b[0m\n\u001b[0m\u001b[1;32m   1454\u001b[0m         \u001b[0;32mif\u001b[0m \u001b[0;32mnot\u001b[0m \u001b[0mstream\u001b[0m\u001b[0;34m.\u001b[0m\u001b[0mtell\u001b[0m\u001b[0;34m(\u001b[0m\u001b[0;34m)\u001b[0m\u001b[0;34m:\u001b[0m\u001b[0;34m\u001b[0m\u001b[0;34m\u001b[0m\u001b[0m\n\u001b[1;32m   1455\u001b[0m             \u001b[0;32mraise\u001b[0m \u001b[0mEmptyFileError\u001b[0m\u001b[0;34m(\u001b[0m\u001b[0;34m\"Cannot read an empty file\"\u001b[0m\u001b[0;34m)\u001b[0m\u001b[0;34m\u001b[0m\u001b[0;34m\u001b[0m\u001b[0m\n",
            "\u001b[0;31mAttributeError\u001b[0m: 'list' object has no attribute 'seek'"
          ]
        }
      ]
    }
  ]
}