{
  "nbformat": 4,
  "nbformat_minor": 0,
  "metadata": {
    "colab": {
      "provenance": [],
      "include_colab_link": true
    },
    "kernelspec": {
      "name": "python3",
      "display_name": "Python 3"
    },
    "language_info": {
      "name": "python"
    }
  },
  "cells": [
    {
      "cell_type": "markdown",
      "metadata": {
        "id": "view-in-github",
        "colab_type": "text"
      },
      "source": [
        "<a href=\"https://colab.research.google.com/github/martinbedia/mineria/blob/main/ejercicio%201.ipynb\" target=\"_parent\"><img src=\"https://colab.research.google.com/assets/colab-badge.svg\" alt=\"Open In Colab\"/></a>"
      ]
    },
    {
      "cell_type": "markdown",
      "source": [
        "# Ejercicio 1\n",
        "Sobre el código realizado durante las clases para analizar tickets estudia si los tickets\n",
        "contienen parking o no. Aquellos que lo contienen aportan información adicional. Modifica el programa para tener esto en cuenta. El resultado del código deberán ser dos archivos csv. Uno tendrá las columnas id ticket, producto, cantidad, precio por unidad. El otro tendrá para cada id de ticket, parking (booleana), fecha, total precio ticket, hora entrada, hora salida, tiempo total (que podéis calcularlo de las anteriores). Las columnas para las que no se dispone de datos en algunos de los tickets deberán ser NA."
      ],
      "metadata": {
        "id": "IYFtvM_17aZc"
      }
    },
    {
      "cell_type": "code",
      "source": [
        "!pip install PyPDF2"
      ],
      "metadata": {
        "id": "M84YIg9J9UzR",
        "outputId": "1fd99a0c-4b6a-416c-b38c-c53d93a92772",
        "colab": {
          "base_uri": "https://localhost:8080/"
        }
      },
      "execution_count": 3,
      "outputs": [
        {
          "output_type": "stream",
          "name": "stdout",
          "text": [
            "Collecting PyPDF2\n",
            "  Downloading pypdf2-3.0.1-py3-none-any.whl (232 kB)\n",
            "\u001b[2K     \u001b[90m━━━━━━━━━━━━━━━━━━━━━━━━━━━━━━━━━━━━━━━━\u001b[0m \u001b[32m232.6/232.6 kB\u001b[0m \u001b[31m3.7 MB/s\u001b[0m eta \u001b[36m0:00:00\u001b[0m\n",
            "\u001b[?25hInstalling collected packages: PyPDF2\n",
            "Successfully installed PyPDF2-3.0.1\n"
          ]
        }
      ]
    },
    {
      "cell_type": "code",
      "source": [
        "import sklearn\n",
        "import pandas as pd\n",
        "import numpy as np\n",
        "from sklearn.model_selection import train_test_split\n",
        "from sklearn.preprocessing import StandardScaler\n",
        "from sklearn.metrics import accuracy_score, classification_report\n",
        "from sklearn.cluster import KMeans, AgglomerativeClustering\n",
        "import matplotlib.pyplot as plt\n",
        "import seaborn as sns\n",
        "import glob, os\n",
        "import PyPDF2\n",
        "import re\n",
        "import csv"
      ],
      "metadata": {
        "id": "UX9Z5Wwr9qV4"
      },
      "execution_count": 10,
      "outputs": []
    },
    {
      "cell_type": "code",
      "source": [
        "# leer archivos de un tipo concreto de una carpeta y sus subcarpetas\n",
        "# recursive para que busque en las subcarpetas\n",
        "ruta_carpeta_raiz = '.'\n",
        "tickets = glob.glob(os.path.join(ruta_carpeta_raiz, '**/*.pdf'),recursive=True)\n",
        "tickets"
      ],
      "metadata": {
        "colab": {
          "base_uri": "https://localhost:8080/"
        },
        "id": "mZ38Iot6Sq7J",
        "outputId": "d4c00e77-1573-444f-dea6-114ff77dddf1"
      },
      "execution_count": 5,
      "outputs": [
        {
          "output_type": "execute_result",
          "data": {
            "text/plain": [
              "['./Ticket-23_11_2023.pdf',\n",
              " './Ticket-13_11_2023.pdf',\n",
              " './Ticket-3_11_2023.pdf',\n",
              " './20230909 Mercadona 21,23 €.pdf']"
            ]
          },
          "metadata": {},
          "execution_count": 5
        }
      ]
    },
    {
      "cell_type": "markdown",
      "source": [
        "Veo que me salen los 3 tickets sobre los que trabajaremos."
      ],
      "metadata": {
        "id": "CJaEXB3VbaBc"
      }
    },
    {
      "cell_type": "code",
      "source": [
        "# leer el ticket\n",
        "pdf_reader = PyPDF2.PdfReader(tickets[3])    # conectar el archivo pdf con el codigo en python\n",
        "ticket = pdf_reader.pages[0]   # acceder a la primera pagina\n",
        "texto_ticket = ticket.extract_text()\n",
        "texto_ticket"
      ],
      "metadata": {
        "colab": {
          "base_uri": "https://localhost:8080/",
          "height": 157
        },
        "id": "ITMiVa3mSq-z",
        "outputId": "bd03f504-8582-41b2-d51c-a7d043dad424"
      },
      "execution_count": 6,
      "outputs": [
        {
          "output_type": "execute_result",
          "data": {
            "text/plain": [
              "'MERCADONA, S.A.   A-46103834\\nPLAZA DAOIZ Y VELARDE 5\\n33009 OVIEDO\\nTELÉFONO: 985216153\\n09/09/2023 20:35  OP: 191484\\nFACTURA SIMPLIFICADA: 3433-011-051093\\nDescripción P. Unit Importe\\n2TAQUITOS SALMÓN 3,80 7,60\\n1TROTTOLE TRICOLORE 0,95\\n1QUESO RALLADO GOUDA 1,44\\n1ÑOQUIS DE PATATA 1,12\\n2LECHE SEMI S/LACT 1,46 2,92\\n1QUESO FETA 2,35\\n1PICATOSTE AJO 0,85\\n2NEGRA RODAJAS P3 2,00 4,00\\n1PARKING 0,00\\nENTRADA  20:22       SALIDA  20:35\\nTOTAL (€) 21,23\\nTARJETA BANCARIA 21,23\\nIVA BASE IMPONIBLE (€) CUOTA (€)\\n10% 11,32 1,13\\n5% 1,97 0,10\\n0% 6,71 0,00\\nTOTAL 20,00 1,23\\nTARJ. BANCARIA:  **** **** **** 4016\\nN.C: 003943818  AUT: 729144\\nAID: A0000000041010   ARC: 3030\\nMASTERCARD\\nImporte: 21,23 € MASTERCARD\\nSE ADMITEN DEVOLUCIONES CON TICKET\\nDISPONE DE 20 MINUTOS\\nPARA RETIRAR SU VEHÍCULO'"
            ],
            "application/vnd.google.colaboratory.intrinsic+json": {
              "type": "string"
            }
          },
          "metadata": {},
          "execution_count": 6
        }
      ]
    },
    {
      "cell_type": "code",
      "source": [
        "# texto del ticket por lineas\n",
        "lineas = np.array(texto_ticket.split('\\n'))\n",
        "lineas"
      ],
      "metadata": {
        "colab": {
          "base_uri": "https://localhost:8080/"
        },
        "id": "dNLn7ilaSrAz",
        "outputId": "0ae7bf43-527f-4f50-b113-f7921149e249"
      },
      "execution_count": 7,
      "outputs": [
        {
          "output_type": "execute_result",
          "data": {
            "text/plain": [
              "array(['MERCADONA, S.A.   A-46103834', 'PLAZA DAOIZ Y VELARDE 5',\n",
              "       '33009 OVIEDO', 'TELÉFONO: 985216153',\n",
              "       '09/09/2023 20:35  OP: 191484',\n",
              "       'FACTURA SIMPLIFICADA: 3433-011-051093',\n",
              "       'Descripción P. Unit Importe', '2TAQUITOS SALMÓN 3,80 7,60',\n",
              "       '1TROTTOLE TRICOLORE 0,95', '1QUESO RALLADO GOUDA 1,44',\n",
              "       '1ÑOQUIS DE PATATA 1,12', '2LECHE SEMI S/LACT 1,46 2,92',\n",
              "       '1QUESO FETA 2,35', '1PICATOSTE AJO 0,85',\n",
              "       '2NEGRA RODAJAS P3 2,00 4,00', '1PARKING 0,00',\n",
              "       'ENTRADA  20:22       SALIDA  20:35', 'TOTAL (€) 21,23',\n",
              "       'TARJETA BANCARIA 21,23', 'IVA BASE IMPONIBLE (€) CUOTA (€)',\n",
              "       '10% 11,32 1,13', '5% 1,97 0,10', '0% 6,71 0,00',\n",
              "       'TOTAL 20,00 1,23', 'TARJ. BANCARIA:  **** **** **** 4016',\n",
              "       'N.C: 003943818  AUT: 729144', 'AID: A0000000041010   ARC: 3030',\n",
              "       'MASTERCARD', 'Importe: 21,23 € MASTERCARD',\n",
              "       'SE ADMITEN DEVOLUCIONES CON TICKET', 'DISPONE DE 20 MINUTOS',\n",
              "       'PARA RETIRAR SU VEHÍCULO'], dtype='<U37')"
            ]
          },
          "metadata": {},
          "execution_count": 7
        }
      ]
    },
    {
      "cell_type": "markdown",
      "source": [
        "Meto lo anterior en una funcion a la que le diga la ruta y me devuelva el array con las lineas\n",
        "\n"
      ],
      "metadata": {
        "id": "SMV8WTnre6Ux"
      }
    },
    {
      "cell_type": "code",
      "source": [
        "# lineas_ticekt1 = leer_lineas_de_pdf(archivo)\n",
        "\n",
        "def leer_lineas_de_pdf (nombre_del_pdf):\n",
        "  pdf_reader = PyPDF2.PdfReader(nombre_del_pdf)\n",
        "  ticket = pdf_reader.pages[0]\n",
        "  texto_ticket = ticket.extract_text()\n",
        "  lineas = np.array(texto_ticket.split('\\n'))\n",
        "  return lineas"
      ],
      "metadata": {
        "id": "3lUTDCuEeysr"
      },
      "execution_count": 31,
      "outputs": []
    },
    {
      "cell_type": "code",
      "source": [
        "lineas_ticekt1 = leer_lineas_de_pdf('/content/20230909 Mercadona 21,23 €.pdf')\n",
        "lineas_ticekt1"
      ],
      "metadata": {
        "colab": {
          "base_uri": "https://localhost:8080/"
        },
        "id": "lXZzlBtEf1IB",
        "outputId": "2033f96f-8100-4c21-cdd8-4ccba35e5366"
      },
      "execution_count": 94,
      "outputs": [
        {
          "output_type": "execute_result",
          "data": {
            "text/plain": [
              "array(['MERCADONA, S.A.   A-46103834', 'PLAZA DAOIZ Y VELARDE 5',\n",
              "       '33009 OVIEDO', 'TELÉFONO: 985216153',\n",
              "       '09/09/2023 20:35  OP: 191484',\n",
              "       'FACTURA SIMPLIFICADA: 3433-011-051093',\n",
              "       'Descripción P. Unit Importe', '2TAQUITOS SALMÓN 3,80 7,60',\n",
              "       '1TROTTOLE TRICOLORE 0,95', '1QUESO RALLADO GOUDA 1,44',\n",
              "       '1ÑOQUIS DE PATATA 1,12', '2LECHE SEMI S/LACT 1,46 2,92',\n",
              "       '1QUESO FETA 2,35', '1PICATOSTE AJO 0,85',\n",
              "       '2NEGRA RODAJAS P3 2,00 4,00', '1PARKING 0,00',\n",
              "       'ENTRADA  20:22       SALIDA  20:35', 'TOTAL (€) 21,23',\n",
              "       'TARJETA BANCARIA 21,23', 'IVA BASE IMPONIBLE (€) CUOTA (€)',\n",
              "       '10% 11,32 1,13', '5% 1,97 0,10', '0% 6,71 0,00',\n",
              "       'TOTAL 20,00 1,23', 'TARJ. BANCARIA:  **** **** **** 4016',\n",
              "       'N.C: 003943818  AUT: 729144', 'AID: A0000000041010   ARC: 3030',\n",
              "       'MASTERCARD', 'Importe: 21,23 € MASTERCARD',\n",
              "       'SE ADMITEN DEVOLUCIONES CON TICKET', 'DISPONE DE 20 MINUTOS',\n",
              "       'PARA RETIRAR SU VEHÍCULO'], dtype='<U37')"
            ]
          },
          "metadata": {},
          "execution_count": 94
        }
      ]
    },
    {
      "cell_type": "markdown",
      "source": [
        "Ahora, una vez que tengo la informacion, debo extraer el id del ticket, los productos, la cantidad y el precio por unidad. Usare expresiones regulares para identificar esa informacion en el texto en bruto."
      ],
      "metadata": {
        "id": "U9AmPToKgbQt"
      }
    },
    {
      "cell_type": "code",
      "source": [
        "def procesar_ticket_lineas(lineas):\n",
        "    id_ticket_match = re.search(r'\\d*-\\d*-\\d*', '\\n'.join(lineas))\n",
        "    id_ticket = id_ticket_match.group() if id_ticket_match else None\n",
        "\n",
        "    productos = []\n",
        "    for linea in lineas:\n",
        "        producto_match = re.search(r'\\d[A-ZÑñÁÉÍÓÚáéíóú][[A-ZÑñÁÉÍÓÚáéíóú/0-9\\s]*((\\d{1,2},\\d{1,2}\\s*){1,2})', linea, flags=re.IGNORECASE)\n",
        "        if producto_match:\n",
        "            productos.append(producto_match.group())\n",
        "\n",
        "    return id_ticket, productos"
      ],
      "metadata": {
        "id": "1fezfObxiyky"
      },
      "execution_count": 155,
      "outputs": []
    },
    {
      "cell_type": "code",
      "source": [
        "ticket1_prepro = procesar_ticket_lineas(lineas_ticekt1)\n",
        "ticket1_pro = ticket1_prepro[1]\n",
        "ticket1_pro"
      ],
      "metadata": {
        "colab": {
          "base_uri": "https://localhost:8080/"
        },
        "id": "gRn69igkewQM",
        "outputId": "d774c545-0efb-4fe2-c6c7-6584d3d6b3e5"
      },
      "execution_count": 172,
      "outputs": [
        {
          "output_type": "execute_result",
          "data": {
            "text/plain": [
              "['2TAQUITOS SALMÓN 3,80 7,60',\n",
              " '1TROTTOLE TRICOLORE 0,95',\n",
              " '1QUESO RALLADO GOUDA 1,44',\n",
              " '1ÑOQUIS DE PATATA 1,12',\n",
              " '2LECHE SEMI S/LACT 1,46 2,92',\n",
              " '1QUESO FETA 2,35',\n",
              " '1PICATOSTE AJO 0,85',\n",
              " '2NEGRA RODAJAS P3 2,00 4,00',\n",
              " '1PARKING 0,00']"
            ]
          },
          "metadata": {},
          "execution_count": 172
        }
      ]
    },
    {
      "cell_type": "code",
      "source": [
        "def obtener_cantidad(linea):\n",
        "    # Patrón para extraer el número inicial de la línea\n",
        "    patron = r'^(\\d{1,})'\n",
        "\n",
        "    # Buscar coincidencias en la línea\n",
        "    coincidencia = re.search(patron, linea)\n",
        "\n",
        "    if coincidencia:\n",
        "        return coincidencia.group()\n",
        "    else:\n",
        "        return None\n",
        "\n",
        "# Obtener las cantidades\n",
        "cantidades = [obtener_cantidad(linea) for linea in ticket1_pro]\n",
        "\n",
        "# Imprimir las cantidades\n",
        "print(\"Cantidades:\", cantidades)\n"
      ],
      "metadata": {
        "colab": {
          "base_uri": "https://localhost:8080/"
        },
        "id": "_JZEqtKUIP_t",
        "outputId": "2a648ee0-6393-4185-b26d-71e5b3546ef0"
      },
      "execution_count": 182,
      "outputs": [
        {
          "output_type": "stream",
          "name": "stdout",
          "text": [
            "Cantidades: ['2', '1', '1', '1', '2', '1', '1', '2', '1']\n"
          ]
        }
      ]
    },
    {
      "cell_type": "code",
      "source": [
        "def obtener_nombre_producto(linea):\n",
        "    # Patrón para extraer el nombre del producto\n",
        "    patron = r'^\\d{1,}([A-ZÑñÁÉÍÓÚáéíóú/0-9\\s]*\\s)'\n",
        "\n",
        "    # Buscar coincidencias en la línea\n",
        "    coincidencia = re.search(patron, linea, flags=re.IGNORECASE)\n",
        "\n",
        "    if coincidencia:\n",
        "        return coincidencia.group(1).strip()\n",
        "    else:\n",
        "        return None\n",
        "\n",
        "# Obtener los nombres de los productos\n",
        "nombres_productos = [obtener_nombre_producto(linea) for linea in ticket1_pro]\n",
        "\n",
        "# Imprimir los nombres de los productos\n",
        "print(\"Nombres de Productos:\", nombres_productos)"
      ],
      "metadata": {
        "colab": {
          "base_uri": "https://localhost:8080/"
        },
        "id": "ObwRFZgEE4bL",
        "outputId": "5854eb45-c0db-4cf9-ce2e-4abfb4fa176d"
      },
      "execution_count": 193,
      "outputs": [
        {
          "output_type": "stream",
          "name": "stdout",
          "text": [
            "Nombres de Productos: ['TAQUITOS SALMÓN', 'TROTTOLE TRICOLORE', 'QUESO RALLADO GOUDA', 'ÑOQUIS DE PATATA', 'LECHE SEMI S/LACT', 'QUESO FETA', 'PICATOSTE AJO', 'NEGRA RODAJAS P3', 'PARKING']\n"
          ]
        }
      ]
    },
    {
      "cell_type": "code",
      "source": [
        "def obtener_precio_producto(linea):\n",
        "    # Patrón para extraer el precio del producto\n",
        "    patron = r'(\\d{1,2},\\d{1,2})'\n",
        "\n",
        "    # Buscar coincidencias en la línea\n",
        "    coincidencia = re.search(patron, linea)\n",
        "\n",
        "    if coincidencia:\n",
        "        return coincidencia.group(1)\n",
        "    else:\n",
        "        return None\n",
        "\n",
        "# Obtener los precios de los productos\n",
        "precios_productos = [obtener_precio_producto(linea) for linea in ticket1_pro]\n",
        "\n",
        "# Imprimir los precios de los productos\n",
        "print(\"Precios de Productos:\", precios_productos)"
      ],
      "metadata": {
        "colab": {
          "base_uri": "https://localhost:8080/"
        },
        "id": "YjsKgim2LxxD",
        "outputId": "c0873979-db89-4242-bf2f-0e1c38b49b7e"
      },
      "execution_count": 199,
      "outputs": [
        {
          "output_type": "stream",
          "name": "stdout",
          "text": [
            "Precios de Productos: ['3,80', '0,95', '1,44', '1,12', '1,46', '2,35', '0,85', '2,00', '0,00']\n"
          ]
        }
      ]
    },
    {
      "cell_type": "code",
      "source": [
        "df = pd.DataFrame({\n",
        "    'id ticket': id_ticket,\n",
        "    'cantidad': cantidades,\n",
        "    'producto': nombres_productos,\n",
        "    'precio_individual': precios_productos\n",
        "})\n",
        "df"
      ],
      "metadata": {
        "colab": {
          "base_uri": "https://localhost:8080/",
          "height": 332
        },
        "id": "2BBGBFYZJxBc",
        "outputId": "48d3c3d0-38a2-40ff-8668-d20616ca2320"
      },
      "execution_count": 200,
      "outputs": [
        {
          "output_type": "execute_result",
          "data": {
            "text/plain": [
              "         id ticket cantidad             producto precio_individual\n",
              "0  3433-011-051093        2      TAQUITOS SALMÓN              3,80\n",
              "1  3433-011-051093        1   TROTTOLE TRICOLORE              0,95\n",
              "2  3433-011-051093        1  QUESO RALLADO GOUDA              1,44\n",
              "3  3433-011-051093        1     ÑOQUIS DE PATATA              1,12\n",
              "4  3433-011-051093        2    LECHE SEMI S/LACT              1,46\n",
              "5  3433-011-051093        1           QUESO FETA              2,35\n",
              "6  3433-011-051093        1        PICATOSTE AJO              0,85\n",
              "7  3433-011-051093        2     NEGRA RODAJAS P3              2,00\n",
              "8  3433-011-051093        1              PARKING              0,00"
            ],
            "text/html": [
              "\n",
              "  <div id=\"df-e90895b2-2267-4b22-ba87-4d8b694f8ba4\" class=\"colab-df-container\">\n",
              "    <div>\n",
              "<style scoped>\n",
              "    .dataframe tbody tr th:only-of-type {\n",
              "        vertical-align: middle;\n",
              "    }\n",
              "\n",
              "    .dataframe tbody tr th {\n",
              "        vertical-align: top;\n",
              "    }\n",
              "\n",
              "    .dataframe thead th {\n",
              "        text-align: right;\n",
              "    }\n",
              "</style>\n",
              "<table border=\"1\" class=\"dataframe\">\n",
              "  <thead>\n",
              "    <tr style=\"text-align: right;\">\n",
              "      <th></th>\n",
              "      <th>id ticket</th>\n",
              "      <th>cantidad</th>\n",
              "      <th>producto</th>\n",
              "      <th>precio_individual</th>\n",
              "    </tr>\n",
              "  </thead>\n",
              "  <tbody>\n",
              "    <tr>\n",
              "      <th>0</th>\n",
              "      <td>3433-011-051093</td>\n",
              "      <td>2</td>\n",
              "      <td>TAQUITOS SALMÓN</td>\n",
              "      <td>3,80</td>\n",
              "    </tr>\n",
              "    <tr>\n",
              "      <th>1</th>\n",
              "      <td>3433-011-051093</td>\n",
              "      <td>1</td>\n",
              "      <td>TROTTOLE TRICOLORE</td>\n",
              "      <td>0,95</td>\n",
              "    </tr>\n",
              "    <tr>\n",
              "      <th>2</th>\n",
              "      <td>3433-011-051093</td>\n",
              "      <td>1</td>\n",
              "      <td>QUESO RALLADO GOUDA</td>\n",
              "      <td>1,44</td>\n",
              "    </tr>\n",
              "    <tr>\n",
              "      <th>3</th>\n",
              "      <td>3433-011-051093</td>\n",
              "      <td>1</td>\n",
              "      <td>ÑOQUIS DE PATATA</td>\n",
              "      <td>1,12</td>\n",
              "    </tr>\n",
              "    <tr>\n",
              "      <th>4</th>\n",
              "      <td>3433-011-051093</td>\n",
              "      <td>2</td>\n",
              "      <td>LECHE SEMI S/LACT</td>\n",
              "      <td>1,46</td>\n",
              "    </tr>\n",
              "    <tr>\n",
              "      <th>5</th>\n",
              "      <td>3433-011-051093</td>\n",
              "      <td>1</td>\n",
              "      <td>QUESO FETA</td>\n",
              "      <td>2,35</td>\n",
              "    </tr>\n",
              "    <tr>\n",
              "      <th>6</th>\n",
              "      <td>3433-011-051093</td>\n",
              "      <td>1</td>\n",
              "      <td>PICATOSTE AJO</td>\n",
              "      <td>0,85</td>\n",
              "    </tr>\n",
              "    <tr>\n",
              "      <th>7</th>\n",
              "      <td>3433-011-051093</td>\n",
              "      <td>2</td>\n",
              "      <td>NEGRA RODAJAS P3</td>\n",
              "      <td>2,00</td>\n",
              "    </tr>\n",
              "    <tr>\n",
              "      <th>8</th>\n",
              "      <td>3433-011-051093</td>\n",
              "      <td>1</td>\n",
              "      <td>PARKING</td>\n",
              "      <td>0,00</td>\n",
              "    </tr>\n",
              "  </tbody>\n",
              "</table>\n",
              "</div>\n",
              "    <div class=\"colab-df-buttons\">\n",
              "\n",
              "  <div class=\"colab-df-container\">\n",
              "    <button class=\"colab-df-convert\" onclick=\"convertToInteractive('df-e90895b2-2267-4b22-ba87-4d8b694f8ba4')\"\n",
              "            title=\"Convert this dataframe to an interactive table.\"\n",
              "            style=\"display:none;\">\n",
              "\n",
              "  <svg xmlns=\"http://www.w3.org/2000/svg\" height=\"24px\" viewBox=\"0 -960 960 960\">\n",
              "    <path d=\"M120-120v-720h720v720H120Zm60-500h600v-160H180v160Zm220 220h160v-160H400v160Zm0 220h160v-160H400v160ZM180-400h160v-160H180v160Zm440 0h160v-160H620v160ZM180-180h160v-160H180v160Zm440 0h160v-160H620v160Z\"/>\n",
              "  </svg>\n",
              "    </button>\n",
              "\n",
              "  <style>\n",
              "    .colab-df-container {\n",
              "      display:flex;\n",
              "      gap: 12px;\n",
              "    }\n",
              "\n",
              "    .colab-df-convert {\n",
              "      background-color: #E8F0FE;\n",
              "      border: none;\n",
              "      border-radius: 50%;\n",
              "      cursor: pointer;\n",
              "      display: none;\n",
              "      fill: #1967D2;\n",
              "      height: 32px;\n",
              "      padding: 0 0 0 0;\n",
              "      width: 32px;\n",
              "    }\n",
              "\n",
              "    .colab-df-convert:hover {\n",
              "      background-color: #E2EBFA;\n",
              "      box-shadow: 0px 1px 2px rgba(60, 64, 67, 0.3), 0px 1px 3px 1px rgba(60, 64, 67, 0.15);\n",
              "      fill: #174EA6;\n",
              "    }\n",
              "\n",
              "    .colab-df-buttons div {\n",
              "      margin-bottom: 4px;\n",
              "    }\n",
              "\n",
              "    [theme=dark] .colab-df-convert {\n",
              "      background-color: #3B4455;\n",
              "      fill: #D2E3FC;\n",
              "    }\n",
              "\n",
              "    [theme=dark] .colab-df-convert:hover {\n",
              "      background-color: #434B5C;\n",
              "      box-shadow: 0px 1px 3px 1px rgba(0, 0, 0, 0.15);\n",
              "      filter: drop-shadow(0px 1px 2px rgba(0, 0, 0, 0.3));\n",
              "      fill: #FFFFFF;\n",
              "    }\n",
              "  </style>\n",
              "\n",
              "    <script>\n",
              "      const buttonEl =\n",
              "        document.querySelector('#df-e90895b2-2267-4b22-ba87-4d8b694f8ba4 button.colab-df-convert');\n",
              "      buttonEl.style.display =\n",
              "        google.colab.kernel.accessAllowed ? 'block' : 'none';\n",
              "\n",
              "      async function convertToInteractive(key) {\n",
              "        const element = document.querySelector('#df-e90895b2-2267-4b22-ba87-4d8b694f8ba4');\n",
              "        const dataTable =\n",
              "          await google.colab.kernel.invokeFunction('convertToInteractive',\n",
              "                                                    [key], {});\n",
              "        if (!dataTable) return;\n",
              "\n",
              "        const docLinkHtml = 'Like what you see? Visit the ' +\n",
              "          '<a target=\"_blank\" href=https://colab.research.google.com/notebooks/data_table.ipynb>data table notebook</a>'\n",
              "          + ' to learn more about interactive tables.';\n",
              "        element.innerHTML = '';\n",
              "        dataTable['output_type'] = 'display_data';\n",
              "        await google.colab.output.renderOutput(dataTable, element);\n",
              "        const docLink = document.createElement('div');\n",
              "        docLink.innerHTML = docLinkHtml;\n",
              "        element.appendChild(docLink);\n",
              "      }\n",
              "    </script>\n",
              "  </div>\n",
              "\n",
              "\n",
              "<div id=\"df-b45a8161-faca-4d0b-9027-621a668ea571\">\n",
              "  <button class=\"colab-df-quickchart\" onclick=\"quickchart('df-b45a8161-faca-4d0b-9027-621a668ea571')\"\n",
              "            title=\"Suggest charts\"\n",
              "            style=\"display:none;\">\n",
              "\n",
              "<svg xmlns=\"http://www.w3.org/2000/svg\" height=\"24px\"viewBox=\"0 0 24 24\"\n",
              "     width=\"24px\">\n",
              "    <g>\n",
              "        <path d=\"M19 3H5c-1.1 0-2 .9-2 2v14c0 1.1.9 2 2 2h14c1.1 0 2-.9 2-2V5c0-1.1-.9-2-2-2zM9 17H7v-7h2v7zm4 0h-2V7h2v10zm4 0h-2v-4h2v4z\"/>\n",
              "    </g>\n",
              "</svg>\n",
              "  </button>\n",
              "\n",
              "<style>\n",
              "  .colab-df-quickchart {\n",
              "      --bg-color: #E8F0FE;\n",
              "      --fill-color: #1967D2;\n",
              "      --hover-bg-color: #E2EBFA;\n",
              "      --hover-fill-color: #174EA6;\n",
              "      --disabled-fill-color: #AAA;\n",
              "      --disabled-bg-color: #DDD;\n",
              "  }\n",
              "\n",
              "  [theme=dark] .colab-df-quickchart {\n",
              "      --bg-color: #3B4455;\n",
              "      --fill-color: #D2E3FC;\n",
              "      --hover-bg-color: #434B5C;\n",
              "      --hover-fill-color: #FFFFFF;\n",
              "      --disabled-bg-color: #3B4455;\n",
              "      --disabled-fill-color: #666;\n",
              "  }\n",
              "\n",
              "  .colab-df-quickchart {\n",
              "    background-color: var(--bg-color);\n",
              "    border: none;\n",
              "    border-radius: 50%;\n",
              "    cursor: pointer;\n",
              "    display: none;\n",
              "    fill: var(--fill-color);\n",
              "    height: 32px;\n",
              "    padding: 0;\n",
              "    width: 32px;\n",
              "  }\n",
              "\n",
              "  .colab-df-quickchart:hover {\n",
              "    background-color: var(--hover-bg-color);\n",
              "    box-shadow: 0 1px 2px rgba(60, 64, 67, 0.3), 0 1px 3px 1px rgba(60, 64, 67, 0.15);\n",
              "    fill: var(--button-hover-fill-color);\n",
              "  }\n",
              "\n",
              "  .colab-df-quickchart-complete:disabled,\n",
              "  .colab-df-quickchart-complete:disabled:hover {\n",
              "    background-color: var(--disabled-bg-color);\n",
              "    fill: var(--disabled-fill-color);\n",
              "    box-shadow: none;\n",
              "  }\n",
              "\n",
              "  .colab-df-spinner {\n",
              "    border: 2px solid var(--fill-color);\n",
              "    border-color: transparent;\n",
              "    border-bottom-color: var(--fill-color);\n",
              "    animation:\n",
              "      spin 1s steps(1) infinite;\n",
              "  }\n",
              "\n",
              "  @keyframes spin {\n",
              "    0% {\n",
              "      border-color: transparent;\n",
              "      border-bottom-color: var(--fill-color);\n",
              "      border-left-color: var(--fill-color);\n",
              "    }\n",
              "    20% {\n",
              "      border-color: transparent;\n",
              "      border-left-color: var(--fill-color);\n",
              "      border-top-color: var(--fill-color);\n",
              "    }\n",
              "    30% {\n",
              "      border-color: transparent;\n",
              "      border-left-color: var(--fill-color);\n",
              "      border-top-color: var(--fill-color);\n",
              "      border-right-color: var(--fill-color);\n",
              "    }\n",
              "    40% {\n",
              "      border-color: transparent;\n",
              "      border-right-color: var(--fill-color);\n",
              "      border-top-color: var(--fill-color);\n",
              "    }\n",
              "    60% {\n",
              "      border-color: transparent;\n",
              "      border-right-color: var(--fill-color);\n",
              "    }\n",
              "    80% {\n",
              "      border-color: transparent;\n",
              "      border-right-color: var(--fill-color);\n",
              "      border-bottom-color: var(--fill-color);\n",
              "    }\n",
              "    90% {\n",
              "      border-color: transparent;\n",
              "      border-bottom-color: var(--fill-color);\n",
              "    }\n",
              "  }\n",
              "</style>\n",
              "\n",
              "  <script>\n",
              "    async function quickchart(key) {\n",
              "      const quickchartButtonEl =\n",
              "        document.querySelector('#' + key + ' button');\n",
              "      quickchartButtonEl.disabled = true;  // To prevent multiple clicks.\n",
              "      quickchartButtonEl.classList.add('colab-df-spinner');\n",
              "      try {\n",
              "        const charts = await google.colab.kernel.invokeFunction(\n",
              "            'suggestCharts', [key], {});\n",
              "      } catch (error) {\n",
              "        console.error('Error during call to suggestCharts:', error);\n",
              "      }\n",
              "      quickchartButtonEl.classList.remove('colab-df-spinner');\n",
              "      quickchartButtonEl.classList.add('colab-df-quickchart-complete');\n",
              "    }\n",
              "    (() => {\n",
              "      let quickchartButtonEl =\n",
              "        document.querySelector('#df-b45a8161-faca-4d0b-9027-621a668ea571 button');\n",
              "      quickchartButtonEl.style.display =\n",
              "        google.colab.kernel.accessAllowed ? 'block' : 'none';\n",
              "    })();\n",
              "  </script>\n",
              "</div>\n",
              "    </div>\n",
              "  </div>\n"
            ]
          },
          "metadata": {},
          "execution_count": 200
        }
      ]
    },
    {
      "cell_type": "markdown",
      "source": [
        "Ahora haré la segunda parte del ejercicio, donde ver para cada ticket su id, parking (booleana), fecha, total precio ticket, hora entrada, hora salida, tiempo total. Las columnas para las que no se dispone de datos en algunos de los tickets deberán ser NA."
      ],
      "metadata": {
        "id": "1IBGcrfbQdZq"
      }
    },
    {
      "cell_type": "code",
      "source": [
        "def parking_TOF(lineas):\n",
        "    # Buscar la presencia de \"1PARKING\" en el ticket\n",
        "    parking_match = re.search(r'1PARKING', '\\n'.join(lineas), flags=re.IGNORECASE)\n",
        "\n",
        "    # Determinar si el ticket contiene \"1PARKING\"\n",
        "    contiene_parking = True if parking_match else False\n",
        "\n",
        "    return contiene_parking"
      ],
      "metadata": {
        "id": "uyEMqrhJNonb"
      },
      "execution_count": 226,
      "outputs": []
    },
    {
      "cell_type": "code",
      "source": [
        "parking_TOF(lineas_ticekt1)"
      ],
      "metadata": {
        "colab": {
          "base_uri": "https://localhost:8080/"
        },
        "id": "3TViK3SUNozV",
        "outputId": "24b514b6-3560-46d8-c039-734c2a7f0141"
      },
      "execution_count": 227,
      "outputs": [
        {
          "output_type": "execute_result",
          "data": {
            "text/plain": [
              "True"
            ]
          },
          "metadata": {},
          "execution_count": 227
        }
      ]
    },
    {
      "cell_type": "code",
      "source": [
        "def obtener_horas_parking(lineas):\n",
        "    # Patrón para extraer las horas de entrada y salida del parking\n",
        "    patron_horas_parking = r'ENTRADA\\s+(\\d{2}:\\d{2})\\s+SALIDA\\s+(\\d{2}:\\d{2})'\n",
        "\n",
        "    # Buscar coincidencias en las líneas del ticket\n",
        "    coincidencia_horas_parking = re.search(patron_horas_parking, '\\n'.join(lineas), flags=re.IGNORECASE)\n",
        "\n",
        "    # Obtener las horas de entrada y salida si hay coincidencia\n",
        "    horas_entrada, horas_salida = coincidencia_horas_parking.groups() if coincidencia_horas_parking else (None, None)\n",
        "\n",
        "    return horas_entrada, horas_salida\n",
        "\n",
        "\n",
        "horas_entrada, horas_salida = obtener_horas_parking(lineas_ticekt1)\n",
        "\n",
        "print(\"Hora de Entrada:\", horas_entrada)\n",
        "print(\"Hora de Salida:\", horas_salida)"
      ],
      "metadata": {
        "colab": {
          "base_uri": "https://localhost:8080/"
        },
        "id": "-8nCELdONo4R",
        "outputId": "35ccda8b-e42e-4b3a-a693-45b74daa11e8"
      },
      "execution_count": 228,
      "outputs": [
        {
          "output_type": "stream",
          "name": "stdout",
          "text": [
            "Hora de Entrada: 20:22\n",
            "Hora de Salida: 20:35\n"
          ]
        }
      ]
    },
    {
      "cell_type": "code",
      "source": [
        "from datetime import datetime\n",
        "\n",
        "def calcular_tiempo_total(hora_entrada, hora_salida):\n",
        "    # Convertir las cadenas de hora a objetos de tipo datetime\n",
        "    hora_entrada_obj = datetime.strptime(hora_entrada, '%H:%M')\n",
        "    hora_salida_obj = datetime.strptime(hora_salida, '%H:%M')\n",
        "\n",
        "    # Calcular la diferencia de tiempo\n",
        "    tiempo_total = hora_salida_obj - hora_entrada_obj\n",
        "\n",
        "    # Extraer la duración en horas y minutos\n",
        "    horas, minutos = divmod(tiempo_total.seconds // 60, 60)\n",
        "\n",
        "    return f\"{horas} horas y {minutos} minutos\""
      ],
      "metadata": {
        "id": "ZBGg8vjgSwHF"
      },
      "execution_count": 229,
      "outputs": []
    },
    {
      "cell_type": "code",
      "source": [
        "def procesar_parking(lineas):\n",
        "    # Patrón para extraer las horas de entrada y salida del parking\n",
        "    patron_horas_parking = r'ENTRADA\\s+(\\d{2}:\\d{2})\\s+SALIDA\\s+(\\d{2}:\\d{2})'\n",
        "    # entendemos que por ejemplo las 9 am en el ticket vendria como 09 y no como tan solo 9\n",
        "\n",
        "    # Buscar coincidencias en las líneas del ticket\n",
        "    coincidencia_horas_parking = re.search(patron_horas_parking, '\\n'.join(lineas), flags=re.IGNORECASE)\n",
        "\n",
        "    # Obtener las horas de entrada y salida si hay coincidencia\n",
        "    horas_entrada, horas_salida = coincidencia_horas_parking.groups() if coincidencia_horas_parking else (None, None)\n",
        "\n",
        "    # Calcular el tiempo total en el supermercado\n",
        "    tiempo_total = None\n",
        "    if horas_entrada and horas_salida:\n",
        "        tiempo_total = calcular_tiempo_total(horas_entrada, horas_salida)\n",
        "\n",
        "    return horas_entrada, horas_salida, tiempo_total\n",
        "\n",
        "\n",
        "# Prueba de la función\n",
        "horas_entrada, horas_salida, tiempo_total = procesar_parking(lineas_ticekt1)\n",
        "\n",
        "print(\"Hora de Entrada:\", horas_entrada)\n",
        "print(\"Hora de Salida:\", horas_salida)\n",
        "print(\"Tiempo Total en el Supermercado:\", tiempo_total)\n"
      ],
      "metadata": {
        "colab": {
          "base_uri": "https://localhost:8080/"
        },
        "id": "GcWJUv1ASyrK",
        "outputId": "88b1be2e-0cef-4ebf-e8a3-d53caf23fb95"
      },
      "execution_count": 230,
      "outputs": [
        {
          "output_type": "stream",
          "name": "stdout",
          "text": [
            "Hora de Entrada: 20:22\n",
            "Hora de Salida: 20:35\n",
            "Tiempo Total en el Supermercado: 0 horas y 13 minutos\n"
          ]
        }
      ]
    },
    {
      "cell_type": "code",
      "source": [
        "def precio_total(lineas):\n",
        "    # Buscar la presencia de \"1PARKING\" en el ticket\n",
        "    total_match = re.search(r'TOTAL*\\s \\d', '\\n'.join(lineas), flags=re.IGNORECASE)\n",
        "\n",
        "    # Determinar si el ticket contiene \"1PARKING\"\n",
        "    cuanto_es = total_match\n",
        "\n",
        "    return cuanto_es"
      ],
      "metadata": {
        "id": "fg0dEmdIYQDe"
      },
      "execution_count": 234,
      "outputs": []
    },
    {
      "cell_type": "code",
      "source": [
        "precio_total(lineas_ticekt1)"
      ],
      "metadata": {
        "id": "5EX-te77YQKa"
      },
      "execution_count": 235,
      "outputs": []
    },
    {
      "cell_type": "code",
      "source": [
        "def procesar_precio(lineas):\n",
        "    precio_match = re.search(r'TOTAL.*\\s\\d{1,2},\\d{1,2}', '\\n'.join(lineas))\n",
        "    precio_total = precio_match.group() if precio_match else None\n",
        "\n",
        "    total_match = re.search(r'\\d{1,2},\\d{1,2}', precio_total)\n",
        "    total_pagado = total_match.group() if total_match else None\n",
        "\n",
        "    return total_pagado"
      ],
      "metadata": {
        "id": "YRKdPVxoZkEo"
      },
      "execution_count": 269,
      "outputs": []
    },
    {
      "cell_type": "code",
      "source": [
        "procesar_precio(lineas_ticekt1)"
      ],
      "metadata": {
        "id": "YZlounttaFFQ",
        "outputId": "02d9c627-4e8a-4cd1-a45e-034b49b94ebb",
        "colab": {
          "base_uri": "https://localhost:8080/",
          "height": 35
        }
      },
      "execution_count": 270,
      "outputs": [
        {
          "output_type": "execute_result",
          "data": {
            "text/plain": [
              "'21,23'"
            ],
            "application/vnd.google.colaboratory.intrinsic+json": {
              "type": "string"
            }
          },
          "metadata": {},
          "execution_count": 270
        }
      ]
    }
  ]
}