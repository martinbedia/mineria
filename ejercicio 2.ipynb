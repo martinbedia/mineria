{
  "nbformat": 4,
  "nbformat_minor": 0,
  "metadata": {
    "colab": {
      "provenance": [],
      "include_colab_link": true
    },
    "kernelspec": {
      "name": "python3",
      "display_name": "Python 3"
    },
    "language_info": {
      "name": "python"
    }
  },
  "cells": [
    {
      "cell_type": "markdown",
      "metadata": {
        "id": "view-in-github",
        "colab_type": "text"
      },
      "source": [
        "<a href=\"https://colab.research.google.com/github/martinbedia/mineria/blob/main/ejercicio%202.ipynb\" target=\"_parent\"><img src=\"https://colab.research.google.com/assets/colab-badge.svg\" alt=\"Open In Colab\"/></a>"
      ]
    },
    {
      "cell_type": "markdown",
      "source": [
        "# Ejercicio 2\n",
        "Crea un nuevo programa para procesar el nuevo formato de ticket para obtener un archivo csv en el que se muestre el ID del ticket, producto y precio. Genera también un segundo csv donde para cada ticket se muestre la dirección del establecimiento, la hora de compra, el total del ticket, el descuento generado y el acumulado."
      ],
      "metadata": {
        "id": "IYFtvM_17aZc"
      }
    },
    {
      "cell_type": "code",
      "source": [
        "!pip install PyPDF2"
      ],
      "metadata": {
        "id": "M84YIg9J9UzR",
        "outputId": "cfcee426-7b02-4645-dc4b-e74496d52574",
        "colab": {
          "base_uri": "https://localhost:8080/"
        }
      },
      "execution_count": 32,
      "outputs": [
        {
          "output_type": "stream",
          "name": "stdout",
          "text": [
            "Requirement already satisfied: PyPDF2 in /usr/local/lib/python3.10/dist-packages (3.0.1)\n"
          ]
        }
      ]
    },
    {
      "cell_type": "code",
      "source": [
        "import pandas as pd\n",
        "import numpy as np\n",
        "import glob, os\n",
        "import PyPDF2\n",
        "import re\n",
        "import csv\n",
        "from datetime import datetime"
      ],
      "metadata": {
        "id": "UX9Z5Wwr9qV4"
      },
      "execution_count": 33,
      "outputs": []
    },
    {
      "cell_type": "markdown",
      "source": [
        "Antes de comenzar a analizar los tickets debo cargarlos en el entorno de Google Collab y asegurarme que los tengo en el panel de la izquierda."
      ],
      "metadata": {
        "id": "VbqPbg3Hde9q"
      }
    },
    {
      "cell_type": "markdown",
      "source": [
        "## Funciones individuales\n",
        "Seguiremos el mismo procedimiento que el ejercicio 1, elaboraremos pequeñas funciones individuales para cada dato que pide el enunciado, para posteriormente unirlas en la función final. De esta manera voy viendo que me van saliendo los datos que necesito."
      ],
      "metadata": {
        "id": "ESLMFJnZdtJ7"
      }
    },
    {
      "cell_type": "code",
      "source": [
        "# leer archivos de un tipo concreto de una carpeta y sus subcarpetas\n",
        "# recursive para que busque en las subcarpetas\n",
        "ruta_carpeta_raiz = '.'\n",
        "tickets = glob.glob(os.path.join(ruta_carpeta_raiz, '**/*.pdf'),recursive=True)\n",
        "tickets"
      ],
      "metadata": {
        "colab": {
          "base_uri": "https://localhost:8080/"
        },
        "id": "uhuCT1mTqdBn",
        "outputId": "0a23ab1e-587f-44dc-f724-fd359075838b"
      },
      "execution_count": 106,
      "outputs": [
        {
          "output_type": "execute_result",
          "data": {
            "text/plain": [
              "['./Ticket-13_11_2023-2.pdf',\n",
              " './Ticket-23_11_2023-2.pdf',\n",
              " './Ticket-3_11_2023-2.pdf']"
            ]
          },
          "metadata": {},
          "execution_count": 106
        }
      ]
    },
    {
      "cell_type": "code",
      "source": [
        "# leer el ticket\n",
        "pdf_reader = PyPDF2.PdfReader(tickets[0])    # conectar el archivo pdf con el codigo en python\n",
        "ticket = pdf_reader.pages[0]   # acceder a la primera pagina\n",
        "texto_ticket = ticket.extract_text()\n",
        "texto_ticket"
      ],
      "metadata": {
        "colab": {
          "base_uri": "https://localhost:8080/",
          "height": 192
        },
        "id": "Mp6R9_Stqi6t",
        "outputId": "a726aae8-9ca9-49dd-cad8-06db3b769dc4"
      },
      "execution_count": 35,
      "outputs": [
        {
          "output_type": "execute_result",
          "data": {
            "text/plain": [
              "'2LIMERKA, S.A.U. CIF A33093097 \\nCASTIELLO, 145 - LUGO DE LLANERA \\nCompra realizada en nuestro supermercado \\nC/ Muñoz Degraíin, 5, Oviedo \\n  ENSALADA RUCULA IFA 0,72 C \\nEOG.CER-RUS.BAKERY 2,67 R \\nTOTAL 3,39 EUR \\nTARJETA 3,35 EUR \\nTipo Base IVA \\nR 10,00% 2,43 0,24 \\nc 0,00% 0,72 0,00 \\nTotal Fra. Simplif. 3,39 \\n  \\nSaldo próximo Vale Mensual:0,37 EUR. \\nEuros conseguidos:0,03 EUR. \\nNúmero Tarjeta: 112000005970€985 \\ne de de de de de de de de de e de de de de e de de de de de de de de e de de de de de de de de de de A de e de \\n  \\nEMPRESA: 00000001 CENTRO-0195 TPV:0002 \\nOPERAD.- 00000001 NO.OPERACION: 085332 \\nFECHA -: 13/11/2023 HORA: 19:57:52 \\nMOBILE EMV /¿AUTORIZACION: 502024 \\nTARJETA : ed \\nAUTENTICACION: FIRMA NO NECESARIA \\nAID: A0000000041010 \\nMASTERCARD \\nATC: 0455 ARC: 00 \\nMASTERCARD CONTACTLESS \\nREFERENCIA: 459180 SESION:13112023-001 \\nde de de de de de de de de de e de V E N T a de de de de de de de de de de de de de \\nTOTAL: 3.39 EUR \\nde de de de de de de de de de PARA EL TITULAR de de de e de de de de de de \\n  \\n8887178021311231955209 \\nLe atiende: 0474-LOUCIA 2NABELLA \\nTienda:0195 Fecha:13/11/2023 Hora:19:57:41 \\nTPV: 0002 TICKET: 7178 \\nFRA. SIMPLIF.: 0195-02-23176767 \\n1I.V.A. INCLUIDO \\nConserve su ticket de compra para \\ncualquier cambio o devolución. \\nDispone de un plazo máximo de 15 días \\nnaturales desde la fecha de compra. \\nNo se admiten cambios en artículos \\nde perfumería, higiene personal \\ny contenidos digitales. \\nENCANTADOS DE SERVIRLE'"
            ],
            "application/vnd.google.colaboratory.intrinsic+json": {
              "type": "string"
            }
          },
          "metadata": {},
          "execution_count": 35
        }
      ]
    },
    {
      "cell_type": "code",
      "source": [
        "# texto del ticket por lineas\n",
        "lineas = np.array(texto_ticket.split('\\n'))\n",
        "lineas"
      ],
      "metadata": {
        "colab": {
          "base_uri": "https://localhost:8080/"
        },
        "id": "6Mzm752cqi9N",
        "outputId": "c8ee3956-f99a-4895-ca8a-815d93252644"
      },
      "execution_count": 36,
      "outputs": [
        {
          "output_type": "execute_result",
          "data": {
            "text/plain": [
              "array(['2LIMERKA, S.A.U. CIF A33093097 ',\n",
              "       'CASTIELLO, 145 - LUGO DE LLANERA ',\n",
              "       'Compra realizada en nuestro supermercado ',\n",
              "       'C/ Muñoz Degraíin, 5, Oviedo ', '  ENSALADA RUCULA IFA 0,72 C ',\n",
              "       'EOG.CER-RUS.BAKERY 2,67 R ', 'TOTAL 3,39 EUR ',\n",
              "       'TARJETA 3,35 EUR ', 'Tipo Base IVA ', 'R 10,00% 2,43 0,24 ',\n",
              "       'c 0,00% 0,72 0,00 ', 'Total Fra. Simplif. 3,39 ', '  ',\n",
              "       'Saldo próximo Vale Mensual:0,37 EUR. ',\n",
              "       'Euros conseguidos:0,03 EUR. ',\n",
              "       'Número Tarjeta: 112000005970€985 ',\n",
              "       'e de de de de de de de de de e de de de de e de de de de de de de de e de de de de de de de de de de A de e de ',\n",
              "       '  ', 'EMPRESA: 00000001 CENTRO-0195 TPV:0002 ',\n",
              "       'OPERAD.- 00000001 NO.OPERACION: 085332 ',\n",
              "       'FECHA -: 13/11/2023 HORA: 19:57:52 ',\n",
              "       'MOBILE EMV /¿AUTORIZACION: 502024 ', 'TARJETA : ed ',\n",
              "       'AUTENTICACION: FIRMA NO NECESARIA ', 'AID: A0000000041010 ',\n",
              "       'MASTERCARD ', 'ATC: 0455 ARC: 00 ', 'MASTERCARD CONTACTLESS ',\n",
              "       'REFERENCIA: 459180 SESION:13112023-001 ',\n",
              "       'de de de de de de de de de de e de V E N T a de de de de de de de de de de de de de ',\n",
              "       'TOTAL: 3.39 EUR ',\n",
              "       'de de de de de de de de de de PARA EL TITULAR de de de e de de de de de de ',\n",
              "       '  ', '8887178021311231955209 ',\n",
              "       'Le atiende: 0474-LOUCIA 2NABELLA ',\n",
              "       'Tienda:0195 Fecha:13/11/2023 Hora:19:57:41 ',\n",
              "       'TPV: 0002 TICKET: 7178 ', 'FRA. SIMPLIF.: 0195-02-23176767 ',\n",
              "       '1I.V.A. INCLUIDO ', 'Conserve su ticket de compra para ',\n",
              "       'cualquier cambio o devolución. ',\n",
              "       'Dispone de un plazo máximo de 15 días ',\n",
              "       'naturales desde la fecha de compra. ',\n",
              "       'No se admiten cambios en artículos ',\n",
              "       'de perfumería, higiene personal ', 'y contenidos digitales. ',\n",
              "       'ENCANTADOS DE SERVIRLE'], dtype='<U111')"
            ]
          },
          "metadata": {},
          "execution_count": 36
        }
      ]
    },
    {
      "cell_type": "code",
      "source": [
        "def leer_lineas_de_pdf (nombre_del_pdf):\n",
        "  pdf_reader = PyPDF2.PdfReader(nombre_del_pdf)\n",
        "  ticket = pdf_reader.pages[0]\n",
        "  texto_ticket = ticket.extract_text()\n",
        "  lineas = np.array(texto_ticket.split('\\n'))\n",
        "  return lineas"
      ],
      "metadata": {
        "id": "k9T1Gviiqi_4"
      },
      "execution_count": 37,
      "outputs": []
    },
    {
      "cell_type": "code",
      "source": [
        "lineas_ticekt1 = leer_lineas_de_pdf('/content/Ticket-13_11_2023-2.pdf')\n",
        "lineas_ticekt1"
      ],
      "metadata": {
        "colab": {
          "base_uri": "https://localhost:8080/"
        },
        "id": "1uq3lrRa_tlJ",
        "outputId": "d6099de5-f50b-4780-cfca-5d959fab26ea"
      },
      "execution_count": 38,
      "outputs": [
        {
          "output_type": "execute_result",
          "data": {
            "text/plain": [
              "array(['2LIMERKA, S.A.U. CIF A33093097 ',\n",
              "       'CASTIELLO, 145 - LUGO DE LLANERA ',\n",
              "       'Compra realizada en nuestro supermercado ',\n",
              "       'C/ Muñoz Degraíin, 5, Oviedo ', '  ENSALADA RUCULA IFA 0,72 C ',\n",
              "       'EOG.CER-RUS.BAKERY 2,67 R ', 'TOTAL 3,39 EUR ',\n",
              "       'TARJETA 3,35 EUR ', 'Tipo Base IVA ', 'R 10,00% 2,43 0,24 ',\n",
              "       'c 0,00% 0,72 0,00 ', 'Total Fra. Simplif. 3,39 ', '  ',\n",
              "       'Saldo próximo Vale Mensual:0,37 EUR. ',\n",
              "       'Euros conseguidos:0,03 EUR. ',\n",
              "       'Número Tarjeta: 112000005970€985 ',\n",
              "       'e de de de de de de de de de e de de de de e de de de de de de de de e de de de de de de de de de de A de e de ',\n",
              "       '  ', 'EMPRESA: 00000001 CENTRO-0195 TPV:0002 ',\n",
              "       'OPERAD.- 00000001 NO.OPERACION: 085332 ',\n",
              "       'FECHA -: 13/11/2023 HORA: 19:57:52 ',\n",
              "       'MOBILE EMV /¿AUTORIZACION: 502024 ', 'TARJETA : ed ',\n",
              "       'AUTENTICACION: FIRMA NO NECESARIA ', 'AID: A0000000041010 ',\n",
              "       'MASTERCARD ', 'ATC: 0455 ARC: 00 ', 'MASTERCARD CONTACTLESS ',\n",
              "       'REFERENCIA: 459180 SESION:13112023-001 ',\n",
              "       'de de de de de de de de de de e de V E N T a de de de de de de de de de de de de de ',\n",
              "       'TOTAL: 3.39 EUR ',\n",
              "       'de de de de de de de de de de PARA EL TITULAR de de de e de de de de de de ',\n",
              "       '  ', '8887178021311231955209 ',\n",
              "       'Le atiende: 0474-LOUCIA 2NABELLA ',\n",
              "       'Tienda:0195 Fecha:13/11/2023 Hora:19:57:41 ',\n",
              "       'TPV: 0002 TICKET: 7178 ', 'FRA. SIMPLIF.: 0195-02-23176767 ',\n",
              "       '1I.V.A. INCLUIDO ', 'Conserve su ticket de compra para ',\n",
              "       'cualquier cambio o devolución. ',\n",
              "       'Dispone de un plazo máximo de 15 días ',\n",
              "       'naturales desde la fecha de compra. ',\n",
              "       'No se admiten cambios en artículos ',\n",
              "       'de perfumería, higiene personal ', 'y contenidos digitales. ',\n",
              "       'ENCANTADOS DE SERVIRLE'], dtype='<U111')"
            ]
          },
          "metadata": {},
          "execution_count": 38
        }
      ]
    },
    {
      "cell_type": "code",
      "source": [
        "def extraer_id_ticket(lineas):\n",
        "    id_ticket_match = re.search(r'\\d*-\\d*-\\d*', '\\n'.join(lineas))\n",
        "    id_ticket = id_ticket_match.group() if id_ticket_match else None\n",
        "\n",
        "    return id_ticket\n",
        "\n",
        "extraer_id_ticket(lineas_ticekt1)"
      ],
      "metadata": {
        "colab": {
          "base_uri": "https://localhost:8080/",
          "height": 35
        },
        "id": "Q6Yctx8rqjCp",
        "outputId": "56344e7c-ee21-473e-c061-e960da41f0d2"
      },
      "execution_count": 39,
      "outputs": [
        {
          "output_type": "execute_result",
          "data": {
            "text/plain": [
              "'0195-02-23176767'"
            ],
            "application/vnd.google.colaboratory.intrinsic+json": {
              "type": "string"
            }
          },
          "metadata": {},
          "execution_count": 39
        }
      ]
    },
    {
      "cell_type": "code",
      "source": [
        "def extraer_productos(lineas):\n",
        "  productos = []\n",
        "  for linea in lineas:\n",
        "        producto_match = re.search(r'[A-ZÑñÁÉÍÓÚáéíóú][A-ZÑñÁÉÍÓÚáéíóú/0-9\\s]+((\\d{1,2},\\d{1,2}\\s*){1,2})', linea, flags=re.IGNORECASE)\n",
        "        if producto_match:\n",
        "            productos.append(producto_match.group())\n",
        "  return productos\n",
        "\n",
        "productos_ticket = extraer_productos(lineas_ticekt1)\n",
        "productos_ticket\n"
      ],
      "metadata": {
        "colab": {
          "base_uri": "https://localhost:8080/"
        },
        "id": "aZ-DJcThqjFQ",
        "outputId": "472b828f-670d-4c55-a932-193d7f4f2500"
      },
      "execution_count": 40,
      "outputs": [
        {
          "output_type": "execute_result",
          "data": {
            "text/plain": [
              "['ENSALADA RUCULA IFA 0,72 ',\n",
              " 'BAKERY 2,67 ',\n",
              " 'TOTAL 3,39 ',\n",
              " 'TARJETA 3,35 ',\n",
              " 'R 10,00',\n",
              " 'c 0,00']"
            ]
          },
          "metadata": {},
          "execution_count": 40
        }
      ]
    },
    {
      "cell_type": "code",
      "source": [
        "def obtener_nombre_producto(linea):\n",
        "    # Buscar coincidencias en la línea\n",
        "    coincidencia = re.search(r'[A-ZÑñÁÉÍÓÚáéíóú/0-9\\s]+[A-ZÑñÁÉÍÓÚáéíóú]+\\s', linea, flags=re.IGNORECASE)\n",
        "\n",
        "    if coincidencia:\n",
        "        return coincidencia.group().strip()\n",
        "    else:\n",
        "        return None\n",
        "\n",
        "# Obtener los nombres de los productos\n",
        "nombres_productos = [obtener_nombre_producto(linea) for linea in productos_ticket]\n",
        "\n",
        "print(nombres_productos)"
      ],
      "metadata": {
        "colab": {
          "base_uri": "https://localhost:8080/"
        },
        "id": "9o7EiCbQqjHi",
        "outputId": "5f533707-c9cf-490f-f75e-be800743104c"
      },
      "execution_count": 41,
      "outputs": [
        {
          "output_type": "stream",
          "name": "stdout",
          "text": [
            "['ENSALADA RUCULA IFA', 'BAKERY', 'TOTAL', 'TARJETA', None, None]\n"
          ]
        }
      ]
    },
    {
      "cell_type": "code",
      "source": [
        "def obtener_precio_producto(linea):\n",
        "    # Buscar coincidencias en la línea\n",
        "    coincidencia = re.search(r'(\\d{1,2},\\d{1,2})', linea)\n",
        "\n",
        "    if coincidencia:\n",
        "        return coincidencia.group()\n",
        "    else:\n",
        "        return None\n",
        "\n",
        "# Obtener los precios de los productos\n",
        "precios_productos = [obtener_precio_producto(linea) for linea in productos_ticket]\n",
        "\n",
        "print(precios_productos)"
      ],
      "metadata": {
        "colab": {
          "base_uri": "https://localhost:8080/"
        },
        "id": "ukXjTLjZqjKW",
        "outputId": "4f8588f4-4652-460b-c591-5003822de206"
      },
      "execution_count": 54,
      "outputs": [
        {
          "output_type": "stream",
          "name": "stdout",
          "text": [
            "['0,72', '2,67', '3,39', '3,35', '10,00', '0,00']\n"
          ]
        }
      ]
    },
    {
      "cell_type": "markdown",
      "source": [
        "En la siguiente función obtendré todos los datos que me pide la primera parte del enunciado, es decir, ticket id, nombre del producto y precio."
      ],
      "metadata": {
        "id": "N_cAXn8peIhI"
      }
    },
    {
      "cell_type": "code",
      "source": [
        "# todo en la misma funcion\n",
        "ruta_carpeta_raiz = '.'\n",
        "tickets = glob.glob(os.path.join(ruta_carpeta_raiz, '**/*.pdf'),recursive=True)\n",
        "tickets\n",
        "\n",
        "def ejercicio2(tickets):\n",
        "  # leer el ticket\n",
        "  pdf_reader = PyPDF2.PdfReader(tickets)    # conectar el archivo pdf con el codigo en python\n",
        "  ticket = pdf_reader.pages[0]   # acceder a la primera pagina\n",
        "  texto_ticket = ticket.extract_text()\n",
        "  # texto del ticket por lineas\n",
        "  lineas = np.array(texto_ticket.split('\\n'))\n",
        "\n",
        "  id_ticket_match = re.search(r'\\d*-\\d*-\\d*', '\\n'.join(lineas))\n",
        "  id_ticket = id_ticket_match.group() if id_ticket_match else None\n",
        "\n",
        "  productos = []\n",
        "  for linea in lineas:\n",
        "        producto_match = re.search(r'[A-ZÑñÁÉÍÓÚáéíóú][A-ZÑñÁÉÍÓÚáéíóú/0-9\\s]+((\\d{1,2},\\d{1,2}\\s*){1,2})', linea, flags=re.IGNORECASE)\n",
        "        if producto_match:\n",
        "            productos.append(producto_match.group())\n",
        "\n",
        "\n",
        "  # Buscar coincidencias en el nombre\n",
        "  nombres = []\n",
        "  for linea in productos:\n",
        "    nombres_matches = re.search(r'[A-ZÑñÁÉÍÓÚáéíóú/0-9\\s]+[A-ZÑñÁÉÍÓÚáéíóú]+\\s', linea, flags=re.IGNORECASE)\n",
        "    nombres.append(nombres_matches.group().strip() if nombres_matches else None)\n",
        "\n",
        "  # Buscar coincidencias en el precio\n",
        "  precios = []\n",
        "  for linea in productos:\n",
        "    precio_matches = re.search(r'(\\d{1,2},\\d{1,2})', linea)\n",
        "    precios.append(precio_matches.group() if precio_matches else None)\n",
        "\n",
        "  df = pd.DataFrame({\n",
        "    'id ticket': id_ticket,\n",
        "    'producto': nombres,\n",
        "    'precio_individual': precios\n",
        "  })\n",
        "\n",
        "  df = df.dropna()\n",
        "  df = df.loc[df['producto'] != 'TOTAL']\n",
        "  df = df.loc[df['producto'] != 'TARJETA']\n",
        "\n",
        "\n",
        "  return df"
      ],
      "metadata": {
        "id": "vXb4deeMLM00"
      },
      "execution_count": 67,
      "outputs": []
    },
    {
      "cell_type": "code",
      "source": [
        "ejercicio2('/content/Ticket-13_11_2023-2.pdf')"
      ],
      "metadata": {
        "colab": {
          "base_uri": "https://localhost:8080/",
          "height": 112
        },
        "id": "3l3nOaYtLM3m",
        "outputId": "3148c754-ff50-463b-897a-e39b8a42534a"
      },
      "execution_count": 68,
      "outputs": [
        {
          "output_type": "execute_result",
          "data": {
            "text/plain": [
              "          id ticket             producto precio_individual\n",
              "0  0195-02-23176767  ENSALADA RUCULA IFA              0,72\n",
              "1  0195-02-23176767               BAKERY              2,67"
            ],
            "text/html": [
              "\n",
              "  <div id=\"df-200e28e9-cf3b-4dfc-aee1-2402546981a0\" class=\"colab-df-container\">\n",
              "    <div>\n",
              "<style scoped>\n",
              "    .dataframe tbody tr th:only-of-type {\n",
              "        vertical-align: middle;\n",
              "    }\n",
              "\n",
              "    .dataframe tbody tr th {\n",
              "        vertical-align: top;\n",
              "    }\n",
              "\n",
              "    .dataframe thead th {\n",
              "        text-align: right;\n",
              "    }\n",
              "</style>\n",
              "<table border=\"1\" class=\"dataframe\">\n",
              "  <thead>\n",
              "    <tr style=\"text-align: right;\">\n",
              "      <th></th>\n",
              "      <th>id ticket</th>\n",
              "      <th>producto</th>\n",
              "      <th>precio_individual</th>\n",
              "    </tr>\n",
              "  </thead>\n",
              "  <tbody>\n",
              "    <tr>\n",
              "      <th>0</th>\n",
              "      <td>0195-02-23176767</td>\n",
              "      <td>ENSALADA RUCULA IFA</td>\n",
              "      <td>0,72</td>\n",
              "    </tr>\n",
              "    <tr>\n",
              "      <th>1</th>\n",
              "      <td>0195-02-23176767</td>\n",
              "      <td>BAKERY</td>\n",
              "      <td>2,67</td>\n",
              "    </tr>\n",
              "  </tbody>\n",
              "</table>\n",
              "</div>\n",
              "    <div class=\"colab-df-buttons\">\n",
              "\n",
              "  <div class=\"colab-df-container\">\n",
              "    <button class=\"colab-df-convert\" onclick=\"convertToInteractive('df-200e28e9-cf3b-4dfc-aee1-2402546981a0')\"\n",
              "            title=\"Convert this dataframe to an interactive table.\"\n",
              "            style=\"display:none;\">\n",
              "\n",
              "  <svg xmlns=\"http://www.w3.org/2000/svg\" height=\"24px\" viewBox=\"0 -960 960 960\">\n",
              "    <path d=\"M120-120v-720h720v720H120Zm60-500h600v-160H180v160Zm220 220h160v-160H400v160Zm0 220h160v-160H400v160ZM180-400h160v-160H180v160Zm440 0h160v-160H620v160ZM180-180h160v-160H180v160Zm440 0h160v-160H620v160Z\"/>\n",
              "  </svg>\n",
              "    </button>\n",
              "\n",
              "  <style>\n",
              "    .colab-df-container {\n",
              "      display:flex;\n",
              "      gap: 12px;\n",
              "    }\n",
              "\n",
              "    .colab-df-convert {\n",
              "      background-color: #E8F0FE;\n",
              "      border: none;\n",
              "      border-radius: 50%;\n",
              "      cursor: pointer;\n",
              "      display: none;\n",
              "      fill: #1967D2;\n",
              "      height: 32px;\n",
              "      padding: 0 0 0 0;\n",
              "      width: 32px;\n",
              "    }\n",
              "\n",
              "    .colab-df-convert:hover {\n",
              "      background-color: #E2EBFA;\n",
              "      box-shadow: 0px 1px 2px rgba(60, 64, 67, 0.3), 0px 1px 3px 1px rgba(60, 64, 67, 0.15);\n",
              "      fill: #174EA6;\n",
              "    }\n",
              "\n",
              "    .colab-df-buttons div {\n",
              "      margin-bottom: 4px;\n",
              "    }\n",
              "\n",
              "    [theme=dark] .colab-df-convert {\n",
              "      background-color: #3B4455;\n",
              "      fill: #D2E3FC;\n",
              "    }\n",
              "\n",
              "    [theme=dark] .colab-df-convert:hover {\n",
              "      background-color: #434B5C;\n",
              "      box-shadow: 0px 1px 3px 1px rgba(0, 0, 0, 0.15);\n",
              "      filter: drop-shadow(0px 1px 2px rgba(0, 0, 0, 0.3));\n",
              "      fill: #FFFFFF;\n",
              "    }\n",
              "  </style>\n",
              "\n",
              "    <script>\n",
              "      const buttonEl =\n",
              "        document.querySelector('#df-200e28e9-cf3b-4dfc-aee1-2402546981a0 button.colab-df-convert');\n",
              "      buttonEl.style.display =\n",
              "        google.colab.kernel.accessAllowed ? 'block' : 'none';\n",
              "\n",
              "      async function convertToInteractive(key) {\n",
              "        const element = document.querySelector('#df-200e28e9-cf3b-4dfc-aee1-2402546981a0');\n",
              "        const dataTable =\n",
              "          await google.colab.kernel.invokeFunction('convertToInteractive',\n",
              "                                                    [key], {});\n",
              "        if (!dataTable) return;\n",
              "\n",
              "        const docLinkHtml = 'Like what you see? Visit the ' +\n",
              "          '<a target=\"_blank\" href=https://colab.research.google.com/notebooks/data_table.ipynb>data table notebook</a>'\n",
              "          + ' to learn more about interactive tables.';\n",
              "        element.innerHTML = '';\n",
              "        dataTable['output_type'] = 'display_data';\n",
              "        await google.colab.output.renderOutput(dataTable, element);\n",
              "        const docLink = document.createElement('div');\n",
              "        docLink.innerHTML = docLinkHtml;\n",
              "        element.appendChild(docLink);\n",
              "      }\n",
              "    </script>\n",
              "  </div>\n",
              "\n",
              "\n",
              "<div id=\"df-8c9544fa-c123-4ea7-9db4-6a6d03f2cfc1\">\n",
              "  <button class=\"colab-df-quickchart\" onclick=\"quickchart('df-8c9544fa-c123-4ea7-9db4-6a6d03f2cfc1')\"\n",
              "            title=\"Suggest charts\"\n",
              "            style=\"display:none;\">\n",
              "\n",
              "<svg xmlns=\"http://www.w3.org/2000/svg\" height=\"24px\"viewBox=\"0 0 24 24\"\n",
              "     width=\"24px\">\n",
              "    <g>\n",
              "        <path d=\"M19 3H5c-1.1 0-2 .9-2 2v14c0 1.1.9 2 2 2h14c1.1 0 2-.9 2-2V5c0-1.1-.9-2-2-2zM9 17H7v-7h2v7zm4 0h-2V7h2v10zm4 0h-2v-4h2v4z\"/>\n",
              "    </g>\n",
              "</svg>\n",
              "  </button>\n",
              "\n",
              "<style>\n",
              "  .colab-df-quickchart {\n",
              "      --bg-color: #E8F0FE;\n",
              "      --fill-color: #1967D2;\n",
              "      --hover-bg-color: #E2EBFA;\n",
              "      --hover-fill-color: #174EA6;\n",
              "      --disabled-fill-color: #AAA;\n",
              "      --disabled-bg-color: #DDD;\n",
              "  }\n",
              "\n",
              "  [theme=dark] .colab-df-quickchart {\n",
              "      --bg-color: #3B4455;\n",
              "      --fill-color: #D2E3FC;\n",
              "      --hover-bg-color: #434B5C;\n",
              "      --hover-fill-color: #FFFFFF;\n",
              "      --disabled-bg-color: #3B4455;\n",
              "      --disabled-fill-color: #666;\n",
              "  }\n",
              "\n",
              "  .colab-df-quickchart {\n",
              "    background-color: var(--bg-color);\n",
              "    border: none;\n",
              "    border-radius: 50%;\n",
              "    cursor: pointer;\n",
              "    display: none;\n",
              "    fill: var(--fill-color);\n",
              "    height: 32px;\n",
              "    padding: 0;\n",
              "    width: 32px;\n",
              "  }\n",
              "\n",
              "  .colab-df-quickchart:hover {\n",
              "    background-color: var(--hover-bg-color);\n",
              "    box-shadow: 0 1px 2px rgba(60, 64, 67, 0.3), 0 1px 3px 1px rgba(60, 64, 67, 0.15);\n",
              "    fill: var(--button-hover-fill-color);\n",
              "  }\n",
              "\n",
              "  .colab-df-quickchart-complete:disabled,\n",
              "  .colab-df-quickchart-complete:disabled:hover {\n",
              "    background-color: var(--disabled-bg-color);\n",
              "    fill: var(--disabled-fill-color);\n",
              "    box-shadow: none;\n",
              "  }\n",
              "\n",
              "  .colab-df-spinner {\n",
              "    border: 2px solid var(--fill-color);\n",
              "    border-color: transparent;\n",
              "    border-bottom-color: var(--fill-color);\n",
              "    animation:\n",
              "      spin 1s steps(1) infinite;\n",
              "  }\n",
              "\n",
              "  @keyframes spin {\n",
              "    0% {\n",
              "      border-color: transparent;\n",
              "      border-bottom-color: var(--fill-color);\n",
              "      border-left-color: var(--fill-color);\n",
              "    }\n",
              "    20% {\n",
              "      border-color: transparent;\n",
              "      border-left-color: var(--fill-color);\n",
              "      border-top-color: var(--fill-color);\n",
              "    }\n",
              "    30% {\n",
              "      border-color: transparent;\n",
              "      border-left-color: var(--fill-color);\n",
              "      border-top-color: var(--fill-color);\n",
              "      border-right-color: var(--fill-color);\n",
              "    }\n",
              "    40% {\n",
              "      border-color: transparent;\n",
              "      border-right-color: var(--fill-color);\n",
              "      border-top-color: var(--fill-color);\n",
              "    }\n",
              "    60% {\n",
              "      border-color: transparent;\n",
              "      border-right-color: var(--fill-color);\n",
              "    }\n",
              "    80% {\n",
              "      border-color: transparent;\n",
              "      border-right-color: var(--fill-color);\n",
              "      border-bottom-color: var(--fill-color);\n",
              "    }\n",
              "    90% {\n",
              "      border-color: transparent;\n",
              "      border-bottom-color: var(--fill-color);\n",
              "    }\n",
              "  }\n",
              "</style>\n",
              "\n",
              "  <script>\n",
              "    async function quickchart(key) {\n",
              "      const quickchartButtonEl =\n",
              "        document.querySelector('#' + key + ' button');\n",
              "      quickchartButtonEl.disabled = true;  // To prevent multiple clicks.\n",
              "      quickchartButtonEl.classList.add('colab-df-spinner');\n",
              "      try {\n",
              "        const charts = await google.colab.kernel.invokeFunction(\n",
              "            'suggestCharts', [key], {});\n",
              "      } catch (error) {\n",
              "        console.error('Error during call to suggestCharts:', error);\n",
              "      }\n",
              "      quickchartButtonEl.classList.remove('colab-df-spinner');\n",
              "      quickchartButtonEl.classList.add('colab-df-quickchart-complete');\n",
              "    }\n",
              "    (() => {\n",
              "      let quickchartButtonEl =\n",
              "        document.querySelector('#df-8c9544fa-c123-4ea7-9db4-6a6d03f2cfc1 button');\n",
              "      quickchartButtonEl.style.display =\n",
              "        google.colab.kernel.accessAllowed ? 'block' : 'none';\n",
              "    })();\n",
              "  </script>\n",
              "</div>\n",
              "    </div>\n",
              "  </div>\n"
            ]
          },
          "metadata": {},
          "execution_count": 68
        }
      ]
    },
    {
      "cell_type": "code",
      "source": [
        "ejercicio2('/content/Ticket-23_11_2023-2.pdf')"
      ],
      "metadata": {
        "id": "WcyvS6wDIL3c",
        "outputId": "1c146e45-6c11-43e0-adab-e79fec47f1d6",
        "colab": {
          "base_uri": "https://localhost:8080/",
          "height": 81
        }
      },
      "execution_count": 69,
      "outputs": [
        {
          "output_type": "execute_result",
          "data": {
            "text/plain": [
              "          id ticket              producto precio_individual\n",
              "0  0195-02-23182951  SOLOMILLO POLLO POZO              5,35"
            ],
            "text/html": [
              "\n",
              "  <div id=\"df-baafef28-f6de-4dbe-8af5-c6f40013f523\" class=\"colab-df-container\">\n",
              "    <div>\n",
              "<style scoped>\n",
              "    .dataframe tbody tr th:only-of-type {\n",
              "        vertical-align: middle;\n",
              "    }\n",
              "\n",
              "    .dataframe tbody tr th {\n",
              "        vertical-align: top;\n",
              "    }\n",
              "\n",
              "    .dataframe thead th {\n",
              "        text-align: right;\n",
              "    }\n",
              "</style>\n",
              "<table border=\"1\" class=\"dataframe\">\n",
              "  <thead>\n",
              "    <tr style=\"text-align: right;\">\n",
              "      <th></th>\n",
              "      <th>id ticket</th>\n",
              "      <th>producto</th>\n",
              "      <th>precio_individual</th>\n",
              "    </tr>\n",
              "  </thead>\n",
              "  <tbody>\n",
              "    <tr>\n",
              "      <th>0</th>\n",
              "      <td>0195-02-23182951</td>\n",
              "      <td>SOLOMILLO POLLO POZO</td>\n",
              "      <td>5,35</td>\n",
              "    </tr>\n",
              "  </tbody>\n",
              "</table>\n",
              "</div>\n",
              "    <div class=\"colab-df-buttons\">\n",
              "\n",
              "  <div class=\"colab-df-container\">\n",
              "    <button class=\"colab-df-convert\" onclick=\"convertToInteractive('df-baafef28-f6de-4dbe-8af5-c6f40013f523')\"\n",
              "            title=\"Convert this dataframe to an interactive table.\"\n",
              "            style=\"display:none;\">\n",
              "\n",
              "  <svg xmlns=\"http://www.w3.org/2000/svg\" height=\"24px\" viewBox=\"0 -960 960 960\">\n",
              "    <path d=\"M120-120v-720h720v720H120Zm60-500h600v-160H180v160Zm220 220h160v-160H400v160Zm0 220h160v-160H400v160ZM180-400h160v-160H180v160Zm440 0h160v-160H620v160ZM180-180h160v-160H180v160Zm440 0h160v-160H620v160Z\"/>\n",
              "  </svg>\n",
              "    </button>\n",
              "\n",
              "  <style>\n",
              "    .colab-df-container {\n",
              "      display:flex;\n",
              "      gap: 12px;\n",
              "    }\n",
              "\n",
              "    .colab-df-convert {\n",
              "      background-color: #E8F0FE;\n",
              "      border: none;\n",
              "      border-radius: 50%;\n",
              "      cursor: pointer;\n",
              "      display: none;\n",
              "      fill: #1967D2;\n",
              "      height: 32px;\n",
              "      padding: 0 0 0 0;\n",
              "      width: 32px;\n",
              "    }\n",
              "\n",
              "    .colab-df-convert:hover {\n",
              "      background-color: #E2EBFA;\n",
              "      box-shadow: 0px 1px 2px rgba(60, 64, 67, 0.3), 0px 1px 3px 1px rgba(60, 64, 67, 0.15);\n",
              "      fill: #174EA6;\n",
              "    }\n",
              "\n",
              "    .colab-df-buttons div {\n",
              "      margin-bottom: 4px;\n",
              "    }\n",
              "\n",
              "    [theme=dark] .colab-df-convert {\n",
              "      background-color: #3B4455;\n",
              "      fill: #D2E3FC;\n",
              "    }\n",
              "\n",
              "    [theme=dark] .colab-df-convert:hover {\n",
              "      background-color: #434B5C;\n",
              "      box-shadow: 0px 1px 3px 1px rgba(0, 0, 0, 0.15);\n",
              "      filter: drop-shadow(0px 1px 2px rgba(0, 0, 0, 0.3));\n",
              "      fill: #FFFFFF;\n",
              "    }\n",
              "  </style>\n",
              "\n",
              "    <script>\n",
              "      const buttonEl =\n",
              "        document.querySelector('#df-baafef28-f6de-4dbe-8af5-c6f40013f523 button.colab-df-convert');\n",
              "      buttonEl.style.display =\n",
              "        google.colab.kernel.accessAllowed ? 'block' : 'none';\n",
              "\n",
              "      async function convertToInteractive(key) {\n",
              "        const element = document.querySelector('#df-baafef28-f6de-4dbe-8af5-c6f40013f523');\n",
              "        const dataTable =\n",
              "          await google.colab.kernel.invokeFunction('convertToInteractive',\n",
              "                                                    [key], {});\n",
              "        if (!dataTable) return;\n",
              "\n",
              "        const docLinkHtml = 'Like what you see? Visit the ' +\n",
              "          '<a target=\"_blank\" href=https://colab.research.google.com/notebooks/data_table.ipynb>data table notebook</a>'\n",
              "          + ' to learn more about interactive tables.';\n",
              "        element.innerHTML = '';\n",
              "        dataTable['output_type'] = 'display_data';\n",
              "        await google.colab.output.renderOutput(dataTable, element);\n",
              "        const docLink = document.createElement('div');\n",
              "        docLink.innerHTML = docLinkHtml;\n",
              "        element.appendChild(docLink);\n",
              "      }\n",
              "    </script>\n",
              "  </div>\n",
              "\n",
              "    </div>\n",
              "  </div>\n"
            ]
          },
          "metadata": {},
          "execution_count": 69
        }
      ]
    },
    {
      "cell_type": "code",
      "source": [
        "ejercicio2('/content/Ticket-3_11_2023-2.pdf')"
      ],
      "metadata": {
        "id": "RP_bgfwIIWnt",
        "outputId": "971c881e-9d50-43a5-a2fb-fef15abdd812",
        "colab": {
          "base_uri": "https://localhost:8080/",
          "height": 112
        }
      },
      "execution_count": 70,
      "outputs": [
        {
          "output_type": "execute_result",
          "data": {
            "text/plain": [
              "          id ticket            producto precio_individual\n",
              "0  0195-02-23171045  EUMMUS ENS2ALANDIA              1,25\n",
              "1  0195-02-23171045    PICOS IFA CAMPER              0,70"
            ],
            "text/html": [
              "\n",
              "  <div id=\"df-b3a19765-a97b-4c8f-b0ad-61f91d939f82\" class=\"colab-df-container\">\n",
              "    <div>\n",
              "<style scoped>\n",
              "    .dataframe tbody tr th:only-of-type {\n",
              "        vertical-align: middle;\n",
              "    }\n",
              "\n",
              "    .dataframe tbody tr th {\n",
              "        vertical-align: top;\n",
              "    }\n",
              "\n",
              "    .dataframe thead th {\n",
              "        text-align: right;\n",
              "    }\n",
              "</style>\n",
              "<table border=\"1\" class=\"dataframe\">\n",
              "  <thead>\n",
              "    <tr style=\"text-align: right;\">\n",
              "      <th></th>\n",
              "      <th>id ticket</th>\n",
              "      <th>producto</th>\n",
              "      <th>precio_individual</th>\n",
              "    </tr>\n",
              "  </thead>\n",
              "  <tbody>\n",
              "    <tr>\n",
              "      <th>0</th>\n",
              "      <td>0195-02-23171045</td>\n",
              "      <td>EUMMUS ENS2ALANDIA</td>\n",
              "      <td>1,25</td>\n",
              "    </tr>\n",
              "    <tr>\n",
              "      <th>1</th>\n",
              "      <td>0195-02-23171045</td>\n",
              "      <td>PICOS IFA CAMPER</td>\n",
              "      <td>0,70</td>\n",
              "    </tr>\n",
              "  </tbody>\n",
              "</table>\n",
              "</div>\n",
              "    <div class=\"colab-df-buttons\">\n",
              "\n",
              "  <div class=\"colab-df-container\">\n",
              "    <button class=\"colab-df-convert\" onclick=\"convertToInteractive('df-b3a19765-a97b-4c8f-b0ad-61f91d939f82')\"\n",
              "            title=\"Convert this dataframe to an interactive table.\"\n",
              "            style=\"display:none;\">\n",
              "\n",
              "  <svg xmlns=\"http://www.w3.org/2000/svg\" height=\"24px\" viewBox=\"0 -960 960 960\">\n",
              "    <path d=\"M120-120v-720h720v720H120Zm60-500h600v-160H180v160Zm220 220h160v-160H400v160Zm0 220h160v-160H400v160ZM180-400h160v-160H180v160Zm440 0h160v-160H620v160ZM180-180h160v-160H180v160Zm440 0h160v-160H620v160Z\"/>\n",
              "  </svg>\n",
              "    </button>\n",
              "\n",
              "  <style>\n",
              "    .colab-df-container {\n",
              "      display:flex;\n",
              "      gap: 12px;\n",
              "    }\n",
              "\n",
              "    .colab-df-convert {\n",
              "      background-color: #E8F0FE;\n",
              "      border: none;\n",
              "      border-radius: 50%;\n",
              "      cursor: pointer;\n",
              "      display: none;\n",
              "      fill: #1967D2;\n",
              "      height: 32px;\n",
              "      padding: 0 0 0 0;\n",
              "      width: 32px;\n",
              "    }\n",
              "\n",
              "    .colab-df-convert:hover {\n",
              "      background-color: #E2EBFA;\n",
              "      box-shadow: 0px 1px 2px rgba(60, 64, 67, 0.3), 0px 1px 3px 1px rgba(60, 64, 67, 0.15);\n",
              "      fill: #174EA6;\n",
              "    }\n",
              "\n",
              "    .colab-df-buttons div {\n",
              "      margin-bottom: 4px;\n",
              "    }\n",
              "\n",
              "    [theme=dark] .colab-df-convert {\n",
              "      background-color: #3B4455;\n",
              "      fill: #D2E3FC;\n",
              "    }\n",
              "\n",
              "    [theme=dark] .colab-df-convert:hover {\n",
              "      background-color: #434B5C;\n",
              "      box-shadow: 0px 1px 3px 1px rgba(0, 0, 0, 0.15);\n",
              "      filter: drop-shadow(0px 1px 2px rgba(0, 0, 0, 0.3));\n",
              "      fill: #FFFFFF;\n",
              "    }\n",
              "  </style>\n",
              "\n",
              "    <script>\n",
              "      const buttonEl =\n",
              "        document.querySelector('#df-b3a19765-a97b-4c8f-b0ad-61f91d939f82 button.colab-df-convert');\n",
              "      buttonEl.style.display =\n",
              "        google.colab.kernel.accessAllowed ? 'block' : 'none';\n",
              "\n",
              "      async function convertToInteractive(key) {\n",
              "        const element = document.querySelector('#df-b3a19765-a97b-4c8f-b0ad-61f91d939f82');\n",
              "        const dataTable =\n",
              "          await google.colab.kernel.invokeFunction('convertToInteractive',\n",
              "                                                    [key], {});\n",
              "        if (!dataTable) return;\n",
              "\n",
              "        const docLinkHtml = 'Like what you see? Visit the ' +\n",
              "          '<a target=\"_blank\" href=https://colab.research.google.com/notebooks/data_table.ipynb>data table notebook</a>'\n",
              "          + ' to learn more about interactive tables.';\n",
              "        element.innerHTML = '';\n",
              "        dataTable['output_type'] = 'display_data';\n",
              "        await google.colab.output.renderOutput(dataTable, element);\n",
              "        const docLink = document.createElement('div');\n",
              "        docLink.innerHTML = docLinkHtml;\n",
              "        element.appendChild(docLink);\n",
              "      }\n",
              "    </script>\n",
              "  </div>\n",
              "\n",
              "\n",
              "<div id=\"df-531ac7e8-20ec-4edf-b4d6-264f4f43a2f4\">\n",
              "  <button class=\"colab-df-quickchart\" onclick=\"quickchart('df-531ac7e8-20ec-4edf-b4d6-264f4f43a2f4')\"\n",
              "            title=\"Suggest charts\"\n",
              "            style=\"display:none;\">\n",
              "\n",
              "<svg xmlns=\"http://www.w3.org/2000/svg\" height=\"24px\"viewBox=\"0 0 24 24\"\n",
              "     width=\"24px\">\n",
              "    <g>\n",
              "        <path d=\"M19 3H5c-1.1 0-2 .9-2 2v14c0 1.1.9 2 2 2h14c1.1 0 2-.9 2-2V5c0-1.1-.9-2-2-2zM9 17H7v-7h2v7zm4 0h-2V7h2v10zm4 0h-2v-4h2v4z\"/>\n",
              "    </g>\n",
              "</svg>\n",
              "  </button>\n",
              "\n",
              "<style>\n",
              "  .colab-df-quickchart {\n",
              "      --bg-color: #E8F0FE;\n",
              "      --fill-color: #1967D2;\n",
              "      --hover-bg-color: #E2EBFA;\n",
              "      --hover-fill-color: #174EA6;\n",
              "      --disabled-fill-color: #AAA;\n",
              "      --disabled-bg-color: #DDD;\n",
              "  }\n",
              "\n",
              "  [theme=dark] .colab-df-quickchart {\n",
              "      --bg-color: #3B4455;\n",
              "      --fill-color: #D2E3FC;\n",
              "      --hover-bg-color: #434B5C;\n",
              "      --hover-fill-color: #FFFFFF;\n",
              "      --disabled-bg-color: #3B4455;\n",
              "      --disabled-fill-color: #666;\n",
              "  }\n",
              "\n",
              "  .colab-df-quickchart {\n",
              "    background-color: var(--bg-color);\n",
              "    border: none;\n",
              "    border-radius: 50%;\n",
              "    cursor: pointer;\n",
              "    display: none;\n",
              "    fill: var(--fill-color);\n",
              "    height: 32px;\n",
              "    padding: 0;\n",
              "    width: 32px;\n",
              "  }\n",
              "\n",
              "  .colab-df-quickchart:hover {\n",
              "    background-color: var(--hover-bg-color);\n",
              "    box-shadow: 0 1px 2px rgba(60, 64, 67, 0.3), 0 1px 3px 1px rgba(60, 64, 67, 0.15);\n",
              "    fill: var(--button-hover-fill-color);\n",
              "  }\n",
              "\n",
              "  .colab-df-quickchart-complete:disabled,\n",
              "  .colab-df-quickchart-complete:disabled:hover {\n",
              "    background-color: var(--disabled-bg-color);\n",
              "    fill: var(--disabled-fill-color);\n",
              "    box-shadow: none;\n",
              "  }\n",
              "\n",
              "  .colab-df-spinner {\n",
              "    border: 2px solid var(--fill-color);\n",
              "    border-color: transparent;\n",
              "    border-bottom-color: var(--fill-color);\n",
              "    animation:\n",
              "      spin 1s steps(1) infinite;\n",
              "  }\n",
              "\n",
              "  @keyframes spin {\n",
              "    0% {\n",
              "      border-color: transparent;\n",
              "      border-bottom-color: var(--fill-color);\n",
              "      border-left-color: var(--fill-color);\n",
              "    }\n",
              "    20% {\n",
              "      border-color: transparent;\n",
              "      border-left-color: var(--fill-color);\n",
              "      border-top-color: var(--fill-color);\n",
              "    }\n",
              "    30% {\n",
              "      border-color: transparent;\n",
              "      border-left-color: var(--fill-color);\n",
              "      border-top-color: var(--fill-color);\n",
              "      border-right-color: var(--fill-color);\n",
              "    }\n",
              "    40% {\n",
              "      border-color: transparent;\n",
              "      border-right-color: var(--fill-color);\n",
              "      border-top-color: var(--fill-color);\n",
              "    }\n",
              "    60% {\n",
              "      border-color: transparent;\n",
              "      border-right-color: var(--fill-color);\n",
              "    }\n",
              "    80% {\n",
              "      border-color: transparent;\n",
              "      border-right-color: var(--fill-color);\n",
              "      border-bottom-color: var(--fill-color);\n",
              "    }\n",
              "    90% {\n",
              "      border-color: transparent;\n",
              "      border-bottom-color: var(--fill-color);\n",
              "    }\n",
              "  }\n",
              "</style>\n",
              "\n",
              "  <script>\n",
              "    async function quickchart(key) {\n",
              "      const quickchartButtonEl =\n",
              "        document.querySelector('#' + key + ' button');\n",
              "      quickchartButtonEl.disabled = true;  // To prevent multiple clicks.\n",
              "      quickchartButtonEl.classList.add('colab-df-spinner');\n",
              "      try {\n",
              "        const charts = await google.colab.kernel.invokeFunction(\n",
              "            'suggestCharts', [key], {});\n",
              "      } catch (error) {\n",
              "        console.error('Error during call to suggestCharts:', error);\n",
              "      }\n",
              "      quickchartButtonEl.classList.remove('colab-df-spinner');\n",
              "      quickchartButtonEl.classList.add('colab-df-quickchart-complete');\n",
              "    }\n",
              "    (() => {\n",
              "      let quickchartButtonEl =\n",
              "        document.querySelector('#df-531ac7e8-20ec-4edf-b4d6-264f4f43a2f4 button');\n",
              "      quickchartButtonEl.style.display =\n",
              "        google.colab.kernel.accessAllowed ? 'block' : 'none';\n",
              "    })();\n",
              "  </script>\n",
              "</div>\n",
              "    </div>\n",
              "  </div>\n"
            ]
          },
          "metadata": {},
          "execution_count": 70
        }
      ]
    },
    {
      "cell_type": "code",
      "source": [
        "def extraer_descuento(lineas):\n",
        "    descuento_gen_matches = re.search(r'Euros conseguidos:\\d{1,2},\\d{1,2}', '\\n'.join(lineas))\n",
        "    descuento_gen = descuento_gen_matches.group() if descuento_gen_matches else None\n",
        "    descuento_cifra_match = re.search(r'\\d{1,2},\\d{1,2}', descuento_gen)\n",
        "    descuento_cifra = descuento_cifra_match.group() if descuento_cifra_match else None\n",
        "\n",
        "    return descuento_cifra\n",
        "\n",
        "extraer_descuento(lineas_ticekt1)"
      ],
      "metadata": {
        "colab": {
          "base_uri": "https://localhost:8080/",
          "height": 35
        },
        "id": "86zofkEFA3ls",
        "outputId": "66f92a59-dca4-4c7a-c2c6-3794bfe266a9"
      },
      "execution_count": 71,
      "outputs": [
        {
          "output_type": "execute_result",
          "data": {
            "text/plain": [
              "'0,03'"
            ],
            "application/vnd.google.colaboratory.intrinsic+json": {
              "type": "string"
            }
          },
          "metadata": {},
          "execution_count": 71
        }
      ]
    },
    {
      "cell_type": "code",
      "source": [
        "# funcion de los descuentos\n",
        "def ejercicio2_descuento(tickets):\n",
        "  pdf_reader = PyPDF2.PdfReader(tickets)\n",
        "  ticket = pdf_reader.pages[0]\n",
        "  texto_ticket = ticket.extract_text()\n",
        "  # texto del ticket por lineas\n",
        "  lineas = np.array(texto_ticket.split('\\n'))\n",
        "\n",
        "  id_ticket_match = re.search(r'\\d*-\\d*-\\d*', '\\n'.join(lineas))\n",
        "  id_ticket = id_ticket_match.group() if id_ticket_match else None\n",
        "\n",
        "  textos_tickets = []\n",
        "  direcciones = []\n",
        "  direccion = lineas[3] if len(lineas) > 3 else None\n",
        "  direcciones.append(direccion)\n",
        "\n",
        "  precio_match = re.search(r'TOTAL.*\\s\\d{1,2},\\d{1,2}', '\\n'.join(lineas))\n",
        "  precio_total = precio_match.group() if precio_match else None\n",
        "  total_match = re.search(r'\\d{1,2},\\d{1,2}', precio_total)\n",
        "  total_pagado = total_match.group() if total_match else None\n",
        "\n",
        "  coincidencia_hora = re.search(r'(\\d{2}:\\d{2}:\\d{2})', '\\n'.join(lineas), flags=re.IGNORECASE)\n",
        "  horas_entrada = coincidencia_hora.groups() if coincidencia_hora else None\n",
        "\n",
        "  descuento_gen_matches = re.search(r'Euros conseguidos:\\d{1,2},\\d{1,2}', '\\n'.join(lineas))\n",
        "  descuento_gen = descuento_gen_matches.group() if descuento_gen_matches else None\n",
        "  descuento_cifra_match = re.search(r'\\d{1,2},\\d{1,2}', descuento_gen)\n",
        "  descuento_cifra = descuento_cifra_match.group() if descuento_cifra_match else None\n",
        "\n",
        "  descuento_ac_matches = re.search(r'Saldo próximo Vale Mensual:\\d{1,2},\\d{1,2}', '\\n'.join(lineas))\n",
        "  descuento_ac = descuento_ac_matches.group() if descuento_ac_matches else None\n",
        "  descuento_acum_match = re.search(r'\\d{1,2},\\d{1,2}', descuento_ac)\n",
        "  descuento_acum = descuento_acum_match.group() if descuento_acum_match else None\n",
        "\n",
        "  df = pd.DataFrame({\n",
        "    'id ticket': id_ticket,\n",
        "    'direccion': direcciones,\n",
        "    'Hora': horas_entrada,\n",
        "    'total precio': total_pagado,\n",
        "    'Descuento Generado': descuento_cifra,\n",
        "    'Descuento Acumulado': descuento_acum\n",
        "  },index=[0])\n",
        "\n",
        "  return df"
      ],
      "metadata": {
        "id": "P7cTy4x9LM7A"
      },
      "execution_count": 72,
      "outputs": []
    },
    {
      "cell_type": "code",
      "source": [
        "ejercicio2_descuento('/content/Ticket-13_11_2023-2.pdf')"
      ],
      "metadata": {
        "colab": {
          "base_uri": "https://localhost:8080/",
          "height": 115
        },
        "id": "Mj15ypoDLM95",
        "outputId": "e8c0b1c9-2d6c-43fe-def6-718994678de7"
      },
      "execution_count": 49,
      "outputs": [
        {
          "output_type": "execute_result",
          "data": {
            "text/plain": [
              "          id ticket                      direccion      Hora total precio  \\\n",
              "0  0195-02-23176767  C/ Muñoz Degraíin, 5, Oviedo   19:57:52         3,39   \n",
              "\n",
              "  Descuento Generado Descuento Acumulado  \n",
              "0               0,03                0,37  "
            ],
            "text/html": [
              "\n",
              "  <div id=\"df-ba832641-f2e4-4f66-b8b8-28af0f928d19\" class=\"colab-df-container\">\n",
              "    <div>\n",
              "<style scoped>\n",
              "    .dataframe tbody tr th:only-of-type {\n",
              "        vertical-align: middle;\n",
              "    }\n",
              "\n",
              "    .dataframe tbody tr th {\n",
              "        vertical-align: top;\n",
              "    }\n",
              "\n",
              "    .dataframe thead th {\n",
              "        text-align: right;\n",
              "    }\n",
              "</style>\n",
              "<table border=\"1\" class=\"dataframe\">\n",
              "  <thead>\n",
              "    <tr style=\"text-align: right;\">\n",
              "      <th></th>\n",
              "      <th>id ticket</th>\n",
              "      <th>direccion</th>\n",
              "      <th>Hora</th>\n",
              "      <th>total precio</th>\n",
              "      <th>Descuento Generado</th>\n",
              "      <th>Descuento Acumulado</th>\n",
              "    </tr>\n",
              "  </thead>\n",
              "  <tbody>\n",
              "    <tr>\n",
              "      <th>0</th>\n",
              "      <td>0195-02-23176767</td>\n",
              "      <td>C/ Muñoz Degraíin, 5, Oviedo</td>\n",
              "      <td>19:57:52</td>\n",
              "      <td>3,39</td>\n",
              "      <td>0,03</td>\n",
              "      <td>0,37</td>\n",
              "    </tr>\n",
              "  </tbody>\n",
              "</table>\n",
              "</div>\n",
              "    <div class=\"colab-df-buttons\">\n",
              "\n",
              "  <div class=\"colab-df-container\">\n",
              "    <button class=\"colab-df-convert\" onclick=\"convertToInteractive('df-ba832641-f2e4-4f66-b8b8-28af0f928d19')\"\n",
              "            title=\"Convert this dataframe to an interactive table.\"\n",
              "            style=\"display:none;\">\n",
              "\n",
              "  <svg xmlns=\"http://www.w3.org/2000/svg\" height=\"24px\" viewBox=\"0 -960 960 960\">\n",
              "    <path d=\"M120-120v-720h720v720H120Zm60-500h600v-160H180v160Zm220 220h160v-160H400v160Zm0 220h160v-160H400v160ZM180-400h160v-160H180v160Zm440 0h160v-160H620v160ZM180-180h160v-160H180v160Zm440 0h160v-160H620v160Z\"/>\n",
              "  </svg>\n",
              "    </button>\n",
              "\n",
              "  <style>\n",
              "    .colab-df-container {\n",
              "      display:flex;\n",
              "      gap: 12px;\n",
              "    }\n",
              "\n",
              "    .colab-df-convert {\n",
              "      background-color: #E8F0FE;\n",
              "      border: none;\n",
              "      border-radius: 50%;\n",
              "      cursor: pointer;\n",
              "      display: none;\n",
              "      fill: #1967D2;\n",
              "      height: 32px;\n",
              "      padding: 0 0 0 0;\n",
              "      width: 32px;\n",
              "    }\n",
              "\n",
              "    .colab-df-convert:hover {\n",
              "      background-color: #E2EBFA;\n",
              "      box-shadow: 0px 1px 2px rgba(60, 64, 67, 0.3), 0px 1px 3px 1px rgba(60, 64, 67, 0.15);\n",
              "      fill: #174EA6;\n",
              "    }\n",
              "\n",
              "    .colab-df-buttons div {\n",
              "      margin-bottom: 4px;\n",
              "    }\n",
              "\n",
              "    [theme=dark] .colab-df-convert {\n",
              "      background-color: #3B4455;\n",
              "      fill: #D2E3FC;\n",
              "    }\n",
              "\n",
              "    [theme=dark] .colab-df-convert:hover {\n",
              "      background-color: #434B5C;\n",
              "      box-shadow: 0px 1px 3px 1px rgba(0, 0, 0, 0.15);\n",
              "      filter: drop-shadow(0px 1px 2px rgba(0, 0, 0, 0.3));\n",
              "      fill: #FFFFFF;\n",
              "    }\n",
              "  </style>\n",
              "\n",
              "    <script>\n",
              "      const buttonEl =\n",
              "        document.querySelector('#df-ba832641-f2e4-4f66-b8b8-28af0f928d19 button.colab-df-convert');\n",
              "      buttonEl.style.display =\n",
              "        google.colab.kernel.accessAllowed ? 'block' : 'none';\n",
              "\n",
              "      async function convertToInteractive(key) {\n",
              "        const element = document.querySelector('#df-ba832641-f2e4-4f66-b8b8-28af0f928d19');\n",
              "        const dataTable =\n",
              "          await google.colab.kernel.invokeFunction('convertToInteractive',\n",
              "                                                    [key], {});\n",
              "        if (!dataTable) return;\n",
              "\n",
              "        const docLinkHtml = 'Like what you see? Visit the ' +\n",
              "          '<a target=\"_blank\" href=https://colab.research.google.com/notebooks/data_table.ipynb>data table notebook</a>'\n",
              "          + ' to learn more about interactive tables.';\n",
              "        element.innerHTML = '';\n",
              "        dataTable['output_type'] = 'display_data';\n",
              "        await google.colab.output.renderOutput(dataTable, element);\n",
              "        const docLink = document.createElement('div');\n",
              "        docLink.innerHTML = docLinkHtml;\n",
              "        element.appendChild(docLink);\n",
              "      }\n",
              "    </script>\n",
              "  </div>\n",
              "\n",
              "    </div>\n",
              "  </div>\n"
            ]
          },
          "metadata": {},
          "execution_count": 49
        }
      ]
    },
    {
      "cell_type": "markdown",
      "source": [
        "## Función final\n",
        "Finalmente, ponemos todas las partes anteriores en una misma funcion que nos devuelva directamente los csv que nos pide el enunciado."
      ],
      "metadata": {
        "id": "VZrUyllAksnw"
      }
    },
    {
      "cell_type": "code",
      "source": [
        "def ejercicio2_final(tickets):\n",
        "  pdf_reader = PyPDF2.PdfReader(tickets)\n",
        "  ticket = pdf_reader.pages[0]\n",
        "  texto_ticket = ticket.extract_text()\n",
        "  lineas = np.array(texto_ticket.split('\\n'))\n",
        "\n",
        "  id_ticket_match = re.search(r'\\d*-\\d*-\\d*', '\\n'.join(lineas))\n",
        "  id_ticket = id_ticket_match.group() if id_ticket_match else None\n",
        "\n",
        "  productos = []\n",
        "  for linea in lineas:\n",
        "        producto_match = re.search(r'[A-ZÑñÁÉÍÓÚáéíóú][A-ZÑñÁÉÍÓÚáéíóú/0-9\\s]+((\\d{1,2},\\d{1,2}\\s*){1,2})', linea, flags=re.IGNORECASE)\n",
        "        if producto_match:\n",
        "            productos.append(producto_match.group())\n",
        "\n",
        "  nombres = []\n",
        "  for linea in productos:\n",
        "    nombres_matches = re.search(r'[A-ZÑñÁÉÍÓÚáéíóú/0-9\\s]+[A-ZÑñÁÉÍÓÚáéíóú]+\\s', linea, flags=re.IGNORECASE)\n",
        "    nombres.append(nombres_matches.group().strip() if nombres_matches else None)\n",
        "\n",
        "  precios = []\n",
        "  for linea in productos:\n",
        "    precio_matches = re.search(r'(\\d{1,2},\\d{1,2})', linea)\n",
        "    precios.append(precio_matches.group(1) if precio_matches else None)\n",
        "\n",
        "  textos_tickets = []\n",
        "  direcciones = []\n",
        "  direccion = lineas[3] if len(lineas) > 3 else None\n",
        "  direcciones.append(direccion)\n",
        "\n",
        "  precio_match = re.search(r'TOTAL.*\\s\\d{1,2},\\d{1,2}', '\\n'.join(lineas))\n",
        "  precio_total = precio_match.group() if precio_match else None\n",
        "  total_match = re.search(r'\\d{1,2},\\d{1,2}', precio_total)\n",
        "  total_pagado = total_match.group() if total_match else None\n",
        "\n",
        "  coincidencia_hora = re.search(r'(\\d{2}:\\d{2}:\\d{2})', '\\n'.join(lineas), flags=re.IGNORECASE)\n",
        "  horas_entrada = coincidencia_hora.groups() if coincidencia_hora else None\n",
        "\n",
        "  descuento_gen_matches = re.search(r'Euros conseguidos:\\d{1,2},\\d{1,2}', '\\n'.join(lineas))\n",
        "  descuento_gen = descuento_gen_matches.group() if descuento_gen_matches else None\n",
        "  descuento_cifra_match = re.search(r'\\d{1,2},\\d{1,2}', descuento_gen)\n",
        "  descuento_cifra = descuento_cifra_match.group() if descuento_cifra_match else None\n",
        "\n",
        "  descuento_ac_matches = re.search(r'Saldo próximo Vale Mensual:\\d{1,2},\\d{1,2}', '\\n'.join(lineas))\n",
        "  descuento_ac = descuento_ac_matches.group() if descuento_ac_matches else None\n",
        "  descuento_acum_match = re.search(r'\\d{1,2},\\d{1,2}', descuento_ac)\n",
        "  descuento_acum = descuento_acum_match.group() if descuento_acum_match else None\n",
        "\n",
        "  df1 = pd.DataFrame({\n",
        "    'id ticket': id_ticket,\n",
        "    'direccion': direcciones,\n",
        "    'Hora': horas_entrada,\n",
        "    'total precio': total_pagado,\n",
        "    'Descuento Generado': descuento_cifra,\n",
        "    'Descuento Acumulado': descuento_acum\n",
        "  },index=[0])\n",
        "\n",
        "  df2 = pd.DataFrame({\n",
        "    'id ticket': id_ticket,\n",
        "    'producto': nombres,\n",
        "    'precio_individual': precios\n",
        "  })\n",
        "  df2 = df2.dropna()\n",
        "  df2 = df2.loc[df2['producto'] != 'TOTAL']\n",
        "  df2 = df2.loc[df2['producto'] != 'TARJETA']\n",
        "\n",
        "  df1_csv = df1.to_csv('df1_csv', index= False)\n",
        "  df2_csv = df2.to_csv('df2_csv', index= False)\n",
        "\n",
        "\n",
        "  return df1_csv, df2_csv"
      ],
      "metadata": {
        "id": "uCEXcKxJLNAh"
      },
      "execution_count": 108,
      "outputs": []
    },
    {
      "cell_type": "code",
      "source": [
        "ejercicio2_final('/content/Ticket-13_11_2023-2.pdf')"
      ],
      "metadata": {
        "colab": {
          "base_uri": "https://localhost:8080/"
        },
        "id": "G_QVT_h1ITZ8",
        "outputId": "17b20ac8-f616-40ed-8690-798e8bf4a616"
      },
      "execution_count": 98,
      "outputs": [
        {
          "output_type": "execute_result",
          "data": {
            "text/plain": [
              "(          id ticket                      direccion      Hora total precio  \\\n",
              " 0  0195-02-23176767  C/ Muñoz Degraíin, 5, Oviedo   19:57:52         3,39   \n",
              " \n",
              "   Descuento Generado Descuento Acumulado  \n",
              " 0               0,03                0,37  ,\n",
              "           id ticket             producto precio_individual\n",
              " 0  0195-02-23176767  ENSALADA RUCULA IFA              0,72\n",
              " 1  0195-02-23176767               BAKERY              2,67)"
            ]
          },
          "metadata": {},
          "execution_count": 98
        }
      ]
    },
    {
      "cell_type": "code",
      "source": [
        "ejercicio2_final('/content/Ticket-23_11_2023-2.pdf')"
      ],
      "metadata": {
        "colab": {
          "base_uri": "https://localhost:8080/"
        },
        "id": "AniszasJK2w2",
        "outputId": "b7358c4b-0329-4f8b-d0da-5b2810ddcc9a"
      },
      "execution_count": 99,
      "outputs": [
        {
          "output_type": "execute_result",
          "data": {
            "text/plain": [
              "(          id ticket                      direccion      Hora total precio  \\\n",
              " 0  0195-02-23182951  C/ Muñoz Degraíin, 5, Oviedo   14:12:57         5,35   \n",
              " \n",
              "   Descuento Generado Descuento Acumulado  \n",
              " 0               0,05                0,62  ,\n",
              "           id ticket              producto precio_individual\n",
              " 0  0195-02-23182951  SOLOMILLO POLLO POZO              5,35)"
            ]
          },
          "metadata": {},
          "execution_count": 99
        }
      ]
    },
    {
      "cell_type": "code",
      "source": [
        "ejercicio2_final('/content/Ticket-3_11_2023-2.pdf')"
      ],
      "metadata": {
        "colab": {
          "base_uri": "https://localhost:8080/"
        },
        "id": "c7RnkJ53K20P",
        "outputId": "047b8b78-06d1-423e-c6f2-1118692c9a16"
      },
      "execution_count": 107,
      "outputs": [
        {
          "output_type": "execute_result",
          "data": {
            "text/plain": [
              "(          id ticket                      direccion      Hora total precio  \\\n",
              " 0  0195-02-23171045  C/ Muñoz Degraíin, 5, Oviedo   20:57:12         1,95   \n",
              " \n",
              "   Descuento Generado Descuento Acumulado  \n",
              " 0               0,01                0,04  ,\n",
              "           id ticket            producto precio_individual\n",
              " 0  0195-02-23171045  EUMMUS ENS2ALANDIA              1,25\n",
              " 1  0195-02-23171045    PICOS IFA CAMPER              0,70)"
            ]
          },
          "metadata": {},
          "execution_count": 107
        }
      ]
    }
  ]
}