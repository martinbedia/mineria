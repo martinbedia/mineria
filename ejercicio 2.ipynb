{
  "nbformat": 4,
  "nbformat_minor": 0,
  "metadata": {
    "colab": {
      "provenance": [],
      "include_colab_link": true
    },
    "kernelspec": {
      "name": "python3",
      "display_name": "Python 3"
    },
    "language_info": {
      "name": "python"
    }
  },
  "cells": [
    {
      "cell_type": "markdown",
      "metadata": {
        "id": "view-in-github",
        "colab_type": "text"
      },
      "source": [
        "<a href=\"https://colab.research.google.com/github/martinbedia/mineria/blob/main/ejercicio%202.ipynb\" target=\"_parent\"><img src=\"https://colab.research.google.com/assets/colab-badge.svg\" alt=\"Open In Colab\"/></a>"
      ]
    },
    {
      "cell_type": "markdown",
      "source": [
        "# Ejercicio 2\n",
        "Crea un nuevo programa para procesar el nuevo formato de ticket para obtener un archivo csv en el que se muestre el ID del ticket, producto y precio. Genera también un segundo csv donde para cada ticket se muestre la dirección del establecimiento, la hora de compra, el total del ticket, el descuento generado y el acumulado."
      ],
      "metadata": {
        "id": "IYFtvM_17aZc"
      }
    },
    {
      "cell_type": "code",
      "source": [
        "!pip install PyPDF2"
      ],
      "metadata": {
        "id": "M84YIg9J9UzR",
        "outputId": "2b417aa5-7370-4698-c8cc-defd5bfab4be",
        "colab": {
          "base_uri": "https://localhost:8080/"
        }
      },
      "execution_count": 2,
      "outputs": [
        {
          "output_type": "stream",
          "name": "stdout",
          "text": [
            "Collecting PyPDF2\n",
            "  Downloading pypdf2-3.0.1-py3-none-any.whl (232 kB)\n",
            "\u001b[2K     \u001b[90m━━━━━━━━━━━━━━━━━━━━━━━━━━━━━━━━━━━━━━━━\u001b[0m \u001b[32m232.6/232.6 kB\u001b[0m \u001b[31m1.9 MB/s\u001b[0m eta \u001b[36m0:00:00\u001b[0m\n",
            "\u001b[?25hInstalling collected packages: PyPDF2\n",
            "Successfully installed PyPDF2-3.0.1\n"
          ]
        }
      ]
    },
    {
      "cell_type": "code",
      "source": [
        "import sklearn\n",
        "import pandas as pd\n",
        "import numpy as np\n",
        "from sklearn.model_selection import train_test_split\n",
        "from sklearn.preprocessing import StandardScaler\n",
        "from sklearn.metrics import accuracy_score, classification_report\n",
        "from sklearn.cluster import KMeans, AgglomerativeClustering\n",
        "import matplotlib.pyplot as plt\n",
        "import seaborn as sns\n",
        "import glob, os\n",
        "import PyPDF2\n",
        "import re\n",
        "import csv\n",
        "from datetime import datetime"
      ],
      "metadata": {
        "id": "UX9Z5Wwr9qV4"
      },
      "execution_count": 3,
      "outputs": []
    },
    {
      "cell_type": "code",
      "source": [
        "# leer archivos de un tipo concreto de una carpeta y sus subcarpetas\n",
        "# recursive para que busque en las subcarpetas\n",
        "ruta_carpeta_raiz = '.'\n",
        "tickets = glob.glob(os.path.join(ruta_carpeta_raiz, '**/*.pdf'),recursive=True)\n",
        "tickets"
      ],
      "metadata": {
        "colab": {
          "base_uri": "https://localhost:8080/"
        },
        "id": "uhuCT1mTqdBn",
        "outputId": "b8c92fc4-50fb-45bb-a5d2-f481633adce7"
      },
      "execution_count": 9,
      "outputs": [
        {
          "output_type": "execute_result",
          "data": {
            "text/plain": [
              "['./Ticket-13_11_2023.pdf',\n",
              " './20230921 Mercadona 9,70 €.pdf',\n",
              " './20230909 Mercadona 21,23 €.pdf']"
            ]
          },
          "metadata": {},
          "execution_count": 9
        }
      ]
    },
    {
      "cell_type": "code",
      "source": [
        "# leer el ticket\n",
        "pdf_reader = PyPDF2.PdfReader(tickets[1])    # conectar el archivo pdf con el codigo en python\n",
        "ticket = pdf_reader.pages[0]   # acceder a la primera pagina\n",
        "texto_ticket = ticket.extract_text()\n",
        "texto_ticket"
      ],
      "metadata": {
        "colab": {
          "base_uri": "https://localhost:8080/",
          "height": 122
        },
        "id": "Mp6R9_Stqi6t",
        "outputId": "b9b66c88-826b-4a9c-b38d-8735feb04b50"
      },
      "execution_count": 12,
      "outputs": [
        {
          "output_type": "execute_result",
          "data": {
            "text/plain": [
              "'MERCADONA, S.A.   A-46103834\\nC/ ALFONSO ARGUELLES 2\\n33900 LANGREO\\nTELÉFONO: 985698053\\n21/09/2023 17:12  OP: 371122\\nFACTURA SIMPLIFICADA: 2363-011-208468\\nDescripción P. Unit Importe\\n1MÁSCARA DE CEJAS 4,00\\n1PICATOSTE AJO 0,85\\n1TAQUITOS SALMÓN 3,80\\n1DUO CANONIGOS RUCULA 1,05\\nTOTAL (€) 9,70\\nTARJETA BANCARIA 9,70\\nIVA BASE IMPONIBLE (€) CUOTA (€)\\n10% 4,23 0,42\\n21% 3,31 0,69\\n0% 1,05 0,00\\nTOTAL 8,59 1,11\\nTARJ. BANCARIA:  **** **** **** 4016\\nN.C: 003765716  AUT: 766364\\nAID: A0000000041010   ARC: 3030\\nMASTERCARD\\nImporte: 9,70 €  MASTERCARD\\nSE ADMITEN DEVOLUCIONES CON TICKET'"
            ],
            "application/vnd.google.colaboratory.intrinsic+json": {
              "type": "string"
            }
          },
          "metadata": {},
          "execution_count": 12
        }
      ]
    },
    {
      "cell_type": "code",
      "source": [
        "# texto del ticket por lineas\n",
        "lineas = np.array(texto_ticket.split('\\n'))\n",
        "lineas"
      ],
      "metadata": {
        "colab": {
          "base_uri": "https://localhost:8080/"
        },
        "id": "6Mzm752cqi9N",
        "outputId": "0286c127-bc41-404d-ea65-082bbdd72ef6"
      },
      "execution_count": 13,
      "outputs": [
        {
          "output_type": "execute_result",
          "data": {
            "text/plain": [
              "array(['MERCADONA, S.A.   A-46103834', 'C/ ALFONSO ARGUELLES 2',\n",
              "       '33900 LANGREO', 'TELÉFONO: 985698053',\n",
              "       '21/09/2023 17:12  OP: 371122',\n",
              "       'FACTURA SIMPLIFICADA: 2363-011-208468',\n",
              "       'Descripción P. Unit Importe', '1MÁSCARA DE CEJAS 4,00',\n",
              "       '1PICATOSTE AJO 0,85', '1TAQUITOS SALMÓN 3,80',\n",
              "       '1DUO CANONIGOS RUCULA 1,05', 'TOTAL (€) 9,70',\n",
              "       'TARJETA BANCARIA 9,70', 'IVA BASE IMPONIBLE (€) CUOTA (€)',\n",
              "       '10% 4,23 0,42', '21% 3,31 0,69', '0% 1,05 0,00',\n",
              "       'TOTAL 8,59 1,11', 'TARJ. BANCARIA:  **** **** **** 4016',\n",
              "       'N.C: 003765716  AUT: 766364', 'AID: A0000000041010   ARC: 3030',\n",
              "       'MASTERCARD', 'Importe: 9,70 €  MASTERCARD',\n",
              "       'SE ADMITEN DEVOLUCIONES CON TICKET'], dtype='<U37')"
            ]
          },
          "metadata": {},
          "execution_count": 13
        }
      ]
    },
    {
      "cell_type": "code",
      "source": [
        "def leer_lineas_de_pdf (nombre_del_pdf):\n",
        "  pdf_reader = PyPDF2.PdfReader(nombre_del_pdf)\n",
        "  ticket = pdf_reader.pages[0]\n",
        "  texto_ticket = ticket.extract_text()\n",
        "  lineas = np.array(texto_ticket.split('\\n'))\n",
        "  return lineas"
      ],
      "metadata": {
        "id": "k9T1Gviiqi_4"
      },
      "execution_count": 8,
      "outputs": []
    },
    {
      "cell_type": "code",
      "source": [
        "lineas_ticekt1 = leer_lineas_de_pdf('/content/20230909 Mercadona 21,23 €.pdf')\n",
        "lineas_ticekt1"
      ],
      "metadata": {
        "id": "1uq3lrRa_tlJ",
        "outputId": "f1a0d427-139e-41f4-86d6-0fc1f8a8f15b",
        "colab": {
          "base_uri": "https://localhost:8080/"
        }
      },
      "execution_count": 15,
      "outputs": [
        {
          "output_type": "execute_result",
          "data": {
            "text/plain": [
              "array(['MERCADONA, S.A.   A-46103834', 'PLAZA DAOIZ Y VELARDE 5',\n",
              "       '33009 OVIEDO', 'TELÉFONO: 985216153',\n",
              "       '09/09/2023 20:35  OP: 191484',\n",
              "       'FACTURA SIMPLIFICADA: 3433-011-051093',\n",
              "       'Descripción P. Unit Importe', '2TAQUITOS SALMÓN 3,80 7,60',\n",
              "       '1TROTTOLE TRICOLORE 0,95', '1QUESO RALLADO GOUDA 1,44',\n",
              "       '1ÑOQUIS DE PATATA 1,12', '2LECHE SEMI S/LACT 1,46 2,92',\n",
              "       '1QUESO FETA 2,35', '1PICATOSTE AJO 0,85',\n",
              "       '2NEGRA RODAJAS P3 2,00 4,00', '1PARKING 0,00',\n",
              "       'ENTRADA  20:22       SALIDA  20:35', 'TOTAL (€) 21,23',\n",
              "       'TARJETA BANCARIA 21,23', 'IVA BASE IMPONIBLE (€) CUOTA (€)',\n",
              "       '10% 11,32 1,13', '5% 1,97 0,10', '0% 6,71 0,00',\n",
              "       'TOTAL 20,00 1,23', 'TARJ. BANCARIA:  **** **** **** 4016',\n",
              "       'N.C: 003943818  AUT: 729144', 'AID: A0000000041010   ARC: 3030',\n",
              "       'MASTERCARD', 'Importe: 21,23 € MASTERCARD',\n",
              "       'SE ADMITEN DEVOLUCIONES CON TICKET', 'DISPONE DE 20 MINUTOS',\n",
              "       'PARA RETIRAR SU VEHÍCULO'], dtype='<U37')"
            ]
          },
          "metadata": {},
          "execution_count": 15
        }
      ]
    },
    {
      "cell_type": "code",
      "source": [
        "def extraer_id_ticket(lineas):\n",
        "    id_ticket_match = re.search(r'\\d*-\\d*-\\d*', '\\n'.join(lineas))\n",
        "    id_ticket = id_ticket_match.group() if id_ticket_match else None\n",
        "\n",
        "    return id_ticket\n",
        "\n",
        "extraer_id_ticket(lineas_ticekt1)"
      ],
      "metadata": {
        "colab": {
          "base_uri": "https://localhost:8080/",
          "height": 35
        },
        "id": "Q6Yctx8rqjCp",
        "outputId": "cf62b76e-316d-401c-e5a6-13a143e814e8"
      },
      "execution_count": 16,
      "outputs": [
        {
          "output_type": "execute_result",
          "data": {
            "text/plain": [
              "'3433-011-051093'"
            ],
            "application/vnd.google.colaboratory.intrinsic+json": {
              "type": "string"
            }
          },
          "metadata": {},
          "execution_count": 16
        }
      ]
    },
    {
      "cell_type": "code",
      "source": [
        "def extraer_productos(lineas):\n",
        "  productos = []\n",
        "  for linea in lineas:\n",
        "        producto_match = re.search(r'\\d[A-ZÑñÁÉÍÓÚáéíóú][[A-ZÑñÁÉÍÓÚáéíóú/0-9\\s]*((\\d{1,2},\\d{1,2}\\s*){1,2})', linea, flags=re.IGNORECASE)\n",
        "        if producto_match:\n",
        "            productos.append(producto_match.group())\n",
        "  return productos\n",
        "\n",
        "productos_ticket = extraer_productos(lineas_ticekt1)\n",
        "productos_ticket\n",
        ""
      ],
      "metadata": {
        "colab": {
          "base_uri": "https://localhost:8080/"
        },
        "id": "aZ-DJcThqjFQ",
        "outputId": "36d299fb-2ea3-433e-b73c-d26ae01dacb1"
      },
      "execution_count": 25,
      "outputs": [
        {
          "output_type": "execute_result",
          "data": {
            "text/plain": [
              "['2TAQUITOS SALMÓN 3,80 7,60',\n",
              " '1TROTTOLE TRICOLORE 0,95',\n",
              " '1QUESO RALLADO GOUDA 1,44',\n",
              " '1ÑOQUIS DE PATATA 1,12',\n",
              " '2LECHE SEMI S/LACT 1,46 2,92',\n",
              " '1QUESO FETA 2,35',\n",
              " '1PICATOSTE AJO 0,85',\n",
              " '2NEGRA RODAJAS P3 2,00 4,00',\n",
              " '1PARKING 0,00']"
            ]
          },
          "metadata": {},
          "execution_count": 25
        }
      ]
    },
    {
      "cell_type": "code",
      "source": [
        "def obtener_nombre_producto(linea):\n",
        "    # Buscar coincidencias en la línea\n",
        "    coincidencia = re.search(r'^\\d{1,}([A-ZÑñÁÉÍÓÚáéíóú/0-9\\s]*\\s)', linea, flags=re.IGNORECASE)\n",
        "\n",
        "    if coincidencia:\n",
        "        return coincidencia.group(1).strip()\n",
        "    else:\n",
        "        return None\n",
        "\n",
        "# Obtener los nombres de los productos\n",
        "nombres_productos = [obtener_nombre_producto(linea) for linea in productos_ticket]\n",
        "\n",
        "print(nombres_productos)"
      ],
      "metadata": {
        "colab": {
          "base_uri": "https://localhost:8080/"
        },
        "id": "9o7EiCbQqjHi",
        "outputId": "3cdfe8ad-3708-47f4-db28-a44089c8632f"
      },
      "execution_count": 24,
      "outputs": [
        {
          "output_type": "stream",
          "name": "stdout",
          "text": [
            "['TAQUITOS SALMÓN', 'TROTTOLE TRICOLORE', 'QUESO RALLADO GOUDA', 'ÑOQUIS DE PATATA', 'LECHE SEMI S/LACT', 'QUESO FETA', 'PICATOSTE AJO', 'NEGRA RODAJAS P3', 'PARKING']\n"
          ]
        }
      ]
    },
    {
      "cell_type": "code",
      "source": [
        "def obtener_precio_producto(linea):\n",
        "    # Buscar coincidencias en la línea\n",
        "    coincidencia = re.search(r'(\\d{1,2},\\d{1,2})', linea)\n",
        "\n",
        "    if coincidencia:\n",
        "        return coincidencia.group(1)\n",
        "    else:\n",
        "        return None\n",
        "\n",
        "# Obtener los precios de los productos\n",
        "precios_productos = [obtener_precio_producto(linea) for linea in productos_ticket]\n",
        "\n",
        "print(precios_productos)"
      ],
      "metadata": {
        "colab": {
          "base_uri": "https://localhost:8080/"
        },
        "id": "ukXjTLjZqjKW",
        "outputId": "6e567f65-976e-413c-909a-55fd469fc81d"
      },
      "execution_count": 26,
      "outputs": [
        {
          "output_type": "stream",
          "name": "stdout",
          "text": [
            "['3,80', '0,95', '1,44', '1,12', '1,46', '2,35', '0,85', '2,00', '0,00']\n"
          ]
        }
      ]
    },
    {
      "cell_type": "code",
      "source": [
        "# todo en la misma funcion\n",
        "ruta_carpeta_raiz = '.'\n",
        "tickets = glob.glob(os.path.join(ruta_carpeta_raiz, '**/*.pdf'),recursive=True)\n",
        "tickets\n",
        "\n",
        "def ejercicio2(tickets):\n",
        "  # leer el ticket\n",
        "  pdf_reader = PyPDF2.PdfReader(tickets)    # conectar el archivo pdf con el codigo en python\n",
        "  ticket = pdf_reader.pages[0]   # acceder a la primera pagina\n",
        "  texto_ticket = ticket.extract_text()\n",
        "  # texto del ticket por lineas\n",
        "  lineas = np.array(texto_ticket.split('\\n'))\n",
        "\n",
        "  id_ticket_match = re.search(r'\\d*-\\d*-\\d*', '\\n'.join(lineas))\n",
        "  id_ticket = id_ticket_match.group() if id_ticket_match else None\n",
        "\n",
        "  productos = []\n",
        "  for linea in lineas:\n",
        "        producto_match = re.search(r'\\d[A-ZÑñÁÉÍÓÚáéíóú][[A-ZÑñÁÉÍÓÚáéíóú/0-9\\s]*((\\d{1,2},\\d{1,2}\\s*){1,2})', linea, flags=re.IGNORECASE)\n",
        "        if producto_match:\n",
        "            productos.append(producto_match.group())\n",
        "\n",
        "\n",
        "  # Buscar coincidencias en el nombre\n",
        "  nombres = []\n",
        "  for linea in productos:\n",
        "    nombres_matches = re.search(r'^\\d{1,}([A-ZÑñÁÉÍÓÚáéíóú/0-9\\s]*\\s)', linea, flags=re.IGNORECASE)\n",
        "    nombres.append(nombres_matches.group(1).strip() if nombres_matches else None)\n",
        "\n",
        "  # Buscar coincidencias en el precio\n",
        "  precios = []\n",
        "  for linea in productos:\n",
        "    precio_matches = re.search(r'(\\d{1,2},\\d{1,2})', linea)\n",
        "    precios.append(precio_matches.group(1) if precio_matches else None)\n",
        "\n",
        "  df = pd.DataFrame({\n",
        "    'id ticket': id_ticket,\n",
        "    'producto': nombres,\n",
        "    'precio_individual': precios\n",
        "  })\n",
        "\n",
        "\n",
        "  return df"
      ],
      "metadata": {
        "id": "vXb4deeMLM00"
      },
      "execution_count": 28,
      "outputs": []
    },
    {
      "cell_type": "code",
      "source": [
        "ejercicio2('/content/20230909 Mercadona 21,23 €.pdf')"
      ],
      "metadata": {
        "id": "3l3nOaYtLM3m",
        "outputId": "8650bbb1-8ee1-4874-d5de-358016cb6b2e",
        "colab": {
          "base_uri": "https://localhost:8080/",
          "height": 332
        }
      },
      "execution_count": 29,
      "outputs": [
        {
          "output_type": "execute_result",
          "data": {
            "text/plain": [
              "         id ticket             producto precio_individual\n",
              "0  3433-011-051093      TAQUITOS SALMÓN              3,80\n",
              "1  3433-011-051093   TROTTOLE TRICOLORE              0,95\n",
              "2  3433-011-051093  QUESO RALLADO GOUDA              1,44\n",
              "3  3433-011-051093     ÑOQUIS DE PATATA              1,12\n",
              "4  3433-011-051093    LECHE SEMI S/LACT              1,46\n",
              "5  3433-011-051093           QUESO FETA              2,35\n",
              "6  3433-011-051093        PICATOSTE AJO              0,85\n",
              "7  3433-011-051093     NEGRA RODAJAS P3              2,00\n",
              "8  3433-011-051093              PARKING              0,00"
            ],
            "text/html": [
              "\n",
              "  <div id=\"df-3573cd3d-d088-4500-809b-af6cc44beaff\" class=\"colab-df-container\">\n",
              "    <div>\n",
              "<style scoped>\n",
              "    .dataframe tbody tr th:only-of-type {\n",
              "        vertical-align: middle;\n",
              "    }\n",
              "\n",
              "    .dataframe tbody tr th {\n",
              "        vertical-align: top;\n",
              "    }\n",
              "\n",
              "    .dataframe thead th {\n",
              "        text-align: right;\n",
              "    }\n",
              "</style>\n",
              "<table border=\"1\" class=\"dataframe\">\n",
              "  <thead>\n",
              "    <tr style=\"text-align: right;\">\n",
              "      <th></th>\n",
              "      <th>id ticket</th>\n",
              "      <th>producto</th>\n",
              "      <th>precio_individual</th>\n",
              "    </tr>\n",
              "  </thead>\n",
              "  <tbody>\n",
              "    <tr>\n",
              "      <th>0</th>\n",
              "      <td>3433-011-051093</td>\n",
              "      <td>TAQUITOS SALMÓN</td>\n",
              "      <td>3,80</td>\n",
              "    </tr>\n",
              "    <tr>\n",
              "      <th>1</th>\n",
              "      <td>3433-011-051093</td>\n",
              "      <td>TROTTOLE TRICOLORE</td>\n",
              "      <td>0,95</td>\n",
              "    </tr>\n",
              "    <tr>\n",
              "      <th>2</th>\n",
              "      <td>3433-011-051093</td>\n",
              "      <td>QUESO RALLADO GOUDA</td>\n",
              "      <td>1,44</td>\n",
              "    </tr>\n",
              "    <tr>\n",
              "      <th>3</th>\n",
              "      <td>3433-011-051093</td>\n",
              "      <td>ÑOQUIS DE PATATA</td>\n",
              "      <td>1,12</td>\n",
              "    </tr>\n",
              "    <tr>\n",
              "      <th>4</th>\n",
              "      <td>3433-011-051093</td>\n",
              "      <td>LECHE SEMI S/LACT</td>\n",
              "      <td>1,46</td>\n",
              "    </tr>\n",
              "    <tr>\n",
              "      <th>5</th>\n",
              "      <td>3433-011-051093</td>\n",
              "      <td>QUESO FETA</td>\n",
              "      <td>2,35</td>\n",
              "    </tr>\n",
              "    <tr>\n",
              "      <th>6</th>\n",
              "      <td>3433-011-051093</td>\n",
              "      <td>PICATOSTE AJO</td>\n",
              "      <td>0,85</td>\n",
              "    </tr>\n",
              "    <tr>\n",
              "      <th>7</th>\n",
              "      <td>3433-011-051093</td>\n",
              "      <td>NEGRA RODAJAS P3</td>\n",
              "      <td>2,00</td>\n",
              "    </tr>\n",
              "    <tr>\n",
              "      <th>8</th>\n",
              "      <td>3433-011-051093</td>\n",
              "      <td>PARKING</td>\n",
              "      <td>0,00</td>\n",
              "    </tr>\n",
              "  </tbody>\n",
              "</table>\n",
              "</div>\n",
              "    <div class=\"colab-df-buttons\">\n",
              "\n",
              "  <div class=\"colab-df-container\">\n",
              "    <button class=\"colab-df-convert\" onclick=\"convertToInteractive('df-3573cd3d-d088-4500-809b-af6cc44beaff')\"\n",
              "            title=\"Convert this dataframe to an interactive table.\"\n",
              "            style=\"display:none;\">\n",
              "\n",
              "  <svg xmlns=\"http://www.w3.org/2000/svg\" height=\"24px\" viewBox=\"0 -960 960 960\">\n",
              "    <path d=\"M120-120v-720h720v720H120Zm60-500h600v-160H180v160Zm220 220h160v-160H400v160Zm0 220h160v-160H400v160ZM180-400h160v-160H180v160Zm440 0h160v-160H620v160ZM180-180h160v-160H180v160Zm440 0h160v-160H620v160Z\"/>\n",
              "  </svg>\n",
              "    </button>\n",
              "\n",
              "  <style>\n",
              "    .colab-df-container {\n",
              "      display:flex;\n",
              "      gap: 12px;\n",
              "    }\n",
              "\n",
              "    .colab-df-convert {\n",
              "      background-color: #E8F0FE;\n",
              "      border: none;\n",
              "      border-radius: 50%;\n",
              "      cursor: pointer;\n",
              "      display: none;\n",
              "      fill: #1967D2;\n",
              "      height: 32px;\n",
              "      padding: 0 0 0 0;\n",
              "      width: 32px;\n",
              "    }\n",
              "\n",
              "    .colab-df-convert:hover {\n",
              "      background-color: #E2EBFA;\n",
              "      box-shadow: 0px 1px 2px rgba(60, 64, 67, 0.3), 0px 1px 3px 1px rgba(60, 64, 67, 0.15);\n",
              "      fill: #174EA6;\n",
              "    }\n",
              "\n",
              "    .colab-df-buttons div {\n",
              "      margin-bottom: 4px;\n",
              "    }\n",
              "\n",
              "    [theme=dark] .colab-df-convert {\n",
              "      background-color: #3B4455;\n",
              "      fill: #D2E3FC;\n",
              "    }\n",
              "\n",
              "    [theme=dark] .colab-df-convert:hover {\n",
              "      background-color: #434B5C;\n",
              "      box-shadow: 0px 1px 3px 1px rgba(0, 0, 0, 0.15);\n",
              "      filter: drop-shadow(0px 1px 2px rgba(0, 0, 0, 0.3));\n",
              "      fill: #FFFFFF;\n",
              "    }\n",
              "  </style>\n",
              "\n",
              "    <script>\n",
              "      const buttonEl =\n",
              "        document.querySelector('#df-3573cd3d-d088-4500-809b-af6cc44beaff button.colab-df-convert');\n",
              "      buttonEl.style.display =\n",
              "        google.colab.kernel.accessAllowed ? 'block' : 'none';\n",
              "\n",
              "      async function convertToInteractive(key) {\n",
              "        const element = document.querySelector('#df-3573cd3d-d088-4500-809b-af6cc44beaff');\n",
              "        const dataTable =\n",
              "          await google.colab.kernel.invokeFunction('convertToInteractive',\n",
              "                                                    [key], {});\n",
              "        if (!dataTable) return;\n",
              "\n",
              "        const docLinkHtml = 'Like what you see? Visit the ' +\n",
              "          '<a target=\"_blank\" href=https://colab.research.google.com/notebooks/data_table.ipynb>data table notebook</a>'\n",
              "          + ' to learn more about interactive tables.';\n",
              "        element.innerHTML = '';\n",
              "        dataTable['output_type'] = 'display_data';\n",
              "        await google.colab.output.renderOutput(dataTable, element);\n",
              "        const docLink = document.createElement('div');\n",
              "        docLink.innerHTML = docLinkHtml;\n",
              "        element.appendChild(docLink);\n",
              "      }\n",
              "    </script>\n",
              "  </div>\n",
              "\n",
              "\n",
              "<div id=\"df-6f1ccd33-3f88-42db-bb53-f5a47ba1e056\">\n",
              "  <button class=\"colab-df-quickchart\" onclick=\"quickchart('df-6f1ccd33-3f88-42db-bb53-f5a47ba1e056')\"\n",
              "            title=\"Suggest charts\"\n",
              "            style=\"display:none;\">\n",
              "\n",
              "<svg xmlns=\"http://www.w3.org/2000/svg\" height=\"24px\"viewBox=\"0 0 24 24\"\n",
              "     width=\"24px\">\n",
              "    <g>\n",
              "        <path d=\"M19 3H5c-1.1 0-2 .9-2 2v14c0 1.1.9 2 2 2h14c1.1 0 2-.9 2-2V5c0-1.1-.9-2-2-2zM9 17H7v-7h2v7zm4 0h-2V7h2v10zm4 0h-2v-4h2v4z\"/>\n",
              "    </g>\n",
              "</svg>\n",
              "  </button>\n",
              "\n",
              "<style>\n",
              "  .colab-df-quickchart {\n",
              "      --bg-color: #E8F0FE;\n",
              "      --fill-color: #1967D2;\n",
              "      --hover-bg-color: #E2EBFA;\n",
              "      --hover-fill-color: #174EA6;\n",
              "      --disabled-fill-color: #AAA;\n",
              "      --disabled-bg-color: #DDD;\n",
              "  }\n",
              "\n",
              "  [theme=dark] .colab-df-quickchart {\n",
              "      --bg-color: #3B4455;\n",
              "      --fill-color: #D2E3FC;\n",
              "      --hover-bg-color: #434B5C;\n",
              "      --hover-fill-color: #FFFFFF;\n",
              "      --disabled-bg-color: #3B4455;\n",
              "      --disabled-fill-color: #666;\n",
              "  }\n",
              "\n",
              "  .colab-df-quickchart {\n",
              "    background-color: var(--bg-color);\n",
              "    border: none;\n",
              "    border-radius: 50%;\n",
              "    cursor: pointer;\n",
              "    display: none;\n",
              "    fill: var(--fill-color);\n",
              "    height: 32px;\n",
              "    padding: 0;\n",
              "    width: 32px;\n",
              "  }\n",
              "\n",
              "  .colab-df-quickchart:hover {\n",
              "    background-color: var(--hover-bg-color);\n",
              "    box-shadow: 0 1px 2px rgba(60, 64, 67, 0.3), 0 1px 3px 1px rgba(60, 64, 67, 0.15);\n",
              "    fill: var(--button-hover-fill-color);\n",
              "  }\n",
              "\n",
              "  .colab-df-quickchart-complete:disabled,\n",
              "  .colab-df-quickchart-complete:disabled:hover {\n",
              "    background-color: var(--disabled-bg-color);\n",
              "    fill: var(--disabled-fill-color);\n",
              "    box-shadow: none;\n",
              "  }\n",
              "\n",
              "  .colab-df-spinner {\n",
              "    border: 2px solid var(--fill-color);\n",
              "    border-color: transparent;\n",
              "    border-bottom-color: var(--fill-color);\n",
              "    animation:\n",
              "      spin 1s steps(1) infinite;\n",
              "  }\n",
              "\n",
              "  @keyframes spin {\n",
              "    0% {\n",
              "      border-color: transparent;\n",
              "      border-bottom-color: var(--fill-color);\n",
              "      border-left-color: var(--fill-color);\n",
              "    }\n",
              "    20% {\n",
              "      border-color: transparent;\n",
              "      border-left-color: var(--fill-color);\n",
              "      border-top-color: var(--fill-color);\n",
              "    }\n",
              "    30% {\n",
              "      border-color: transparent;\n",
              "      border-left-color: var(--fill-color);\n",
              "      border-top-color: var(--fill-color);\n",
              "      border-right-color: var(--fill-color);\n",
              "    }\n",
              "    40% {\n",
              "      border-color: transparent;\n",
              "      border-right-color: var(--fill-color);\n",
              "      border-top-color: var(--fill-color);\n",
              "    }\n",
              "    60% {\n",
              "      border-color: transparent;\n",
              "      border-right-color: var(--fill-color);\n",
              "    }\n",
              "    80% {\n",
              "      border-color: transparent;\n",
              "      border-right-color: var(--fill-color);\n",
              "      border-bottom-color: var(--fill-color);\n",
              "    }\n",
              "    90% {\n",
              "      border-color: transparent;\n",
              "      border-bottom-color: var(--fill-color);\n",
              "    }\n",
              "  }\n",
              "</style>\n",
              "\n",
              "  <script>\n",
              "    async function quickchart(key) {\n",
              "      const quickchartButtonEl =\n",
              "        document.querySelector('#' + key + ' button');\n",
              "      quickchartButtonEl.disabled = true;  // To prevent multiple clicks.\n",
              "      quickchartButtonEl.classList.add('colab-df-spinner');\n",
              "      try {\n",
              "        const charts = await google.colab.kernel.invokeFunction(\n",
              "            'suggestCharts', [key], {});\n",
              "      } catch (error) {\n",
              "        console.error('Error during call to suggestCharts:', error);\n",
              "      }\n",
              "      quickchartButtonEl.classList.remove('colab-df-spinner');\n",
              "      quickchartButtonEl.classList.add('colab-df-quickchart-complete');\n",
              "    }\n",
              "    (() => {\n",
              "      let quickchartButtonEl =\n",
              "        document.querySelector('#df-6f1ccd33-3f88-42db-bb53-f5a47ba1e056 button');\n",
              "      quickchartButtonEl.style.display =\n",
              "        google.colab.kernel.accessAllowed ? 'block' : 'none';\n",
              "    })();\n",
              "  </script>\n",
              "</div>\n",
              "    </div>\n",
              "  </div>\n"
            ]
          },
          "metadata": {},
          "execution_count": 29
        }
      ]
    },
    {
      "cell_type": "code",
      "source": [
        "# funcion de los descuentos\n",
        "def ejercicio2_descuento(tickets):\n",
        "  # leer el ticket\n",
        "  pdf_reader = PyPDF2.PdfReader(tickets)    # conectar el archivo pdf con el codigo en python\n",
        "  ticket = pdf_reader.pages[0]   # acceder a la primera pagina\n",
        "  texto_ticket = ticket.extract_text()\n",
        "  # texto del ticket por lineas\n",
        "  lineas = np.array(texto_ticket.split('\\n'))\n",
        "\n",
        "  id_ticket_match = re.search(r'\\d*-\\d*-\\d*', '\\n'.join(lineas))\n",
        "  id_ticket = id_ticket_match.group() if id_ticket_match else None\n",
        "  # cambiar a r'TICKET:\\s\\d+' o algo asi\n",
        "\n",
        "  # Buscar la presencia de \"PARKING\" en el ticket\n",
        "  parking_match = re.search(r'1PARKING', '\\n'.join(lineas), flags=re.IGNORECASE)\n",
        "  # Determinar si el ticket contiene \"1PARKING\"\n",
        "  contiene_parking = True if parking_match else False\n",
        "\n",
        "  textos_tickets = []\n",
        "  direcciones = []\n",
        "  direccion = lineas[1] if len(lineas) > 1 else None   # cambiar a 3 en los tickets nuevos\n",
        "  direcciones.append(direccion)\n",
        "\n",
        "  precio_match = re.search(r'TOTAL.*\\s\\d{1,2},\\d{1,2}', '\\n'.join(lineas))\n",
        "  precio_total = precio_match.group() if precio_match else None\n",
        "  total_match = re.search(r'\\d{1,2},\\d{1,2}', precio_total)\n",
        "  total_pagado = total_match.group() if total_match else None\n",
        "\n",
        "  coincidencia_hora = re.search(r'ENTRADA\\s+(\\d{2}:\\d{2})\\s+SALIDA\\s+(\\d{2}:\\d{2})', '\\n'.join(lineas), flags=re.IGNORECASE)\n",
        "  horas_entrada, horas_salida = coincidencia_hora.groups() if coincidencia_hora else (None, None)\n",
        "  # cambiar a r'HORA.\\s(\\d{2}:\\d{2}:\\d{2})'\n",
        "\n",
        "  descuento_gen_matches = re.search(r'Euros conseguidos.*\\s\\d{1,2},\\d{1,2}', '\\n'.join(lineas))\n",
        "  descuento_gen = descuento_gen_matches.group() if descuento_gen_matches else None\n",
        "\n",
        "  descuento_ac_matches = re.search(r'Saldo próximo Vale Mensual.*\\s\\d{1,2},\\d{1,2}', '\\n'.join(lineas))\n",
        "  descuento_ac = descuento_ac_matches.group() if descuento_ac_matches else None\n",
        "\n",
        "  df = pd.DataFrame({\n",
        "    'id ticket': id_ticket,\n",
        "    'direccion': direcciones,\n",
        "    'Hora': horas_entrada,\n",
        "    'total precio': total_pagado,\n",
        "    'Descuento Generado': descuento_gen,\n",
        "    'Descuento Acumulado': descuento_ac\n",
        "  },index=[0])\n",
        "\n",
        "  return df"
      ],
      "metadata": {
        "id": "P7cTy4x9LM7A"
      },
      "execution_count": 42,
      "outputs": []
    },
    {
      "cell_type": "code",
      "source": [
        "ejercicio2_descuento('/content/20230909 Mercadona 21,23 €.pdf')"
      ],
      "metadata": {
        "id": "Mj15ypoDLM95",
        "outputId": "de7fe591-fa84-46b4-fd0d-b58317595ec8",
        "colab": {
          "base_uri": "https://localhost:8080/",
          "height": 115
        }
      },
      "execution_count": 43,
      "outputs": [
        {
          "output_type": "execute_result",
          "data": {
            "text/plain": [
              "         id ticket                direccion   Hora total precio  \\\n",
              "0  3433-011-051093  PLAZA DAOIZ Y VELARDE 5  20:22        21,23   \n",
              "\n",
              "  Descuento Generado Descuento Acumulado  \n",
              "0               None                None  "
            ],
            "text/html": [
              "\n",
              "  <div id=\"df-7fc95e3f-171b-4931-ad29-f6a00b1da0ef\" class=\"colab-df-container\">\n",
              "    <div>\n",
              "<style scoped>\n",
              "    .dataframe tbody tr th:only-of-type {\n",
              "        vertical-align: middle;\n",
              "    }\n",
              "\n",
              "    .dataframe tbody tr th {\n",
              "        vertical-align: top;\n",
              "    }\n",
              "\n",
              "    .dataframe thead th {\n",
              "        text-align: right;\n",
              "    }\n",
              "</style>\n",
              "<table border=\"1\" class=\"dataframe\">\n",
              "  <thead>\n",
              "    <tr style=\"text-align: right;\">\n",
              "      <th></th>\n",
              "      <th>id ticket</th>\n",
              "      <th>direccion</th>\n",
              "      <th>Hora</th>\n",
              "      <th>total precio</th>\n",
              "      <th>Descuento Generado</th>\n",
              "      <th>Descuento Acumulado</th>\n",
              "    </tr>\n",
              "  </thead>\n",
              "  <tbody>\n",
              "    <tr>\n",
              "      <th>0</th>\n",
              "      <td>3433-011-051093</td>\n",
              "      <td>PLAZA DAOIZ Y VELARDE 5</td>\n",
              "      <td>20:22</td>\n",
              "      <td>21,23</td>\n",
              "      <td>None</td>\n",
              "      <td>None</td>\n",
              "    </tr>\n",
              "  </tbody>\n",
              "</table>\n",
              "</div>\n",
              "    <div class=\"colab-df-buttons\">\n",
              "\n",
              "  <div class=\"colab-df-container\">\n",
              "    <button class=\"colab-df-convert\" onclick=\"convertToInteractive('df-7fc95e3f-171b-4931-ad29-f6a00b1da0ef')\"\n",
              "            title=\"Convert this dataframe to an interactive table.\"\n",
              "            style=\"display:none;\">\n",
              "\n",
              "  <svg xmlns=\"http://www.w3.org/2000/svg\" height=\"24px\" viewBox=\"0 -960 960 960\">\n",
              "    <path d=\"M120-120v-720h720v720H120Zm60-500h600v-160H180v160Zm220 220h160v-160H400v160Zm0 220h160v-160H400v160ZM180-400h160v-160H180v160Zm440 0h160v-160H620v160ZM180-180h160v-160H180v160Zm440 0h160v-160H620v160Z\"/>\n",
              "  </svg>\n",
              "    </button>\n",
              "\n",
              "  <style>\n",
              "    .colab-df-container {\n",
              "      display:flex;\n",
              "      gap: 12px;\n",
              "    }\n",
              "\n",
              "    .colab-df-convert {\n",
              "      background-color: #E8F0FE;\n",
              "      border: none;\n",
              "      border-radius: 50%;\n",
              "      cursor: pointer;\n",
              "      display: none;\n",
              "      fill: #1967D2;\n",
              "      height: 32px;\n",
              "      padding: 0 0 0 0;\n",
              "      width: 32px;\n",
              "    }\n",
              "\n",
              "    .colab-df-convert:hover {\n",
              "      background-color: #E2EBFA;\n",
              "      box-shadow: 0px 1px 2px rgba(60, 64, 67, 0.3), 0px 1px 3px 1px rgba(60, 64, 67, 0.15);\n",
              "      fill: #174EA6;\n",
              "    }\n",
              "\n",
              "    .colab-df-buttons div {\n",
              "      margin-bottom: 4px;\n",
              "    }\n",
              "\n",
              "    [theme=dark] .colab-df-convert {\n",
              "      background-color: #3B4455;\n",
              "      fill: #D2E3FC;\n",
              "    }\n",
              "\n",
              "    [theme=dark] .colab-df-convert:hover {\n",
              "      background-color: #434B5C;\n",
              "      box-shadow: 0px 1px 3px 1px rgba(0, 0, 0, 0.15);\n",
              "      filter: drop-shadow(0px 1px 2px rgba(0, 0, 0, 0.3));\n",
              "      fill: #FFFFFF;\n",
              "    }\n",
              "  </style>\n",
              "\n",
              "    <script>\n",
              "      const buttonEl =\n",
              "        document.querySelector('#df-7fc95e3f-171b-4931-ad29-f6a00b1da0ef button.colab-df-convert');\n",
              "      buttonEl.style.display =\n",
              "        google.colab.kernel.accessAllowed ? 'block' : 'none';\n",
              "\n",
              "      async function convertToInteractive(key) {\n",
              "        const element = document.querySelector('#df-7fc95e3f-171b-4931-ad29-f6a00b1da0ef');\n",
              "        const dataTable =\n",
              "          await google.colab.kernel.invokeFunction('convertToInteractive',\n",
              "                                                    [key], {});\n",
              "        if (!dataTable) return;\n",
              "\n",
              "        const docLinkHtml = 'Like what you see? Visit the ' +\n",
              "          '<a target=\"_blank\" href=https://colab.research.google.com/notebooks/data_table.ipynb>data table notebook</a>'\n",
              "          + ' to learn more about interactive tables.';\n",
              "        element.innerHTML = '';\n",
              "        dataTable['output_type'] = 'display_data';\n",
              "        await google.colab.output.renderOutput(dataTable, element);\n",
              "        const docLink = document.createElement('div');\n",
              "        docLink.innerHTML = docLinkHtml;\n",
              "        element.appendChild(docLink);\n",
              "      }\n",
              "    </script>\n",
              "  </div>\n",
              "\n",
              "    </div>\n",
              "  </div>\n"
            ]
          },
          "metadata": {},
          "execution_count": 43
        }
      ]
    },
    {
      "cell_type": "code",
      "source": [],
      "metadata": {
        "id": "uCEXcKxJLNAh"
      },
      "execution_count": null,
      "outputs": []
    }
  ]
}