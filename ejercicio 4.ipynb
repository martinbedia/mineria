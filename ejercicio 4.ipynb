{
  "nbformat": 4,
  "nbformat_minor": 0,
  "metadata": {
    "colab": {
      "provenance": [],
      "include_colab_link": true
    },
    "kernelspec": {
      "name": "python3",
      "display_name": "Python 3"
    },
    "language_info": {
      "name": "python"
    }
  },
  "cells": [
    {
      "cell_type": "markdown",
      "metadata": {
        "id": "view-in-github",
        "colab_type": "text"
      },
      "source": [
        "<a href=\"https://colab.research.google.com/github/martinbedia/mineria/blob/main/ejercicio%204.ipynb\" target=\"_parent\"><img src=\"https://colab.research.google.com/assets/colab-badge.svg\" alt=\"Open In Colab\"/></a>"
      ]
    },
    {
      "cell_type": "markdown",
      "source": [
        "# Ejercicio 4\n",
        "Genera al menos dos modelos de clasificación para pronosticar una de las variables\n",
        "del conjunto de datos en función de las otras utilizando el conjunto de datos titanic.csv y\n",
        "comenta el comportamiento observado. ¿Qué porcentaje de acierto obtienen? ¿Qué algoritmos\n",
        "has utilizado? ¿Cuál funciona mejor?"
      ],
      "metadata": {
        "id": "IYFtvM_17aZc"
      }
    },
    {
      "cell_type": "code",
      "source": [
        "pip install pandas scikit-learn"
      ],
      "metadata": {
        "id": "M84YIg9J9UzR",
        "outputId": "d76c5eb8-6b70-4b14-cbef-72f742d02f3f",
        "colab": {
          "base_uri": "https://localhost:8080/"
        }
      },
      "execution_count": null,
      "outputs": [
        {
          "output_type": "stream",
          "name": "stdout",
          "text": [
            "Requirement already satisfied: pandas in /usr/local/lib/python3.10/dist-packages (1.5.3)\n",
            "Requirement already satisfied: scikit-learn in /usr/local/lib/python3.10/dist-packages (1.2.2)\n",
            "Requirement already satisfied: python-dateutil>=2.8.1 in /usr/local/lib/python3.10/dist-packages (from pandas) (2.8.2)\n",
            "Requirement already satisfied: pytz>=2020.1 in /usr/local/lib/python3.10/dist-packages (from pandas) (2023.3.post1)\n",
            "Requirement already satisfied: numpy>=1.21.0 in /usr/local/lib/python3.10/dist-packages (from pandas) (1.23.5)\n",
            "Requirement already satisfied: scipy>=1.3.2 in /usr/local/lib/python3.10/dist-packages (from scikit-learn) (1.11.4)\n",
            "Requirement already satisfied: joblib>=1.1.1 in /usr/local/lib/python3.10/dist-packages (from scikit-learn) (1.3.2)\n",
            "Requirement already satisfied: threadpoolctl>=2.0.0 in /usr/local/lib/python3.10/dist-packages (from scikit-learn) (3.2.0)\n",
            "Requirement already satisfied: six>=1.5 in /usr/local/lib/python3.10/dist-packages (from python-dateutil>=2.8.1->pandas) (1.16.0)\n"
          ]
        }
      ]
    },
    {
      "cell_type": "code",
      "source": [
        "import pandas as pd\n",
        "from sklearn.model_selection import train_test_split\n",
        "from sklearn.preprocessing import StandardScaler\n",
        "from sklearn.linear_model import LogisticRegression\n",
        "from sklearn.tree import DecisionTreeClassifier\n",
        "from sklearn.metrics import accuracy_score, classification_report\n",
        "import numpy as np\n",
        "from tensorflow.keras.models import Sequential\n",
        "from tensorflow.keras.layers import Dense"
      ],
      "metadata": {
        "id": "UX9Z5Wwr9qV4"
      },
      "execution_count": 23,
      "outputs": []
    },
    {
      "cell_type": "code",
      "source": [
        "# Cargar el conjunto de datos\n",
        "datos = pd.read_excel(\"/content/tablaOlhsson.xlsx\")\n",
        "\n",
        "# Verificar los primeros registros del conjunto de datos\n",
        "datos.head()"
      ],
      "metadata": {
        "id": "8sUWwZYA-GLE",
        "outputId": "39c38c32-3b19-418a-b174-776cdd2fdc4f",
        "colab": {
          "base_uri": "https://localhost:8080/",
          "height": 224
        }
      },
      "execution_count": 3,
      "outputs": [
        {
          "output_type": "execute_result",
          "data": {
            "text/plain": [
              "   zona  clase veh  Edad veh  Bonus   duracion  nsin  costesin  num.pólizas  \\\n",
              "0     1          1         1      1  12.416438     2     14533           25   \n",
              "1     1          1         1      2   3.260274     0         0            8   \n",
              "2     1          1         1      3  11.569866     1     15309           24   \n",
              "3     1          1         2      1  29.380821     3     42586           50   \n",
              "4     1          1         2      2  14.175341     1      1263           25   \n",
              "\n",
              "   freq.sin     severidad  \n",
              "0  0.161077   7266.500000  \n",
              "1  0.000000           NaN  \n",
              "2  0.086431  15309.000000  \n",
              "3  0.102107  14195.333333  \n",
              "4  0.070545   1263.000000  "
            ],
            "text/html": [
              "\n",
              "  <div id=\"df-ad8b3ba7-aac1-44cd-adef-2e1e885b887d\" class=\"colab-df-container\">\n",
              "    <div>\n",
              "<style scoped>\n",
              "    .dataframe tbody tr th:only-of-type {\n",
              "        vertical-align: middle;\n",
              "    }\n",
              "\n",
              "    .dataframe tbody tr th {\n",
              "        vertical-align: top;\n",
              "    }\n",
              "\n",
              "    .dataframe thead th {\n",
              "        text-align: right;\n",
              "    }\n",
              "</style>\n",
              "<table border=\"1\" class=\"dataframe\">\n",
              "  <thead>\n",
              "    <tr style=\"text-align: right;\">\n",
              "      <th></th>\n",
              "      <th>zona</th>\n",
              "      <th>clase veh</th>\n",
              "      <th>Edad veh</th>\n",
              "      <th>Bonus</th>\n",
              "      <th>duracion</th>\n",
              "      <th>nsin</th>\n",
              "      <th>costesin</th>\n",
              "      <th>num.pólizas</th>\n",
              "      <th>freq.sin</th>\n",
              "      <th>severidad</th>\n",
              "    </tr>\n",
              "  </thead>\n",
              "  <tbody>\n",
              "    <tr>\n",
              "      <th>0</th>\n",
              "      <td>1</td>\n",
              "      <td>1</td>\n",
              "      <td>1</td>\n",
              "      <td>1</td>\n",
              "      <td>12.416438</td>\n",
              "      <td>2</td>\n",
              "      <td>14533</td>\n",
              "      <td>25</td>\n",
              "      <td>0.161077</td>\n",
              "      <td>7266.500000</td>\n",
              "    </tr>\n",
              "    <tr>\n",
              "      <th>1</th>\n",
              "      <td>1</td>\n",
              "      <td>1</td>\n",
              "      <td>1</td>\n",
              "      <td>2</td>\n",
              "      <td>3.260274</td>\n",
              "      <td>0</td>\n",
              "      <td>0</td>\n",
              "      <td>8</td>\n",
              "      <td>0.000000</td>\n",
              "      <td>NaN</td>\n",
              "    </tr>\n",
              "    <tr>\n",
              "      <th>2</th>\n",
              "      <td>1</td>\n",
              "      <td>1</td>\n",
              "      <td>1</td>\n",
              "      <td>3</td>\n",
              "      <td>11.569866</td>\n",
              "      <td>1</td>\n",
              "      <td>15309</td>\n",
              "      <td>24</td>\n",
              "      <td>0.086431</td>\n",
              "      <td>15309.000000</td>\n",
              "    </tr>\n",
              "    <tr>\n",
              "      <th>3</th>\n",
              "      <td>1</td>\n",
              "      <td>1</td>\n",
              "      <td>2</td>\n",
              "      <td>1</td>\n",
              "      <td>29.380821</td>\n",
              "      <td>3</td>\n",
              "      <td>42586</td>\n",
              "      <td>50</td>\n",
              "      <td>0.102107</td>\n",
              "      <td>14195.333333</td>\n",
              "    </tr>\n",
              "    <tr>\n",
              "      <th>4</th>\n",
              "      <td>1</td>\n",
              "      <td>1</td>\n",
              "      <td>2</td>\n",
              "      <td>2</td>\n",
              "      <td>14.175341</td>\n",
              "      <td>1</td>\n",
              "      <td>1263</td>\n",
              "      <td>25</td>\n",
              "      <td>0.070545</td>\n",
              "      <td>1263.000000</td>\n",
              "    </tr>\n",
              "  </tbody>\n",
              "</table>\n",
              "</div>\n",
              "    <div class=\"colab-df-buttons\">\n",
              "\n",
              "  <div class=\"colab-df-container\">\n",
              "    <button class=\"colab-df-convert\" onclick=\"convertToInteractive('df-ad8b3ba7-aac1-44cd-adef-2e1e885b887d')\"\n",
              "            title=\"Convert this dataframe to an interactive table.\"\n",
              "            style=\"display:none;\">\n",
              "\n",
              "  <svg xmlns=\"http://www.w3.org/2000/svg\" height=\"24px\" viewBox=\"0 -960 960 960\">\n",
              "    <path d=\"M120-120v-720h720v720H120Zm60-500h600v-160H180v160Zm220 220h160v-160H400v160Zm0 220h160v-160H400v160ZM180-400h160v-160H180v160Zm440 0h160v-160H620v160ZM180-180h160v-160H180v160Zm440 0h160v-160H620v160Z\"/>\n",
              "  </svg>\n",
              "    </button>\n",
              "\n",
              "  <style>\n",
              "    .colab-df-container {\n",
              "      display:flex;\n",
              "      gap: 12px;\n",
              "    }\n",
              "\n",
              "    .colab-df-convert {\n",
              "      background-color: #E8F0FE;\n",
              "      border: none;\n",
              "      border-radius: 50%;\n",
              "      cursor: pointer;\n",
              "      display: none;\n",
              "      fill: #1967D2;\n",
              "      height: 32px;\n",
              "      padding: 0 0 0 0;\n",
              "      width: 32px;\n",
              "    }\n",
              "\n",
              "    .colab-df-convert:hover {\n",
              "      background-color: #E2EBFA;\n",
              "      box-shadow: 0px 1px 2px rgba(60, 64, 67, 0.3), 0px 1px 3px 1px rgba(60, 64, 67, 0.15);\n",
              "      fill: #174EA6;\n",
              "    }\n",
              "\n",
              "    .colab-df-buttons div {\n",
              "      margin-bottom: 4px;\n",
              "    }\n",
              "\n",
              "    [theme=dark] .colab-df-convert {\n",
              "      background-color: #3B4455;\n",
              "      fill: #D2E3FC;\n",
              "    }\n",
              "\n",
              "    [theme=dark] .colab-df-convert:hover {\n",
              "      background-color: #434B5C;\n",
              "      box-shadow: 0px 1px 3px 1px rgba(0, 0, 0, 0.15);\n",
              "      filter: drop-shadow(0px 1px 2px rgba(0, 0, 0, 0.3));\n",
              "      fill: #FFFFFF;\n",
              "    }\n",
              "  </style>\n",
              "\n",
              "    <script>\n",
              "      const buttonEl =\n",
              "        document.querySelector('#df-ad8b3ba7-aac1-44cd-adef-2e1e885b887d button.colab-df-convert');\n",
              "      buttonEl.style.display =\n",
              "        google.colab.kernel.accessAllowed ? 'block' : 'none';\n",
              "\n",
              "      async function convertToInteractive(key) {\n",
              "        const element = document.querySelector('#df-ad8b3ba7-aac1-44cd-adef-2e1e885b887d');\n",
              "        const dataTable =\n",
              "          await google.colab.kernel.invokeFunction('convertToInteractive',\n",
              "                                                    [key], {});\n",
              "        if (!dataTable) return;\n",
              "\n",
              "        const docLinkHtml = 'Like what you see? Visit the ' +\n",
              "          '<a target=\"_blank\" href=https://colab.research.google.com/notebooks/data_table.ipynb>data table notebook</a>'\n",
              "          + ' to learn more about interactive tables.';\n",
              "        element.innerHTML = '';\n",
              "        dataTable['output_type'] = 'display_data';\n",
              "        await google.colab.output.renderOutput(dataTable, element);\n",
              "        const docLink = document.createElement('div');\n",
              "        docLink.innerHTML = docLinkHtml;\n",
              "        element.appendChild(docLink);\n",
              "      }\n",
              "    </script>\n",
              "  </div>\n",
              "\n",
              "\n",
              "<div id=\"df-c9c63e75-18aa-4ae5-b57b-ce5b978e7ddf\">\n",
              "  <button class=\"colab-df-quickchart\" onclick=\"quickchart('df-c9c63e75-18aa-4ae5-b57b-ce5b978e7ddf')\"\n",
              "            title=\"Suggest charts\"\n",
              "            style=\"display:none;\">\n",
              "\n",
              "<svg xmlns=\"http://www.w3.org/2000/svg\" height=\"24px\"viewBox=\"0 0 24 24\"\n",
              "     width=\"24px\">\n",
              "    <g>\n",
              "        <path d=\"M19 3H5c-1.1 0-2 .9-2 2v14c0 1.1.9 2 2 2h14c1.1 0 2-.9 2-2V5c0-1.1-.9-2-2-2zM9 17H7v-7h2v7zm4 0h-2V7h2v10zm4 0h-2v-4h2v4z\"/>\n",
              "    </g>\n",
              "</svg>\n",
              "  </button>\n",
              "\n",
              "<style>\n",
              "  .colab-df-quickchart {\n",
              "      --bg-color: #E8F0FE;\n",
              "      --fill-color: #1967D2;\n",
              "      --hover-bg-color: #E2EBFA;\n",
              "      --hover-fill-color: #174EA6;\n",
              "      --disabled-fill-color: #AAA;\n",
              "      --disabled-bg-color: #DDD;\n",
              "  }\n",
              "\n",
              "  [theme=dark] .colab-df-quickchart {\n",
              "      --bg-color: #3B4455;\n",
              "      --fill-color: #D2E3FC;\n",
              "      --hover-bg-color: #434B5C;\n",
              "      --hover-fill-color: #FFFFFF;\n",
              "      --disabled-bg-color: #3B4455;\n",
              "      --disabled-fill-color: #666;\n",
              "  }\n",
              "\n",
              "  .colab-df-quickchart {\n",
              "    background-color: var(--bg-color);\n",
              "    border: none;\n",
              "    border-radius: 50%;\n",
              "    cursor: pointer;\n",
              "    display: none;\n",
              "    fill: var(--fill-color);\n",
              "    height: 32px;\n",
              "    padding: 0;\n",
              "    width: 32px;\n",
              "  }\n",
              "\n",
              "  .colab-df-quickchart:hover {\n",
              "    background-color: var(--hover-bg-color);\n",
              "    box-shadow: 0 1px 2px rgba(60, 64, 67, 0.3), 0 1px 3px 1px rgba(60, 64, 67, 0.15);\n",
              "    fill: var(--button-hover-fill-color);\n",
              "  }\n",
              "\n",
              "  .colab-df-quickchart-complete:disabled,\n",
              "  .colab-df-quickchart-complete:disabled:hover {\n",
              "    background-color: var(--disabled-bg-color);\n",
              "    fill: var(--disabled-fill-color);\n",
              "    box-shadow: none;\n",
              "  }\n",
              "\n",
              "  .colab-df-spinner {\n",
              "    border: 2px solid var(--fill-color);\n",
              "    border-color: transparent;\n",
              "    border-bottom-color: var(--fill-color);\n",
              "    animation:\n",
              "      spin 1s steps(1) infinite;\n",
              "  }\n",
              "\n",
              "  @keyframes spin {\n",
              "    0% {\n",
              "      border-color: transparent;\n",
              "      border-bottom-color: var(--fill-color);\n",
              "      border-left-color: var(--fill-color);\n",
              "    }\n",
              "    20% {\n",
              "      border-color: transparent;\n",
              "      border-left-color: var(--fill-color);\n",
              "      border-top-color: var(--fill-color);\n",
              "    }\n",
              "    30% {\n",
              "      border-color: transparent;\n",
              "      border-left-color: var(--fill-color);\n",
              "      border-top-color: var(--fill-color);\n",
              "      border-right-color: var(--fill-color);\n",
              "    }\n",
              "    40% {\n",
              "      border-color: transparent;\n",
              "      border-right-color: var(--fill-color);\n",
              "      border-top-color: var(--fill-color);\n",
              "    }\n",
              "    60% {\n",
              "      border-color: transparent;\n",
              "      border-right-color: var(--fill-color);\n",
              "    }\n",
              "    80% {\n",
              "      border-color: transparent;\n",
              "      border-right-color: var(--fill-color);\n",
              "      border-bottom-color: var(--fill-color);\n",
              "    }\n",
              "    90% {\n",
              "      border-color: transparent;\n",
              "      border-bottom-color: var(--fill-color);\n",
              "    }\n",
              "  }\n",
              "</style>\n",
              "\n",
              "  <script>\n",
              "    async function quickchart(key) {\n",
              "      const quickchartButtonEl =\n",
              "        document.querySelector('#' + key + ' button');\n",
              "      quickchartButtonEl.disabled = true;  // To prevent multiple clicks.\n",
              "      quickchartButtonEl.classList.add('colab-df-spinner');\n",
              "      try {\n",
              "        const charts = await google.colab.kernel.invokeFunction(\n",
              "            'suggestCharts', [key], {});\n",
              "      } catch (error) {\n",
              "        console.error('Error during call to suggestCharts:', error);\n",
              "      }\n",
              "      quickchartButtonEl.classList.remove('colab-df-spinner');\n",
              "      quickchartButtonEl.classList.add('colab-df-quickchart-complete');\n",
              "    }\n",
              "    (() => {\n",
              "      let quickchartButtonEl =\n",
              "        document.querySelector('#df-c9c63e75-18aa-4ae5-b57b-ce5b978e7ddf button');\n",
              "      quickchartButtonEl.style.display =\n",
              "        google.colab.kernel.accessAllowed ? 'block' : 'none';\n",
              "    })();\n",
              "  </script>\n",
              "</div>\n",
              "    </div>\n",
              "  </div>\n"
            ]
          },
          "metadata": {},
          "execution_count": 3
        }
      ]
    },
    {
      "cell_type": "code",
      "source": [
        "# Seleccionar la variable objetivo y las características\n",
        "target_variable = \"nsin\"\n",
        "features = [\"zona\", \"clase veh\", \"Edad veh\", \"Bonus\", \"duracion\", \"costesin\", \"num.pólizas\", \"freq.sin\", \"severidad\"]"
      ],
      "metadata": {
        "id": "nGoCl4f2-GNs"
      },
      "execution_count": 4,
      "outputs": []
    },
    {
      "cell_type": "code",
      "source": [
        "# Filtrar las columnas relevantes\n",
        "data = datos[features + [target_variable]].dropna()\n",
        "data.head()"
      ],
      "metadata": {
        "id": "LdpQb4S_97tA",
        "outputId": "63e75dd5-d14e-43b5-a278-a94756c5c1ce",
        "colab": {
          "base_uri": "https://localhost:8080/",
          "height": 224
        }
      },
      "execution_count": 14,
      "outputs": [
        {
          "output_type": "execute_result",
          "data": {
            "text/plain": [
              "   zona  clase veh  Edad veh  Bonus    duracion  costesin  num.pólizas  \\\n",
              "0     1          1         1      1   12.416438     14533           25   \n",
              "2     1          1         1      3   11.569866     15309           24   \n",
              "3     1          1         2      1   29.380821     42586           50   \n",
              "4     1          1         2      2   14.175341      1263           25   \n",
              "6     1          1         3      1  190.284926     45380          310   \n",
              "\n",
              "   freq.sin     severidad  nsin  \n",
              "0  0.161077   7266.500000     2  \n",
              "2  0.086431  15309.000000     1  \n",
              "3  0.102107  14195.333333     3  \n",
              "4  0.070545   1263.000000     1  \n",
              "6  0.026276   9076.000000     5  "
            ],
            "text/html": [
              "\n",
              "  <div id=\"df-880be202-1fd3-4f26-bf4c-77c626299f80\" class=\"colab-df-container\">\n",
              "    <div>\n",
              "<style scoped>\n",
              "    .dataframe tbody tr th:only-of-type {\n",
              "        vertical-align: middle;\n",
              "    }\n",
              "\n",
              "    .dataframe tbody tr th {\n",
              "        vertical-align: top;\n",
              "    }\n",
              "\n",
              "    .dataframe thead th {\n",
              "        text-align: right;\n",
              "    }\n",
              "</style>\n",
              "<table border=\"1\" class=\"dataframe\">\n",
              "  <thead>\n",
              "    <tr style=\"text-align: right;\">\n",
              "      <th></th>\n",
              "      <th>zona</th>\n",
              "      <th>clase veh</th>\n",
              "      <th>Edad veh</th>\n",
              "      <th>Bonus</th>\n",
              "      <th>duracion</th>\n",
              "      <th>costesin</th>\n",
              "      <th>num.pólizas</th>\n",
              "      <th>freq.sin</th>\n",
              "      <th>severidad</th>\n",
              "      <th>nsin</th>\n",
              "    </tr>\n",
              "  </thead>\n",
              "  <tbody>\n",
              "    <tr>\n",
              "      <th>0</th>\n",
              "      <td>1</td>\n",
              "      <td>1</td>\n",
              "      <td>1</td>\n",
              "      <td>1</td>\n",
              "      <td>12.416438</td>\n",
              "      <td>14533</td>\n",
              "      <td>25</td>\n",
              "      <td>0.161077</td>\n",
              "      <td>7266.500000</td>\n",
              "      <td>2</td>\n",
              "    </tr>\n",
              "    <tr>\n",
              "      <th>2</th>\n",
              "      <td>1</td>\n",
              "      <td>1</td>\n",
              "      <td>1</td>\n",
              "      <td>3</td>\n",
              "      <td>11.569866</td>\n",
              "      <td>15309</td>\n",
              "      <td>24</td>\n",
              "      <td>0.086431</td>\n",
              "      <td>15309.000000</td>\n",
              "      <td>1</td>\n",
              "    </tr>\n",
              "    <tr>\n",
              "      <th>3</th>\n",
              "      <td>1</td>\n",
              "      <td>1</td>\n",
              "      <td>2</td>\n",
              "      <td>1</td>\n",
              "      <td>29.380821</td>\n",
              "      <td>42586</td>\n",
              "      <td>50</td>\n",
              "      <td>0.102107</td>\n",
              "      <td>14195.333333</td>\n",
              "      <td>3</td>\n",
              "    </tr>\n",
              "    <tr>\n",
              "      <th>4</th>\n",
              "      <td>1</td>\n",
              "      <td>1</td>\n",
              "      <td>2</td>\n",
              "      <td>2</td>\n",
              "      <td>14.175341</td>\n",
              "      <td>1263</td>\n",
              "      <td>25</td>\n",
              "      <td>0.070545</td>\n",
              "      <td>1263.000000</td>\n",
              "      <td>1</td>\n",
              "    </tr>\n",
              "    <tr>\n",
              "      <th>6</th>\n",
              "      <td>1</td>\n",
              "      <td>1</td>\n",
              "      <td>3</td>\n",
              "      <td>1</td>\n",
              "      <td>190.284926</td>\n",
              "      <td>45380</td>\n",
              "      <td>310</td>\n",
              "      <td>0.026276</td>\n",
              "      <td>9076.000000</td>\n",
              "      <td>5</td>\n",
              "    </tr>\n",
              "  </tbody>\n",
              "</table>\n",
              "</div>\n",
              "    <div class=\"colab-df-buttons\">\n",
              "\n",
              "  <div class=\"colab-df-container\">\n",
              "    <button class=\"colab-df-convert\" onclick=\"convertToInteractive('df-880be202-1fd3-4f26-bf4c-77c626299f80')\"\n",
              "            title=\"Convert this dataframe to an interactive table.\"\n",
              "            style=\"display:none;\">\n",
              "\n",
              "  <svg xmlns=\"http://www.w3.org/2000/svg\" height=\"24px\" viewBox=\"0 -960 960 960\">\n",
              "    <path d=\"M120-120v-720h720v720H120Zm60-500h600v-160H180v160Zm220 220h160v-160H400v160Zm0 220h160v-160H400v160ZM180-400h160v-160H180v160Zm440 0h160v-160H620v160ZM180-180h160v-160H180v160Zm440 0h160v-160H620v160Z\"/>\n",
              "  </svg>\n",
              "    </button>\n",
              "\n",
              "  <style>\n",
              "    .colab-df-container {\n",
              "      display:flex;\n",
              "      gap: 12px;\n",
              "    }\n",
              "\n",
              "    .colab-df-convert {\n",
              "      background-color: #E8F0FE;\n",
              "      border: none;\n",
              "      border-radius: 50%;\n",
              "      cursor: pointer;\n",
              "      display: none;\n",
              "      fill: #1967D2;\n",
              "      height: 32px;\n",
              "      padding: 0 0 0 0;\n",
              "      width: 32px;\n",
              "    }\n",
              "\n",
              "    .colab-df-convert:hover {\n",
              "      background-color: #E2EBFA;\n",
              "      box-shadow: 0px 1px 2px rgba(60, 64, 67, 0.3), 0px 1px 3px 1px rgba(60, 64, 67, 0.15);\n",
              "      fill: #174EA6;\n",
              "    }\n",
              "\n",
              "    .colab-df-buttons div {\n",
              "      margin-bottom: 4px;\n",
              "    }\n",
              "\n",
              "    [theme=dark] .colab-df-convert {\n",
              "      background-color: #3B4455;\n",
              "      fill: #D2E3FC;\n",
              "    }\n",
              "\n",
              "    [theme=dark] .colab-df-convert:hover {\n",
              "      background-color: #434B5C;\n",
              "      box-shadow: 0px 1px 3px 1px rgba(0, 0, 0, 0.15);\n",
              "      filter: drop-shadow(0px 1px 2px rgba(0, 0, 0, 0.3));\n",
              "      fill: #FFFFFF;\n",
              "    }\n",
              "  </style>\n",
              "\n",
              "    <script>\n",
              "      const buttonEl =\n",
              "        document.querySelector('#df-880be202-1fd3-4f26-bf4c-77c626299f80 button.colab-df-convert');\n",
              "      buttonEl.style.display =\n",
              "        google.colab.kernel.accessAllowed ? 'block' : 'none';\n",
              "\n",
              "      async function convertToInteractive(key) {\n",
              "        const element = document.querySelector('#df-880be202-1fd3-4f26-bf4c-77c626299f80');\n",
              "        const dataTable =\n",
              "          await google.colab.kernel.invokeFunction('convertToInteractive',\n",
              "                                                    [key], {});\n",
              "        if (!dataTable) return;\n",
              "\n",
              "        const docLinkHtml = 'Like what you see? Visit the ' +\n",
              "          '<a target=\"_blank\" href=https://colab.research.google.com/notebooks/data_table.ipynb>data table notebook</a>'\n",
              "          + ' to learn more about interactive tables.';\n",
              "        element.innerHTML = '';\n",
              "        dataTable['output_type'] = 'display_data';\n",
              "        await google.colab.output.renderOutput(dataTable, element);\n",
              "        const docLink = document.createElement('div');\n",
              "        docLink.innerHTML = docLinkHtml;\n",
              "        element.appendChild(docLink);\n",
              "      }\n",
              "    </script>\n",
              "  </div>\n",
              "\n",
              "\n",
              "<div id=\"df-cef02c41-1f64-45c4-a299-b0fa85c75848\">\n",
              "  <button class=\"colab-df-quickchart\" onclick=\"quickchart('df-cef02c41-1f64-45c4-a299-b0fa85c75848')\"\n",
              "            title=\"Suggest charts\"\n",
              "            style=\"display:none;\">\n",
              "\n",
              "<svg xmlns=\"http://www.w3.org/2000/svg\" height=\"24px\"viewBox=\"0 0 24 24\"\n",
              "     width=\"24px\">\n",
              "    <g>\n",
              "        <path d=\"M19 3H5c-1.1 0-2 .9-2 2v14c0 1.1.9 2 2 2h14c1.1 0 2-.9 2-2V5c0-1.1-.9-2-2-2zM9 17H7v-7h2v7zm4 0h-2V7h2v10zm4 0h-2v-4h2v4z\"/>\n",
              "    </g>\n",
              "</svg>\n",
              "  </button>\n",
              "\n",
              "<style>\n",
              "  .colab-df-quickchart {\n",
              "      --bg-color: #E8F0FE;\n",
              "      --fill-color: #1967D2;\n",
              "      --hover-bg-color: #E2EBFA;\n",
              "      --hover-fill-color: #174EA6;\n",
              "      --disabled-fill-color: #AAA;\n",
              "      --disabled-bg-color: #DDD;\n",
              "  }\n",
              "\n",
              "  [theme=dark] .colab-df-quickchart {\n",
              "      --bg-color: #3B4455;\n",
              "      --fill-color: #D2E3FC;\n",
              "      --hover-bg-color: #434B5C;\n",
              "      --hover-fill-color: #FFFFFF;\n",
              "      --disabled-bg-color: #3B4455;\n",
              "      --disabled-fill-color: #666;\n",
              "  }\n",
              "\n",
              "  .colab-df-quickchart {\n",
              "    background-color: var(--bg-color);\n",
              "    border: none;\n",
              "    border-radius: 50%;\n",
              "    cursor: pointer;\n",
              "    display: none;\n",
              "    fill: var(--fill-color);\n",
              "    height: 32px;\n",
              "    padding: 0;\n",
              "    width: 32px;\n",
              "  }\n",
              "\n",
              "  .colab-df-quickchart:hover {\n",
              "    background-color: var(--hover-bg-color);\n",
              "    box-shadow: 0 1px 2px rgba(60, 64, 67, 0.3), 0 1px 3px 1px rgba(60, 64, 67, 0.15);\n",
              "    fill: var(--button-hover-fill-color);\n",
              "  }\n",
              "\n",
              "  .colab-df-quickchart-complete:disabled,\n",
              "  .colab-df-quickchart-complete:disabled:hover {\n",
              "    background-color: var(--disabled-bg-color);\n",
              "    fill: var(--disabled-fill-color);\n",
              "    box-shadow: none;\n",
              "  }\n",
              "\n",
              "  .colab-df-spinner {\n",
              "    border: 2px solid var(--fill-color);\n",
              "    border-color: transparent;\n",
              "    border-bottom-color: var(--fill-color);\n",
              "    animation:\n",
              "      spin 1s steps(1) infinite;\n",
              "  }\n",
              "\n",
              "  @keyframes spin {\n",
              "    0% {\n",
              "      border-color: transparent;\n",
              "      border-bottom-color: var(--fill-color);\n",
              "      border-left-color: var(--fill-color);\n",
              "    }\n",
              "    20% {\n",
              "      border-color: transparent;\n",
              "      border-left-color: var(--fill-color);\n",
              "      border-top-color: var(--fill-color);\n",
              "    }\n",
              "    30% {\n",
              "      border-color: transparent;\n",
              "      border-left-color: var(--fill-color);\n",
              "      border-top-color: var(--fill-color);\n",
              "      border-right-color: var(--fill-color);\n",
              "    }\n",
              "    40% {\n",
              "      border-color: transparent;\n",
              "      border-right-color: var(--fill-color);\n",
              "      border-top-color: var(--fill-color);\n",
              "    }\n",
              "    60% {\n",
              "      border-color: transparent;\n",
              "      border-right-color: var(--fill-color);\n",
              "    }\n",
              "    80% {\n",
              "      border-color: transparent;\n",
              "      border-right-color: var(--fill-color);\n",
              "      border-bottom-color: var(--fill-color);\n",
              "    }\n",
              "    90% {\n",
              "      border-color: transparent;\n",
              "      border-bottom-color: var(--fill-color);\n",
              "    }\n",
              "  }\n",
              "</style>\n",
              "\n",
              "  <script>\n",
              "    async function quickchart(key) {\n",
              "      const quickchartButtonEl =\n",
              "        document.querySelector('#' + key + ' button');\n",
              "      quickchartButtonEl.disabled = true;  // To prevent multiple clicks.\n",
              "      quickchartButtonEl.classList.add('colab-df-spinner');\n",
              "      try {\n",
              "        const charts = await google.colab.kernel.invokeFunction(\n",
              "            'suggestCharts', [key], {});\n",
              "      } catch (error) {\n",
              "        console.error('Error during call to suggestCharts:', error);\n",
              "      }\n",
              "      quickchartButtonEl.classList.remove('colab-df-spinner');\n",
              "      quickchartButtonEl.classList.add('colab-df-quickchart-complete');\n",
              "    }\n",
              "    (() => {\n",
              "      let quickchartButtonEl =\n",
              "        document.querySelector('#df-cef02c41-1f64-45c4-a299-b0fa85c75848 button');\n",
              "      quickchartButtonEl.style.display =\n",
              "        google.colab.kernel.accessAllowed ? 'block' : 'none';\n",
              "    })();\n",
              "  </script>\n",
              "</div>\n",
              "    </div>\n",
              "  </div>\n"
            ]
          },
          "metadata": {},
          "execution_count": 14
        }
      ]
    },
    {
      "cell_type": "code",
      "source": [
        "# Convertir variables categóricas a variables dummy\n",
        "data = pd.get_dummies(data, columns=[\"zona\"], drop_first=True)\n",
        "data = pd.get_dummies(data, columns=[\"clase veh\"], drop_first=True)\n",
        "data = pd.get_dummies(data, columns=[\"Edad veh\"], drop_first=True)\n",
        "data = pd.get_dummies(data, columns=[\"Bonus\"], drop_first=True)"
      ],
      "metadata": {
        "id": "cmbcxNlk97wP"
      },
      "execution_count": 15,
      "outputs": []
    },
    {
      "cell_type": "code",
      "source": [
        "# Separar las características y la variable objetivo\n",
        "X = data.drop(target_variable, axis=1)\n",
        "y = data[target_variable]"
      ],
      "metadata": {
        "id": "JJwcc-6K970i"
      },
      "execution_count": 34,
      "outputs": []
    },
    {
      "cell_type": "code",
      "source": [
        "# Dividir el conjunto de datos en entrenamiento y prueba\n",
        "X_train, X_test, y_train, y_test = train_test_split(X, y, test_size=0.2, random_state=42)"
      ],
      "metadata": {
        "id": "4uB3Wt6_9tDI"
      },
      "execution_count": 17,
      "outputs": []
    },
    {
      "cell_type": "code",
      "source": [
        "# Normalizar las características\n",
        "scaler = StandardScaler()\n",
        "X_train_scaled = scaler.fit_transform(X_train)\n",
        "X_test_scaled = scaler.transform(X_test)"
      ],
      "metadata": {
        "id": "m2P_RrW59tFd"
      },
      "execution_count": 18,
      "outputs": []
    },
    {
      "cell_type": "markdown",
      "source": [
        "## Regresión Logística\n",
        "El modelo de regresión logística es una técnica estadística utilizada para predecir la probabilidad de que una variable dependiente pertenezca a una categoría particular. A menudo se emplea en problemas de clasificación binaria, donde la variable dependiente tiene dos categorías, como sí/no, positivo/negativo, etc.\n",
        "\n"
      ],
      "metadata": {
        "id": "M4Ise4Ee0KnX"
      }
    },
    {
      "cell_type": "code",
      "source": [
        "# Modelo 1: Regresión Logística\n",
        "logistic_model = LogisticRegression(random_state=42)\n",
        "logistic_model.fit(X_train_scaled, y_train)\n",
        "y_pred_logistic = logistic_model.predict(X_test_scaled)"
      ],
      "metadata": {
        "id": "3PzOVI6b9tH6"
      },
      "execution_count": 19,
      "outputs": []
    },
    {
      "cell_type": "code",
      "source": [
        "# Evaluación del modelo 1\n",
        "print(\"Regresión Logística:\")\n",
        "print(\"Accuracy:\", accuracy_score(y_test, y_pred_logistic))\n",
        "print(\"Classification Report:\")\n",
        "print(classification_report(y_test, y_pred_logistic))\n"
      ],
      "metadata": {
        "id": "C_OPveoD9tKO",
        "outputId": "9520e03f-e27b-4bac-b83b-102a606508c6",
        "colab": {
          "base_uri": "https://localhost:8080/"
        }
      },
      "execution_count": 20,
      "outputs": [
        {
          "output_type": "stream",
          "name": "stdout",
          "text": [
            "Regresión Logística:\n",
            "Accuracy: 0.35135135135135137\n",
            "Classification Report:\n",
            "              precision    recall  f1-score   support\n",
            "\n",
            "           1       0.89      0.73      0.80        11\n",
            "           2       0.00      0.00      0.00         3\n",
            "           3       0.50      0.25      0.33         8\n",
            "           4       0.00      0.00      0.00         3\n",
            "           5       0.00      0.00      0.00         0\n",
            "           6       0.25      1.00      0.40         1\n",
            "           7       0.50      0.20      0.29         5\n",
            "           8       0.00      0.00      0.00         1\n",
            "           9       0.00      0.00      0.00         1\n",
            "          10       0.33      0.50      0.40         2\n",
            "          13       0.00      0.00      0.00         1\n",
            "          15       0.00      0.00      0.00         1\n",
            "\n",
            "    accuracy                           0.35        37\n",
            "   macro avg       0.21      0.22      0.18        37\n",
            "weighted avg       0.46      0.35      0.38        37\n",
            "\n"
          ]
        },
        {
          "output_type": "stream",
          "name": "stderr",
          "text": [
            "/usr/local/lib/python3.10/dist-packages/sklearn/metrics/_classification.py:1344: UndefinedMetricWarning: Precision and F-score are ill-defined and being set to 0.0 in labels with no predicted samples. Use `zero_division` parameter to control this behavior.\n",
            "  _warn_prf(average, modifier, msg_start, len(result))\n",
            "/usr/local/lib/python3.10/dist-packages/sklearn/metrics/_classification.py:1344: UndefinedMetricWarning: Recall and F-score are ill-defined and being set to 0.0 in labels with no true samples. Use `zero_division` parameter to control this behavior.\n",
            "  _warn_prf(average, modifier, msg_start, len(result))\n",
            "/usr/local/lib/python3.10/dist-packages/sklearn/metrics/_classification.py:1344: UndefinedMetricWarning: Precision and F-score are ill-defined and being set to 0.0 in labels with no predicted samples. Use `zero_division` parameter to control this behavior.\n",
            "  _warn_prf(average, modifier, msg_start, len(result))\n",
            "/usr/local/lib/python3.10/dist-packages/sklearn/metrics/_classification.py:1344: UndefinedMetricWarning: Recall and F-score are ill-defined and being set to 0.0 in labels with no true samples. Use `zero_division` parameter to control this behavior.\n",
            "  _warn_prf(average, modifier, msg_start, len(result))\n",
            "/usr/local/lib/python3.10/dist-packages/sklearn/metrics/_classification.py:1344: UndefinedMetricWarning: Precision and F-score are ill-defined and being set to 0.0 in labels with no predicted samples. Use `zero_division` parameter to control this behavior.\n",
            "  _warn_prf(average, modifier, msg_start, len(result))\n",
            "/usr/local/lib/python3.10/dist-packages/sklearn/metrics/_classification.py:1344: UndefinedMetricWarning: Recall and F-score are ill-defined and being set to 0.0 in labels with no true samples. Use `zero_division` parameter to control this behavior.\n",
            "  _warn_prf(average, modifier, msg_start, len(result))\n"
          ]
        }
      ]
    },
    {
      "cell_type": "markdown",
      "source": [
        "## Árbol de decisión\n",
        "Un árbol de decisión es otra técnica utilizada en estadísticas y aprendizaje automático para modelar relaciones no lineales y tomar decisiones. A diferencia de la regresión logística, que se utiliza principalmente para problemas de clasificación binaria, los árboles de decisión pueden manejar tanto problemas de clasificación como de regresión."
      ],
      "metadata": {
        "id": "-PQcjnbB0aDJ"
      }
    },
    {
      "cell_type": "code",
      "source": [
        "# Modelo 2: Árbol de Decisión\n",
        "tree_model = DecisionTreeClassifier(random_state=42)\n",
        "tree_model.fit(X_train, y_train)\n",
        "y_pred_tree = tree_model.predict(X_test)"
      ],
      "metadata": {
        "id": "bY-mdTOp9tMr"
      },
      "execution_count": 21,
      "outputs": []
    },
    {
      "cell_type": "code",
      "source": [
        "# Evaluación del modelo 2\n",
        "print(\"Árbol de Decisión:\")\n",
        "print(\"Accuracy:\", accuracy_score(y_test, y_pred_tree))\n",
        "print(\"Classification Report:\")\n",
        "print(classification_report(y_test, y_pred_tree))"
      ],
      "metadata": {
        "id": "8YUYsGQw9tWh",
        "outputId": "a0f05bf4-56ab-4fdf-aab8-d48817b2869a",
        "colab": {
          "base_uri": "https://localhost:8080/"
        }
      },
      "execution_count": 22,
      "outputs": [
        {
          "output_type": "stream",
          "name": "stdout",
          "text": [
            "Árbol de Decisión:\n",
            "Accuracy: 0.32432432432432434\n",
            "Classification Report:\n",
            "              precision    recall  f1-score   support\n",
            "\n",
            "           1       0.73      0.73      0.73        11\n",
            "           2       0.14      0.33      0.20         3\n",
            "           3       0.29      0.25      0.27         8\n",
            "           4       0.00      0.00      0.00         3\n",
            "           5       0.00      0.00      0.00         0\n",
            "           6       0.50      1.00      0.67         1\n",
            "           7       0.00      0.00      0.00         5\n",
            "           8       0.00      0.00      0.00         1\n",
            "           9       0.00      0.00      0.00         1\n",
            "          10       0.00      0.00      0.00         2\n",
            "          13       0.00      0.00      0.00         1\n",
            "          15       0.00      0.00      0.00         1\n",
            "          17       0.00      0.00      0.00         0\n",
            "\n",
            "    accuracy                           0.32        37\n",
            "   macro avg       0.13      0.18      0.14        37\n",
            "weighted avg       0.30      0.32      0.31        37\n",
            "\n"
          ]
        },
        {
          "output_type": "stream",
          "name": "stderr",
          "text": [
            "/usr/local/lib/python3.10/dist-packages/sklearn/metrics/_classification.py:1344: UndefinedMetricWarning: Precision and F-score are ill-defined and being set to 0.0 in labels with no predicted samples. Use `zero_division` parameter to control this behavior.\n",
            "  _warn_prf(average, modifier, msg_start, len(result))\n",
            "/usr/local/lib/python3.10/dist-packages/sklearn/metrics/_classification.py:1344: UndefinedMetricWarning: Recall and F-score are ill-defined and being set to 0.0 in labels with no true samples. Use `zero_division` parameter to control this behavior.\n",
            "  _warn_prf(average, modifier, msg_start, len(result))\n",
            "/usr/local/lib/python3.10/dist-packages/sklearn/metrics/_classification.py:1344: UndefinedMetricWarning: Precision and F-score are ill-defined and being set to 0.0 in labels with no predicted samples. Use `zero_division` parameter to control this behavior.\n",
            "  _warn_prf(average, modifier, msg_start, len(result))\n",
            "/usr/local/lib/python3.10/dist-packages/sklearn/metrics/_classification.py:1344: UndefinedMetricWarning: Recall and F-score are ill-defined and being set to 0.0 in labels with no true samples. Use `zero_division` parameter to control this behavior.\n",
            "  _warn_prf(average, modifier, msg_start, len(result))\n",
            "/usr/local/lib/python3.10/dist-packages/sklearn/metrics/_classification.py:1344: UndefinedMetricWarning: Precision and F-score are ill-defined and being set to 0.0 in labels with no predicted samples. Use `zero_division` parameter to control this behavior.\n",
            "  _warn_prf(average, modifier, msg_start, len(result))\n",
            "/usr/local/lib/python3.10/dist-packages/sklearn/metrics/_classification.py:1344: UndefinedMetricWarning: Recall and F-score are ill-defined and being set to 0.0 in labels with no true samples. Use `zero_division` parameter to control this behavior.\n",
            "  _warn_prf(average, modifier, msg_start, len(result))\n"
          ]
        }
      ]
    },
    {
      "cell_type": "markdown",
      "source": [
        "El modelo 1 (regresión logística) tiene una precissión de acierto del 0.7471, mientras que el modelo 2 (árbol de decisión) tiene una tasa de acierto del 0.7359."
      ],
      "metadata": {
        "id": "6SpvxXFDm2Gd"
      }
    },
    {
      "cell_type": "markdown",
      "source": [
        "Ambos modelos tienen un rendimiento bastante similar en términos de precisión (accuracy). La regresión logística alcanza un accuracy ligeramente superior en este caso específico. Una pequeña diferencia entre ambos es que la regresión tiene un acierto similar en si la persona ha sobrevivido o no (0/1), mientras que el modelo del árbol tiene una mayor precision para los casos que la persona ha muerto (0) frente a los supervivientes (1)"
      ],
      "metadata": {
        "id": "PijVf6fG2Sl9"
      }
    },
    {
      "cell_type": "markdown",
      "source": [
        "## Red neuronal"
      ],
      "metadata": {
        "id": "aG2wHTdPqHb8"
      }
    },
    {
      "cell_type": "code",
      "source": [
        "# Define el modelo de red neuronal\n",
        "model = Sequential()\n",
        "model.add(Dense(64, activation='relu', input_dim=X_train_scaled.shape[1]))\n",
        "model.add(Dense(32, activation='relu'))\n",
        "model.add(Dense(1, activation='linear'))  # Capa de salida para regresión"
      ],
      "metadata": {
        "id": "5fiXdoZoqGiV"
      },
      "execution_count": 35,
      "outputs": []
    },
    {
      "cell_type": "code",
      "source": [
        "# Compila el modelo\n",
        "model.compile(optimizer='adam', loss='mean_squared_error')\n",
        "# Puedes usar 'mean_absolute_error' si prefieres la MAE"
      ],
      "metadata": {
        "id": "7B0SCCvBqGpw"
      },
      "execution_count": 36,
      "outputs": []
    },
    {
      "cell_type": "code",
      "source": [
        "# Entrenar el modelo\n",
        "model.fit(X_train_scaled, y_train, epochs=50, batch_size=32, validation_split=0.2)"
      ],
      "metadata": {
        "id": "-ge-XUKWqGl_",
        "outputId": "f5adc7e4-5a30-4e01-9bcb-2ad7a0af65ef",
        "colab": {
          "base_uri": "https://localhost:8080/"
        }
      },
      "execution_count": 37,
      "outputs": [
        {
          "output_type": "stream",
          "name": "stdout",
          "text": [
            "Epoch 1/50\n",
            "4/4 [==============================] - 2s 102ms/step - loss: 31.8213 - val_loss: 11.5413\n",
            "Epoch 2/50\n",
            "4/4 [==============================] - 0s 22ms/step - loss: 29.3939 - val_loss: 10.2523\n",
            "Epoch 3/50\n",
            "4/4 [==============================] - 0s 18ms/step - loss: 27.0550 - val_loss: 9.1670\n",
            "Epoch 4/50\n",
            "4/4 [==============================] - 0s 18ms/step - loss: 25.1646 - val_loss: 8.2350\n",
            "Epoch 5/50\n",
            "4/4 [==============================] - 0s 18ms/step - loss: 23.2285 - val_loss: 7.4353\n",
            "Epoch 6/50\n",
            "4/4 [==============================] - 0s 21ms/step - loss: 21.1280 - val_loss: 6.7719\n",
            "Epoch 7/50\n",
            "4/4 [==============================] - 0s 20ms/step - loss: 19.7565 - val_loss: 6.1695\n",
            "Epoch 8/50\n",
            "4/4 [==============================] - 0s 22ms/step - loss: 17.9011 - val_loss: 5.6616\n",
            "Epoch 9/50\n",
            "4/4 [==============================] - 0s 18ms/step - loss: 16.3910 - val_loss: 5.2257\n",
            "Epoch 10/50\n",
            "4/4 [==============================] - 0s 21ms/step - loss: 15.2818 - val_loss: 4.8609\n",
            "Epoch 11/50\n",
            "4/4 [==============================] - 0s 22ms/step - loss: 13.9605 - val_loss: 4.5615\n",
            "Epoch 12/50\n",
            "4/4 [==============================] - 0s 24ms/step - loss: 12.6318 - val_loss: 4.3173\n",
            "Epoch 13/50\n",
            "4/4 [==============================] - 0s 13ms/step - loss: 11.6452 - val_loss: 4.1169\n",
            "Epoch 14/50\n",
            "4/4 [==============================] - 0s 12ms/step - loss: 10.6307 - val_loss: 3.8975\n",
            "Epoch 15/50\n",
            "4/4 [==============================] - 0s 13ms/step - loss: 9.7366 - val_loss: 3.7201\n",
            "Epoch 16/50\n",
            "4/4 [==============================] - 0s 13ms/step - loss: 9.0336 - val_loss: 3.5552\n",
            "Epoch 17/50\n",
            "4/4 [==============================] - 0s 13ms/step - loss: 8.4283 - val_loss: 3.3880\n",
            "Epoch 18/50\n",
            "4/4 [==============================] - 0s 22ms/step - loss: 7.9162 - val_loss: 3.2069\n",
            "Epoch 19/50\n",
            "4/4 [==============================] - 0s 24ms/step - loss: 7.3134 - val_loss: 2.9966\n",
            "Epoch 20/50\n",
            "4/4 [==============================] - 0s 24ms/step - loss: 6.7891 - val_loss: 2.8210\n",
            "Epoch 21/50\n",
            "4/4 [==============================] - 0s 25ms/step - loss: 6.4101 - val_loss: 2.6507\n",
            "Epoch 22/50\n",
            "4/4 [==============================] - 0s 22ms/step - loss: 5.9601 - val_loss: 2.4938\n",
            "Epoch 23/50\n",
            "4/4 [==============================] - 0s 17ms/step - loss: 5.6274 - val_loss: 2.3943\n",
            "Epoch 24/50\n",
            "4/4 [==============================] - 0s 25ms/step - loss: 5.3761 - val_loss: 2.3355\n",
            "Epoch 25/50\n",
            "4/4 [==============================] - 0s 15ms/step - loss: 5.0630 - val_loss: 2.2647\n",
            "Epoch 26/50\n",
            "4/4 [==============================] - 0s 12ms/step - loss: 4.8268 - val_loss: 2.1915\n",
            "Epoch 27/50\n",
            "4/4 [==============================] - 0s 12ms/step - loss: 4.6384 - val_loss: 2.1420\n",
            "Epoch 28/50\n",
            "4/4 [==============================] - 0s 11ms/step - loss: 4.4784 - val_loss: 2.1098\n",
            "Epoch 29/50\n",
            "4/4 [==============================] - 0s 12ms/step - loss: 4.3040 - val_loss: 2.0771\n",
            "Epoch 30/50\n",
            "4/4 [==============================] - 0s 13ms/step - loss: 4.1266 - val_loss: 2.0195\n",
            "Epoch 31/50\n",
            "4/4 [==============================] - 0s 12ms/step - loss: 3.9630 - val_loss: 1.9842\n",
            "Epoch 32/50\n",
            "4/4 [==============================] - 0s 12ms/step - loss: 3.8283 - val_loss: 1.9561\n",
            "Epoch 33/50\n",
            "4/4 [==============================] - 0s 12ms/step - loss: 3.7362 - val_loss: 1.9526\n",
            "Epoch 34/50\n",
            "4/4 [==============================] - 0s 12ms/step - loss: 3.5757 - val_loss: 1.9457\n",
            "Epoch 35/50\n",
            "4/4 [==============================] - 0s 12ms/step - loss: 3.4596 - val_loss: 1.9341\n",
            "Epoch 36/50\n",
            "4/4 [==============================] - 0s 21ms/step - loss: 3.3258 - val_loss: 1.9177\n",
            "Epoch 37/50\n",
            "4/4 [==============================] - 0s 12ms/step - loss: 3.2492 - val_loss: 1.9018\n",
            "Epoch 38/50\n",
            "4/4 [==============================] - 0s 12ms/step - loss: 3.1049 - val_loss: 1.9147\n",
            "Epoch 39/50\n",
            "4/4 [==============================] - 0s 13ms/step - loss: 2.9800 - val_loss: 1.9375\n",
            "Epoch 40/50\n",
            "4/4 [==============================] - 0s 13ms/step - loss: 2.8805 - val_loss: 1.9647\n",
            "Epoch 41/50\n",
            "4/4 [==============================] - 0s 12ms/step - loss: 2.7818 - val_loss: 1.9703\n",
            "Epoch 42/50\n",
            "4/4 [==============================] - 0s 12ms/step - loss: 2.7190 - val_loss: 1.9678\n",
            "Epoch 43/50\n",
            "4/4 [==============================] - 0s 12ms/step - loss: 2.6178 - val_loss: 1.9545\n",
            "Epoch 44/50\n",
            "4/4 [==============================] - 0s 12ms/step - loss: 2.5405 - val_loss: 1.9259\n",
            "Epoch 45/50\n",
            "4/4 [==============================] - 0s 13ms/step - loss: 2.4316 - val_loss: 1.9234\n",
            "Epoch 46/50\n",
            "4/4 [==============================] - 0s 12ms/step - loss: 2.3564 - val_loss: 1.9270\n",
            "Epoch 47/50\n",
            "4/4 [==============================] - 0s 12ms/step - loss: 2.2841 - val_loss: 1.9296\n",
            "Epoch 48/50\n",
            "4/4 [==============================] - 0s 12ms/step - loss: 2.2054 - val_loss: 1.9320\n",
            "Epoch 49/50\n",
            "4/4 [==============================] - 0s 11ms/step - loss: 2.1363 - val_loss: 1.9267\n",
            "Epoch 50/50\n",
            "4/4 [==============================] - 0s 12ms/step - loss: 2.0563 - val_loss: 1.9288\n"
          ]
        },
        {
          "output_type": "execute_result",
          "data": {
            "text/plain": [
              "<keras.src.callbacks.History at 0x7f699cccde70>"
            ]
          },
          "metadata": {},
          "execution_count": 37
        }
      ]
    },
    {
      "cell_type": "code",
      "source": [
        "# Evaluar el modelo en el conjunto de prueba\n",
        "mse = model.evaluate(X_test_scaled, y_test)\n",
        "print(\"Error cuadrático medio en el conjunto de prueba:\", mse)"
      ],
      "metadata": {
        "id": "Bq8AWV5oqGtG",
        "outputId": "8b9afe09-2b0e-4ef6-9b1b-29060bb3550d",
        "colab": {
          "base_uri": "https://localhost:8080/"
        }
      },
      "execution_count": 38,
      "outputs": [
        {
          "output_type": "stream",
          "name": "stdout",
          "text": [
            "2/2 [==============================] - 0s 7ms/step - loss: 5.2554\n",
            "Error cuadrático medio en el conjunto de prueba: 5.255408763885498\n"
          ]
        }
      ]
    },
    {
      "cell_type": "code",
      "source": [
        "# Hacer predicciones en el conjunto de prueba\n",
        "predictions = model.predict(X_test_scaled)\n",
        "\n",
        "# Puedes continuar con la evaluación adicional según tus necesidades, como calcular métricas adicionales.\n",
        "# Por ejemplo, si la variable objetivo es discreta, puedes definir un umbral y clasificar las predicciones.\n",
        "# Recuerda ajustar las métricas según el contexto y tus objetivos."
      ],
      "metadata": {
        "id": "8LqVAXGoqGwJ",
        "outputId": "c8848088-1f16-4b08-efd7-430b244caaa2",
        "colab": {
          "base_uri": "https://localhost:8080/"
        }
      },
      "execution_count": 39,
      "outputs": [
        {
          "output_type": "stream",
          "name": "stdout",
          "text": [
            "2/2 [==============================] - 0s 6ms/step\n"
          ]
        }
      ]
    },
    {
      "cell_type": "markdown",
      "source": [
        "En este caso, cuanto menor sea el MSE, mejor será el rendimiento del modelo."
      ],
      "metadata": {
        "id": "66tIIpuA0y6i"
      }
    },
    {
      "cell_type": "code",
      "source": [
        "# Crear un DataFrame con todas las combinaciones posibles de las variables\n",
        "combinaciones = pd.DataFrame(columns=['zona', 'Edad veh', 'clase_veh', 'bonus'])\n",
        "\n",
        "# Rellenar el DataFrame con todas las combinaciones únicas de las variables\n",
        "combinaciones['zona'] = datos['zona'].unique()\n",
        "combinaciones['Edad veh'] = datos['Edad veh'].unique()\n",
        "combinaciones['clase_veh'] = datos['clase_veh'].unique()\n",
        "combinaciones['bonus'] = datos['bonus'].unique()\n",
        "\n",
        "# Convertir variables categóricas a variables dummy\n",
        "combinaciones = pd.get_dummies(combinaciones, columns=['zona'], drop_first=True)\n",
        "combinaciones = pd.get_dummies(combinaciones, columns=['Edad veh'], drop_first=True)\n",
        "combinaciones = pd.get_dummies(combinaciones, columns=['clase_veh'], drop_first=True)\n",
        "combinaciones = pd.get_dummies(combinaciones, columns=['bonus'], drop_first=True)\n",
        "\n",
        "# Normalizar las características (si es necesario)\n",
        "combinaciones_scaled = scaler.transform(combinaciones)\n",
        "\n",
        "# Hacer predicciones para cada combinación\n",
        "predicciones_combinadas = model.predict(combinaciones_scaled)\n",
        "\n",
        "# Agregar las predicciones al DataFrame de combinaciones\n",
        "combinaciones['nsin_predicha'] = predicciones_combinadas\n",
        "\n",
        "# Visualizar el DataFrame con las predicciones\n",
        "print(combinaciones)\n"
      ],
      "metadata": {
        "id": "dHaO_P1h6cHM",
        "outputId": "5a529a58-f03d-4f6a-acc7-13c635438a5f",
        "colab": {
          "base_uri": "https://localhost:8080/",
          "height": 390
        }
      },
      "execution_count": 45,
      "outputs": [
        {
          "output_type": "error",
          "ename": "ValueError",
          "evalue": "Length of values (3) does not match length of index (7)",
          "traceback": [
            "\u001b[0;31m---------------------------------------------------------------------------\u001b[0m",
            "\u001b[0;31mValueError\u001b[0m                                Traceback (most recent call last)",
            "\u001b[0;32m<ipython-input-45-70f10267f283>\u001b[0m in \u001b[0;36m<cell line: 6>\u001b[0;34m()\u001b[0m\n\u001b[1;32m      4\u001b[0m \u001b[0;31m# Rellenar el DataFrame con todas las combinaciones únicas de las variables\u001b[0m\u001b[0;34m\u001b[0m\u001b[0;34m\u001b[0m\u001b[0m\n\u001b[1;32m      5\u001b[0m \u001b[0mcombinaciones\u001b[0m\u001b[0;34m[\u001b[0m\u001b[0;34m'zona'\u001b[0m\u001b[0;34m]\u001b[0m \u001b[0;34m=\u001b[0m \u001b[0mdatos\u001b[0m\u001b[0;34m[\u001b[0m\u001b[0;34m'zona'\u001b[0m\u001b[0;34m]\u001b[0m\u001b[0;34m.\u001b[0m\u001b[0munique\u001b[0m\u001b[0;34m(\u001b[0m\u001b[0;34m)\u001b[0m\u001b[0;34m\u001b[0m\u001b[0;34m\u001b[0m\u001b[0m\n\u001b[0;32m----> 6\u001b[0;31m \u001b[0mcombinaciones\u001b[0m\u001b[0;34m[\u001b[0m\u001b[0;34m'Edad veh'\u001b[0m\u001b[0;34m]\u001b[0m \u001b[0;34m=\u001b[0m \u001b[0mdatos\u001b[0m\u001b[0;34m[\u001b[0m\u001b[0;34m'Edad veh'\u001b[0m\u001b[0;34m]\u001b[0m\u001b[0;34m.\u001b[0m\u001b[0munique\u001b[0m\u001b[0;34m(\u001b[0m\u001b[0;34m)\u001b[0m\u001b[0;34m\u001b[0m\u001b[0;34m\u001b[0m\u001b[0m\n\u001b[0m\u001b[1;32m      7\u001b[0m \u001b[0mcombinaciones\u001b[0m\u001b[0;34m[\u001b[0m\u001b[0;34m'clase_veh'\u001b[0m\u001b[0;34m]\u001b[0m \u001b[0;34m=\u001b[0m \u001b[0mdatos\u001b[0m\u001b[0;34m[\u001b[0m\u001b[0;34m'clase_veh'\u001b[0m\u001b[0;34m]\u001b[0m\u001b[0;34m.\u001b[0m\u001b[0munique\u001b[0m\u001b[0;34m(\u001b[0m\u001b[0;34m)\u001b[0m\u001b[0;34m\u001b[0m\u001b[0;34m\u001b[0m\u001b[0m\n\u001b[1;32m      8\u001b[0m \u001b[0mcombinaciones\u001b[0m\u001b[0;34m[\u001b[0m\u001b[0;34m'bonus'\u001b[0m\u001b[0;34m]\u001b[0m \u001b[0;34m=\u001b[0m \u001b[0mdatos\u001b[0m\u001b[0;34m[\u001b[0m\u001b[0;34m'bonus'\u001b[0m\u001b[0;34m]\u001b[0m\u001b[0;34m.\u001b[0m\u001b[0munique\u001b[0m\u001b[0;34m(\u001b[0m\u001b[0;34m)\u001b[0m\u001b[0;34m\u001b[0m\u001b[0;34m\u001b[0m\u001b[0m\n",
            "\u001b[0;32m/usr/local/lib/python3.10/dist-packages/pandas/core/frame.py\u001b[0m in \u001b[0;36m__setitem__\u001b[0;34m(self, key, value)\u001b[0m\n\u001b[1;32m   3978\u001b[0m         \u001b[0;32melse\u001b[0m\u001b[0;34m:\u001b[0m\u001b[0;34m\u001b[0m\u001b[0;34m\u001b[0m\u001b[0m\n\u001b[1;32m   3979\u001b[0m             \u001b[0;31m# set column\u001b[0m\u001b[0;34m\u001b[0m\u001b[0;34m\u001b[0m\u001b[0m\n\u001b[0;32m-> 3980\u001b[0;31m             \u001b[0mself\u001b[0m\u001b[0;34m.\u001b[0m\u001b[0m_set_item\u001b[0m\u001b[0;34m(\u001b[0m\u001b[0mkey\u001b[0m\u001b[0;34m,\u001b[0m \u001b[0mvalue\u001b[0m\u001b[0;34m)\u001b[0m\u001b[0;34m\u001b[0m\u001b[0;34m\u001b[0m\u001b[0m\n\u001b[0m\u001b[1;32m   3981\u001b[0m \u001b[0;34m\u001b[0m\u001b[0m\n\u001b[1;32m   3982\u001b[0m     \u001b[0;32mdef\u001b[0m \u001b[0m_setitem_slice\u001b[0m\u001b[0;34m(\u001b[0m\u001b[0mself\u001b[0m\u001b[0;34m,\u001b[0m \u001b[0mkey\u001b[0m\u001b[0;34m:\u001b[0m \u001b[0mslice\u001b[0m\u001b[0;34m,\u001b[0m \u001b[0mvalue\u001b[0m\u001b[0;34m)\u001b[0m\u001b[0;34m:\u001b[0m\u001b[0;34m\u001b[0m\u001b[0;34m\u001b[0m\u001b[0m\n",
            "\u001b[0;32m/usr/local/lib/python3.10/dist-packages/pandas/core/frame.py\u001b[0m in \u001b[0;36m_set_item\u001b[0;34m(self, key, value)\u001b[0m\n\u001b[1;32m   4172\u001b[0m         \u001b[0mensure\u001b[0m \u001b[0mhomogeneity\u001b[0m\u001b[0;34m.\u001b[0m\u001b[0;34m\u001b[0m\u001b[0;34m\u001b[0m\u001b[0m\n\u001b[1;32m   4173\u001b[0m         \"\"\"\n\u001b[0;32m-> 4174\u001b[0;31m         \u001b[0mvalue\u001b[0m \u001b[0;34m=\u001b[0m \u001b[0mself\u001b[0m\u001b[0;34m.\u001b[0m\u001b[0m_sanitize_column\u001b[0m\u001b[0;34m(\u001b[0m\u001b[0mvalue\u001b[0m\u001b[0;34m)\u001b[0m\u001b[0;34m\u001b[0m\u001b[0;34m\u001b[0m\u001b[0m\n\u001b[0m\u001b[1;32m   4175\u001b[0m \u001b[0;34m\u001b[0m\u001b[0m\n\u001b[1;32m   4176\u001b[0m         if (\n",
            "\u001b[0;32m/usr/local/lib/python3.10/dist-packages/pandas/core/frame.py\u001b[0m in \u001b[0;36m_sanitize_column\u001b[0;34m(self, value)\u001b[0m\n\u001b[1;32m   4913\u001b[0m \u001b[0;34m\u001b[0m\u001b[0m\n\u001b[1;32m   4914\u001b[0m         \u001b[0;32mif\u001b[0m \u001b[0mis_list_like\u001b[0m\u001b[0;34m(\u001b[0m\u001b[0mvalue\u001b[0m\u001b[0;34m)\u001b[0m\u001b[0;34m:\u001b[0m\u001b[0;34m\u001b[0m\u001b[0;34m\u001b[0m\u001b[0m\n\u001b[0;32m-> 4915\u001b[0;31m             \u001b[0mcom\u001b[0m\u001b[0;34m.\u001b[0m\u001b[0mrequire_length_match\u001b[0m\u001b[0;34m(\u001b[0m\u001b[0mvalue\u001b[0m\u001b[0;34m,\u001b[0m \u001b[0mself\u001b[0m\u001b[0;34m.\u001b[0m\u001b[0mindex\u001b[0m\u001b[0;34m)\u001b[0m\u001b[0;34m\u001b[0m\u001b[0;34m\u001b[0m\u001b[0m\n\u001b[0m\u001b[1;32m   4916\u001b[0m         \u001b[0;32mreturn\u001b[0m \u001b[0msanitize_array\u001b[0m\u001b[0;34m(\u001b[0m\u001b[0mvalue\u001b[0m\u001b[0;34m,\u001b[0m \u001b[0mself\u001b[0m\u001b[0;34m.\u001b[0m\u001b[0mindex\u001b[0m\u001b[0;34m,\u001b[0m \u001b[0mcopy\u001b[0m\u001b[0;34m=\u001b[0m\u001b[0;32mTrue\u001b[0m\u001b[0;34m,\u001b[0m \u001b[0mallow_2d\u001b[0m\u001b[0;34m=\u001b[0m\u001b[0;32mTrue\u001b[0m\u001b[0;34m)\u001b[0m\u001b[0;34m\u001b[0m\u001b[0;34m\u001b[0m\u001b[0m\n\u001b[1;32m   4917\u001b[0m \u001b[0;34m\u001b[0m\u001b[0m\n",
            "\u001b[0;32m/usr/local/lib/python3.10/dist-packages/pandas/core/common.py\u001b[0m in \u001b[0;36mrequire_length_match\u001b[0;34m(data, index)\u001b[0m\n\u001b[1;32m    569\u001b[0m     \"\"\"\n\u001b[1;32m    570\u001b[0m     \u001b[0;32mif\u001b[0m \u001b[0mlen\u001b[0m\u001b[0;34m(\u001b[0m\u001b[0mdata\u001b[0m\u001b[0;34m)\u001b[0m \u001b[0;34m!=\u001b[0m \u001b[0mlen\u001b[0m\u001b[0;34m(\u001b[0m\u001b[0mindex\u001b[0m\u001b[0;34m)\u001b[0m\u001b[0;34m:\u001b[0m\u001b[0;34m\u001b[0m\u001b[0;34m\u001b[0m\u001b[0m\n\u001b[0;32m--> 571\u001b[0;31m         raise ValueError(\n\u001b[0m\u001b[1;32m    572\u001b[0m             \u001b[0;34m\"Length of values \"\u001b[0m\u001b[0;34m\u001b[0m\u001b[0;34m\u001b[0m\u001b[0m\n\u001b[1;32m    573\u001b[0m             \u001b[0;34mf\"({len(data)}) \"\u001b[0m\u001b[0;34m\u001b[0m\u001b[0;34m\u001b[0m\u001b[0m\n",
            "\u001b[0;31mValueError\u001b[0m: Length of values (3) does not match length of index (7)"
          ]
        }
      ]
    },
    {
      "cell_type": "code",
      "source": [
        "# Crear un DataFrame con todas las combinaciones posibles de las variables zona y clase_veh\n",
        "combinaciones = pd.DataFrame(columns=['zona', 'clase veh'])\n",
        "\n",
        "# Rellenar el DataFrame con todas las combinaciones únicas de las variables\n",
        "combinaciones['zona'] = datos['zona'].unique()\n",
        "combinaciones['clase veh'] = datos['clase veh'].unique()\n",
        "\n",
        "# Convertir variables categóricas a variables dummy\n",
        "combinaciones = pd.get_dummies(combinaciones, columns=['zona'], drop_first=True)\n",
        "combinaciones = pd.get_dummies(combinaciones, columns=['clase veh'], drop_first=True)\n",
        "\n",
        "# Normalizar las características (si es necesario)\n",
        "combinaciones_scaled = scaler.transform(combinaciones)\n",
        "\n",
        "# Hacer predicciones para cada combinación\n",
        "predicciones_combinadas = model.predict(combinaciones_scaled)\n",
        "\n",
        "# Agregar las predicciones al DataFrame de combinaciones\n",
        "combinaciones['nsin_predicha'] = predicciones_combinadas\n",
        "\n",
        "# Visualizar el DataFrame con las predicciones\n",
        "print(combinaciones)\n"
      ],
      "metadata": {
        "id": "MHzX39Fw7tYS",
        "outputId": "cee76e7a-7385-495d-b9ab-370c15a91184",
        "colab": {
          "base_uri": "https://localhost:8080/",
          "height": 512
        }
      },
      "execution_count": 49,
      "outputs": [
        {
          "output_type": "error",
          "ename": "ValueError",
          "evalue": "The feature names should match those that were passed during fit.\nFeature names seen at fit time, yet now missing:\n- Bonus_2\n- Bonus_3\n- Edad veh_2\n- Edad veh_3\n- costesin\n- ...\n",
          "traceback": [
            "\u001b[0;31m---------------------------------------------------------------------------\u001b[0m",
            "\u001b[0;31mValueError\u001b[0m                                Traceback (most recent call last)",
            "\u001b[0;32m<ipython-input-49-6e453108a19d>\u001b[0m in \u001b[0;36m<cell line: 13>\u001b[0;34m()\u001b[0m\n\u001b[1;32m     11\u001b[0m \u001b[0;34m\u001b[0m\u001b[0m\n\u001b[1;32m     12\u001b[0m \u001b[0;31m# Normalizar las características (si es necesario)\u001b[0m\u001b[0;34m\u001b[0m\u001b[0;34m\u001b[0m\u001b[0m\n\u001b[0;32m---> 13\u001b[0;31m \u001b[0mcombinaciones_scaled\u001b[0m \u001b[0;34m=\u001b[0m \u001b[0mscaler\u001b[0m\u001b[0;34m.\u001b[0m\u001b[0mtransform\u001b[0m\u001b[0;34m(\u001b[0m\u001b[0mcombinaciones\u001b[0m\u001b[0;34m)\u001b[0m\u001b[0;34m\u001b[0m\u001b[0;34m\u001b[0m\u001b[0m\n\u001b[0m\u001b[1;32m     14\u001b[0m \u001b[0;34m\u001b[0m\u001b[0m\n\u001b[1;32m     15\u001b[0m \u001b[0;31m# Hacer predicciones para cada combinación\u001b[0m\u001b[0;34m\u001b[0m\u001b[0;34m\u001b[0m\u001b[0m\n",
            "\u001b[0;32m/usr/local/lib/python3.10/dist-packages/sklearn/utils/_set_output.py\u001b[0m in \u001b[0;36mwrapped\u001b[0;34m(self, X, *args, **kwargs)\u001b[0m\n\u001b[1;32m    138\u001b[0m     \u001b[0;34m@\u001b[0m\u001b[0mwraps\u001b[0m\u001b[0;34m(\u001b[0m\u001b[0mf\u001b[0m\u001b[0;34m)\u001b[0m\u001b[0;34m\u001b[0m\u001b[0;34m\u001b[0m\u001b[0m\n\u001b[1;32m    139\u001b[0m     \u001b[0;32mdef\u001b[0m \u001b[0mwrapped\u001b[0m\u001b[0;34m(\u001b[0m\u001b[0mself\u001b[0m\u001b[0;34m,\u001b[0m \u001b[0mX\u001b[0m\u001b[0;34m,\u001b[0m \u001b[0;34m*\u001b[0m\u001b[0margs\u001b[0m\u001b[0;34m,\u001b[0m \u001b[0;34m**\u001b[0m\u001b[0mkwargs\u001b[0m\u001b[0;34m)\u001b[0m\u001b[0;34m:\u001b[0m\u001b[0;34m\u001b[0m\u001b[0;34m\u001b[0m\u001b[0m\n\u001b[0;32m--> 140\u001b[0;31m         \u001b[0mdata_to_wrap\u001b[0m \u001b[0;34m=\u001b[0m \u001b[0mf\u001b[0m\u001b[0;34m(\u001b[0m\u001b[0mself\u001b[0m\u001b[0;34m,\u001b[0m \u001b[0mX\u001b[0m\u001b[0;34m,\u001b[0m \u001b[0;34m*\u001b[0m\u001b[0margs\u001b[0m\u001b[0;34m,\u001b[0m \u001b[0;34m**\u001b[0m\u001b[0mkwargs\u001b[0m\u001b[0;34m)\u001b[0m\u001b[0;34m\u001b[0m\u001b[0;34m\u001b[0m\u001b[0m\n\u001b[0m\u001b[1;32m    141\u001b[0m         \u001b[0;32mif\u001b[0m \u001b[0misinstance\u001b[0m\u001b[0;34m(\u001b[0m\u001b[0mdata_to_wrap\u001b[0m\u001b[0;34m,\u001b[0m \u001b[0mtuple\u001b[0m\u001b[0;34m)\u001b[0m\u001b[0;34m:\u001b[0m\u001b[0;34m\u001b[0m\u001b[0;34m\u001b[0m\u001b[0m\n\u001b[1;32m    142\u001b[0m             \u001b[0;31m# only wrap the first output for cross decomposition\u001b[0m\u001b[0;34m\u001b[0m\u001b[0;34m\u001b[0m\u001b[0m\n",
            "\u001b[0;32m/usr/local/lib/python3.10/dist-packages/sklearn/preprocessing/_data.py\u001b[0m in \u001b[0;36mtransform\u001b[0;34m(self, X, copy)\u001b[0m\n\u001b[1;32m    990\u001b[0m \u001b[0;34m\u001b[0m\u001b[0m\n\u001b[1;32m    991\u001b[0m         \u001b[0mcopy\u001b[0m \u001b[0;34m=\u001b[0m \u001b[0mcopy\u001b[0m \u001b[0;32mif\u001b[0m \u001b[0mcopy\u001b[0m \u001b[0;32mis\u001b[0m \u001b[0;32mnot\u001b[0m \u001b[0;32mNone\u001b[0m \u001b[0;32melse\u001b[0m \u001b[0mself\u001b[0m\u001b[0;34m.\u001b[0m\u001b[0mcopy\u001b[0m\u001b[0;34m\u001b[0m\u001b[0;34m\u001b[0m\u001b[0m\n\u001b[0;32m--> 992\u001b[0;31m         X = self._validate_data(\n\u001b[0m\u001b[1;32m    993\u001b[0m             \u001b[0mX\u001b[0m\u001b[0;34m,\u001b[0m\u001b[0;34m\u001b[0m\u001b[0;34m\u001b[0m\u001b[0m\n\u001b[1;32m    994\u001b[0m             \u001b[0mreset\u001b[0m\u001b[0;34m=\u001b[0m\u001b[0;32mFalse\u001b[0m\u001b[0;34m,\u001b[0m\u001b[0;34m\u001b[0m\u001b[0;34m\u001b[0m\u001b[0m\n",
            "\u001b[0;32m/usr/local/lib/python3.10/dist-packages/sklearn/base.py\u001b[0m in \u001b[0;36m_validate_data\u001b[0;34m(self, X, y, reset, validate_separately, **check_params)\u001b[0m\n\u001b[1;32m    546\u001b[0m             \u001b[0mvalidated\u001b[0m\u001b[0;34m.\u001b[0m\u001b[0;34m\u001b[0m\u001b[0;34m\u001b[0m\u001b[0m\n\u001b[1;32m    547\u001b[0m         \"\"\"\n\u001b[0;32m--> 548\u001b[0;31m         \u001b[0mself\u001b[0m\u001b[0;34m.\u001b[0m\u001b[0m_check_feature_names\u001b[0m\u001b[0;34m(\u001b[0m\u001b[0mX\u001b[0m\u001b[0;34m,\u001b[0m \u001b[0mreset\u001b[0m\u001b[0;34m=\u001b[0m\u001b[0mreset\u001b[0m\u001b[0;34m)\u001b[0m\u001b[0;34m\u001b[0m\u001b[0;34m\u001b[0m\u001b[0m\n\u001b[0m\u001b[1;32m    549\u001b[0m \u001b[0;34m\u001b[0m\u001b[0m\n\u001b[1;32m    550\u001b[0m         \u001b[0;32mif\u001b[0m \u001b[0my\u001b[0m \u001b[0;32mis\u001b[0m \u001b[0;32mNone\u001b[0m \u001b[0;32mand\u001b[0m \u001b[0mself\u001b[0m\u001b[0;34m.\u001b[0m\u001b[0m_get_tags\u001b[0m\u001b[0;34m(\u001b[0m\u001b[0;34m)\u001b[0m\u001b[0;34m[\u001b[0m\u001b[0;34m\"requires_y\"\u001b[0m\u001b[0;34m]\u001b[0m\u001b[0;34m:\u001b[0m\u001b[0;34m\u001b[0m\u001b[0;34m\u001b[0m\u001b[0m\n",
            "\u001b[0;32m/usr/local/lib/python3.10/dist-packages/sklearn/base.py\u001b[0m in \u001b[0;36m_check_feature_names\u001b[0;34m(self, X, reset)\u001b[0m\n\u001b[1;32m    479\u001b[0m                 )\n\u001b[1;32m    480\u001b[0m \u001b[0;34m\u001b[0m\u001b[0m\n\u001b[0;32m--> 481\u001b[0;31m             \u001b[0;32mraise\u001b[0m \u001b[0mValueError\u001b[0m\u001b[0;34m(\u001b[0m\u001b[0mmessage\u001b[0m\u001b[0;34m)\u001b[0m\u001b[0;34m\u001b[0m\u001b[0;34m\u001b[0m\u001b[0m\n\u001b[0m\u001b[1;32m    482\u001b[0m \u001b[0;34m\u001b[0m\u001b[0m\n\u001b[1;32m    483\u001b[0m     def _validate_data(\n",
            "\u001b[0;31mValueError\u001b[0m: The feature names should match those that were passed during fit.\nFeature names seen at fit time, yet now missing:\n- Bonus_2\n- Bonus_3\n- Edad veh_2\n- Edad veh_3\n- costesin\n- ...\n"
          ]
        }
      ]
    }
  ]
}