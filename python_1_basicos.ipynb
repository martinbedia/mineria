{
  "nbformat": 4,
  "nbformat_minor": 0,
  "metadata": {
    "colab": {
      "provenance": [],
      "toc_visible": true,
      "include_colab_link": true
    },
    "kernelspec": {
      "name": "python3",
      "display_name": "Python 3"
    },
    "language_info": {
      "name": "python"
    }
  },
  "cells": [
    {
      "cell_type": "markdown",
      "metadata": {
        "id": "view-in-github",
        "colab_type": "text"
      },
      "source": [
        "<a href=\"https://colab.research.google.com/github/martinbedia/mineria/blob/main/python_1_basicos.ipynb\" target=\"_parent\"><img src=\"https://colab.research.google.com/assets/colab-badge.svg\" alt=\"Open In Colab\"/></a>"
      ]
    },
    {
      "cell_type": "markdown",
      "source": [
        "# Introducción a Python\n",
        "\n",
        "El objetivo de esta clase es conocer los conceptos esenciales para comprender y utilizar Python de manera efectiva en la resolución de problemas y la manipulación de datos."
      ],
      "metadata": {
        "id": "i-_4GTBaot8Z"
      }
    },
    {
      "cell_type": "markdown",
      "source": [
        "# 1️⃣ Variables\n",
        "\n",
        "- Utilizamos variables como contenedores para almacenar y manipular datos identificados por un nombre.\n",
        "- Un nombre de variable es una etiqueta que usamos para hacer referencia a un valor almacenado en la memoria del ordenador.\n",
        "\n"
      ],
      "metadata": {
        "id": "1ZE9zt3arpIi"
      }
    },
    {
      "cell_type": "code",
      "source": [
        "# Definición de la variable x\n",
        "x = 5"
      ],
      "metadata": {
        "id": "iWtbdYZwbFIK"
      },
      "execution_count": null,
      "outputs": []
    },
    {
      "cell_type": "markdown",
      "source": [
        "**Reglas para nombres de variables:**\n",
        "- Comienzan con letra o guión bajo.\n",
        "- Después de la primera letra o guion bajo, puedes usar letras, números y guiones bajos en los nombres de las variables.\n",
        "- No se permiten espacios ni caracteres especiales (como `@`, `#`, `$`, `%`, etc.).\n",
        "- Distingue mayúsculas y minúsculas.\n",
        "- No utilizar palabras reservadas (`if`, `while`, `for`, `def`, `import`, etc.)\n",
        "\n"
      ],
      "metadata": {
        "id": "alWt4eOSbFWv"
      }
    },
    {
      "cell_type": "code",
      "source": [
        "# Distingue mayúsculas y minúsculas\n",
        "Nombre = \"Juan\"\n",
        "nombre = \"Ana\"\n",
        "print(Nombre)\n",
        "print(nombre)"
      ],
      "metadata": {
        "id": "0p5jpR0YbdXi",
        "colab": {
          "base_uri": "https://localhost:8080/"
        },
        "outputId": "e9872bd6-0821-4c2a-baf7-d4f4cbe8702e"
      },
      "execution_count": null,
      "outputs": [
        {
          "output_type": "stream",
          "name": "stdout",
          "text": [
            "Juan\n",
            "Ana\n"
          ]
        }
      ]
    },
    {
      "cell_type": "markdown",
      "source": [
        "siempre imprime lo ultimo que se escribe"
      ],
      "metadata": {
        "id": "1TsYZk4u4uno"
      }
    },
    {
      "cell_type": "markdown",
      "source": [
        "**Convención para nombres de variables**\n",
        "\n",
        "Aunque no es una regla estricta, es común seguir ciertas convenciones al nombrar variables en Python:\n",
        "- Usar letras minúsculas para los nombres de variables.\n",
        "- Separar palabras en el nombre de la variable utilizando guiones bajos (snake_case).\n",
        "- Elegir nombres descriptivos que indiquen el propósito de la variable, ya que esto facilita la lectura y comprensión del código.\n",
        "\n",
        "* Ejemplos de variables válidas: `edad`, `_dato`, `nombre_completo`.\n",
        "* Ejemplos de variables inválidas: `mi variable`, `123_numero`, `for` (palabra reservada).\n",
        "\n"
      ],
      "metadata": {
        "id": "hkpXGmtZbZus"
      }
    },
    {
      "cell_type": "markdown",
      "source": [
        "**Las variables en memoria**\n",
        "\n",
        "Una variable puede sobrescribirse cuando le asignamos un nuevo valor. Esto significa que el valor previamente almacenado en la variable se reemplaza por el nuevo valor."
      ],
      "metadata": {
        "id": "0N9O8NiuFWQq"
      }
    },
    {
      "cell_type": "code",
      "source": [
        "nombre = \"Juan\"\n",
        "print(nombre)\n",
        "nombre = \"Maria\"\n",
        "print(nombre)"
      ],
      "metadata": {
        "id": "kIFcs-2aFdqY",
        "colab": {
          "base_uri": "https://localhost:8080/"
        },
        "outputId": "e65bcb5b-7e10-40f6-dd6b-653ceb18da5d"
      },
      "execution_count": null,
      "outputs": [
        {
          "output_type": "stream",
          "name": "stdout",
          "text": [
            "Juan\n",
            "Maria\n"
          ]
        }
      ]
    },
    {
      "cell_type": "markdown",
      "source": [
        "Si tengo `a`, `b`, `c = a+ b` y modifico `b`. ¿Cambia el valor de `c`?"
      ],
      "metadata": {
        "id": "iW33Z3FLFqZW"
      }
    },
    {
      "cell_type": "code",
      "source": [
        "a=5\n",
        "b=3\n",
        "c=a+b\n",
        "print(c)\n",
        "b=1\n",
        "print(c)"
      ],
      "metadata": {
        "id": "8LEta89mFxTr",
        "colab": {
          "base_uri": "https://localhost:8080/"
        },
        "outputId": "8bc693e2-1fa3-4e1b-b739-7a837739b1a5"
      },
      "execution_count": null,
      "outputs": [
        {
          "output_type": "stream",
          "name": "stdout",
          "text": [
            "8\n",
            "8\n"
          ]
        }
      ]
    },
    {
      "cell_type": "markdown",
      "source": [
        "# 2️⃣ Tipos de datos\n",
        "\n",
        "\n"
      ],
      "metadata": {
        "id": "7Sx44JIlueGc"
      }
    },
    {
      "cell_type": "markdown",
      "source": [
        "Los tipos permiten que los lenguajes de programación realicen operaciones específicas de manera adecuada, favoreciendo el rendimiento y la detección de errores temprana. Existen distintos tipos, los tipos de datos básicos más comunes en Python incluyen:\n",
        "\n",
        "- **Enteros** (`int`): números enteros, por ejemplo, `edad = 25`\n",
        "- **Flotantes** (`float`): números decimales, por ejemplo, `altura = 1.75`\n",
        "- **Cadenas de texto** (`str`): texto entre comillas, por ejemplo, `nombre = \"Maria\"`\n",
        "- **Booleanos** (`bool`): valores verdaderos o falsos, por ejemplo, `es_estudiante = True`\n",
        "- **Ningún tipo** (`NoneType`): Representa la ausencia de valor o un valor nulo. Se utiliza para indicar la falta de un valor en una variable o función.\n",
        "\n",
        "Otros tipos básicos, que veremos más en detalle en las próximas secciones son:\n",
        "- **Listas** (list): Representan secuencias ordenadas de elementos, que pueden ser de diferentes tipos. Se definen mediante corchetes `[ ]` y elementos separados por comas. Ejemplo: `[1, 2, 3, 'texto']`.\n",
        "- **Conjuntos** (set): Representan colecciones de elementos únicos, sin un orden específico. Se definen mediante llaves `{ }` o la función `set()`. Ejemplo: `{1, 2, 3}`.\n",
        "- **Tuplas** (tuple): Son similares a las listas, pero son inmutables, lo que significa que no se pueden modificar una vez creadas. Se definen mediante paréntesis `( )`. Ejemplo: `(1, 2, 3, 'texto')`.\n",
        "- **Diccionarios** (dict): Representan colecciones de pares clave-valor, donde cada clave está asociada a un valor. Se definen mediante llaves `{ }`. Ejemplo: `{'nombre': 'Juan', 'edad': 30}`.\n",
        "\n",
        "Python es un **lenguaje de tipado dinámico**, lo que significa que no es necesario declarar explícitamente el tipo de variable. Es decir, Python asigna automáticamente el tipo de dato basado en el valor asignado. La función `type()` permite averiguar el tipo de una variable en Python."
      ],
      "metadata": {
        "id": "aObST-VoewT2"
      }
    },
    {
      "cell_type": "code",
      "source": [
        "entero = 32\n",
        "flotante = 3.21\n",
        "cadena = \"Hola mundo\"\n",
        "booleano = True\n",
        "nada= None\n",
        "\n",
        "print(type(entero))\n",
        "print(type(flotante))\n",
        "print(type(cadena))\n",
        "print(type(booleano))\n",
        "print(type(nada))"
      ],
      "metadata": {
        "id": "0ok889iFbYBS",
        "colab": {
          "base_uri": "https://localhost:8080/"
        },
        "outputId": "26b1736e-ef19-448f-c3a7-9f7369053d11"
      },
      "execution_count": null,
      "outputs": [
        {
          "output_type": "stream",
          "name": "stdout",
          "text": [
            "<class 'int'>\n",
            "<class 'float'>\n",
            "<class 'str'>\n",
            "<class 'bool'>\n",
            "<class 'NoneType'>\n"
          ]
        }
      ]
    },
    {
      "cell_type": "markdown",
      "source": [
        "### Conversión de tipos de datos\n",
        "\n",
        "A veces necesitamos convertir entre tipos de datos, utilizando funciones como `int()`, `float()`, `str()`, `list()`, etc. Esta operación se conoce comúnmente como _casting_ o _casteo_ en programación.\n"
      ],
      "metadata": {
        "id": "v3QOp6Fyd84t"
      }
    },
    {
      "cell_type": "markdown",
      "source": [
        "habitual cargando de ficheros externos. hay que castear"
      ],
      "metadata": {
        "id": "5oc1aYGE7wMX"
      }
    },
    {
      "cell_type": "code",
      "source": [
        "variable_str= \"25\"\n",
        "print(type(variable_str))\n",
        "\n",
        "print(type(int(variable_str)))\n",
        "print(int(variable_str) + 1)\n"
      ],
      "metadata": {
        "id": "_kNS1VGAgjVy",
        "colab": {
          "base_uri": "https://localhost:8080/"
        },
        "outputId": "f46e74b7-9912-41c2-b39d-adf10add8b1f"
      },
      "execution_count": null,
      "outputs": [
        {
          "output_type": "stream",
          "name": "stdout",
          "text": [
            "<class 'str'>\n",
            "<class 'int'>\n",
            "26\n"
          ]
        }
      ]
    },
    {
      "cell_type": "markdown",
      "source": [
        "# 3️⃣ Operadores\n",
        "\n",
        "Los operadores son símbolos especiales que se utilizan para realizar operaciones en valores y variables. Existen diferentes tipos de comparadores:\n",
        "- aritméticos\n",
        "- de comparación\n",
        "- lógicos\n",
        "\n",
        "### Operadores aritméticos\n",
        "\n",
        "Los operadores aritméticos se utilizan para realizar operaciones matemáticas en números.\n",
        "\n",
        "- **`+` (Adición)**: Suma dos valores.\n",
        "- **`-` (Sustracción)**: Resta el segundo valor del primero. También es utilizado para la negación unaria.\n",
        "- **`*` (Multiplicación)**: Multiplica dos valores.\n",
        "- **`/` (División)**: Divide el primer valor por el segundo.\n",
        "- **`%` (Módulo)**: Devuelve el resto de la división del primer valor por el segundo.\n",
        "- **` **` (Exponenciación)**: Eleva el primer valor a la potencia del segundo.\n",
        "\n"
      ],
      "metadata": {
        "id": "IZ3sl1oJsVM5"
      }
    },
    {
      "cell_type": "code",
      "source": [
        "a=10\n",
        "b=3\n",
        "\n",
        "suma= a +b\n",
        "print(suma)\n",
        "resta= a-b\n",
        "print(resta)\n",
        "multiplicacion= a*b\n",
        "print(multiplicacion)\n",
        "division= a/b\n",
        "print(division)\n",
        "modulo= a%b   #resto\n",
        "print(modulo)\n",
        "exponenciacion= a**b\n",
        "print(exponenciacion)\n",
        "#cuando hacemos operaciones de un tipo el resultado se infiere (entero mas flotante sera flotante, entero y entero sera entero)"
      ],
      "metadata": {
        "id": "xaapFbWThCo7",
        "colab": {
          "base_uri": "https://localhost:8080/"
        },
        "outputId": "37b02c3e-d66e-46ea-97af-d1e8903c38e5"
      },
      "execution_count": null,
      "outputs": [
        {
          "output_type": "stream",
          "name": "stdout",
          "text": [
            "13\n",
            "7\n",
            "30\n",
            "3.3333333333333335\n",
            "1\n",
            "1000\n"
          ]
        }
      ]
    },
    {
      "cell_type": "markdown",
      "source": [
        "Además de estos operadores básicos, Python permite operaciones abreviadas utilizando el operador de asignación `=` en combinación con los operadores aritméticos. Por ejemplo, `+=`, la adición compuesta, agrega el valor del lado derecho al valor de la variable del lado izquierdo y almacena el resultado en la variable de la izquierda. Esta composición puede hacerse con cualquier operador aritmético."
      ],
      "metadata": {
        "id": "m5VUHvDZgULp"
      }
    },
    {
      "cell_type": "code",
      "source": [
        "numero = 5\n",
        "numero = numero +3\n",
        "print(numero)"
      ],
      "metadata": {
        "id": "IcZ7IeZbgTnK",
        "colab": {
          "base_uri": "https://localhost:8080/"
        },
        "outputId": "3567b530-d5b1-44c1-faca-32e96299a924"
      },
      "execution_count": null,
      "outputs": [
        {
          "output_type": "stream",
          "name": "stdout",
          "text": [
            "8\n"
          ]
        }
      ]
    },
    {
      "cell_type": "code",
      "source": [
        "numero = 5\n",
        "numero +=3   #a la variable de la izq le hago la operacion sobre si misma con el valor de la derecha\n",
        "print(numero)"
      ],
      "metadata": {
        "colab": {
          "base_uri": "https://localhost:8080/"
        },
        "id": "wRvrdVx-9eR2",
        "outputId": "c643aa68-45c7-45ff-b503-721a57bc685d"
      },
      "execution_count": null,
      "outputs": [
        {
          "output_type": "stream",
          "name": "stdout",
          "text": [
            "8\n"
          ]
        }
      ]
    },
    {
      "cell_type": "markdown",
      "source": [
        "Es importante tener en cuenta que los operadores tienen una precedencia específica, lo que significa que algunos se evalúan antes que otros. En concreto, el orden de precedencia de los operadores aritméticos es:\n",
        "\n",
        "1. `**` (Exponenciación)\n",
        "2. `-` y `+` (Negación unaria y positiva)\n",
        "3. `*`, `/`, `%` (Multiplicación, División y Módulo)\n",
        "4. `+` y `-` (Suma y Sustracción)\n",
        "\n",
        "Para controlar el orden de evaluación, se utilizan paréntesis para alterar el orden de precedencia.\n"
      ],
      "metadata": {
        "id": "nqaeXrwJiy7k"
      }
    },
    {
      "cell_type": "code",
      "source": [
        "#error tipico\n",
        "-5**2\n",
        "#seria\n",
        "(-5)**2"
      ],
      "metadata": {
        "id": "VWxZY3gtktpP",
        "colab": {
          "base_uri": "https://localhost:8080/"
        },
        "outputId": "5f5bb3aa-7dca-4adb-ded6-6890c0964cb9"
      },
      "execution_count": null,
      "outputs": [
        {
          "output_type": "execute_result",
          "data": {
            "text/plain": [
              "25"
            ]
          },
          "metadata": {},
          "execution_count": 19
        }
      ]
    },
    {
      "cell_type": "code",
      "source": [
        "resultado= (3+4)*5\n",
        "print(resultado)"
      ],
      "metadata": {
        "id": "AXNNdi_rjGHP",
        "colab": {
          "base_uri": "https://localhost:8080/"
        },
        "outputId": "27a1ffa3-e481-4bc3-f481-ac07007e81d9"
      },
      "execution_count": null,
      "outputs": [
        {
          "output_type": "stream",
          "name": "stdout",
          "text": [
            "35\n"
          ]
        }
      ]
    },
    {
      "cell_type": "markdown",
      "source": [
        "\n",
        "### Operadores de comparación\n",
        "\n",
        "Los operadores de comparación se utilizan para comparar dos valores y devuelven un valor booleano (`True` o `False`):\n",
        "\n",
        "- **`==` (Igual a)**: Comprueba si dos valores son iguales.\n",
        "- **`!=` (Diferente de)**: Comprueba si dos valores son diferentes.\n",
        "- **`>` (Mayor que)**: Comprueba si el primer valor es mayor que el segundo.\n",
        "- **`<` (Menor que)**: Comprueba si el primer valor es menor que el segundo.\n",
        "- **`>=` (Mayor o igual que)**: Comprueba si el primer valor es mayor o igual que el segundo.\n",
        "- **`<=` (Menor o igual que)**: Comprueba si el primer valor es menor o igual que el segundo."
      ],
      "metadata": {
        "id": "qOPasuO1hBkw"
      }
    },
    {
      "cell_type": "code",
      "source": [
        "x=5\n",
        "y=10\n",
        "\n",
        "igual= x==y\n",
        "print(igual)\n",
        "diferente= x!=y\n",
        "print(diferente)\n",
        "mayor= x>y\n",
        "print(mayor)\n"
      ],
      "metadata": {
        "id": "wCcBut69huD4",
        "colab": {
          "base_uri": "https://localhost:8080/"
        },
        "outputId": "c29bfc1a-b059-4351-f8be-4432625cf884"
      },
      "execution_count": null,
      "outputs": [
        {
          "output_type": "stream",
          "name": "stdout",
          "text": [
            "False\n",
            "True\n",
            "False\n"
          ]
        }
      ]
    },
    {
      "cell_type": "markdown",
      "source": [
        "\n",
        "A diferencia de otros lenguajes de programación, todas las operaciones de comparación en Python tienen la misma prioridad, que es menor que la de cualquier operación aritmética, de desplazamiento o de bits (estas dos últimas no las veremos). Además, también a diferencia de otros lenguajes de programación, es posible utilizar expresiones como `a < b < c` que involucran más de un operador lógico. Las comparaciones pueden encadenarse de manera arbitraria, por ejemplo, `x < y <= z` es equivalente a `x < y and y <= z`, con la salvedad de que `y` se evalúa solo una vez (pero en ambos casos `z` no se evalúa en absoluto cuando se encuentra que `x < y` es `False`). Esto se debe a que las expresiones se evalúan de izquierda a derecha y de manera cortocircuitada, detieniendo la evaluación tan pronto como se conoce el resultado final de la expresión.\n",
        "\n",
        "Por ejemplo el caso de `x < y <= z`, Python evalúa primero `x < y`. Si esta expresión es `False`, no tiene sentido evaluar el resto de la expresión (`y <= z`) porque, independientemente del valor de `y` y `z`, la expresión completa ya se sabe que será `False`. Por lo tanto, Python cortocircuita la evaluación y no evalúa `y <= z` en absoluto.\n",
        "\n",
        "Este comportamiento de cortocircuito es eficiente y evita evaluaciones innecesarias, mejorando el rendimiento.\n"
      ],
      "metadata": {
        "id": "XZnnCsJaffK8"
      }
    },
    {
      "cell_type": "code",
      "source": [
        "a=5\n",
        "b=10\n",
        "c=15\n",
        "a<b<c  #a < b and b < c"
      ],
      "metadata": {
        "id": "dlU1GREniW3S",
        "colab": {
          "base_uri": "https://localhost:8080/"
        },
        "outputId": "1a98f347-74d9-43bc-a53c-158657c8f17f"
      },
      "execution_count": null,
      "outputs": [
        {
          "output_type": "execute_result",
          "data": {
            "text/plain": [
              "True"
            ]
          },
          "metadata": {},
          "execution_count": 24
        }
      ]
    },
    {
      "cell_type": "code",
      "source": [],
      "metadata": {
        "id": "hSBHVpvijE67"
      },
      "execution_count": null,
      "outputs": []
    },
    {
      "cell_type": "code",
      "source": [],
      "metadata": {
        "id": "fwA6nWk-i0aE"
      },
      "execution_count": null,
      "outputs": []
    },
    {
      "cell_type": "code",
      "source": [],
      "metadata": {
        "id": "vDFolOHSi5lq"
      },
      "execution_count": null,
      "outputs": []
    },
    {
      "cell_type": "markdown",
      "source": [
        "En Python, existe una relación intrínseca entre los tipos booleanos (`bool`) y los enteros (`int`). De hecho, los valores booleanos `True` y `False` son representados internamente como enteros con valores específicos:\n",
        "\n",
        "- `True` se representa internamente como el entero `1`.\n",
        "- `False` se representa internamente como el entero `0`.\n",
        "\n",
        "Esta relación entre tipos booleanos y enteros tiene algunas implicaciones importantes:\n",
        "\n",
        "1. **Operaciones numéricas:** Puedes realizar operaciones aritméticas y matemáticas en valores booleanos como si fueran enteros. Por ejemplo, puedes sumarlos, restarlos, multiplicarlos o dividirlos. La operación `True + True` es igual a `2`, y `False * 5` es igual a `0`.\n",
        "\n",
        "2. **Conversión entre tipos:** Puedes usar funciones de casting como `int()` para convertir valores booleanos en enteros. Por ejemplo, `int(True)` devuelve `1`, y `int(False)` devuelve `0`.\n"
      ],
      "metadata": {
        "id": "R1XzBu4Ih_zZ"
      }
    },
    {
      "cell_type": "code",
      "source": [
        "int(True)"
      ],
      "metadata": {
        "id": "fjMyRBBSiSwQ",
        "colab": {
          "base_uri": "https://localhost:8080/"
        },
        "outputId": "c6bd0cc7-51c3-4305-f35f-c8b915b35947"
      },
      "execution_count": null,
      "outputs": [
        {
          "output_type": "execute_result",
          "data": {
            "text/plain": [
              "1"
            ]
          },
          "metadata": {},
          "execution_count": 25
        }
      ]
    },
    {
      "cell_type": "markdown",
      "source": [
        "A pesar de que los valores mayores que 1 no son iguales a `True`, sí que son considerador `True` al hacer el casteo. Esto significa que en muchos contextos, los valores numéricos y los valores booleanos pueden usarse de manera intercambiable. Por ejemplo, adelantándonos a la futura sección de estructuras de control, en una expresión condicional `if 5:` sería equivalente a escribir `if True:`, ya que el código dentro del bloque `if` se ejecutará porque tanto `5` como `True` se consideran verdaderos. Esto hace que no sea común ver condiciones del tipo `num != 0`."
      ],
      "metadata": {
        "id": "pds7djDzhDwq"
      }
    },
    {
      "cell_type": "code",
      "source": [
        "num= 3\n",
        "if num:\n",
        "  print(\"Hola\")"
      ],
      "metadata": {
        "id": "lg4v7BQEhDN8",
        "colab": {
          "base_uri": "https://localhost:8080/"
        },
        "outputId": "cb1f4491-0422-4628-f531-3dfe797c3af6"
      },
      "execution_count": null,
      "outputs": [
        {
          "output_type": "stream",
          "name": "stdout",
          "text": [
            "Hola\n"
          ]
        }
      ]
    },
    {
      "cell_type": "markdown",
      "source": [
        "\n",
        "### Operadores lógicos\n",
        "\n",
        "Los operadores lógicos se utilizan para combinar expresiones lógicas y devuelven un valor booleano (`True` o `False`).\n",
        "\n",
        "- **`and` (Y)**: Devuelve `True` si ambas expresiones son verdaderas.\n",
        "- **`or` (O)**: Devuelve `True` si al menos una de las expresiones es verdadera.\n",
        "- **`not` (NO)**: Devuelve el inverso de la expresión.\n",
        "\n",
        "Concretamente, las tablas de verdad de la conjunción y disyunción son:\n",
        "\n",
        "**Operador `and`**:\n",
        "\n",
        "| A     | B     | Resultado |\n",
        "|-------|-------|-----------|\n",
        "| `True`| `True`| `True`    |\n",
        "| `True`| `False`| `False`   |\n",
        "| `False`| `True`| `False`   |\n",
        "| `False`| `False`| `False`   |\n",
        "\n",
        "**Operador `or`**:\n",
        "\n",
        "| A     | B     | Resultado |\n",
        "|-------|-------|-----------|\n",
        "| `True`| `True`| `True`    |\n",
        "| `True`| `False`| `True`    |\n",
        "| `False`| `True`| `True`    |\n",
        "| `False`| `False`| `False`   |\n"
      ],
      "metadata": {
        "id": "VhQ2MKbwhqKg"
      }
    },
    {
      "cell_type": "code",
      "source": [
        "p = True\n",
        "q = False\n",
        "\n",
        "y = p and q\n",
        "o = p or q\n",
        "no_p = not p\n",
        "\n",
        "print(y)\n",
        "print(o)\n",
        "print(no_p)"
      ],
      "metadata": {
        "colab": {
          "base_uri": "https://localhost:8080/"
        },
        "id": "JhczHDPli3SQ",
        "outputId": "66b4cafd-c2ed-4667-88df-d1ad8e75afe7"
      },
      "execution_count": null,
      "outputs": [
        {
          "output_type": "stream",
          "name": "stdout",
          "text": [
            "False\n",
            "True\n",
            "False\n"
          ]
        }
      ]
    },
    {
      "cell_type": "markdown",
      "source": [
        "## 🏋🏻 Ejercicios\n",
        "\n",
        "1. Calcula el área de un triángulo dado su base y altura. Muestra el mensaje _\"El área del triángulo es: ...\"_\n",
        "2. Convierte grados Celsius a grados Fahrenheit utilizando la fórmula: Fahrenheit = (Celsius \\* 9/5) + 32. Muestra el mensaje _\"La temperatura en grados Fahrenheit es: ...\"_\n",
        "3. Escribe un programa que calcule el precio total de una compra después de aplicar un descuento. Se proporciona el precio original del artículo y el porcentaje de descuento. El precio total se calcula como: Precio total = Precio original - (Precio original \\* Porcentaje de descuento / 100). Muestra el mensaje _\"El precio total con descuento es: ...\"_\n",
        "\n",
        "\n"
      ],
      "metadata": {
        "id": "hcbNA3E6jE-T"
      }
    },
    {
      "cell_type": "code",
      "source": [
        "## Ejercicio 1\n",
        "base=4\n",
        "altura=3\n",
        "area=(base*altura)/2\n",
        "print(\"El area del triangulo es\",area)"
      ],
      "metadata": {
        "id": "yx9Z7nQZkaGn",
        "colab": {
          "base_uri": "https://localhost:8080/"
        },
        "outputId": "01debc40-29cd-4eaa-dd33-158304546c8d"
      },
      "execution_count": null,
      "outputs": [
        {
          "output_type": "stream",
          "name": "stdout",
          "text": [
            "El area del triangulo es 6.0\n"
          ]
        }
      ]
    },
    {
      "cell_type": "code",
      "source": [
        "## Ejercicio 2\n",
        "Celsius= 25\n",
        "Fahrenheit = (Celsius * 9/5) + 32\n",
        "print(\"La temperatura en grados Fahrenheit es:\",Fahrenheit)"
      ],
      "metadata": {
        "id": "xnmGhbaLkbZM",
        "colab": {
          "base_uri": "https://localhost:8080/"
        },
        "outputId": "729e453b-4035-4249-e8cf-f2d85e056d09"
      },
      "execution_count": null,
      "outputs": [
        {
          "output_type": "stream",
          "name": "stdout",
          "text": [
            "La temperatura en grados Fahrenheit es: 77.0\n"
          ]
        }
      ]
    },
    {
      "cell_type": "code",
      "source": [
        "## Ejercicio 3\n",
        "precio_original = 50\n",
        "descuento= 20\n",
        "#calculo el precio con descuento\n",
        "precio_total= precio_original - (precio_original * descuento / 100)\n",
        "#mostrar resultado\n",
        "print(\"El precio total con descuento es\",precio_total)"
      ],
      "metadata": {
        "id": "nc-9IKj7mubE",
        "colab": {
          "base_uri": "https://localhost:8080/"
        },
        "outputId": "63d265b6-2adc-4e02-af77-4641b0715bf9"
      },
      "execution_count": null,
      "outputs": [
        {
          "output_type": "stream",
          "name": "stdout",
          "text": [
            "El precio total con descuento es 40.0\n"
          ]
        }
      ]
    },
    {
      "cell_type": "markdown",
      "source": [
        "# 4️⃣ Estructuras de control\n",
        "\n",
        "\n",
        "\n",
        "\n",
        "\n"
      ],
      "metadata": {
        "id": "uPsj1QzGsYL5"
      }
    },
    {
      "cell_type": "markdown",
      "source": [
        "La estructura de control `if-else` se utiliza para ejecutar un bloque de código si se cumple una condición (`if`) o ejecutar un bloque alternativo si la condición no se cumple (`else`). La sintaxis básica es la siguiente:\n",
        "\n",
        "```python\n",
        "if condicion:\n",
        "    # Código a ejecutar si la condición es verdadera\n",
        "else: # opcional\n",
        "    # Código a ejecutar si la condición es falsa\n",
        "```\n",
        "\n",
        "- La `condición` es una expresión que se evalúa como `True` o `False`.\n",
        "- Si la `condición` es `True`, se ejecuta el bloque de código debajo del `if`.\n",
        "- Si la `condición` es `False`, se ejecuta el bloque de código debajo del `else` (si está presente).\n",
        "\n",
        "La adición de `elif` permite verificar múltiples condiciones de manera secuencial hasta que se encuentre una que sea verdadera o se llegue al bloque `else`. Concretamente permite ejecutar un bloque de código si se cumple una condición (`if`) o, en su lugar, verificar condiciones adicionales (`elif`) si la primera condición no se cumple. También puedes especificar un bloque alternativo (`else`) que se ejecutará si ninguna de las condiciones anteriores es verdadera. La sintaxis básica es la siguiente:\n",
        "\n",
        "```python\n",
        "if condicion1:\n",
        "    # Código a ejecutar si la condición1 es verdadera\n",
        "elif condicion2:\n",
        "    # Código a ejecutar si la condición2 es verdadera (opcional)\n",
        "elif condicion3:\n",
        "    # Código a ejecutar si la condición3 es verdadera (opcional)\n",
        "else:\n",
        "    # Código a ejecutar si ninguna de las condiciones anteriores es verdadera (opcional)\n",
        "```\n",
        "\n",
        "A continuación se muestran un par de ejemplos."
      ],
      "metadata": {
        "id": "g1xjHultnqj5"
      }
    },
    {
      "cell_type": "markdown",
      "source": [
        "hay que poner espacios antes porque sino no lee el if, no se utilizan llaves"
      ],
      "metadata": {
        "id": "TM2t1schBrik"
      }
    },
    {
      "cell_type": "code",
      "source": [
        "# Ejemplo: verificar si un número es par o impar\n",
        "numero= 5\n",
        "\n",
        "if numero % 2 == 0:\n",
        "  print(numero,\"es un numero par\")\n",
        "else:\n",
        "  print(numero,\"es un numero impar\")"
      ],
      "metadata": {
        "id": "CT4a1Y-JnyS2",
        "colab": {
          "base_uri": "https://localhost:8080/"
        },
        "outputId": "2faebd73-5378-47d6-fb83-eaec35e80d49"
      },
      "execution_count": null,
      "outputs": [
        {
          "output_type": "stream",
          "name": "stdout",
          "text": [
            "5 es un numero impar\n"
          ]
        }
      ]
    },
    {
      "cell_type": "code",
      "source": [
        "# Ejemplo: Comprobar si un número es positivo o negativo\n",
        "numero= -3\n",
        "\n",
        "if numero>0:\n",
        "  print(\"El numero es positivo\")\n",
        "elif numero <0:\n",
        "  print(\"El numero es negativo\")\n",
        "else:\n",
        "  print(\"El numero es cero\")"
      ],
      "metadata": {
        "id": "5ksg7Ah8n_-I",
        "colab": {
          "base_uri": "https://localhost:8080/"
        },
        "outputId": "9337e020-b7b1-40cd-ba78-8252809836c0"
      },
      "execution_count": null,
      "outputs": [
        {
          "output_type": "stream",
          "name": "stdout",
          "text": [
            "El numero es negativo\n"
          ]
        }
      ]
    },
    {
      "cell_type": "markdown",
      "source": [
        "## 🏋🏻 Ejercicios\n",
        "\n",
        "1. Comprueba si un número dado es divisible por 3 y por 5\n",
        "2. Clasifica la edad de una persona teniendo en cuenta que [0, 18] es \"menor de edad\", [18, 65] es \"adulto\" y los mayores de esas edad serán \"adulto mayor\".\n",
        "3. Calcular el total a pagar por una compra sabiendo que si el importe es superior a 100€ se aplica un 10% de descuento al precio final."
      ],
      "metadata": {
        "id": "-QZuxZl4mXVX"
      }
    },
    {
      "cell_type": "code",
      "source": [
        "## Ejercicio 1\n",
        "numero= 20\n",
        "\n",
        "if numero % 3 == 0 and numero % 5 == 0:\n",
        "  print(numero,\"El numero es divisible por 3 y 5\")\n",
        "else:\n",
        "  print(numero,\"El numero no es divisible por 3 y 5 a la vez\")"
      ],
      "metadata": {
        "id": "KR-eZrilkcFd",
        "colab": {
          "base_uri": "https://localhost:8080/"
        },
        "outputId": "596eef65-9fd0-4d39-c2b9-7a42b0183bb8"
      },
      "execution_count": null,
      "outputs": [
        {
          "output_type": "stream",
          "name": "stdout",
          "text": [
            "20 El numero no es divisible por 3 y 5 a la vez\n"
          ]
        }
      ]
    },
    {
      "cell_type": "code",
      "source": [
        "## Ejercicio 2\n",
        "edad= 26\n",
        "\n",
        "if edad < 18:\n",
        "  print(\"Eres menor de edad\")\n",
        "elif edad < 65:\n",
        "  print(\"Eres adulto \")\n",
        "else:\n",
        "  print(\"Eres adulto mayor\")\n"
      ],
      "metadata": {
        "id": "2gJCJZrVoXaF",
        "colab": {
          "base_uri": "https://localhost:8080/"
        },
        "outputId": "1c1ddd80-3598-40b6-9af2-530b06c3106a"
      },
      "execution_count": null,
      "outputs": [
        {
          "output_type": "stream",
          "name": "stdout",
          "text": [
            "Eres adulto \n"
          ]
        }
      ]
    },
    {
      "cell_type": "code",
      "source": [
        "## Ejercicio 3\n",
        "importe= 130\n",
        "\n",
        "if importe <= 100:\n",
        "  print(\"El precio final es\",importe)\n",
        "else:\n",
        "  precio_final= importe - (importe *0.1)\n",
        "  print(\"El precio final es\",precio_final)"
      ],
      "metadata": {
        "id": "BhRM80yFpOMi",
        "colab": {
          "base_uri": "https://localhost:8080/"
        },
        "outputId": "f9f15432-0939-4144-f43c-1bbe6d089e0d"
      },
      "execution_count": null,
      "outputs": [
        {
          "output_type": "stream",
          "name": "stdout",
          "text": [
            "El precio final es 117.0\n"
          ]
        }
      ]
    },
    {
      "cell_type": "markdown",
      "source": [
        "## Operador ternario\n",
        "\n",
        "En Python es posible escribir una estructura \"if-else\" en una sola línea utilizando una expresión condicional conocida como *operador ternario*. El formato general es:\n",
        "\n",
        "```python\n",
        "resultado_si_cierto if condición else resultado_si_falso\n",
        "```\n",
        "\n",
        "\n",
        "\n"
      ],
      "metadata": {
        "id": "TkpTRm0XmyT2"
      }
    },
    {
      "cell_type": "code",
      "source": [
        "# El siguiente trozo de código es el equivalente a escribir:\n",
        "# if numero % 2 == 0:\n",
        "#    resultado = \"par\"\n",
        "# else:\n",
        "#    resultado = \"impar\"\n",
        "\n",
        "numero = 5\n",
        "es_par = \"par\" if numero % 2 == 0 else \"impar\"\n",
        "print(es_par)"
      ],
      "metadata": {
        "colab": {
          "base_uri": "https://localhost:8080/"
        },
        "id": "vhbtTTk1m6UP",
        "outputId": "0f1586da-c642-4a42-f575-de4ba8708bcd"
      },
      "execution_count": null,
      "outputs": [
        {
          "output_type": "stream",
          "name": "stdout",
          "text": [
            "impar\n"
          ]
        }
      ]
    },
    {
      "cell_type": "markdown",
      "source": [
        "## 🪧 Sobre cómo escribir condicionales\n",
        "\n",
        "Todas las expresiones del tipo\n",
        "\n",
        "```python\n",
        "resultado = True if condicion else False\n",
        "```\n",
        "\n",
        "o lo que es lo mismo\n",
        "\n",
        "```python\n",
        "if condicion:\n",
        "  resultado = True\n",
        "else:\n",
        "  resultado = False\n",
        "```\n",
        "\n",
        "son equivalentes a simplemente escribir\n",
        "\n",
        "```python\n",
        "resultado = condicion\n",
        "```\n",
        "La razón de esto se debe a que la condición misma (`condicion`) ya es una expresión booleana que devuelve un valor `True` o `False` en función de su evaluación. Por lo tanto, no es necesario usar la estructura \"if-else\" para asignar un valor booleano, ya que la condición misma proporciona el valor booleano deseado.\n",
        "\n",
        "Para aclarar aún más:\n",
        "\n",
        "1. Si `condicion` es `True`, entonces \"resultado = True if condicion else False\" asignará `True` a `resultado`.\n",
        "\n",
        "2. Si `condicion` es `False`, entonces \"resultado = True if condicion else False\" asignará `False` a `resultado`.\n",
        "\n",
        "Esto significa que `resultado = True if condicion else False` es innecesariamente redundante, ya que la condición misma (es decir, `condicion`) proporciona el valor booleano deseado de manera directa y eficiente.\n",
        "\n",
        "Sobre el uso de operadores ternarios, ten en cuenta que, si bien esta es una forma compacta de escribir una estructura \"if-else\" en una línea y la preferible para condionales cortos, a veces puede resultar menos legible en comparación con el uso de un bloque \"if-else\" completo, especialmente para lógica más compleja. Por lo tanto, es importante usarlo con moderación y considerar la claridad del código."
      ],
      "metadata": {
        "id": "1T13Q81KoPUE"
      }
    },
    {
      "cell_type": "markdown",
      "source": [
        "# 5️⃣ Más tipos de datos"
      ],
      "metadata": {
        "id": "ReAF6XmNbEDZ"
      }
    },
    {
      "cell_type": "markdown",
      "source": [
        "## Listas\n",
        "\n",
        "Una lista en Python es una estructura de datos que permite almacenar una colección ordenada de elementos. Puedes pensar en una lista como una secuencia de elementos que pueden ser números, cadenas de texto, objetos u otros tipos de datos.\n",
        "\n",
        "### Creación de listas\n",
        "\n",
        "Puedes crear una lista en Python utilizando corchetes `[]` y separando los elementos por comas.\n",
        "\n"
      ],
      "metadata": {
        "id": "1rv9w8zxsjsN"
      }
    },
    {
      "cell_type": "code",
      "source": [
        "# Crear una lista de números\n",
        "numeros = [1, 2, 3, 4, 5]\n",
        "\n",
        "# Crear una lista de cadenas de texto\n",
        "nombres = [\"Juan\", \"María\", \"Luis\", \"Ana\"]\n",
        "\n",
        "# Crear una lista mixta\n",
        "mixta = [1, \"Hola\", 3.14, True]"
      ],
      "metadata": {
        "id": "5RFn1ygQxPBR"
      },
      "execution_count": null,
      "outputs": []
    },
    {
      "cell_type": "markdown",
      "source": [
        "### Acceso a elementos en una lista\n",
        "\n",
        "Para acceder a elementos individuales en una lista, se utilizan índices. Los índices en Python **comienzan desde 0 para el primer elemento**, 1 para el segundo, y así sucesivamente. También puedes acceder a elementos desde el final de la lista utilizando índices negativos (-1 para el último elemento, -2 para el penúltimo, etc.).\n",
        "\n",
        "\n",
        "\n"
      ],
      "metadata": {
        "id": "RCce4ihQxK0e"
      }
    },
    {
      "cell_type": "code",
      "source": [
        "numeros = [10,20,30,40,50]\n",
        "\n",
        "primer_elemento = numeros[0]\n",
        "segundo_elemento = numeros[1]\n",
        "\n",
        "print(primer_elemento)\n",
        "print(segundo_elemento)\n",
        "print(numeros)\n",
        "ultimo_elemento= numeros[-1]  #acceder a la lista por dentras\n",
        "penultimo_elemento= numeros[-2]\n",
        "print(ultimo_elemento)\n",
        "print(penultimo_elemento)"
      ],
      "metadata": {
        "id": "5xK2Z47Bp8_N",
        "colab": {
          "base_uri": "https://localhost:8080/"
        },
        "outputId": "47f5a7c5-9527-4d26-a7ac-5e7828a9092a"
      },
      "execution_count": null,
      "outputs": [
        {
          "output_type": "stream",
          "name": "stdout",
          "text": [
            "10\n",
            "20\n",
            "[10, 20, 30, 40, 50]\n",
            "50\n",
            "40\n"
          ]
        }
      ]
    },
    {
      "cell_type": "markdown",
      "source": [
        "### Modificar elementos en una lista\n",
        "\n",
        "Puedes modificar elementos en una lista asignándoles un nuevo valor utilizando su índice.\n",
        "\n",
        "\n"
      ],
      "metadata": {
        "id": "R5Agwo75xaKi"
      }
    },
    {
      "cell_type": "code",
      "source": [
        "nombres = [\"Juan\",\"Maria\", \"Luis\"]\n",
        "print(nombres)\n",
        "\n",
        "nombres[1]= \"Clara\"\n",
        "print(nombres)\n",
        "primer_elemento=nombres[1]\n",
        "print(primer_elemento)"
      ],
      "metadata": {
        "id": "hXhyHYAfx97Y",
        "colab": {
          "base_uri": "https://localhost:8080/"
        },
        "outputId": "cb6abc36-02ae-446f-d4b0-f7e712764aae"
      },
      "execution_count": null,
      "outputs": [
        {
          "output_type": "stream",
          "name": "stdout",
          "text": [
            "['Juan', 'Maria', 'Luis']\n",
            "['Juan', 'Clara', 'Luis']\n",
            "Clara\n"
          ]
        }
      ]
    },
    {
      "cell_type": "markdown",
      "source": [
        "### Agregar elementos a una lista\n",
        "\n",
        "Puedes agregar elementos a una lista utilizando el método `append()` o concatenando listas.\n",
        "\n"
      ],
      "metadata": {
        "id": "PN0kpoX6xnb6"
      }
    },
    {
      "cell_type": "code",
      "source": [
        "nombres = [\"Juan\",\"Jesus\"]\n",
        "nombres.append(\"Luis\")\n",
        "print(nombres)"
      ],
      "metadata": {
        "id": "yXzut4eXqMS7",
        "colab": {
          "base_uri": "https://localhost:8080/"
        },
        "outputId": "e7e07b48-475b-4a2c-8c97-aa87d5fe7df2"
      },
      "execution_count": null,
      "outputs": [
        {
          "output_type": "stream",
          "name": "stdout",
          "text": [
            "['Juan', 'Jesus', 'Luis']\n"
          ]
        }
      ]
    },
    {
      "cell_type": "code",
      "source": [
        "otros_nombres = [\"Ana\",\"Pedro\"]\n",
        "nuevos_nombres = nombres + otros_nombres\n",
        "print(nuevos_nombres)"
      ],
      "metadata": {
        "id": "EgV9X76tqTh3",
        "colab": {
          "base_uri": "https://localhost:8080/"
        },
        "outputId": "fbf798e0-bd86-4419-98ab-670e7d222f55"
      },
      "execution_count": null,
      "outputs": [
        {
          "output_type": "stream",
          "name": "stdout",
          "text": [
            "['Juan', 'Jesus', 'Luis', 'Ana', 'Pedro']\n"
          ]
        }
      ]
    },
    {
      "cell_type": "markdown",
      "source": [
        "🪧 Ahora la pregunta es, en el ejemplo anterior, si añadimos la línea de código ```nombres[1] = \"Carlos\"```, ¿se modifica nuevos_nombres?\n",
        "\n",
        "La respuesta es no, ya que si modificas `nombres[1] = \"Carlos\"`, esto no afectará a la lista `nuevos_nombres`. La razón es que la operación de concatenación `nuevos_nombres = nombres + otros_nombres` crea una nueva lista `nuevos_nombres` que es independiente de las listas originales `nombres` y `otros_nombres`.\n",
        "\n",
        "Cuando realizas la concatenación de listas mediante `nuevos_nombres = nombres + otros_nombres`, estás creando una nueva lista que contiene copias de los elementos de `nombres` y `otros_nombres`. Por lo tanto, cualquier modificación que realices en la lista `nombres` después de la concatenación no afectará a la lista `nuevos_nombres`.\n"
      ],
      "metadata": {
        "id": "3L1qWHuLrDIq"
      }
    },
    {
      "cell_type": "code",
      "source": [],
      "metadata": {
        "id": "ggO9lcoVreNu"
      },
      "execution_count": null,
      "outputs": []
    },
    {
      "cell_type": "markdown",
      "source": [
        "Comprueba cómo se comporta este ejemplo en memoria utilizando este [link](https://pythontutor.com/render.html#code=nombres%20%3D%20%5B%22Juan%22,%20%22Mar%C3%ADa%22%5D%0Aotros_nombres%20%3D%20%5B%22Ana%22,%20%22Pedro%22%5D%0Anuevos_nombres%20%3D%20nombres%20%2B%20otros_nombres%20%20%23%20Concatenar%20listas%0A%0A%23%20Modificar%20nombres%5B1%5D%0Anombres%5B1%5D%20%3D%20%22Carlos%22%0A%0A%23%20Imprimir%20ambas%20listas%0Aprint%28%22nombres%3A%22,%20nombres%29%20%20%23%20Esto%20imprimir%C3%A1%20%22nombres%3A%20%5B'Juan',%20'Carlos'%5D%22%0Aprint%28%22nuevos_nombres%3A%22,%20nuevos_nombres%29%20%20%23%20Esto%20imprimir%C3%A1%20%22nuevos_nombres%3A%20%5B'Juan',%20'Mar%C3%ADa',%20'Ana',%20'Pedro'%5D%22&cumulative=false&curInstr=0&heapPrimitives=nevernest&mode=display&origin=opt-frontend.js&py=311&rawInputLstJSON=%5B%5D&textReferences=false)"
      ],
      "metadata": {
        "id": "HC8PL2M0rsU3"
      }
    },
    {
      "cell_type": "markdown",
      "source": [
        "Además de añadir elementos a una lista y concatenar listas, se pueden agregar elementos a una lista en medio de la lista existente utilizando el método `insert()`. El método `insert()` permite especificar la posición en la que deseas insertar un elemento y el elemento que deseas agregar.\n"
      ],
      "metadata": {
        "id": "865N1ttLqeEi"
      }
    },
    {
      "cell_type": "code",
      "source": [
        "numeros= [1,2,4,5]\n",
        "numeros.insert(2,3)\n",
        "print(numeros)\n"
      ],
      "metadata": {
        "id": "0c7CmV1kqkHo",
        "colab": {
          "base_uri": "https://localhost:8080/"
        },
        "outputId": "048457c7-63d5-4f4e-d359-14fe753cc31d"
      },
      "execution_count": null,
      "outputs": [
        {
          "output_type": "stream",
          "name": "stdout",
          "text": [
            "[1, 2, 3, 4, 5]\n"
          ]
        }
      ]
    },
    {
      "cell_type": "markdown",
      "source": [
        "### Eliminar elementos de una lista\n",
        "\n",
        "Puedes eliminar elementos de una lista utilizando el método `remove()` que elimina el elemento por su contenido o el método `pop()` que permite eliminar un elemento por su índice. Una alternativa menos común es la declaración `del` que elimina un elemento por su índice. Ya que el método `remove()` no permite especificar un índice y solo un valor, utiliza para eliminar **solo la primera ocurrencia** del valor especificado.\n"
      ],
      "metadata": {
        "id": "Jy7xwSrlxp0p"
      }
    },
    {
      "cell_type": "code",
      "source": [
        "nombres = [\"Juan\",\"Maria\", \"Luis\",\"Clara\",\"Pedro\"]\n",
        "nombres.remove(\"Maria\")\n",
        "print(nombres)"
      ],
      "metadata": {
        "id": "FogpnePLsONd",
        "colab": {
          "base_uri": "https://localhost:8080/"
        },
        "outputId": "c5b0681a-b8f2-4f7e-f616-54ca703bf41e"
      },
      "execution_count": null,
      "outputs": [
        {
          "output_type": "stream",
          "name": "stdout",
          "text": [
            "['Juan', 'Luis', 'Clara', 'Pedro']\n"
          ]
        }
      ]
    },
    {
      "cell_type": "code",
      "source": [
        "nombres.pop(2)\n",
        "print(nombres)"
      ],
      "metadata": {
        "id": "MTZuSvbGtT2r",
        "colab": {
          "base_uri": "https://localhost:8080/"
        },
        "outputId": "73923f7a-722a-4bea-9b58-76fc1733f705"
      },
      "execution_count": null,
      "outputs": [
        {
          "output_type": "stream",
          "name": "stdout",
          "text": [
            "['Juan', 'Luis', 'Pedro']\n"
          ]
        }
      ]
    },
    {
      "cell_type": "code",
      "source": [
        "del nombres [1]\n",
        "print(nombres)"
      ],
      "metadata": {
        "id": "y8T8UeZVsU-4",
        "colab": {
          "base_uri": "https://localhost:8080/"
        },
        "outputId": "4bd5e001-6f77-4c53-b7d9-a74d1da93935"
      },
      "execution_count": null,
      "outputs": [
        {
          "output_type": "stream",
          "name": "stdout",
          "text": [
            "['Juan', 'Pedro']\n"
          ]
        }
      ]
    },
    {
      "cell_type": "code",
      "source": [
        "nombres = [\"Juan\",\"Maria\", \"Luis\",\"Maria\"]\n",
        "nombres.remove(\"Maria\")\n",
        "print(nombres)"
      ],
      "metadata": {
        "id": "_QEXtnmOsrIY",
        "colab": {
          "base_uri": "https://localhost:8080/"
        },
        "outputId": "71cc8c17-edb3-452a-f2f5-85d240ad17fd"
      },
      "execution_count": null,
      "outputs": [
        {
          "output_type": "stream",
          "name": "stdout",
          "text": [
            "['Juan', 'Luis', 'Maria']\n"
          ]
        }
      ]
    },
    {
      "cell_type": "markdown",
      "source": [
        "### Longitud de una lista\n",
        "\n",
        "Puedes obtener la longitud de una lista utilizando la función `len()`.\n",
        "\n"
      ],
      "metadata": {
        "id": "R9yauiJFxrKF"
      }
    },
    {
      "cell_type": "code",
      "source": [
        "numeros = [3,7,2,5,6]\n",
        "print(len(numeros))"
      ],
      "metadata": {
        "id": "coxkTvnIt5qa",
        "colab": {
          "base_uri": "https://localhost:8080/"
        },
        "outputId": "156d9853-3286-4f00-ad4f-c6d94da84258"
      },
      "execution_count": null,
      "outputs": [
        {
          "output_type": "stream",
          "name": "stdout",
          "text": [
            "5\n"
          ]
        }
      ]
    },
    {
      "cell_type": "markdown",
      "source": [
        "### Ordenar una lista\n",
        "\n",
        "Puedes ordenar una lista utilizando el método `sort()`.\n",
        "\n",
        "\n"
      ],
      "metadata": {
        "id": "2qXCKS5BxsqX"
      }
    },
    {
      "cell_type": "code",
      "source": [
        "numeros = [3,7,2,5,6]\n",
        "numeros.sort()\n",
        "print(numeros)"
      ],
      "metadata": {
        "id": "92gz2gPpuBV-",
        "colab": {
          "base_uri": "https://localhost:8080/"
        },
        "outputId": "879507c2-83e6-4208-ae8e-2172fbea6a49"
      },
      "execution_count": null,
      "outputs": [
        {
          "output_type": "stream",
          "name": "stdout",
          "text": [
            "[2, 3, 5, 6, 7]\n"
          ]
        }
      ]
    },
    {
      "cell_type": "code",
      "source": [
        "numeros.sort(reverse=True)\n",
        "print(numeros)"
      ],
      "metadata": {
        "id": "PAAW5kf_ushS",
        "colab": {
          "base_uri": "https://localhost:8080/"
        },
        "outputId": "80b0a3f9-ba7e-42a3-808c-389c98c96a16"
      },
      "execution_count": null,
      "outputs": [
        {
          "output_type": "stream",
          "name": "stdout",
          "text": [
            "[7, 6, 5, 3, 2]\n"
          ]
        }
      ]
    },
    {
      "cell_type": "markdown",
      "source": [
        "### Invertir el orden de una lista\n",
        "Puedes invertir el orden de una lista utilizando el método `reverse()`.\n",
        "\n"
      ],
      "metadata": {
        "id": "QUx0LtpkxvUu"
      }
    },
    {
      "cell_type": "code",
      "source": [
        "numeros= [1,5,2,3,5]\n",
        "numeros.reverse()\n",
        "print(numeros)"
      ],
      "metadata": {
        "id": "_cyb_QenuOeW",
        "colab": {
          "base_uri": "https://localhost:8080/"
        },
        "outputId": "f01abf07-08e9-45a3-de4f-b92c8f148cf6"
      },
      "execution_count": null,
      "outputs": [
        {
          "output_type": "stream",
          "name": "stdout",
          "text": [
            "[5, 3, 2, 5, 1]\n"
          ]
        }
      ]
    },
    {
      "cell_type": "markdown",
      "source": [
        "### Buscar un elemento en una lista\n",
        "Puedes buscar un elemento en una lista utilizando el operador `in`.\n"
      ],
      "metadata": {
        "id": "UIrulNBfxwu9"
      }
    },
    {
      "cell_type": "code",
      "source": [
        "nombres = [\"Juan\",\"Maria\", \"Luis\"]\n",
        "existe_Luis = \"Luis\" in nombres\n",
        "print(existe_Luis)\n",
        "existe_Jaime = \"Jaime\" in nombres\n",
        "print(existe_Jaime)"
      ],
      "metadata": {
        "id": "TOR3anpxw6VM",
        "colab": {
          "base_uri": "https://localhost:8080/"
        },
        "outputId": "78173d95-52aa-464d-be95-18cd9852048b"
      },
      "execution_count": null,
      "outputs": [
        {
          "output_type": "stream",
          "name": "stdout",
          "text": [
            "True\n",
            "False\n"
          ]
        }
      ]
    },
    {
      "cell_type": "markdown",
      "source": [
        "## Sets\n",
        "\n",
        "Los conjuntos (`set`) en Python son colecciones desordenadas de elementos únicos. Puedes realizar varias operaciones y manipulaciones de conjuntos, como agregar y eliminar elementos, verificar la existencia de elementos y realizar operaciones de conjunto, como la unión y la intersección. Son útiles cuando necesitas mantener una colección de elementos sin duplicados y no te importa el orden de los elementos en la colección, ya que los conjuntos no tienen un orden específico, por lo que el orden de los elementos puede variar"
      ],
      "metadata": {
        "id": "0YZHF0ku2zr7"
      }
    },
    {
      "cell_type": "code",
      "source": [
        "# crear un conjunto\n",
        "conjunto= {1,20,3,4,7,2}\n",
        "print(conjunto)\n",
        "\n",
        "conjunto.add(6)\n",
        "print(conjunto)\n",
        "conjunto.add(6)\n",
        "print(conjunto)    #no lo vuelve a añadir, en los conjuntos no hay valores repetidos\n",
        "\n",
        "conjunto.remove(4)\n",
        "print(conjunto)\n",
        "\n",
        "existe = 3 in conjunto\n",
        "print(existe)"
      ],
      "metadata": {
        "id": "P2OjSd_DXwhr",
        "colab": {
          "base_uri": "https://localhost:8080/"
        },
        "outputId": "7cf6ccc1-a238-4578-e90f-f2b0c043118f"
      },
      "execution_count": null,
      "outputs": [
        {
          "output_type": "stream",
          "name": "stdout",
          "text": [
            "{1, 2, 3, 4, 20, 7}\n",
            "{1, 2, 3, 4, 20, 6, 7}\n",
            "{1, 2, 3, 4, 20, 6, 7}\n",
            "{1, 2, 3, 20, 6, 7}\n",
            "True\n"
          ]
        }
      ]
    },
    {
      "cell_type": "code",
      "source": [
        "set1= {1,3,5}\n",
        "set2= {2,4,6,5}\n",
        "\n",
        "union= set1 | set2\n",
        "print(union)\n",
        "\n",
        "interseccion= set1 & set2\n",
        "print(interseccion)\n",
        "\n"
      ],
      "metadata": {
        "id": "svyo1leWudOP",
        "colab": {
          "base_uri": "https://localhost:8080/"
        },
        "outputId": "61147e40-d9d0-4d23-d33f-7585121cf414"
      },
      "execution_count": null,
      "outputs": [
        {
          "output_type": "stream",
          "name": "stdout",
          "text": [
            "{1, 2, 3, 4, 5, 6}\n",
            "{5}\n"
          ]
        }
      ]
    },
    {
      "cell_type": "markdown",
      "source": [
        "La siguiente tabla muestra la comparación entre listas (`list`) y conjuntos (`set`):\n",
        "\n",
        "| Característica                | `list` (Lista)         | `set` (Conjunto)           |\n",
        "|-------------------------------|------------------------|----------------------------|\n",
        "| Tipo de Datos                | Secuencia ordenada      | Colección no ordenada, no duplicada |\n",
        "| Sintaxis de Creación         | `[elemento1, elemento2, ...]` | `{elemento1, elemento2, ...}` |\n",
        "| Duplicados Permitidos        | Sí                     | No                         |\n",
        "| Orden                        | Ordenada (índices)      | No tiene un orden específico |\n",
        "| Indexación                   | Sí (por índices)        | No se pueden indexar       |\n",
        "| Modificación                 | Mutable (agregar, eliminar, modificar) | Mutable (agregar, eliminar) |\n",
        "| Iterable                     | Sí                     | Sí                         |\n",
        "| Operaciones Conjuntistas     | No                    | Sí                         |\n",
        "| Uso Común                    | Almacenar elementos en orden | Realizar operaciones de conjuntos, eliminar duplicados |\n",
        "| Ejemplo                      | `mi_lista = [1, 2, 3]` | `mi_conjunto = {1, 2, 3}`   |\n",
        "\n",
        "Ten en cuenta que las listas (`list`) y los conjuntos (`set`) son estructuras de datos diferentes, y la elección entre una u otra depende de tus necesidades específicas en un programa. Las listas son útiles cuando necesitas elementos ordenados y duplicados son permitidos, mientras que los conjuntos son útiles cuando deseas eliminar duplicados y realizar operaciones de conjuntos como unión, intersección y diferencia."
      ],
      "metadata": {
        "id": "bKLGPHmDYTAi"
      }
    },
    {
      "cell_type": "markdown",
      "source": [
        "## Tuplas\n",
        "\n",
        "Las tuplas son una estructura de datos que se utiliza para almacenar una colección **ordenada e inmutable** de elementos. Esto significa que una vez es creada la tupla sus elementos no pueden modificarse, agregar nuevos elementos o eliminarse y que los elementos en una tupla se almacenan en un orden específico, lo que permite acceder a ellos por índices. Además. los elementos en una tupla pueden ser de **diferentes tipos de datos**. Las tuplas se definen mediante paréntesis `()`, con elementos separados por comas, por ejemplo, `(1, 2, 'a', True)`.\n",
        "\n",
        "\n"
      ],
      "metadata": {
        "id": "UzaeYX5D2vqA"
      }
    },
    {
      "cell_type": "code",
      "source": [
        "# Definir una tupla\n",
        "mi_tupla = (1, 2, 3, 'a', 'b', 'c')\n",
        "\n",
        "# Acceder a elementos de la tupla\n",
        "primer_elemento = mi_tupla[0]  # Obtener el primer elemento (1)\n",
        "ultimo_elemento = mi_tupla[-1]  # Obtener el último elemento ('c')\n",
        "\n",
        "# Recorrer una tupla\n",
        "for elemento in mi_tupla:\n",
        "    print(elemento)\n",
        "\n",
        "# Longitud de la tupla\n",
        "longitud = len(mi_tupla)  # La longitud de la tupla es 6\n",
        "\n",
        "# Concatenación de tuplas\n",
        "tupla1 = (1, 2, 3)\n",
        "tupla2 = ('a', 'b', 'c')\n",
        "tupla_concatenada = tupla1 + tupla2  # Resultado: (1, 2, 3, 'a', 'b', 'c')"
      ],
      "metadata": {
        "id": "5g5ht0UvXpa2",
        "outputId": "d05a0aec-bb6e-4414-a623-7edc595af7fd",
        "colab": {
          "base_uri": "https://localhost:8080/"
        }
      },
      "execution_count": null,
      "outputs": [
        {
          "output_type": "stream",
          "name": "stdout",
          "text": [
            "1\n",
            "2\n",
            "3\n",
            "a\n",
            "b\n",
            "c\n"
          ]
        }
      ]
    },
    {
      "cell_type": "markdown",
      "source": [
        "| Característica               | Listas                                       | Conjuntos (Sets)                             | Tuplas                                 |\n",
        "| ---------------------------- | -------------------------------------------- | -------------------------------------------- | -------------------------------------- |\n",
        "| **Sintaxis**                 | `[elemento1, elemento2, ...]`               | `{elemento1, elemento2, ...}`                | `(elemento1, elemento2, ...)`           |\n",
        "| **Mutabilidad**               | Mutables: Puedes modificar elementos.        | Mutables: Puedes agregar o eliminar elementos. | Inmutables: No puedes modificar elementos. |\n",
        "| **Orden**                    | Ordenadas: Mantienen el orden de inserción.   | No ordenados: No mantienen un orden específico.  | Ordenadas: Mantienen el orden de inserción. |\n",
        "| **Duplicados**               | Permiten duplicados.                         | No permiten duplicados (elementos únicos).    | Permiten duplicados.                   |\n",
        "| **Acceso a elementos**       | Por índice (puedes usar índices positivos y negativos). | No por índice (acceso mediante iteración o `in`). | Por índice (puedes usar índices positivos y negativos). |\n",
        "| **Tamaño (Longitud)**        | Puedes obtener la longitud con `len(lista)`. | Puedes obtener la longitud con `len(set)`.     | Puedes obtener la longitud con `len(tupla)`. |\n",
        "| **Uso de memoria**           | Mayor uso de memoria debido a la mutabilidad. | Menor uso de memoria debido a elementos únicos. | Uso de memoria similar a las listas.   |\n",
        "| **Usos comunes**             | Almacenar colecciones de elementos modificables. | Eliminar duplicados, pruebas de pertenencia.    | Datos inmutables, empaquetar y devolver múltiples valores. |\n",
        "\n",
        "Ten en cuenta que la elección entre listas, conjuntos y tuplas depende de las necesidades específicas de tu programa. Cada estructura de datos tiene sus ventajas y desventajas, y debes seleccionar la que mejor se adapte a tu caso de uso particular."
      ],
      "metadata": {
        "id": "ICXADJXhvhEh"
      }
    },
    {
      "cell_type": "markdown",
      "source": [
        "## Diccionarios\n",
        "\n",
        "Los diccionarios son una estructura de datos que te permite almacenar pares clave-valor. Cada elemento del diccionario consta de una **clave única** y su correspondiente valor. Los diccionarios son conocidos por su eficiente búsqueda de valores basada en claves. Los diccionarios en Python son flexibles y pueden contener una variedad de tipos de datos como valores, incluyendo listas, otros diccionarios e incluso funciones. Son útiles para organizar y acceder a datos de manera eficiente."
      ],
      "metadata": {
        "id": "3P9JRW4J211M"
      }
    },
    {
      "cell_type": "code",
      "source": [
        "# Crear un diccionario de ejemplo\n",
        "mi_diccionario = {\n",
        "    \"nombre\": \"Juan\",\n",
        "    \"edad\": 30,\n",
        "    \"ciudad\": \"México\",\n",
        "    \"profesion\": \"Ingeniero\"\n",
        "}\n",
        "\n",
        "# Acceder a los valores del diccionario mediante claves\n",
        "print(\"Nombre:\", mi_diccionario[\"nombre\"])\n",
        "print(\"Edad:\", mi_diccionario[\"edad\"])\n",
        "print(\"Ciudad:\", mi_diccionario[\"ciudad\"])\n",
        "print(\"Profesión:\", mi_diccionario[\"profesion\"])"
      ],
      "metadata": {
        "id": "nMpnnqbraXEZ",
        "outputId": "12bacf5c-4a93-4292-9c3b-4bb9e1ac1086",
        "colab": {
          "base_uri": "https://localhost:8080/"
        }
      },
      "execution_count": null,
      "outputs": [
        {
          "output_type": "stream",
          "name": "stdout",
          "text": [
            "Nombre: Juan\n",
            "Edad: 30\n",
            "Ciudad: México\n",
            "Profesión: Ingeniero\n"
          ]
        }
      ]
    },
    {
      "cell_type": "markdown",
      "source": [
        "# 6️⃣ Bucles\n",
        "\n",
        "Los bucles son estructuras de control que permiten repetir una serie de instrucciones mientras se cumpla una condición o iterar sobre una secuencia de elementos. En Python, existen dos tipos de bucles principales: el bucle `for` y el bucle `while`.\n",
        "\n"
      ],
      "metadata": {
        "id": "_dtCjUGRsbnQ"
      }
    },
    {
      "cell_type": "markdown",
      "source": [
        "### Bucle `for`\n",
        "\n",
        "El bucle `for` se utiliza para iterar sobre una *secuencia* (como una lista, una cadena de texto, un rango numérico, etc.), es decir, sobre una variable `iterable` y ejecutar un bloque de código para cada elemento en esa secuencia. Para determinar si algo es de tipo iterable en Python, puedes utilizar la función `iter()`. La sintaxis básica del bucle `for` es la siguiente:\n",
        "\n",
        "```python\n",
        "for variable in secuencia:\n",
        "    # Código a ejecutar en cada iteración\n",
        "```\n",
        "\n",
        "- `variable` es una variable que toma el valor de cada elemento en la secuencia en cada iteración.\n",
        "- `secuencia` es la secuencia a través de la cual se itera.\n",
        "\n"
      ],
      "metadata": {
        "id": "F_R3mMRb0c7F"
      }
    },
    {
      "cell_type": "code",
      "source": [
        "# La función range crea un objeto de tipo iterable\n",
        "print(range(4))\n",
        "print(iter(range(1,6)))"
      ],
      "metadata": {
        "id": "NRtVKmSGwRTJ",
        "colab": {
          "base_uri": "https://localhost:8080/"
        },
        "outputId": "25018584-7255-44c6-88be-a517f5b99ca7"
      },
      "execution_count": 3,
      "outputs": [
        {
          "output_type": "stream",
          "name": "stdout",
          "text": [
            "range(0, 4)\n",
            "<range_iterator object at 0x7bc710a841e0>\n"
          ]
        }
      ]
    },
    {
      "cell_type": "code",
      "source": [
        "# Ejemplo: Bucle for para imprimir números del 1 al 5\n",
        "for numero in range(4):    #genera intervalo cerrado por abajo y abierto por arriba, el 4 no lo coge\n",
        "  print(numero)"
      ],
      "metadata": {
        "id": "FVM5JyNGuzBD",
        "colab": {
          "base_uri": "https://localhost:8080/"
        },
        "outputId": "4876fbbe-cde5-4010-c964-5a4b699bc7ff"
      },
      "execution_count": 4,
      "outputs": [
        {
          "output_type": "stream",
          "name": "stdout",
          "text": [
            "0\n",
            "1\n",
            "2\n",
            "3\n"
          ]
        }
      ]
    },
    {
      "cell_type": "code",
      "source": [
        "# Ejemplo: Bucle for para recorrer una lista de nombres\n",
        "nombres= [\"Ana\",\"Carlos\",\"Juan\",\"Luis\"]\n",
        "\n",
        "for nombre in nombres:\n",
        "  print(\"Hola\",nombre)\n"
      ],
      "metadata": {
        "id": "81dPRMhtu5jE",
        "colab": {
          "base_uri": "https://localhost:8080/"
        },
        "outputId": "0cca774f-2f6f-4a4d-8e1f-2f4fc453c40a"
      },
      "execution_count": 6,
      "outputs": [
        {
          "output_type": "stream",
          "name": "stdout",
          "text": [
            "Hola Ana\n",
            "Hola Carlos\n",
            "Hola Juan\n",
            "Hola Luis\n"
          ]
        }
      ]
    },
    {
      "cell_type": "code",
      "source": [
        "turno = 1\n",
        "for nombre in nombres:\n",
        "  print(\"Es el turno de\",nombre)\n",
        "  print(\"turno numero\",numero)"
      ],
      "metadata": {
        "colab": {
          "base_uri": "https://localhost:8080/"
        },
        "id": "CA3VrQ__udRw",
        "outputId": "593172a4-7b17-4ddf-f10b-917f4db00a0d"
      },
      "execution_count": 7,
      "outputs": [
        {
          "output_type": "stream",
          "name": "stdout",
          "text": [
            "Es el turno de Ana\n",
            "turno numero 3\n",
            "Es el turno de Carlos\n",
            "turno numero 3\n",
            "Es el turno de Juan\n",
            "turno numero 3\n",
            "Es el turno de Luis\n",
            "turno numero 3\n"
          ]
        }
      ]
    },
    {
      "cell_type": "markdown",
      "source": [
        "### Bucle `while`\n",
        "\n",
        "El bucle `while` se utiliza para repetir un bloque de código mientras una condición sea verdadera. La sintaxis básica es la siguiente:\n",
        "\n",
        "```python\n",
        "while condicion:\n",
        "    # Código a ejecutar mientras la condición sea verdadera\n",
        "```\n",
        "\n",
        "- `condicion` es una expresión que se evalúa como Verdadera (`True`) o Falsa (`False`).\n",
        "\n"
      ],
      "metadata": {
        "id": "zasyJrZjuxNv"
      }
    },
    {
      "cell_type": "code",
      "source": [
        "# Bucle while para contar hasta 5\n",
        "contador=1\n",
        "while contador <=5:\n",
        "  print(\"El valor del contador es\",contador)\n",
        "  contador +=1"
      ],
      "metadata": {
        "id": "vcnKL8FevIoS",
        "colab": {
          "base_uri": "https://localhost:8080/"
        },
        "outputId": "217296b5-8f8d-4b87-90ba-9cf7a5619c2b"
      },
      "execution_count": 9,
      "outputs": [
        {
          "output_type": "stream",
          "name": "stdout",
          "text": [
            "El valor del contador es 1\n",
            "El valor del contador es 2\n",
            "El valor del contador es 3\n",
            "El valor del contador es 4\n",
            "El valor del contador es 5\n"
          ]
        }
      ]
    },
    {
      "cell_type": "code",
      "source": [
        "indice = 0\n",
        "\n",
        "while indice < len(nombres):\n",
        "  nombre = nombres[indice]\n",
        "  print(\"Hola\",nombre)\n",
        "  indice +=1"
      ],
      "metadata": {
        "id": "0H4rg1E_xSsA",
        "colab": {
          "base_uri": "https://localhost:8080/"
        },
        "outputId": "40b8dd26-4bed-41c4-963e-0ac75ea9b819"
      },
      "execution_count": 11,
      "outputs": [
        {
          "output_type": "stream",
          "name": "stdout",
          "text": [
            "Hola Ana\n",
            "Hola Carlos\n",
            "Hola Juan\n",
            "Hola Luis\n"
          ]
        }
      ]
    },
    {
      "cell_type": "markdown",
      "source": [
        "### Control de bucles\n",
        "\n",
        "Dentro de los bucles, puedes usar palabras clave como `break` para salir prematuramente del bucle y `continue` para pasar a la siguiente iteración sin ejecutar el código restante dentro del bucle.\n",
        "\n"
      ],
      "metadata": {
        "id": "r5ajhmVfvJGA"
      }
    },
    {
      "cell_type": "code",
      "source": [
        "# Ejemplo: Uso de break en un bucle while\n",
        "contador = 1\n",
        "\n",
        "while contador <= 10:\n",
        "  if contador == 5:\n",
        "    break\n",
        "  print(contador)\n",
        "  contador +=1"
      ],
      "metadata": {
        "id": "vnxjdacHvbln",
        "colab": {
          "base_uri": "https://localhost:8080/"
        },
        "outputId": "12b9ca42-ce95-4d64-c2d6-e33caa1b84f4"
      },
      "execution_count": 12,
      "outputs": [
        {
          "output_type": "stream",
          "name": "stdout",
          "text": [
            "1\n",
            "2\n",
            "3\n",
            "4\n"
          ]
        }
      ]
    },
    {
      "cell_type": "code",
      "source": [
        "# Ejemplo: Uso de continue en un bucle for\n",
        "\n",
        "numeros = [3,5,7,1,5,8,9,10,2,3]\n",
        "\n",
        "existe_8= False\n",
        "\n",
        "for numero in numeros:\n",
        "  if numero == 8:\n",
        "    existe_8= True\n",
        "    break\n",
        "  print(numero)\n",
        "\n",
        "print(existe_8)"
      ],
      "metadata": {
        "id": "Kq80swr9w8mp",
        "colab": {
          "base_uri": "https://localhost:8080/"
        },
        "outputId": "973dfebb-4bd9-47c1-a217-9dd5ad83d4b3"
      },
      "execution_count": 13,
      "outputs": [
        {
          "output_type": "stream",
          "name": "stdout",
          "text": [
            "3\n",
            "5\n",
            "7\n",
            "1\n",
            "5\n",
            "True\n"
          ]
        }
      ]
    },
    {
      "cell_type": "markdown",
      "source": [
        "### Bucles aplicados a listas en Python\n",
        "\n",
        "Los bucles son especialmente útiles cuando necesitas realizar operaciones en todos los elementos de una lista o iterar sobre ellos.\n",
        "\n",
        "El bucle `for` es ideal para recorrer una lista y realizar una acción en cada elemento ya que estos objetos son iterables. La sintaxis es la siguiente:\n",
        "\n",
        "```python\n",
        "for elemento in lista:\n",
        "    # Código a ejecutar en cada iteración\n",
        "```\n",
        "\n",
        "- `elemento` es una variable que toma el valor de cada elemento en la lista en cada iteración.\n",
        "- `lista` es la lista que quieres recorrer.\n",
        "\n",
        "\n"
      ],
      "metadata": {
        "id": "S5bEB3NzXI6f"
      }
    },
    {
      "cell_type": "code",
      "source": [
        "## Ejemplo: Usando un bucle for para imprimir todos los elementos de una lista\n",
        "frutas= [\"manzana\",\"plantano\",\"naranja\",\"uvas\"]\n",
        "\n",
        "for fruta in frutas:\n",
        "  print(fruta)"
      ],
      "metadata": {
        "id": "J7v92cxM_aAC",
        "colab": {
          "base_uri": "https://localhost:8080/"
        },
        "outputId": "cc9c26f5-e040-4660-ba55-d4b24f5af2fe"
      },
      "execution_count": 14,
      "outputs": [
        {
          "output_type": "stream",
          "name": "stdout",
          "text": [
            "manzana\n",
            "plantano\n",
            "naranja\n",
            "uvas\n"
          ]
        }
      ]
    },
    {
      "cell_type": "code",
      "source": [
        "## Ejemplo: Sumar todos los números en una lista\n",
        "suma= 0\n",
        "\n",
        "print(numeros)\n",
        "for numero in numeros:\n",
        "  suma += numero\n",
        "\n",
        "print(\"la suma de los numeros es\",suma)"
      ],
      "metadata": {
        "id": "PMULqqjZ_iEp",
        "colab": {
          "base_uri": "https://localhost:8080/"
        },
        "outputId": "f49f14b4-0f3a-4d7b-c623-ae8ebb63e0c2"
      },
      "execution_count": 18,
      "outputs": [
        {
          "output_type": "stream",
          "name": "stdout",
          "text": [
            "[3, 5, 7, 1, 5, 8, 9, 10, 2, 3]\n",
            "la suma de los numeros es 53\n"
          ]
        }
      ]
    },
    {
      "cell_type": "markdown",
      "source": [
        "**Bucle `while` con Listas**\n",
        "\n",
        "Aunque es menos común, también puedes utilizar un bucle `while` para recorrer una lista. En este caso, necesitas utilizar un contador para acceder a los elementos de la lista.\n"
      ],
      "metadata": {
        "id": "v-S5JKjo0v3f"
      }
    },
    {
      "cell_type": "code",
      "source": [
        "# Este bucle while realiza la misma tarea que el bucle for en el ejemplo anterior.\n"
      ],
      "metadata": {
        "id": "R-j4vEY6_qWl"
      },
      "execution_count": null,
      "outputs": []
    },
    {
      "cell_type": "markdown",
      "source": [
        "**Operaciones Comunes con Bucles y Listas**\n",
        "- Filtrar elementos\n",
        "- Modificar elementos\n",
        "- Búsquedas condicionales"
      ],
      "metadata": {
        "id": "3LBecgPP1XfZ"
      }
    },
    {
      "cell_type": "markdown",
      "source": [
        "\n",
        "\n",
        "**Filtrar Elementos**: Puedes utilizar un bucle `for` para filtrar elementos de una lista que cumplan ciertas condiciones.\n",
        "\n"
      ],
      "metadata": {
        "id": "MFCCfNjY0_Lu"
      }
    },
    {
      "cell_type": "code",
      "source": [
        "# Ejemplo: Buscar los números pares\n",
        "print(numeros)\n",
        "\n",
        "pares= []\n",
        "\n",
        "for numero in numeros:\n",
        "  if numero % 2 == 0:\n",
        "    pares.append(numero)\n",
        "\n",
        "print(\"numeros pares:\",pares)"
      ],
      "metadata": {
        "id": "GsZuvWGK1UnQ",
        "colab": {
          "base_uri": "https://localhost:8080/"
        },
        "outputId": "54a5c36e-edf5-44db-f812-5f1ebe139c3b"
      },
      "execution_count": 16,
      "outputs": [
        {
          "output_type": "stream",
          "name": "stdout",
          "text": [
            "[3, 5, 7, 1, 5, 8, 9, 10, 2, 3]\n",
            "numeros pares: [8, 10, 2]\n"
          ]
        }
      ]
    },
    {
      "cell_type": "markdown",
      "source": [
        "**Modificar Elementos**: Utiliza un bucle `for` para modificar elementos en una lista."
      ],
      "metadata": {
        "id": "viNNGTP-1GgG"
      }
    },
    {
      "cell_type": "code",
      "source": [
        "# Ejemplo: Pasar los nombres a mayúsculas\n",
        "nombres= [\"ana\",\"juan\",\"luis\"]\n",
        "\n",
        "for i in range(len(nombres)):\n",
        "  nombres[i] = nombres[i].upper()    #para ponerlos en mayusculas\n",
        "\n",
        "print(nombres)"
      ],
      "metadata": {
        "id": "a4akBsJf1JLQ",
        "colab": {
          "base_uri": "https://localhost:8080/"
        },
        "outputId": "7a1e12d7-8391-4b76-e6ce-262290f860f8"
      },
      "execution_count": 20,
      "outputs": [
        {
          "output_type": "stream",
          "name": "stdout",
          "text": [
            "['ANA', 'JUAN', 'LUIS']\n"
          ]
        }
      ]
    },
    {
      "cell_type": "markdown",
      "source": [
        "**Búsqueda en Listas**: Puedes utilizar bucles para buscar un elemento específico en una lista.\n"
      ],
      "metadata": {
        "id": "9sKX-unA1INU"
      }
    },
    {
      "cell_type": "code",
      "source": [
        "# Ejemplo: Buscar la palabra plátano\n",
        "frutas= [\"manzana\",\"platano\",\"naranja\",\"uvas\"]\n",
        "buscar = \"platano\"\n",
        "\n",
        "for fruta in frutas:\n",
        "  if fruta == buscar:\n",
        "    print(\"Encontrado:\",buscar)\n",
        "    break"
      ],
      "metadata": {
        "id": "hfPzRPuN1mcu",
        "colab": {
          "base_uri": "https://localhost:8080/"
        },
        "outputId": "424732a5-d461-4a6d-a548-f26a023014dc"
      },
      "execution_count": 23,
      "outputs": [
        {
          "output_type": "stream",
          "name": "stdout",
          "text": [
            "Encontrado: platano\n"
          ]
        }
      ]
    },
    {
      "cell_type": "markdown",
      "source": [
        "### Comprensión de listas\n",
        "\n",
        "Python permite crear listas de una manera concisa y elegante mediante la comprensión de listas. De esta forma, las listas son creadas al aplicar una expresión a cada elemento de una secuencia o al filtrar elementos de una secuencia.\n",
        "\n",
        "La sintaxis para crear una nueva lista utilizando la comprensión de listas es:\n",
        "\n",
        "```python\n",
        "nueva_lista = [expresion for elemento in secuencia]\n",
        "```\n",
        "\n",
        "- `nueva_lista` es la lista que deseas crear.\n",
        "- `expresion` es una expresión que se evalúa para cada elemento en la secuencia y se utiliza para crear el nuevo elemento en la lista.\n",
        "- `elemento` es la variable que toma el valor de cada elemento en la secuencia.\n",
        "- `secuencia` es la secuencia original que deseas procesar.\n",
        "\n"
      ],
      "metadata": {
        "id": "PBHxQgR4XX2P"
      }
    },
    {
      "cell_type": "code",
      "source": [
        "# Ejemplo: Crear una lista de los cuadrados de los números del 1 al 5\n",
        "cuadrados = [x**2 for x in range(1,6)]\n",
        "print(cuadrados)\n",
        "\n",
        "#es lo mismo que hacer\n",
        "#cuadrados = []\n",
        "#indice = 0\n",
        "#for x in range (1,6):\n",
        " # cuadrados[indice] == x**2\n",
        "  #indice +=1"
      ],
      "metadata": {
        "id": "2WV26Kb416rp",
        "colab": {
          "base_uri": "https://localhost:8080/"
        },
        "outputId": "95c0c7dc-d0c6-4b65-93d8-68d5d51b86b0"
      },
      "execution_count": 24,
      "outputs": [
        {
          "output_type": "stream",
          "name": "stdout",
          "text": [
            "[1, 4, 9, 16, 25]\n"
          ]
        }
      ]
    },
    {
      "cell_type": "code",
      "source": [
        "# Ejemplo: Crear una lista de las letras en una cadena de texto\n",
        "texto = \"hola, mundo\"\n",
        "letras = [letra for letra in texto if letra.isalpha()]\n",
        "print(letras)"
      ],
      "metadata": {
        "id": "_lP3AdmO2Fli",
        "colab": {
          "base_uri": "https://localhost:8080/"
        },
        "outputId": "d0ba7e84-dd3a-4b7d-948e-b7542f206b19"
      },
      "execution_count": 27,
      "outputs": [
        {
          "output_type": "stream",
          "name": "stdout",
          "text": [
            "['h', 'o', 'l', 'a', 'm', 'u', 'n', 'd', 'o']\n"
          ]
        }
      ]
    },
    {
      "cell_type": "markdown",
      "source": [
        "\n",
        "\n",
        "#### Filtrar Elementos con comprensión de Listas\n",
        "\n",
        "También puedes utilizar la comprensión de listas para filtrar elementos de una secuencia y crear una nueva lista que cumpla con ciertas condiciones.\n",
        "\n"
      ],
      "metadata": {
        "id": "m0QKu61S150c"
      }
    },
    {
      "cell_type": "code",
      "source": [
        "# Ejemplo: Filtrar números pares de una lista\n"
      ],
      "metadata": {
        "id": "a90600cJ2MTE"
      },
      "execution_count": null,
      "outputs": []
    },
    {
      "cell_type": "markdown",
      "source": [
        "#### Comprensión de listas con operaciones adicionales\n",
        "\n",
        "Puedes realizar operaciones adicionales en la comprensión de listas, como aplicar funciones o realizar transformaciones más complejas.\n",
        "\n"
      ],
      "metadata": {
        "id": "4D_p4yL_2LY_"
      }
    },
    {
      "cell_type": "code",
      "source": [
        "# Ejemplo: Crear una lista de las longitudes de las palabras en una lista de palabras\n"
      ],
      "metadata": {
        "id": "fLof9ldH2fD_"
      },
      "execution_count": null,
      "outputs": []
    },
    {
      "cell_type": "markdown",
      "source": [
        "## 🏋🏻 Ejercicios\n",
        "\n",
        "\n",
        "1. Escribe un programa que calcule la suma de todos los números pares del 1 al N.\n",
        "2. Escribe un programa que genere la tabla de multiplicar de un número.\n",
        "3. Escribe un programa que a partir de una lista de números y muestre los números pares en la lista.\n",
        "4. Escribe un programa que tome una lista de números y encuentre el número mayor y el número menor en la lista.\n",
        "5. Escribe un programa que tome una lista de elementos y elimine los elementos duplicados, dejando solo una instancia de cada elemento en la lista.\n"
      ],
      "metadata": {
        "id": "j2xrPhgfAPOV"
      }
    },
    {
      "cell_type": "markdown",
      "source": [
        "# 7️⃣ Funciones\n",
        "\n",
        "Las funciones son bloques de código reutilizables que realizan una tarea específica cuando son llamadas. Son una parte fundamental de la programación y permiten organizar y modularizar el código de manera efectiva. Se definen utilizando la palabra clave `def`, seguida del nombre de la función y paréntesis que pueden contener los parámetros de la función. La sintaxis básica es la siguiente:\n",
        "\n",
        "```python\n",
        "def nombre_de_funcion(parametro1, parametro2, ...):\n",
        "    # Código de la función\n",
        "    return resultado  # Opcional\n",
        "```\n",
        "\n",
        "- `nombre_de_funcion` es el nombre que eliges para la función.\n",
        "- `parametro1`, `parametro2`, etc., son los parámetros que la función acepta (pueden ser opcionales).\n",
        "- `return` es opcional y se utiliza para devolver un valor de la función.\n",
        "\n",
        "\n",
        "\n",
        "\n"
      ],
      "metadata": {
        "id": "67Jjg1qispdS"
      }
    },
    {
      "cell_type": "code",
      "source": [
        "# Ejemplo de definición de función\n"
      ],
      "metadata": {
        "id": "mWsTh8cKy5_6"
      },
      "execution_count": null,
      "outputs": []
    },
    {
      "cell_type": "code",
      "source": [
        "# Ejemplo de uso de la función saludar\n"
      ],
      "metadata": {
        "id": "i8M6gSU6BdKt"
      },
      "execution_count": null,
      "outputs": []
    },
    {
      "cell_type": "markdown",
      "source": [
        "\n",
        "### Llamada de una función\n",
        "\n",
        "Una vez que definida una función, puede *invocarse* proporcionando los argumentos necesarios (si los hay) dentro de los paréntesis. La función ejecutará su código y, en caso de tener una declaración `return`, **devolverá un** valor.\n",
        "\n",
        "\n"
      ],
      "metadata": {
        "id": "0agTzXZ8y3vV"
      }
    },
    {
      "cell_type": "code",
      "source": [
        "## Ejemplo de llamada de función:\n"
      ],
      "metadata": {
        "id": "DCVVDnjQzUCC"
      },
      "execution_count": null,
      "outputs": []
    },
    {
      "cell_type": "markdown",
      "source": [
        "¿Qué significa que la función devuelve un valor? Significa que la función, utilizando un `return`, tras su ejecución retorna un valor al entorno que puede ser almacenado en una variable para ser ejecutado más tarde."
      ],
      "metadata": {
        "id": "78u_Tnb0zfhL"
      }
    },
    {
      "cell_type": "markdown",
      "source": [
        "**Funciones sin `return`**\n",
        "\n",
        "No todas las funciones necesitan tener una declaración `return`. Las funciones pueden realizar acciones sin necesidad de devolver un valor."
      ],
      "metadata": {
        "id": "3jVF73d0ztG-"
      }
    },
    {
      "cell_type": "code",
      "source": [
        "# Definición\n",
        "\n",
        "\n",
        "# Invocación\n"
      ],
      "metadata": {
        "id": "v6ZxGSMLzuUF"
      },
      "execution_count": null,
      "outputs": []
    },
    {
      "cell_type": "markdown",
      "source": [
        "### Parámetros de función\n",
        "\n",
        "Los parámetros son valores que se pasan a una función cuando se llama. Puedes definir funciones con o sin parámetros, y también puedes establecer valores predeterminados para los parámetros.\n",
        "\n",
        "\n",
        "\n",
        "\n"
      ],
      "metadata": {
        "id": "hk4LznGIzPVg"
      }
    },
    {
      "cell_type": "code",
      "source": [
        "# Ejemplo de función con parámetros\n"
      ],
      "metadata": {
        "id": "OTj_hb8uz9Uz"
      },
      "execution_count": null,
      "outputs": []
    },
    {
      "cell_type": "code",
      "source": [
        "# Ejemplo de función con parámetros predeterminados\n"
      ],
      "metadata": {
        "id": "hMnfThaQCOHL"
      },
      "execution_count": null,
      "outputs": []
    },
    {
      "cell_type": "markdown",
      "source": [
        "### Documentación de funciones (docstrings)\n",
        "\n",
        "Es una buena práctica documentar tus funciones utilizando docstrings, que son cadenas de texto ubicadas en la parte superior de la función y proporcionan información sobre su propósito y cómo debe utilizarse.\n",
        "\n",
        "\n"
      ],
      "metadata": {
        "id": "QbEJ_x7Gz9u2"
      }
    },
    {
      "cell_type": "code",
      "source": [
        "# Ejemplo de docstring\n",
        "def multiplicar(a, b):\n",
        "    \"\"\"\n",
        "    Esta función multiplica dos números.\n",
        "    :param a: El primer número.\n",
        "    :param b: El segundo número.\n",
        "    :return: El resultado de la multiplicación.\n",
        "    \"\"\"\n",
        "    return a * b"
      ],
      "metadata": {
        "id": "Fues3F98z-tt"
      },
      "execution_count": null,
      "outputs": []
    },
    {
      "cell_type": "markdown",
      "source": [
        "### Alcance de las variables (scope)\n",
        "\n",
        "Ten en cuenta que las variables definidas dentro de una función tienen un alcance local, lo que significa que no están disponibles fuera de la función. Las variables definidas fuera de una función tienen un alcance global y pueden ser accedidas desde cualquier lugar del código.\n",
        "\n",
        "Estos son los conceptos básicos de las funciones en Python. Las funciones son una parte esencial de la programación modular y ayudan a escribir código más organizado, reutilizable y fácil de mantener."
      ],
      "metadata": {
        "id": "iClBBkGm0JTf"
      }
    },
    {
      "cell_type": "markdown",
      "source": [
        "# 🏋🏻 Ejercicios\n",
        "\n",
        "Con los conocimientos adquiridos en esta clase y antes de la próxima sensión, debería de ser capaz de resolver la siguiente lista de ejercicios. Utiliza una función para cada ejercicio.\n",
        "\n",
        "\n",
        "**Ejercicio 1:** Escribe una función que reciba dos números como entrada e imprima, sin devolver nada, cuál de ellos es el mayor.\n",
        "\n",
        "**Ejercicio 2:** Escribe una función que tome tres longitudes como entrada e indique si es posible formar un triángulo con esas longitudes. Si es posible, determina si es un triángulo equilátero, isósceles o escaleno.\n",
        "\n",
        "**Ejercicio 3:** Determina si un año es bisiesto. Un año es bisiesto si es divisible por 4, excepto aquellos años que son divisibles por 100 pero no por 400.\n",
        "\n",
        "**Ejercicio 4:** Dado un número entero positivo, verifica si es un número primo. Un número primo es aquel que solo es divisible por sí mismo y por 1.\n",
        "\n",
        "**Ejercicio 5:** Escribe un programa que calcule el factorial de un número entero no negativo. El factorial de un número `n` se calcula como el producto de todos los enteros desde 1 hasta `n`.\n",
        "\n",
        "**Ejercicio 6:** Crea un programa que convierta una calificación numérica en una calificación alfabética según la siguiente escala:\n",
        "   - A: 90-100\n",
        "   - B: 80-89\n",
        "   - C: 70-79\n",
        "   - D: 60-69\n",
        "   - F: Menos de 60\n",
        "\n",
        "**Ejercicio 7:** Escribe un programa que tome un rango de números (inicio y fin) y muestre todos los números primos dentro de ese rango.\n",
        "\n",
        "**Ejercicio 8:** Escribe un programa que cuente la cantidad de dígitos en un número entero ingresado por el usuario.\n",
        "\n",
        "**Ejercicio 9:** Escribe un programa que tome un mes (en forma numérica, por ejemplo, 1 para enero) y un año como entrada y muestre la cantidad de días en ese mes y año específicos. Ten en cuenta los años bisiestos.\n",
        "\n",
        "\n",
        "**Ejercicio 10:** Escribe una función llamada contiene_elemento(lista, elemento) que reciba una lista y un elemento como argumentos y devuelva True si el elemento está presente en la lista, o False en caso contrario.\n",
        "\n",
        "**Ejercicio 11:** Escribe una función llamada calcular_promedio(lista) que reciba una lista de números y devuelva el promedio de esos números.\n",
        "\n",
        "**Ejercicio 12:** Escribe una función llamada contar_vocales(cadena) que reciba una cadena de texto y devuelva el número de vocales (mayúsculas y minúsculas) en la cadena.\n",
        "\n",
        "**Ejercicio 13:** Escribe una función llamada ordenar_palabras(lista) que reciba una lista de palabras y devuelva una nueva lista con las palabras ordenadas alfabéticamente.\n",
        "\n",
        "**Ejercicio 14:** Escribe una función llamada contar_elementos_unicos(lista) que reciba una lista y devuelva el número de elementos únicos en la lista.\n",
        "\n",
        "**Ejercicio 15:** Escribe una función llamada sumar_naturales(n) que calcule la suma de los números naturales desde 1 hasta n.\n",
        "\n"
      ],
      "metadata": {
        "id": "Uma7OhU7pdkH"
      }
    }
  ]
}