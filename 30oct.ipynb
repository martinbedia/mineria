{
  "nbformat": 4,
  "nbformat_minor": 0,
  "metadata": {
    "colab": {
      "provenance": [],
      "include_colab_link": true
    },
    "kernelspec": {
      "name": "python3",
      "display_name": "Python 3"
    },
    "language_info": {
      "name": "python"
    }
  },
  "cells": [
    {
      "cell_type": "markdown",
      "metadata": {
        "id": "view-in-github",
        "colab_type": "text"
      },
      "source": [
        "<a href=\"https://colab.research.google.com/github/martinbedia/mineria/blob/main/30oct.ipynb\" target=\"_parent\"><img src=\"https://colab.research.google.com/assets/colab-badge.svg\" alt=\"Open In Colab\"/></a>"
      ]
    },
    {
      "cell_type": "markdown",
      "source": [
        "# 30 octubre"
      ],
      "metadata": {
        "id": "N9QKgBT-X0ds"
      }
    },
    {
      "cell_type": "markdown",
      "source": [
        "## Clustering"
      ],
      "metadata": {
        "id": "TMz-O1VjX2yj"
      }
    },
    {
      "cell_type": "markdown",
      "source": [
        "- Aprendizaje supervisado y no supervisado.\n",
        "- Los clusters deben ser lo mas diferenciados y compactos posible.\n",
        "- Conjuntos de forma esferica funcionan bien con k-means pero los otros no.\n",
        "- Creo tantas variables dummy como categorias-1 haya.\n",
        "- Es no deterministe, si lo ejecutamos dos veces pueden salir cosas  diferentes si los centros estan muy cerca.\n",
        "- Validacion: cohesion y separacion"
      ],
      "metadata": {
        "id": "b0V_hP3gYKdm"
      }
    },
    {
      "cell_type": "markdown",
      "source": [
        "## k means"
      ],
      "metadata": {
        "id": "A0o-tyJbei40"
      }
    },
    {
      "cell_type": "code",
      "source": [
        "import sklearn\n",
        "import pandas as pd\n",
        "import numpy as np"
      ],
      "metadata": {
        "id": "jKEWsq3EeQcE"
      },
      "execution_count": 1,
      "outputs": []
    },
    {
      "cell_type": "code",
      "source": [
        "# importar el archivo usando pandas\n",
        "df = pd.read_csv('clustering_ejemplo1.csv')\n",
        "df\n"
      ],
      "metadata": {
        "id": "JbDaGSczfUPc",
        "outputId": "6f09a90b-971b-4f5e-a754-57617a7d48e3",
        "colab": {
          "base_uri": "https://localhost:8080/",
          "height": 424
        }
      },
      "execution_count": 2,
      "outputs": [
        {
          "output_type": "execute_result",
          "data": {
            "text/plain": [
              "     variable_x  variable_y  grupo\n",
              "0      0.836857    2.136359      1\n",
              "1     -1.413658    7.409623      3\n",
              "2      1.155213    5.099619      0\n",
              "3     -1.018616    7.814915      3\n",
              "4      1.271351    1.892542      1\n",
              "..          ...         ...    ...\n",
              "295    1.973698    1.579798      1\n",
              "296    2.518342    1.391766      1\n",
              "297    0.438990    4.535929      0\n",
              "298    0.369479    7.791105      3\n",
              "299   -1.791458    2.749669      2\n",
              "\n",
              "[300 rows x 3 columns]"
            ],
            "text/html": [
              "\n",
              "  <div id=\"df-a84e2b11-f045-45c5-953d-94171696666a\" class=\"colab-df-container\">\n",
              "    <div>\n",
              "<style scoped>\n",
              "    .dataframe tbody tr th:only-of-type {\n",
              "        vertical-align: middle;\n",
              "    }\n",
              "\n",
              "    .dataframe tbody tr th {\n",
              "        vertical-align: top;\n",
              "    }\n",
              "\n",
              "    .dataframe thead th {\n",
              "        text-align: right;\n",
              "    }\n",
              "</style>\n",
              "<table border=\"1\" class=\"dataframe\">\n",
              "  <thead>\n",
              "    <tr style=\"text-align: right;\">\n",
              "      <th></th>\n",
              "      <th>variable_x</th>\n",
              "      <th>variable_y</th>\n",
              "      <th>grupo</th>\n",
              "    </tr>\n",
              "  </thead>\n",
              "  <tbody>\n",
              "    <tr>\n",
              "      <th>0</th>\n",
              "      <td>0.836857</td>\n",
              "      <td>2.136359</td>\n",
              "      <td>1</td>\n",
              "    </tr>\n",
              "    <tr>\n",
              "      <th>1</th>\n",
              "      <td>-1.413658</td>\n",
              "      <td>7.409623</td>\n",
              "      <td>3</td>\n",
              "    </tr>\n",
              "    <tr>\n",
              "      <th>2</th>\n",
              "      <td>1.155213</td>\n",
              "      <td>5.099619</td>\n",
              "      <td>0</td>\n",
              "    </tr>\n",
              "    <tr>\n",
              "      <th>3</th>\n",
              "      <td>-1.018616</td>\n",
              "      <td>7.814915</td>\n",
              "      <td>3</td>\n",
              "    </tr>\n",
              "    <tr>\n",
              "      <th>4</th>\n",
              "      <td>1.271351</td>\n",
              "      <td>1.892542</td>\n",
              "      <td>1</td>\n",
              "    </tr>\n",
              "    <tr>\n",
              "      <th>...</th>\n",
              "      <td>...</td>\n",
              "      <td>...</td>\n",
              "      <td>...</td>\n",
              "    </tr>\n",
              "    <tr>\n",
              "      <th>295</th>\n",
              "      <td>1.973698</td>\n",
              "      <td>1.579798</td>\n",
              "      <td>1</td>\n",
              "    </tr>\n",
              "    <tr>\n",
              "      <th>296</th>\n",
              "      <td>2.518342</td>\n",
              "      <td>1.391766</td>\n",
              "      <td>1</td>\n",
              "    </tr>\n",
              "    <tr>\n",
              "      <th>297</th>\n",
              "      <td>0.438990</td>\n",
              "      <td>4.535929</td>\n",
              "      <td>0</td>\n",
              "    </tr>\n",
              "    <tr>\n",
              "      <th>298</th>\n",
              "      <td>0.369479</td>\n",
              "      <td>7.791105</td>\n",
              "      <td>3</td>\n",
              "    </tr>\n",
              "    <tr>\n",
              "      <th>299</th>\n",
              "      <td>-1.791458</td>\n",
              "      <td>2.749669</td>\n",
              "      <td>2</td>\n",
              "    </tr>\n",
              "  </tbody>\n",
              "</table>\n",
              "<p>300 rows × 3 columns</p>\n",
              "</div>\n",
              "    <div class=\"colab-df-buttons\">\n",
              "\n",
              "  <div class=\"colab-df-container\">\n",
              "    <button class=\"colab-df-convert\" onclick=\"convertToInteractive('df-a84e2b11-f045-45c5-953d-94171696666a')\"\n",
              "            title=\"Convert this dataframe to an interactive table.\"\n",
              "            style=\"display:none;\">\n",
              "\n",
              "  <svg xmlns=\"http://www.w3.org/2000/svg\" height=\"24px\" viewBox=\"0 -960 960 960\">\n",
              "    <path d=\"M120-120v-720h720v720H120Zm60-500h600v-160H180v160Zm220 220h160v-160H400v160Zm0 220h160v-160H400v160ZM180-400h160v-160H180v160Zm440 0h160v-160H620v160ZM180-180h160v-160H180v160Zm440 0h160v-160H620v160Z\"/>\n",
              "  </svg>\n",
              "    </button>\n",
              "\n",
              "  <style>\n",
              "    .colab-df-container {\n",
              "      display:flex;\n",
              "      gap: 12px;\n",
              "    }\n",
              "\n",
              "    .colab-df-convert {\n",
              "      background-color: #E8F0FE;\n",
              "      border: none;\n",
              "      border-radius: 50%;\n",
              "      cursor: pointer;\n",
              "      display: none;\n",
              "      fill: #1967D2;\n",
              "      height: 32px;\n",
              "      padding: 0 0 0 0;\n",
              "      width: 32px;\n",
              "    }\n",
              "\n",
              "    .colab-df-convert:hover {\n",
              "      background-color: #E2EBFA;\n",
              "      box-shadow: 0px 1px 2px rgba(60, 64, 67, 0.3), 0px 1px 3px 1px rgba(60, 64, 67, 0.15);\n",
              "      fill: #174EA6;\n",
              "    }\n",
              "\n",
              "    .colab-df-buttons div {\n",
              "      margin-bottom: 4px;\n",
              "    }\n",
              "\n",
              "    [theme=dark] .colab-df-convert {\n",
              "      background-color: #3B4455;\n",
              "      fill: #D2E3FC;\n",
              "    }\n",
              "\n",
              "    [theme=dark] .colab-df-convert:hover {\n",
              "      background-color: #434B5C;\n",
              "      box-shadow: 0px 1px 3px 1px rgba(0, 0, 0, 0.15);\n",
              "      filter: drop-shadow(0px 1px 2px rgba(0, 0, 0, 0.3));\n",
              "      fill: #FFFFFF;\n",
              "    }\n",
              "  </style>\n",
              "\n",
              "    <script>\n",
              "      const buttonEl =\n",
              "        document.querySelector('#df-a84e2b11-f045-45c5-953d-94171696666a button.colab-df-convert');\n",
              "      buttonEl.style.display =\n",
              "        google.colab.kernel.accessAllowed ? 'block' : 'none';\n",
              "\n",
              "      async function convertToInteractive(key) {\n",
              "        const element = document.querySelector('#df-a84e2b11-f045-45c5-953d-94171696666a');\n",
              "        const dataTable =\n",
              "          await google.colab.kernel.invokeFunction('convertToInteractive',\n",
              "                                                    [key], {});\n",
              "        if (!dataTable) return;\n",
              "\n",
              "        const docLinkHtml = 'Like what you see? Visit the ' +\n",
              "          '<a target=\"_blank\" href=https://colab.research.google.com/notebooks/data_table.ipynb>data table notebook</a>'\n",
              "          + ' to learn more about interactive tables.';\n",
              "        element.innerHTML = '';\n",
              "        dataTable['output_type'] = 'display_data';\n",
              "        await google.colab.output.renderOutput(dataTable, element);\n",
              "        const docLink = document.createElement('div');\n",
              "        docLink.innerHTML = docLinkHtml;\n",
              "        element.appendChild(docLink);\n",
              "      }\n",
              "    </script>\n",
              "  </div>\n",
              "\n",
              "\n",
              "<div id=\"df-1f1f2fed-0260-423a-8da5-4db3fef738f5\">\n",
              "  <button class=\"colab-df-quickchart\" onclick=\"quickchart('df-1f1f2fed-0260-423a-8da5-4db3fef738f5')\"\n",
              "            title=\"Suggest charts.\"\n",
              "            style=\"display:none;\">\n",
              "\n",
              "<svg xmlns=\"http://www.w3.org/2000/svg\" height=\"24px\"viewBox=\"0 0 24 24\"\n",
              "     width=\"24px\">\n",
              "    <g>\n",
              "        <path d=\"M19 3H5c-1.1 0-2 .9-2 2v14c0 1.1.9 2 2 2h14c1.1 0 2-.9 2-2V5c0-1.1-.9-2-2-2zM9 17H7v-7h2v7zm4 0h-2V7h2v10zm4 0h-2v-4h2v4z\"/>\n",
              "    </g>\n",
              "</svg>\n",
              "  </button>\n",
              "\n",
              "<style>\n",
              "  .colab-df-quickchart {\n",
              "      --bg-color: #E8F0FE;\n",
              "      --fill-color: #1967D2;\n",
              "      --hover-bg-color: #E2EBFA;\n",
              "      --hover-fill-color: #174EA6;\n",
              "      --disabled-fill-color: #AAA;\n",
              "      --disabled-bg-color: #DDD;\n",
              "  }\n",
              "\n",
              "  [theme=dark] .colab-df-quickchart {\n",
              "      --bg-color: #3B4455;\n",
              "      --fill-color: #D2E3FC;\n",
              "      --hover-bg-color: #434B5C;\n",
              "      --hover-fill-color: #FFFFFF;\n",
              "      --disabled-bg-color: #3B4455;\n",
              "      --disabled-fill-color: #666;\n",
              "  }\n",
              "\n",
              "  .colab-df-quickchart {\n",
              "    background-color: var(--bg-color);\n",
              "    border: none;\n",
              "    border-radius: 50%;\n",
              "    cursor: pointer;\n",
              "    display: none;\n",
              "    fill: var(--fill-color);\n",
              "    height: 32px;\n",
              "    padding: 0;\n",
              "    width: 32px;\n",
              "  }\n",
              "\n",
              "  .colab-df-quickchart:hover {\n",
              "    background-color: var(--hover-bg-color);\n",
              "    box-shadow: 0 1px 2px rgba(60, 64, 67, 0.3), 0 1px 3px 1px rgba(60, 64, 67, 0.15);\n",
              "    fill: var(--button-hover-fill-color);\n",
              "  }\n",
              "\n",
              "  .colab-df-quickchart-complete:disabled,\n",
              "  .colab-df-quickchart-complete:disabled:hover {\n",
              "    background-color: var(--disabled-bg-color);\n",
              "    fill: var(--disabled-fill-color);\n",
              "    box-shadow: none;\n",
              "  }\n",
              "\n",
              "  .colab-df-spinner {\n",
              "    border: 2px solid var(--fill-color);\n",
              "    border-color: transparent;\n",
              "    border-bottom-color: var(--fill-color);\n",
              "    animation:\n",
              "      spin 1s steps(1) infinite;\n",
              "  }\n",
              "\n",
              "  @keyframes spin {\n",
              "    0% {\n",
              "      border-color: transparent;\n",
              "      border-bottom-color: var(--fill-color);\n",
              "      border-left-color: var(--fill-color);\n",
              "    }\n",
              "    20% {\n",
              "      border-color: transparent;\n",
              "      border-left-color: var(--fill-color);\n",
              "      border-top-color: var(--fill-color);\n",
              "    }\n",
              "    30% {\n",
              "      border-color: transparent;\n",
              "      border-left-color: var(--fill-color);\n",
              "      border-top-color: var(--fill-color);\n",
              "      border-right-color: var(--fill-color);\n",
              "    }\n",
              "    40% {\n",
              "      border-color: transparent;\n",
              "      border-right-color: var(--fill-color);\n",
              "      border-top-color: var(--fill-color);\n",
              "    }\n",
              "    60% {\n",
              "      border-color: transparent;\n",
              "      border-right-color: var(--fill-color);\n",
              "    }\n",
              "    80% {\n",
              "      border-color: transparent;\n",
              "      border-right-color: var(--fill-color);\n",
              "      border-bottom-color: var(--fill-color);\n",
              "    }\n",
              "    90% {\n",
              "      border-color: transparent;\n",
              "      border-bottom-color: var(--fill-color);\n",
              "    }\n",
              "  }\n",
              "</style>\n",
              "\n",
              "  <script>\n",
              "    async function quickchart(key) {\n",
              "      const quickchartButtonEl =\n",
              "        document.querySelector('#' + key + ' button');\n",
              "      quickchartButtonEl.disabled = true;  // To prevent multiple clicks.\n",
              "      quickchartButtonEl.classList.add('colab-df-spinner');\n",
              "      try {\n",
              "        const charts = await google.colab.kernel.invokeFunction(\n",
              "            'suggestCharts', [key], {});\n",
              "      } catch (error) {\n",
              "        console.error('Error during call to suggestCharts:', error);\n",
              "      }\n",
              "      quickchartButtonEl.classList.remove('colab-df-spinner');\n",
              "      quickchartButtonEl.classList.add('colab-df-quickchart-complete');\n",
              "    }\n",
              "    (() => {\n",
              "      let quickchartButtonEl =\n",
              "        document.querySelector('#df-1f1f2fed-0260-423a-8da5-4db3fef738f5 button');\n",
              "      quickchartButtonEl.style.display =\n",
              "        google.colab.kernel.accessAllowed ? 'block' : 'none';\n",
              "    })();\n",
              "  </script>\n",
              "</div>\n",
              "    </div>\n",
              "  </div>\n"
            ]
          },
          "metadata": {},
          "execution_count": 2
        }
      ]
    },
    {
      "cell_type": "code",
      "source": [
        "# utilizar to_numpy() sobre del DataFrame\n",
        "# dividir el conjunto de datos en dos partes, para entrenar el modelo\n",
        "x = df[['variable_x','variable_y']].to_numpy()\n",
        "type(x)"
      ],
      "metadata": {
        "id": "sb7IQMuEf182",
        "outputId": "d9d029ee-6781-41da-81ef-bec60168326b",
        "colab": {
          "base_uri": "https://localhost:8080/"
        }
      },
      "execution_count": 7,
      "outputs": [
        {
          "output_type": "execute_result",
          "data": {
            "text/plain": [
              "numpy.ndarray"
            ]
          },
          "metadata": {},
          "execution_count": 7
        }
      ]
    },
    {
      "cell_type": "code",
      "source": [
        "# se saca la variable de la informacion real de la etiqueta o grupo al que pertenece\n",
        "grupos = df['grupo'].to_numpy()\n",
        "grupos"
      ],
      "metadata": {
        "id": "PG6HgbhegSLN",
        "outputId": "421517eb-39cf-40c4-a31a-48f95158e11c",
        "colab": {
          "base_uri": "https://localhost:8080/"
        }
      },
      "execution_count": 5,
      "outputs": [
        {
          "output_type": "execute_result",
          "data": {
            "text/plain": [
              "array([1, 3, 0, 3, 1, 1, 2, 0, 3, 3, 2, 3, 0, 3, 1, 0, 0, 1, 2, 2, 1, 1,\n",
              "       0, 2, 2, 0, 1, 0, 2, 0, 3, 3, 0, 3, 3, 3, 3, 3, 2, 1, 0, 2, 0, 0,\n",
              "       2, 2, 3, 2, 3, 1, 2, 1, 3, 1, 1, 2, 3, 2, 3, 1, 3, 0, 3, 2, 2, 2,\n",
              "       3, 1, 3, 2, 0, 2, 3, 2, 2, 3, 2, 0, 1, 3, 1, 0, 1, 1, 3, 0, 1, 0,\n",
              "       3, 3, 0, 1, 3, 2, 2, 0, 1, 1, 0, 2, 3, 1, 3, 1, 0, 1, 1, 0, 3, 0,\n",
              "       2, 2, 1, 3, 1, 0, 3, 1, 1, 0, 2, 1, 2, 1, 1, 1, 1, 2, 1, 2, 3, 2,\n",
              "       2, 1, 3, 2, 2, 3, 0, 3, 3, 2, 0, 2, 0, 2, 3, 0, 3, 3, 3, 0, 3, 0,\n",
              "       1, 2, 3, 2, 1, 0, 3, 0, 0, 1, 0, 2, 2, 0, 1, 0, 0, 3, 1, 0, 2, 3,\n",
              "       1, 1, 0, 2, 1, 0, 2, 2, 0, 0, 0, 0, 1, 3, 0, 2, 0, 0, 2, 2, 2, 0,\n",
              "       2, 3, 0, 2, 1, 2, 0, 3, 2, 3, 0, 3, 0, 2, 0, 0, 3, 2, 2, 1, 1, 0,\n",
              "       3, 1, 1, 2, 1, 2, 0, 3, 3, 0, 0, 3, 0, 1, 2, 0, 1, 2, 3, 2, 1, 0,\n",
              "       1, 3, 3, 3, 3, 2, 2, 3, 0, 2, 1, 0, 2, 2, 2, 1, 1, 3, 0, 0, 2, 1,\n",
              "       3, 2, 0, 3, 0, 1, 1, 2, 2, 0, 1, 1, 1, 0, 3, 3, 1, 1, 0, 1, 1, 1,\n",
              "       3, 2, 3, 0, 1, 1, 3, 3, 3, 1, 1, 0, 3, 2])"
            ]
          },
          "metadata": {},
          "execution_count": 5
        }
      ]
    },
    {
      "cell_type": "code",
      "source": [
        "import matplotlib.pyplot as plt"
      ],
      "metadata": {
        "id": "hZ8AXS1WgjLF"
      },
      "execution_count": 6,
      "outputs": []
    },
    {
      "cell_type": "code",
      "source": [
        "plt.scatter(x[:,0],x[:,1], c='black', s=20)    # c para color y s para el tamaño de los puntos\n",
        "# plt.show()"
      ],
      "metadata": {
        "id": "Pp-7DA2ngvcV",
        "outputId": "b58fe269-082a-41c4-a736-1e44ad9e4a5f",
        "colab": {
          "base_uri": "https://localhost:8080/",
          "height": 448
        }
      },
      "execution_count": 11,
      "outputs": [
        {
          "output_type": "execute_result",
          "data": {
            "text/plain": [
              "<matplotlib.collections.PathCollection at 0x7e6b1d9959c0>"
            ]
          },
          "metadata": {},
          "execution_count": 11
        },
        {
          "output_type": "display_data",
          "data": {
            "text/plain": [
              "<Figure size 640x480 with 1 Axes>"
            ],
            "image/png": "[encoded data removed]"
          },
          "metadata": {}
        }
      ]
    },
    {
      "cell_type": "markdown",
      "source": [
        "Parece que hay cuatro clusters"
      ],
      "metadata": {
        "id": "HdGG3sUiheRF"
      }
    },
    {
      "cell_type": "code",
      "source": [
        "# x es el conjunto de datos\n",
        "# n_clusters es el valor de k, cuantos clusters queremos\n",
        "# rseed valor de la semilla aleatoria\n",
        "\n",
        "def crear_cluster(x,n_clusters,rseed):\n",
        "\n",
        "  # 1. inicializar los clusters de forma aleatoria, hay que elegir n_clusters puntos que funcionen como centros en la primera iteracion\n",
        "  rng = np.random.RandomState(rseed)    # permutacion de los numeros que le ponga en el parentesis, como barajar\n",
        "  i = rng.permutation(x.shape[0])[:n_clusters]   # las filas de x de donde saco los centros\n",
        "  centros = x[i]\n",
        "  z=0  # iteraciones, vueltas que da el bucle\n",
        "\n",
        "  # 2. realizar un bucle para la asignacion de objetos y actualizacion\n",
        "  while True:\n",
        "    z+=1\n",
        "    # 2.1 asigno cada objeto al cluster mas cercano\n",
        "    clusters = pairwise_distances_argmin(x,centros)\n",
        "\n",
        "   # 2.2 calculo el nuevo centro del cluster\n",
        "    nuevos_centros = np.array([x[clusters == i].mean(0) for i in range(n_clusters)])\n",
        "\n",
        "   # 2.3 si no actualice los centros, salgo del bucle\n",
        "    if np.all(centros == nuevos_centros):\n",
        "     break\n",
        "    centros = nuevos_centros\n",
        "\n",
        "  return centros,clusters,z\n"
      ],
      "metadata": {
        "id": "KDf974i2gvft"
      },
      "execution_count": 53,
      "outputs": []
    },
    {
      "cell_type": "code",
      "source": [
        "from sklearn.metrics import pairwise_distances_argmin\n",
        "pairwise_distances_argmin(x,centros)   #  para cada una de las filas de x cual es el centro al que tienen menor distancia"
      ],
      "metadata": {
        "id": "_z-xeZ_xk4M1",
        "outputId": "fb7ee997-2ae9-4336-b696-9dd6bc4c5522",
        "colab": {
          "base_uri": "https://localhost:8080/"
        }
      },
      "execution_count": 19,
      "outputs": [
        {
          "output_type": "execute_result",
          "data": {
            "text/plain": [
              "array([1, 0, 2, 0, 2, 2, 1, 2, 0, 0, 1, 0, 2, 0, 1, 2, 2, 2, 1, 1, 2, 2,\n",
              "       2, 1, 1, 1, 2, 2, 1, 1, 0, 0, 2, 0, 0, 0, 0, 0, 1, 2, 2, 1, 2, 2,\n",
              "       1, 1, 0, 1, 0, 2, 1, 2, 0, 2, 2, 1, 0, 1, 0, 1, 0, 2, 0, 1, 1, 1,\n",
              "       0, 2, 0, 1, 2, 1, 0, 1, 1, 0, 1, 2, 2, 0, 1, 2, 1, 2, 0, 2, 2, 2,\n",
              "       0, 0, 2, 2, 0, 1, 1, 2, 1, 2, 2, 1, 0, 1, 0, 2, 2, 2, 2, 2, 0, 2,\n",
              "       1, 1, 1, 0, 2, 2, 0, 1, 2, 2, 1, 1, 1, 1, 2, 2, 2, 1, 1, 1, 0, 1,\n",
              "       1, 2, 0, 1, 1, 0, 1, 0, 0, 1, 2, 1, 2, 1, 0, 1, 0, 0, 0, 2, 0, 2,\n",
              "       1, 1, 0, 1, 2, 2, 0, 2, 2, 2, 2, 1, 1, 2, 2, 2, 2, 0, 1, 2, 1, 0,\n",
              "       2, 2, 2, 1, 2, 2, 1, 1, 2, 2, 2, 2, 2, 0, 1, 1, 2, 2, 1, 1, 1, 2,\n",
              "       1, 0, 2, 1, 1, 1, 2, 0, 1, 0, 2, 0, 2, 1, 1, 2, 0, 1, 1, 2, 2, 2,\n",
              "       0, 2, 2, 1, 1, 1, 1, 0, 0, 2, 2, 0, 2, 1, 1, 2, 2, 1, 0, 1, 2, 2,\n",
              "       2, 0, 0, 0, 0, 1, 1, 0, 2, 1, 1, 2, 1, 1, 1, 2, 2, 0, 2, 2, 1, 1,\n",
              "       0, 1, 2, 0, 2, 2, 1, 1, 1, 2, 2, 1, 1, 2, 0, 0, 2, 2, 2, 2, 2, 2,\n",
              "       0, 1, 0, 2, 2, 2, 0, 0, 0, 2, 2, 2, 0, 1])"
            ]
          },
          "metadata": {},
          "execution_count": 19
        }
      ]
    },
    {
      "cell_type": "code",
      "source": [
        "# escribo y luego lo paso a la funcion de arriba\n",
        "# inicializacion de los clusters\n",
        "rseed = 5\n",
        "n_clusters = 3\n",
        "\n",
        "rng = np.random.RandomState(rseed)    # permutacion de los numeros que le ponga en el parentesis, como barajar\n",
        "i = rng.permutation(x.shape[0])[:n_clusters]   # las filas de x de donde saco los centros\n",
        "centros = x[i]\n",
        "centros"
      ],
      "metadata": {
        "id": "Op0sBNeWgvje",
        "outputId": "924832e8-b897-49b9-c17f-6d67ac12a9c7",
        "colab": {
          "base_uri": "https://localhost:8080/"
        }
      },
      "execution_count": 36,
      "outputs": [
        {
          "output_type": "execute_result",
          "data": {
            "text/plain": [
              "array([[-2.45809975,  7.51178724],\n",
              "       [-1.86849125,  3.07982487],\n",
              "       [ 2.40615694,  4.87047502]])"
            ]
          },
          "metadata": {},
          "execution_count": 36
        }
      ]
    },
    {
      "cell_type": "code",
      "source": [
        "rseed = 3\n",
        "n_clusters = 4\n",
        "centros, clusters,z = crear_cluster(x,n_clusters,rseed)"
      ],
      "metadata": {
        "id": "xepDsgBIgvmG"
      },
      "execution_count": 63,
      "outputs": []
    },
    {
      "cell_type": "code",
      "source": [
        "crear_cluster(x,n_clusters,rseed)"
      ],
      "metadata": {
        "id": "s_1DiRILqlsH",
        "outputId": "1652c795-a97c-40a0-8627-34501d4ccde0",
        "colab": {
          "base_uri": "https://localhost:8080/"
        }
      },
      "execution_count": 64,
      "outputs": [
        {
          "output_type": "execute_result",
          "data": {
            "text/plain": [
              "(array([[-0.89247947,  8.18394342],\n",
              "        [ 1.98726097,  0.90144281],\n",
              "        [-0.33514647,  3.62624134],\n",
              "        [-1.73102222,  7.43349916]]),\n",
              " array([1, 3, 2, 0, 1, 1, 2, 2, 0, 0, 2, 3, 2, 3, 1, 2, 2, 1, 2, 2, 1, 1,\n",
              "        2, 2, 2, 2, 1, 2, 2, 2, 0, 3, 2, 3, 3, 3, 3, 3, 2, 1, 2, 2, 2, 2,\n",
              "        2, 2, 0, 2, 3, 1, 2, 1, 0, 1, 1, 2, 0, 2, 3, 1, 3, 2, 0, 2, 2, 2,\n",
              "        3, 1, 3, 2, 2, 2, 0, 2, 2, 0, 2, 2, 1, 0, 1, 2, 1, 1, 0, 2, 1, 2,\n",
              "        3, 3, 2, 1, 0, 2, 2, 2, 1, 1, 2, 2, 0, 1, 0, 1, 2, 1, 1, 2, 3, 2,\n",
              "        2, 2, 1, 3, 1, 2, 3, 1, 1, 2, 2, 1, 2, 1, 1, 1, 1, 2, 1, 2, 0, 2,\n",
              "        2, 1, 3, 2, 2, 3, 2, 0, 3, 2, 2, 2, 2, 2, 3, 2, 3, 3, 3, 2, 3, 2,\n",
              "        1, 2, 0, 2, 1, 2, 3, 2, 2, 1, 2, 2, 2, 2, 1, 2, 2, 0, 1, 2, 2, 0,\n",
              "        1, 1, 2, 2, 1, 2, 2, 2, 2, 2, 2, 2, 1, 3, 2, 2, 2, 2, 2, 2, 2, 2,\n",
              "        2, 3, 2, 2, 1, 2, 2, 3, 2, 0, 2, 3, 2, 2, 2, 2, 3, 2, 2, 1, 1, 2,\n",
              "        3, 1, 1, 2, 1, 2, 2, 0, 0, 2, 2, 0, 2, 1, 2, 2, 1, 2, 0, 2, 1, 2,\n",
              "        1, 3, 3, 3, 3, 2, 2, 3, 2, 2, 1, 2, 2, 2, 2, 1, 1, 3, 2, 2, 2, 1,\n",
              "        0, 2, 2, 0, 2, 1, 1, 2, 2, 1, 1, 1, 1, 2, 0, 3, 1, 1, 2, 1, 1, 1,\n",
              "        3, 2, 0, 2, 1, 1, 3, 0, 0, 1, 1, 2, 0, 2]),\n",
              " 10)"
            ]
          },
          "metadata": {},
          "execution_count": 64
        }
      ]
    },
    {
      "cell_type": "code",
      "source": [
        "plt.scatter(x[:,0],x[:,1], c=clusters, s=20)\n",
        "plt.scatter(centros[:,0],centros[:,1],c='red',marker='x',s=50)\n",
        "plt.show"
      ],
      "metadata": {
        "id": "WN5L40nEgvoV",
        "outputId": "265ac3cb-b307-449d-df56-995db3e54784",
        "colab": {
          "base_uri": "https://localhost:8080/",
          "height": 448
        }
      },
      "execution_count": 55,
      "outputs": [
        {
          "output_type": "execute_result",
          "data": {
            "text/plain": [
              "<function matplotlib.pyplot.show(close=None, block=None)>"
            ]
          },
          "metadata": {},
          "execution_count": 55
        },
        {
          "output_type": "display_data",
          "data": {
            "text/plain": [
              "<Figure size 640x480 with 1 Axes>"
            ],
            "image/png": "[encoded data removed]"
          },
          "metadata": {}
        }
      ]
    },
    {
      "cell_type": "code",
      "source": [
        "from sklearn.cluster import KMeans\n",
        "n_clusters = 4\n",
        "modelo = KMeans(n_clusters)\n",
        "modelo"
      ],
      "metadata": {
        "id": "bKXVy6vOsFuO",
        "outputId": "a3d06e36-4ef8-46b3-8bad-a70b5ee53ba2",
        "colab": {
          "base_uri": "https://localhost:8080/",
          "height": 75
        }
      },
      "execution_count": 65,
      "outputs": [
        {
          "output_type": "execute_result",
          "data": {
            "text/plain": [
              "KMeans(n_clusters=4)"
            ],
            "text/html": [
              "<style>#sk-container-id-1 {color: black;background-color: white;}#sk-container-id-1 pre{padding: 0;}#sk-container-id-1 div.sk-toggleable {background-color: white;}#sk-container-id-1 label.sk-toggleable__label {cursor: pointer;display: block;width: 100%;margin-bottom: 0;padding: 0.3em;box-sizing: border-box;text-align: center;}#sk-container-id-1 label.sk-toggleable__label-arrow:before {content: \"▸\";float: left;margin-right: 0.25em;color: #696969;}#sk-container-id-1 label.sk-toggleable__label-arrow:hover:before {color: black;}#sk-container-id-1 div.sk-estimator:hover label.sk-toggleable__label-arrow:before {color: black;}#sk-container-id-1 div.sk-toggleable__content {max-height: 0;max-width: 0;overflow: hidden;text-align: left;background-color: #f0f8ff;}#sk-container-id-1 div.sk-toggleable__content pre {margin: 0.2em;color: black;border-radius: 0.25em;background-color: #f0f8ff;}#sk-container-id-1 input.sk-toggleable__control:checked~div.sk-toggleable__content {max-height: 200px;max-width: 100%;overflow: auto;}#sk-container-id-1 input.sk-toggleable__control:checked~label.sk-toggleable__label-arrow:before {content: \"▾\";}#sk-container-id-1 div.sk-estimator input.sk-toggleable__control:checked~label.sk-toggleable__label {background-color: #d4ebff;}#sk-container-id-1 div.sk-label input.sk-toggleable__control:checked~label.sk-toggleable__label {background-color: #d4ebff;}#sk-container-id-1 input.sk-hidden--visually {border: 0;clip: rect(1px 1px 1px 1px);clip: rect(1px, 1px, 1px, 1px);height: 1px;margin: -1px;overflow: hidden;padding: 0;position: absolute;width: 1px;}#sk-container-id-1 div.sk-estimator {font-family: monospace;background-color: #f0f8ff;border: 1px dotted black;border-radius: 0.25em;box-sizing: border-box;margin-bottom: 0.5em;}#sk-container-id-1 div.sk-estimator:hover {background-color: #d4ebff;}#sk-container-id-1 div.sk-parallel-item::after {content: \"\";width: 100%;border-bottom: 1px solid gray;flex-grow: 1;}#sk-container-id-1 div.sk-label:hover label.sk-toggleable__label {background-color: #d4ebff;}#sk-container-id-1 div.sk-serial::before {content: \"\";position: absolute;border-left: 1px solid gray;box-sizing: border-box;top: 0;bottom: 0;left: 50%;z-index: 0;}#sk-container-id-1 div.sk-serial {display: flex;flex-direction: column;align-items: center;background-color: white;padding-right: 0.2em;padding-left: 0.2em;position: relative;}#sk-container-id-1 div.sk-item {position: relative;z-index: 1;}#sk-container-id-1 div.sk-parallel {display: flex;align-items: stretch;justify-content: center;background-color: white;position: relative;}#sk-container-id-1 div.sk-item::before, #sk-container-id-1 div.sk-parallel-item::before {content: \"\";position: absolute;border-left: 1px solid gray;box-sizing: border-box;top: 0;bottom: 0;left: 50%;z-index: -1;}#sk-container-id-1 div.sk-parallel-item {display: flex;flex-direction: column;z-index: 1;position: relative;background-color: white;}#sk-container-id-1 div.sk-parallel-item:first-child::after {align-self: flex-end;width: 50%;}#sk-container-id-1 div.sk-parallel-item:last-child::after {align-self: flex-start;width: 50%;}#sk-container-id-1 div.sk-parallel-item:only-child::after {width: 0;}#sk-container-id-1 div.sk-dashed-wrapped {border: 1px dashed gray;margin: 0 0.4em 0.5em 0.4em;box-sizing: border-box;padding-bottom: 0.4em;background-color: white;}#sk-container-id-1 div.sk-label label {font-family: monospace;font-weight: bold;display: inline-block;line-height: 1.2em;}#sk-container-id-1 div.sk-label-container {text-align: center;}#sk-container-id-1 div.sk-container {/* jupyter's `normalize.less` sets `[hidden] { display: none; }` but bootstrap.min.css set `[hidden] { display: none !important; }` so we also need the `!important` here to be able to override the default hidden behavior on the sphinx rendered scikit-learn.org. See: https://github.com/scikit-learn/scikit-learn/issues/21755 */display: inline-block !important;position: relative;}#sk-container-id-1 div.sk-text-repr-fallback {display: none;}</style><div id=\"sk-container-id-1\" class=\"sk-top-container\"><div class=\"sk-text-repr-fallback\"><pre>KMeans(n_clusters=4)</pre><b>In a Jupyter environment, please rerun this cell to show the HTML representation or trust the notebook. <br />On GitHub, the HTML representation is unable to render, please try loading this page with nbviewer.org.</b></div><div class=\"sk-container\" hidden><div class=\"sk-item\"><div class=\"sk-estimator sk-toggleable\"><input class=\"sk-toggleable__control sk-hidden--visually\" id=\"sk-estimator-id-1\" type=\"checkbox\" checked><label for=\"sk-estimator-id-1\" class=\"sk-toggleable__label sk-toggleable__label-arrow\">KMeans</label><div class=\"sk-toggleable__content\"><pre>KMeans(n_clusters=4)</pre></div></div></div></div></div>"
            ]
          },
          "metadata": {},
          "execution_count": 65
        }
      ]
    }
  ]
}