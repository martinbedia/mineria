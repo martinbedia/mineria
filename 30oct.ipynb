{
  "nbformat": 4,
  "nbformat_minor": 0,
  "metadata": {
    "colab": {
      "provenance": [],
      "toc_visible": true,
      "include_colab_link": true
    },
    "kernelspec": {
      "name": "python3",
      "display_name": "Python 3"
    },
    "language_info": {
      "name": "python"
    }
  },
  "cells": [
    {
      "cell_type": "markdown",
      "metadata": {
        "id": "view-in-github",
        "colab_type": "text"
      },
      "source": [
        "<a href=\"https://colab.research.google.com/github/martinbedia/mineria/blob/main/numpy.ipynb\" target=\"_parent\"><img src=\"https://colab.research.google.com/assets/colab-badge.svg\" alt=\"Open In Colab\"/></a>"
      ]
    },
    {
      "cell_type": "markdown",
      "source": [
        "# Introduccion"
      ],
      "metadata": {
        "id": "IYFtvM_17aZc"
      }
    },
    {
      "cell_type": "code",
      "source": [
        "import numpy as np"
      ],
      "metadata": {
        "id": "qtxXAoFD5-4Y"
      },
      "execution_count": null,
      "outputs": []
    },
    {
      "cell_type": "markdown",
      "source": [
        "Proporciona objetos de tipo ndarray. Son lista eficientes. Tienen tamaño estático. Los elementos son del mismo tipo (mas o menos, podemos crear arrays de tipo distinto).\n",
        "Tienen funcionalidades precompiladas que son mucho mas eficientes y rapidas\n",
        "Vectorización y broadcasting"
      ],
      "metadata": {
        "id": "ZVzch_bX6F7y"
      }
    },
    {
      "cell_type": "code",
      "source": [
        "arr = np.array([3,5,1,7])"
      ],
      "metadata": {
        "id": "7mGxn6FD69VM"
      },
      "execution_count": null,
      "outputs": []
    },
    {
      "cell_type": "code",
      "source": [
        "print(type(arr))"
      ],
      "metadata": {
        "colab": {
          "base_uri": "https://localhost:8080/"
        },
        "id": "cOV1T1yn7PIr",
        "outputId": "1e17dfb1-1e91-48e7-ba68-388cc46dbbfa"
      },
      "execution_count": null,
      "outputs": [
        {
          "output_type": "stream",
          "name": "stdout",
          "text": [
            "<class 'numpy.ndarray'>\n"
          ]
        }
      ]
    },
    {
      "cell_type": "markdown",
      "source": [
        "Los arrays son de dimensiones diferentes y la funcion array lo infiere en el momento de la creacion. Pueden tener todas las dimensiones que queremos:\n",
        "- 0D: es un elemento simple\n",
        "-1D: es una lista\n",
        "-2D: es una matriz\n",
        "-3D: es conjunto de matrices"
      ],
      "metadata": {
        "id": "xKu5MYMS7v8b"
      }
    },
    {
      "cell_type": "code",
      "source": [
        "arr0D = np.array(34)\n",
        "print(arr0D)\n",
        "print(type(arr0D))"
      ],
      "metadata": {
        "colab": {
          "base_uri": "https://localhost:8080/"
        },
        "id": "5ay0wOD37240",
        "outputId": "66958706-d3b0-4858-ea0a-4111a245812b"
      },
      "execution_count": null,
      "outputs": [
        {
          "output_type": "stream",
          "name": "stdout",
          "text": [
            "34\n",
            "<class 'numpy.ndarray'>\n"
          ]
        }
      ]
    },
    {
      "cell_type": "code",
      "source": [
        "arr1D = np.array([3,5,1,7])    #ojo poner los corchetes, lo que recibe la funcion es un objeto de tipo list\n",
        "print(arr1D)"
      ],
      "metadata": {
        "colab": {
          "base_uri": "https://localhost:8080/"
        },
        "id": "yhyJGMYq8D1k",
        "outputId": "94809e56-4deb-444b-9b8b-d2379e982d47"
      },
      "execution_count": null,
      "outputs": [
        {
          "output_type": "stream",
          "name": "stdout",
          "text": [
            "[3 5 1 7]\n"
          ]
        }
      ]
    },
    {
      "cell_type": "code",
      "source": [
        "arr2D= np.array([[10,20],[30,40]])\n",
        "print(arr2D)\n",
        "\n",
        "arr3D= np.array([[[10,20],[30,40]],[[50,60],[70,80]]])\n",
        "print(arr3D)"
      ],
      "metadata": {
        "colab": {
          "base_uri": "https://localhost:8080/"
        },
        "id": "-8Cc2IVC8gFE",
        "outputId": "fb880934-92cb-451b-ef85-be3314630b22"
      },
      "execution_count": null,
      "outputs": [
        {
          "output_type": "stream",
          "name": "stdout",
          "text": [
            "[[10 20]\n",
            " [30 40]]\n",
            "[[[10 20]\n",
            "  [30 40]]\n",
            "\n",
            " [[50 60]\n",
            "  [70 80]]]\n"
          ]
        }
      ]
    },
    {
      "cell_type": "markdown",
      "source": [
        "Llamamos dimension a un nivel de profundidad"
      ],
      "metadata": {
        "id": "216y7sFt8zcs"
      }
    },
    {
      "cell_type": "code",
      "source": [
        "print(arr0D.ndim)\n",
        "print(arr1D.ndim)\n",
        "print(arr2D.ndim)"
      ],
      "metadata": {
        "colab": {
          "base_uri": "https://localhost:8080/"
        },
        "id": "pTvWBANE9Rz5",
        "outputId": "89a276c5-694a-46c8-ba11-dd39b3ecb95b"
      },
      "execution_count": null,
      "outputs": [
        {
          "output_type": "stream",
          "name": "stdout",
          "text": [
            "0\n",
            "1\n",
            "2\n"
          ]
        }
      ]
    },
    {
      "cell_type": "markdown",
      "source": [
        "-Funcion: accedemos a ella usamos np.cosa()\n",
        "\n",
        "-Método: accedemos a ellos a traves de un objeto tipo ndarray, es decir, arr.cosa()\n",
        "\n",
        "-Propiedades o atributos: accedemos a ellos a traves de un objeto de tipo ndarray pero solo almacenan informacion y no ejecutan funcionalidades arr.cosa ,sin los parentesis"
      ],
      "metadata": {
        "id": "_XyR9Nva9NJU"
      }
    },
    {
      "cell_type": "code",
      "source": [
        "arr = np.array([3,5,1,2], ndmin=2)\n",
        "print(arr)\n",
        "print(arr.ndim)"
      ],
      "metadata": {
        "colab": {
          "base_uri": "https://localhost:8080/"
        },
        "id": "bQdOIW5l96sx",
        "outputId": "ae2bf9c8-3f18-426b-964d-2f8d56c227f4"
      },
      "execution_count": null,
      "outputs": [
        {
          "output_type": "stream",
          "name": "stdout",
          "text": [
            "[[3 5 1 2]]\n",
            "2\n"
          ]
        }
      ]
    },
    {
      "cell_type": "code",
      "source": [
        "arr = np.array([[[3,5],[1,2]],[[3,5],[1,2]]], ndmin=2)\n",
        "print(arr)\n",
        "print(arr.ndim)"
      ],
      "metadata": {
        "colab": {
          "base_uri": "https://localhost:8080/"
        },
        "id": "B9lFSRUa-gbn",
        "outputId": "248eb1ec-7f96-46aa-c721-e0585de92039"
      },
      "execution_count": null,
      "outputs": [
        {
          "output_type": "stream",
          "name": "stdout",
          "text": [
            "[[[3 5]\n",
            "  [1 2]]\n",
            "\n",
            " [[3 5]\n",
            "  [1 2]]]\n",
            "3\n"
          ]
        }
      ]
    },
    {
      "cell_type": "markdown",
      "source": [],
      "metadata": {
        "id": "i9DZhg9Q-ugm"
      }
    },
    {
      "cell_type": "markdown",
      "source": [
        "# Acceso a los elementos del array\n"
      ],
      "metadata": {
        "id": "_purmrHH-v5O"
      }
    },
    {
      "cell_type": "code",
      "source": [
        "numeros = np. array([40,10,20,50,60])\n",
        "print(numeros[0])\n",
        "print(numeros[-1])"
      ],
      "metadata": {
        "colab": {
          "base_uri": "https://localhost:8080/"
        },
        "id": "F4nOWfh8-1L1",
        "outputId": "f3397fac-73b0-4594-a5ba-afb1910d7a8d"
      },
      "execution_count": null,
      "outputs": [
        {
          "output_type": "stream",
          "name": "stdout",
          "text": [
            "40\n",
            "60\n"
          ]
        }
      ]
    },
    {
      "cell_type": "code",
      "source": [
        "print(numeros)\n",
        "numeros[1]=100\n",
        "print(numeros)"
      ],
      "metadata": {
        "colab": {
          "base_uri": "https://localhost:8080/"
        },
        "id": "0vcWZIJ9_OAn",
        "outputId": "a669cda2-a022-4f47-fd84-92df7c4c5193"
      },
      "execution_count": null,
      "outputs": [
        {
          "output_type": "stream",
          "name": "stdout",
          "text": [
            "[40 10 20 50 60]\n",
            "[ 40 100  20  50  60]\n"
          ]
        }
      ]
    },
    {
      "cell_type": "code",
      "source": [
        "matriz = np.array([[1,2,3],[4,5,6]])\n",
        "print(matriz)\n",
        "print(matriz[0,1])   #para acceder a un elemento de la matriz [fila,columna]"
      ],
      "metadata": {
        "colab": {
          "base_uri": "https://localhost:8080/"
        },
        "id": "ZJSsJPqG_a2_",
        "outputId": "dddccd22-06b9-4263-acd7-b4394210d696"
      },
      "execution_count": null,
      "outputs": [
        {
          "output_type": "stream",
          "name": "stdout",
          "text": [
            "[[1 2 3]\n",
            " [4 5 6]]\n",
            "2\n"
          ]
        }
      ]
    },
    {
      "cell_type": "code",
      "source": [
        "print(matriz[0,-1])"
      ],
      "metadata": {
        "colab": {
          "base_uri": "https://localhost:8080/"
        },
        "id": "oFAb_Q9k_rUe",
        "outputId": "abebe15b-f6e5-4930-9f3a-9548f439d2c2"
      },
      "execution_count": null,
      "outputs": [
        {
          "output_type": "stream",
          "name": "stdout",
          "text": [
            "3\n"
          ]
        }
      ]
    },
    {
      "cell_type": "code",
      "source": [
        "lista_matrices = np.array([[[1,2,3],[4,5,6]],[[10,20,30],[40,50,60]],[[100,200,300],[400,500,600]]])\n",
        "print(lista_matrices)"
      ],
      "metadata": {
        "colab": {
          "base_uri": "https://localhost:8080/"
        },
        "id": "efpLII5pAAuv",
        "outputId": "723b445c-6cf0-4169-c0fa-56ea041719e4"
      },
      "execution_count": null,
      "outputs": [
        {
          "output_type": "stream",
          "name": "stdout",
          "text": [
            "[[[  1   2   3]\n",
            "  [  4   5   6]]\n",
            "\n",
            " [[ 10  20  30]\n",
            "  [ 40  50  60]]\n",
            "\n",
            " [[100 200 300]\n",
            "  [400 500 600]]]\n"
          ]
        }
      ]
    },
    {
      "cell_type": "code",
      "source": [
        "print(lista_matrices[-1,1,0])"
      ],
      "metadata": {
        "colab": {
          "base_uri": "https://localhost:8080/"
        },
        "id": "yrWd7eflAdeu",
        "outputId": "0c173e4f-369f-4189-daef-d9b16652d738"
      },
      "execution_count": null,
      "outputs": [
        {
          "output_type": "stream",
          "name": "stdout",
          "text": [
            "400\n"
          ]
        }
      ]
    },
    {
      "cell_type": "markdown",
      "source": [
        "Al definir un array 3D tenemos 3 ejes:\n",
        "- El mas externo es el eje de la fila, es decir, cada una de las matrices\n",
        "- El siguiente es, dentro de una matriz, cada una de las filas\n",
        "- El siguiente es, para una fila de una matriz, cada una de las columnas"
      ],
      "metadata": {
        "id": "YPct2BbsAv-d"
      }
    },
    {
      "cell_type": "markdown",
      "source": [
        "## Slicing"
      ],
      "metadata": {
        "id": "5HSFfkiEB_8t"
      }
    },
    {
      "cell_type": "code",
      "source": [
        "numeros= [40,100,20,50,60,80,22,34,55]\n",
        "print(numeros)\n",
        "numeros[1:3]       #[1,3)\n",
        "print(numeros[1:6:2])  #inicio:fin:paso\n",
        "print(numeros[:4])   #desde el principio hasta (con el hasto no incluido)\n",
        "print(numeros[4:])   #desde el indice (incluido) hasta el final"
      ],
      "metadata": {
        "colab": {
          "base_uri": "https://localhost:8080/"
        },
        "id": "KU1eiYaCCCho",
        "outputId": "4516d983-82f7-42bd-8791-cb37fa5ba060"
      },
      "execution_count": null,
      "outputs": [
        {
          "output_type": "stream",
          "name": "stdout",
          "text": [
            "[40, 100, 20, 50, 60, 80, 22, 34, 55]\n",
            "[100, 50, 80]\n",
            "[40, 100, 20, 50]\n",
            "[60, 80, 22, 34, 55]\n"
          ]
        }
      ]
    },
    {
      "cell_type": "code",
      "source": [
        "print(numeros[:6:2])\n",
        "print(numeros[3::2])\n",
        "print(numeros[::3])    #del inicio al final cada 3"
      ],
      "metadata": {
        "colab": {
          "base_uri": "https://localhost:8080/"
        },
        "id": "i7D_SmEJC5aQ",
        "outputId": "9a381aa7-fd54-4c0f-ef3d-ceedc33e9e38"
      },
      "execution_count": null,
      "outputs": [
        {
          "output_type": "stream",
          "name": "stdout",
          "text": [
            "[40, 20, 60]\n",
            "[50, 80, 34]\n",
            "[40, 50, 22]\n"
          ]
        }
      ]
    },
    {
      "cell_type": "code",
      "source": [
        "print(numeros[-3:-1])"
      ],
      "metadata": {
        "colab": {
          "base_uri": "https://localhost:8080/"
        },
        "id": "gnwCLro5DNkZ",
        "outputId": "0f21649f-cd97-472a-e208-0c926c0b5718"
      },
      "execution_count": null,
      "outputs": [
        {
          "output_type": "stream",
          "name": "stdout",
          "text": [
            "[22, 34]\n"
          ]
        }
      ]
    },
    {
      "cell_type": "code",
      "source": [
        "matriz = np.array([[1,2,3,4,5],[6,7,8,9,10]])\n",
        "print(matriz)"
      ],
      "metadata": {
        "colab": {
          "base_uri": "https://localhost:8080/"
        },
        "id": "CfBOn5SpDbU6",
        "outputId": "3b7374c0-37e4-4cc0-afbc-cf38be4fa927"
      },
      "execution_count": null,
      "outputs": [
        {
          "output_type": "stream",
          "name": "stdout",
          "text": [
            "[[ 1  2  3  4  5]\n",
            " [ 6  7  8  9 10]]\n"
          ]
        }
      ]
    },
    {
      "cell_type": "code",
      "source": [
        "print(matriz[1,1:4])    #del segundo fila coge la 2º,3º y 4º columna\n",
        "print(matriz[0:2,0])\n",
        "print(matriz[0:2,3:5])\n"
      ],
      "metadata": {
        "colab": {
          "base_uri": "https://localhost:8080/"
        },
        "id": "a7Gq9sl_DnmT",
        "outputId": "ed1ff5f8-8bb8-44c8-9bc3-9977e570ec06"
      },
      "execution_count": null,
      "outputs": [
        {
          "output_type": "stream",
          "name": "stdout",
          "text": [
            "[7 8 9]\n",
            "[1 6]\n",
            "[[ 4  5]\n",
            " [ 9 10]]\n"
          ]
        }
      ]
    },
    {
      "cell_type": "markdown",
      "source": [
        "# Tipos de datos\n",
        "Para consultar cual es tipo de cada uno de los elementos de los arrays utilizamos dtype"
      ],
      "metadata": {
        "id": "bQyjXvsVEPgB"
      }
    },
    {
      "cell_type": "code",
      "source": [
        "arr = np.array([\"perro\",\"gato\",\"ratón\"])\n",
        "print(arr)\n",
        "print(arr.dtype)"
      ],
      "metadata": {
        "colab": {
          "base_uri": "https://localhost:8080/"
        },
        "id": "EEukwAvrERFb",
        "outputId": "8620691d-19ce-45bf-db1e-68eb485b2b3e"
      },
      "execution_count": null,
      "outputs": [
        {
          "output_type": "stream",
          "name": "stdout",
          "text": [
            "['perro' 'gato' 'ratón']\n",
            "<U5\n"
          ]
        }
      ]
    },
    {
      "cell_type": "code",
      "source": [
        "arr = np.array([1,3,5,6],dtype='i4')\n",
        "print(arr.dtype)\n"
      ],
      "metadata": {
        "colab": {
          "base_uri": "https://localhost:8080/"
        },
        "id": "wvUneNl8FMJF",
        "outputId": "857ed1fa-f7c3-49fa-e076-85955a546a6f"
      },
      "execution_count": null,
      "outputs": [
        {
          "output_type": "stream",
          "name": "stdout",
          "text": [
            "int32\n"
          ]
        }
      ]
    },
    {
      "cell_type": "code",
      "source": [
        "arr = np.array([1,3,5,6,7,2.3])\n",
        "print(arr.dtype)\n",
        "newarr = arr.astype('i')\n",
        "print(newarr)\n",
        "print(newarr.dtype)"
      ],
      "metadata": {
        "colab": {
          "base_uri": "https://localhost:8080/"
        },
        "id": "BiyBQQWyFy_-",
        "outputId": "bbf730ab-8279-47e8-8641-181b1559ca96"
      },
      "execution_count": null,
      "outputs": [
        {
          "output_type": "stream",
          "name": "stdout",
          "text": [
            "float64\n",
            "[1 3 5 6 7 2]\n",
            "int32\n"
          ]
        }
      ]
    },
    {
      "cell_type": "markdown",
      "source": [
        "# Shape (forma)"
      ],
      "metadata": {
        "id": "UnCY5n7KGMqC"
      }
    },
    {
      "cell_type": "code",
      "source": [
        "arr = np.array([1,3,5,6,7,2.3])\n",
        "arr.reshape(3,2)"
      ],
      "metadata": {
        "colab": {
          "base_uri": "https://localhost:8080/"
        },
        "id": "nob2fc-oGTmx",
        "outputId": "77e57a0e-4420-4bbd-9dba-47c46d14d9f6"
      },
      "execution_count": null,
      "outputs": [
        {
          "output_type": "execute_result",
          "data": {
            "text/plain": [
              "array([[1. , 3. ],\n",
              "       [5. , 6. ],\n",
              "       [7. , 2.3]])"
            ]
          },
          "metadata": {},
          "execution_count": 44
        }
      ]
    },
    {
      "cell_type": "markdown",
      "source": [
        "# Otras formas de crear arrays"
      ],
      "metadata": {
        "id": "uXXr_bcZGk8v"
      }
    },
    {
      "cell_type": "code",
      "source": [
        "resultados = np.zeros(4, dtype='i')\n",
        "print(resultados)\n",
        "\n",
        "print(np.ones((10,2)))  #tupla, diez filas y dos columnas. sin el 2 y el parentesis hace 10 unos\n",
        "print(np.arange(8))   #numeros de seguido\n",
        "print(np.empty(3))"
      ],
      "metadata": {
        "colab": {
          "base_uri": "https://localhost:8080/"
        },
        "id": "0oXzsHNcGoLg",
        "outputId": "3434e276-af4f-4d7f-f574-21a655e98c96"
      },
      "execution_count": null,
      "outputs": [
        {
          "output_type": "stream",
          "name": "stdout",
          "text": [
            "[0 0 0 0]\n",
            "[[1. 1.]\n",
            " [1. 1.]\n",
            " [1. 1.]\n",
            " [1. 1.]\n",
            " [1. 1.]\n",
            " [1. 1.]\n",
            " [1. 1.]\n",
            " [1. 1.]\n",
            " [1. 1.]\n",
            " [1. 1.]]\n",
            "[0 1 2 3 4 5 6 7]\n",
            "[1. 1. 1.]\n"
          ]
        }
      ]
    },
    {
      "cell_type": "code",
      "source": [
        "print(\"matriz inicial\")\n",
        "arr = np.ones((5,2))\n",
        "print(arr)\n",
        "print(\"despues de modificar un valor\")\n",
        "arr[1,1] = 3\n",
        "print(arr)\n",
        "print(\"matriz aplanada\")\n",
        "print(arr.reshape(-1))  #devuelve un objeto\n",
        "print(\"matriz principal\")\n",
        "print(arr)"
      ],
      "metadata": {
        "colab": {
          "base_uri": "https://localhost:8080/"
        },
        "id": "Np-7dBajHjVE",
        "outputId": "d5e1fb38-12a2-40b4-c85d-39e85f97611f"
      },
      "execution_count": null,
      "outputs": [
        {
          "output_type": "stream",
          "name": "stdout",
          "text": [
            "matriz inicial\n",
            "[[1. 1.]\n",
            " [1. 1.]\n",
            " [1. 1.]\n",
            " [1. 1.]\n",
            " [1. 1.]]\n",
            "despues de modificar un valor\n",
            "[[1. 1.]\n",
            " [1. 3.]\n",
            " [1. 1.]\n",
            " [1. 1.]\n",
            " [1. 1.]]\n",
            "matriz aplanada\n",
            "[1. 1. 1. 3. 1. 1. 1. 1. 1. 1.]\n",
            "matriz principal\n",
            "[[1. 1.]\n",
            " [1. 3.]\n",
            " [1. 1.]\n",
            " [1. 1.]\n",
            " [1. 1.]]\n"
          ]
        }
      ]
    },
    {
      "cell_type": "code",
      "source": [
        "matriz_aplanada = arr.reshape(-1)\n",
        "print(matriz_aplanada)"
      ],
      "metadata": {
        "colab": {
          "base_uri": "https://localhost:8080/"
        },
        "id": "FSfizXK_InfR",
        "outputId": "aded567c-efb2-4b94-fe95-f2f4ee2c4d10"
      },
      "execution_count": null,
      "outputs": [
        {
          "output_type": "stream",
          "name": "stdout",
          "text": [
            "[1. 1. 1. 3. 1. 1. 1. 1. 1. 1.]\n"
          ]
        }
      ]
    },
    {
      "cell_type": "markdown",
      "source": [
        "# Filter"
      ],
      "metadata": {
        "id": "ewqXVYrnI02J"
      }
    },
    {
      "cell_type": "code",
      "source": [
        "arr= np.array([51,52,53])\n",
        "print(arr)\n",
        "x = [True,True,False]\n",
        "print(arr[x])"
      ],
      "metadata": {
        "colab": {
          "base_uri": "https://localhost:8080/"
        },
        "id": "H81Z9SlWI3cx",
        "outputId": "512343f5-6945-4f6b-c58b-be4683e92061"
      },
      "execution_count": null,
      "outputs": [
        {
          "output_type": "stream",
          "name": "stdout",
          "text": [
            "[51 52 53]\n",
            "[51 52]\n"
          ]
        }
      ]
    },
    {
      "cell_type": "code",
      "source": [
        "arr >= 52"
      ],
      "metadata": {
        "colab": {
          "base_uri": "https://localhost:8080/"
        },
        "id": "__M2-hoCJRiW",
        "outputId": "3e1020bc-101e-4be1-d8ce-40cb1307ef29"
      },
      "execution_count": null,
      "outputs": [
        {
          "output_type": "execute_result",
          "data": {
            "text/plain": [
              "array([False,  True,  True])"
            ]
          },
          "metadata": {},
          "execution_count": 58
        }
      ]
    },
    {
      "cell_type": "code",
      "source": [
        "x = arr <=52\n",
        "print(arr[x])"
      ],
      "metadata": {
        "colab": {
          "base_uri": "https://localhost:8080/"
        },
        "id": "zxQBkHjpJZT_",
        "outputId": "f5c74ec2-566b-41bf-9f03-ca138733c6f4"
      },
      "execution_count": null,
      "outputs": [
        {
          "output_type": "stream",
          "name": "stdout",
          "text": [
            "[51 52]\n"
          ]
        }
      ]
    },
    {
      "cell_type": "code",
      "source": [
        "lista = [51,52,53]\n",
        "print(type(lista))\n",
        "\n",
        "# lista <= 52 esto no funciona\n",
        "\n",
        "for i in lista:\n",
        "  print(i<=52)"
      ],
      "metadata": {
        "colab": {
          "base_uri": "https://localhost:8080/"
        },
        "id": "TKrrZY4sJny5",
        "outputId": "359c4e2c-197a-4fb1-e9f1-b547e340d9dc"
      },
      "execution_count": null,
      "outputs": [
        {
          "output_type": "stream",
          "name": "stdout",
          "text": [
            "<class 'list'>\n",
            "True\n",
            "True\n",
            "False\n"
          ]
        }
      ]
    },
    {
      "cell_type": "code",
      "source": [
        "a = np.array([1,2,3])\n",
        "b = np.ones(3)\n",
        "print(a)\n",
        "print(b)\n",
        "a+b"
      ],
      "metadata": {
        "colab": {
          "base_uri": "https://localhost:8080/"
        },
        "id": "SCiHt1-vKObB",
        "outputId": "98c78608-e3e6-40ec-c2c4-6718906097f7"
      },
      "execution_count": null,
      "outputs": [
        {
          "output_type": "stream",
          "name": "stdout",
          "text": [
            "[1 2 3]\n",
            "[1. 1. 1.]\n"
          ]
        },
        {
          "output_type": "execute_result",
          "data": {
            "text/plain": [
              "array([2., 3., 4.])"
            ]
          },
          "metadata": {},
          "execution_count": 61
        }
      ]
    },
    {
      "cell_type": "code",
      "source": [
        "variado = np.array([True,5,\"hola\"])\n",
        "print(variado.dtype)"
      ],
      "metadata": {
        "colab": {
          "base_uri": "https://localhost:8080/"
        },
        "id": "3sMJwVaLKYu3",
        "outputId": "19184d8e-4d6a-436d-8347-f554159bda23"
      },
      "execution_count": null,
      "outputs": [
        {
          "output_type": "stream",
          "name": "stdout",
          "text": [
            "<U21\n"
          ]
        }
      ]
    },
    {
      "cell_type": "markdown",
      "source": [
        "# Clase 2"
      ],
      "metadata": {
        "id": "zag_jLstJ2QQ"
      }
    },
    {
      "cell_type": "code",
      "source": [
        "import numpy as np"
      ],
      "metadata": {
        "id": "JmT2E1cGL3Pw"
      },
      "execution_count": 1,
      "outputs": []
    },
    {
      "cell_type": "markdown",
      "source": [
        "# Iteraciones\n",
        "\n",
        "- nditer()\n",
        "- ndenumerate()"
      ],
      "metadata": {
        "id": "1FaTFeBnL93A"
      }
    },
    {
      "cell_type": "code",
      "source": [
        "arr = np.arange(1,10,2)\n",
        "arr"
      ],
      "metadata": {
        "id": "onbFssr2L_qo",
        "outputId": "2846dc87-d5f0-4f4d-c6ef-1be2c6961422",
        "colab": {
          "base_uri": "https://localhost:8080/"
        }
      },
      "execution_count": 3,
      "outputs": [
        {
          "output_type": "execute_result",
          "data": {
            "text/plain": [
              "array([1, 3, 5, 7, 9])"
            ]
          },
          "metadata": {},
          "execution_count": 3
        }
      ]
    },
    {
      "cell_type": "code",
      "source": [
        "for i in arr:\n",
        "  print(i)"
      ],
      "metadata": {
        "id": "BP6EJKGSMIs4",
        "outputId": "8ebc8d93-e72d-4944-bd74-3dc85f9d3553",
        "colab": {
          "base_uri": "https://localhost:8080/"
        }
      },
      "execution_count": 5,
      "outputs": [
        {
          "output_type": "stream",
          "name": "stdout",
          "text": [
            "1\n",
            "3\n",
            "5\n",
            "7\n",
            "9\n"
          ]
        }
      ]
    },
    {
      "cell_type": "code",
      "source": [
        "arr = np.arange(10).reshape((2,5))\n",
        "arr"
      ],
      "metadata": {
        "id": "6i1V7XPNM40_",
        "outputId": "d779e640-488c-4378-8b33-8d6bf86405e5",
        "colab": {
          "base_uri": "https://localhost:8080/"
        }
      },
      "execution_count": 6,
      "outputs": [
        {
          "output_type": "execute_result",
          "data": {
            "text/plain": [
              "array([[0, 1, 2, 3, 4],\n",
              "       [5, 6, 7, 8, 9]])"
            ]
          },
          "metadata": {},
          "execution_count": 6
        }
      ]
    },
    {
      "cell_type": "code",
      "source": [
        "for i in arr:    #recorre el eje mas externo\n",
        "  print(i)      # imprime cada elemento del eje mas externo (filas)"
      ],
      "metadata": {
        "id": "JGQgi42eNCPD",
        "outputId": "939934cd-6db6-4d4f-f163-e8cc976cdc01",
        "colab": {
          "base_uri": "https://localhost:8080/"
        }
      },
      "execution_count": 7,
      "outputs": [
        {
          "output_type": "stream",
          "name": "stdout",
          "text": [
            "[0 1 2 3 4]\n",
            "[5 6 7 8 9]\n"
          ]
        }
      ]
    },
    {
      "cell_type": "code",
      "source": [
        "for fila in arr:\n",
        "  for col in arr:\n",
        "    print(fila,col)"
      ],
      "metadata": {
        "id": "IWt26ELoNTGT",
        "outputId": "74eec6d7-d7b3-4fe7-eadb-cf1a9bbedba0",
        "colab": {
          "base_uri": "https://localhost:8080/"
        }
      },
      "execution_count": 8,
      "outputs": [
        {
          "output_type": "stream",
          "name": "stdout",
          "text": [
            "[0 1 2 3 4] [0 1 2 3 4]\n",
            "[0 1 2 3 4] [5 6 7 8 9]\n",
            "[5 6 7 8 9] [0 1 2 3 4]\n",
            "[5 6 7 8 9] [5 6 7 8 9]\n"
          ]
        }
      ]
    },
    {
      "cell_type": "code",
      "source": [
        "for fila in arr:\n",
        "  for col in fila:\n",
        "    print(fila,col)"
      ],
      "metadata": {
        "id": "zvfc_j-fNhqV",
        "outputId": "a5a7215d-c60a-410d-c409-e96b9584e8a4",
        "colab": {
          "base_uri": "https://localhost:8080/"
        }
      },
      "execution_count": 9,
      "outputs": [
        {
          "output_type": "stream",
          "name": "stdout",
          "text": [
            "[0 1 2 3 4] 0\n",
            "[0 1 2 3 4] 1\n",
            "[0 1 2 3 4] 2\n",
            "[0 1 2 3 4] 3\n",
            "[0 1 2 3 4] 4\n",
            "[5 6 7 8 9] 5\n",
            "[5 6 7 8 9] 6\n",
            "[5 6 7 8 9] 7\n",
            "[5 6 7 8 9] 8\n",
            "[5 6 7 8 9] 9\n"
          ]
        }
      ]
    },
    {
      "cell_type": "code",
      "source": [
        "arr = np.arange(12).reshape((3,2,2))   #lista de 3 elementos donde cada elemento es una matriz de 2 por 2\n",
        "arr"
      ],
      "metadata": {
        "id": "-1hHG_g6NoSM",
        "outputId": "7ec8b309-0130-4861-f713-66d56d58ce2a",
        "colab": {
          "base_uri": "https://localhost:8080/"
        }
      },
      "execution_count": 10,
      "outputs": [
        {
          "output_type": "execute_result",
          "data": {
            "text/plain": [
              "array([[[ 0,  1],\n",
              "        [ 2,  3]],\n",
              "\n",
              "       [[ 4,  5],\n",
              "        [ 6,  7]],\n",
              "\n",
              "       [[ 8,  9],\n",
              "        [10, 11]]])"
            ]
          },
          "metadata": {},
          "execution_count": 10
        }
      ]
    },
    {
      "cell_type": "code",
      "source": [
        "for x in np.nditer(arr):\n",
        "  print(x)  #muestra el valor elemento a elemento en todos los ejes"
      ],
      "metadata": {
        "id": "ovi0o2n1N24D",
        "outputId": "b26a3dd4-a318-44c3-b8db-4f2cda43003d",
        "colab": {
          "base_uri": "https://localhost:8080/"
        }
      },
      "execution_count": 12,
      "outputs": [
        {
          "output_type": "stream",
          "name": "stdout",
          "text": [
            "0\n",
            "1\n",
            "2\n",
            "3\n",
            "4\n",
            "5\n",
            "6\n",
            "7\n",
            "8\n",
            "9\n",
            "10\n",
            "11\n"
          ]
        }
      ]
    },
    {
      "cell_type": "code",
      "source": [
        "arr = np.array([1,7,0,8,9,2,3])\n",
        "mayor_que_5 = np.zeros_like(arr)   #va a contener un 1 si es elemento es mayor que 5\n",
        "mayor_que_5\n",
        "\n",
        "#como hacerlo a mano\n",
        "indice = 0\n",
        "for x in np.nditer(arr):\n",
        "  if x > 5:\n",
        "    mayor_que_5[indice] = 1\n",
        "  indice += 1\n",
        "    #actualizar mayor que 5\n",
        "print(mayor_que_5)"
      ],
      "metadata": {
        "id": "rhRfeL4YOAD0",
        "outputId": "75fcbbb8-df44-40aa-9d9c-fef19b9c7d81",
        "colab": {
          "base_uri": "https://localhost:8080/"
        }
      },
      "execution_count": 19,
      "outputs": [
        {
          "output_type": "stream",
          "name": "stdout",
          "text": [
            "[0 1 0 1 1 0 0]\n"
          ]
        }
      ]
    },
    {
      "cell_type": "code",
      "source": [
        "mayor_que_5 = np.zeros_like(arr)\n",
        "mayor_que_5\n",
        "\n",
        "for idx, x in np.ndenumerate(arr):\n",
        "  if x > 5:\n",
        "    mayor_que_5[idx] = 1\n",
        "print(arr)\n",
        "print(mayor_que_5)"
      ],
      "metadata": {
        "id": "iCx21vUVPXJD",
        "outputId": "2c4a5a53-c844-4152-8e6a-fda75d9c4ba8",
        "colab": {
          "base_uri": "https://localhost:8080/"
        }
      },
      "execution_count": 20,
      "outputs": [
        {
          "output_type": "stream",
          "name": "stdout",
          "text": [
            "[1 7 0 8 9 2 3]\n",
            "[0 1 0 1 1 0 0]\n"
          ]
        }
      ]
    },
    {
      "cell_type": "markdown",
      "source": [
        "#Funciones matemáticas"
      ],
      "metadata": {
        "id": "1BrrIJKTP1hE"
      }
    },
    {
      "cell_type": "code",
      "source": [
        "arr = np.array([4,7,2,5,9,7,8,1])\n",
        "arr > 5  #todos los operadores logicos estan vectorizados\n",
        "#hacen las operaciones elemento a elemento (element-wise)"
      ],
      "metadata": {
        "id": "wuLGDXd0P4kc",
        "outputId": "4d1f2989-751c-4759-b231-cae1a2a19218",
        "colab": {
          "base_uri": "https://localhost:8080/"
        }
      },
      "execution_count": 21,
      "outputs": [
        {
          "output_type": "execute_result",
          "data": {
            "text/plain": [
              "array([False,  True, False, False,  True,  True,  True, False])"
            ]
          },
          "metadata": {},
          "execution_count": 21
        }
      ]
    },
    {
      "cell_type": "code",
      "source": [
        "a = np.array([3,6,4,8,1,0])\n",
        "b = np.array([1,2,3,1,2,3])\n",
        "a + b"
      ],
      "metadata": {
        "id": "cb_V-S1kQI-z",
        "outputId": "18624ffb-e6a0-4de9-bc23-fa1f196d036b",
        "colab": {
          "base_uri": "https://localhost:8080/"
        }
      },
      "execution_count": 22,
      "outputs": [
        {
          "output_type": "execute_result",
          "data": {
            "text/plain": [
              "array([4, 8, 7, 9, 3, 3])"
            ]
          },
          "metadata": {},
          "execution_count": 22
        }
      ]
    },
    {
      "cell_type": "code",
      "source": [
        "np.sum(a)   #como si hicieramos un bucle for con un sumatorio"
      ],
      "metadata": {
        "id": "E--GhnpYQfkL",
        "outputId": "ae8224a4-0a95-4301-c90e-cbbf1dfb9f29",
        "colab": {
          "base_uri": "https://localhost:8080/"
        }
      },
      "execution_count": 24,
      "outputs": [
        {
          "output_type": "execute_result",
          "data": {
            "text/plain": [
              "22"
            ]
          },
          "metadata": {},
          "execution_count": 24
        }
      ]
    },
    {
      "cell_type": "code",
      "source": [
        "print(np.min(a))\n",
        "print(np.min(b))\n",
        "print(np.argmin(a))\n",
        "el_minimo = np.min(b)\n",
        "b == el_minimo\n"
      ],
      "metadata": {
        "id": "m9IcnnIIQsXG",
        "outputId": "22e7001c-cb34-454b-96c3-14326a43eb3d",
        "colab": {
          "base_uri": "https://localhost:8080/"
        }
      },
      "execution_count": 31,
      "outputs": [
        {
          "output_type": "stream",
          "name": "stdout",
          "text": [
            "0\n",
            "1\n",
            "5\n"
          ]
        },
        {
          "output_type": "execute_result",
          "data": {
            "text/plain": [
              "array([ True, False, False,  True, False, False])"
            ]
          },
          "metadata": {},
          "execution_count": 31
        }
      ]
    },
    {
      "cell_type": "markdown",
      "source": [
        "Funciones matemáticas\n",
        "https://numpy.org/doc/stable/reference/routines.math.html"
      ],
      "metadata": {
        "id": "qx6sCWEWRiZH"
      }
    },
    {
      "cell_type": "markdown",
      "source": [
        "# Broadcasting\n",
        "https://numpy.org/doc/stable/user/basics.broadcasting.html"
      ],
      "metadata": {
        "id": "uB_hzl8vR4TF"
      }
    },
    {
      "cell_type": "code",
      "source": [
        "np.arange(4) + 10   #funciona porque hago broadcasting"
      ],
      "metadata": {
        "id": "SXhUO5lvR6vz",
        "outputId": "1c5b89c6-885b-4589-fecc-6b48fdda0183",
        "colab": {
          "base_uri": "https://localhost:8080/"
        }
      },
      "execution_count": 32,
      "outputs": [
        {
          "output_type": "execute_result",
          "data": {
            "text/plain": [
              "array([10, 11, 12, 13])"
            ]
          },
          "metadata": {},
          "execution_count": 32
        }
      ]
    },
    {
      "cell_type": "code",
      "source": [
        "np.arange(4) + np.arange(3)   # no funciona porque son de longitud diferente"
      ],
      "metadata": {
        "id": "k08aVrEERuUu"
      },
      "execution_count": null,
      "outputs": []
    },
    {
      "cell_type": "markdown",
      "source": [
        "# Copias y vistas"
      ],
      "metadata": {
        "id": "n43wFjF8Smhe"
      }
    },
    {
      "cell_type": "code",
      "source": [
        "x = np.arange(10)"
      ],
      "metadata": {
        "id": "tZiw-oh0Syv2"
      },
      "execution_count": 33,
      "outputs": []
    }
  ]
}