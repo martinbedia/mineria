{
  "nbformat": 4,
  "nbformat_minor": 0,
  "metadata": {
    "colab": {
      "provenance": [],
      "toc_visible": true,
      "include_colab_link": true
    },
    "kernelspec": {
      "name": "python3",
      "display_name": "Python 3"
    },
    "language_info": {
      "name": "python"
    }
  },
  "cells": [
    {
      "cell_type": "markdown",
      "metadata": {
        "id": "view-in-github",
        "colab_type": "text"
      },
      "source": [
        "<a href=\"https://colab.research.google.com/github/martinbedia/mineria/blob/main/pandas.ipynb\" target=\"_parent\"><img src=\"https://colab.research.google.com/assets/colab-badge.svg\" alt=\"Open In Colab\"/></a>"
      ]
    },
    {
      "cell_type": "markdown",
      "source": [
        "## Pandas\n",
        "https://pandas.pydata.org/"
      ],
      "metadata": {
        "id": "IYFtvM_17aZc"
      }
    },
    {
      "cell_type": "code",
      "source": [
        "import pandas as pd\n",
        "import numpy as np"
      ],
      "metadata": {
        "id": "qtxXAoFD5-4Y"
      },
      "execution_count": 2,
      "outputs": []
    },
    {
      "cell_type": "markdown",
      "source": [
        "# Creacion de objetos\n",
        "- Series: columnas de un dataframe\n",
        "- DataFrame: tablas\n",
        "\n",
        "para crear una series:\n",
        "pd.Series(datos)\n",
        "\n",
        "un data frame:\n",
        "pd.DataFrame(datos)"
      ],
      "metadata": {
        "id": "4QlwJx0yO2Zy"
      }
    },
    {
      "cell_type": "code",
      "source": [
        "s = pd.Series([1,20,3])\n",
        "s"
      ],
      "metadata": {
        "id": "Daf2Ro5YO1rr",
        "outputId": "e0f3964c-831d-4c71-86e3-dbc423239a8a",
        "colab": {
          "base_uri": "https://localhost:8080/"
        }
      },
      "execution_count": 9,
      "outputs": [
        {
          "output_type": "execute_result",
          "data": {
            "text/plain": [
              "0     1\n",
              "1    20\n",
              "2     3\n",
              "dtype: int64"
            ]
          },
          "metadata": {},
          "execution_count": 9
        }
      ]
    },
    {
      "cell_type": "code",
      "source": [
        "type(s)"
      ],
      "metadata": {
        "id": "Rge48OcyPp6-",
        "outputId": "5f17ac3e-e521-437d-d732-e8a01d7fdf7c",
        "colab": {
          "base_uri": "https://localhost:8080/"
        }
      },
      "execution_count": 11,
      "outputs": [
        {
          "output_type": "execute_result",
          "data": {
            "text/plain": [
              "pandas.core.series.Series"
            ]
          },
          "metadata": {},
          "execution_count": 11
        }
      ]
    },
    {
      "cell_type": "code",
      "source": [
        "s = pd.Series([1.5,20,3,'Hola'])\n",
        "s\n"
      ],
      "metadata": {
        "id": "rghgGpJ8P0b-",
        "outputId": "0d3b5d0a-3f28-45fa-92a1-c490227935dc",
        "colab": {
          "base_uri": "https://localhost:8080/"
        }
      },
      "execution_count": 12,
      "outputs": [
        {
          "output_type": "execute_result",
          "data": {
            "text/plain": [
              "0     1.5\n",
              "1      20\n",
              "2       3\n",
              "3    Hola\n",
              "dtype: object"
            ]
          },
          "metadata": {},
          "execution_count": 12
        }
      ]
    },
    {
      "cell_type": "code",
      "source": [
        "s = pd.Series(np.arange(1,5))\n",
        "s"
      ],
      "metadata": {
        "id": "F3yUqCMBQHrm",
        "outputId": "6fbe1ef4-5375-432e-fadb-d1bcbe995162",
        "colab": {
          "base_uri": "https://localhost:8080/"
        }
      },
      "execution_count": 13,
      "outputs": [
        {
          "output_type": "execute_result",
          "data": {
            "text/plain": [
              "0    1\n",
              "1    2\n",
              "2    3\n",
              "3    4\n",
              "dtype: int64"
            ]
          },
          "metadata": {},
          "execution_count": 13
        }
      ]
    },
    {
      "cell_type": "code",
      "source": [
        "s = pd.Series(np.array([30,20.1,50]))\n",
        "s"
      ],
      "metadata": {
        "id": "Pw943XKcQSCW",
        "outputId": "2de23664-d275-40df-98a1-87b530d5f859",
        "colab": {
          "base_uri": "https://localhost:8080/"
        }
      },
      "execution_count": 14,
      "outputs": [
        {
          "output_type": "execute_result",
          "data": {
            "text/plain": [
              "0    30.0\n",
              "1    20.1\n",
              "2    50.0\n",
              "dtype: float64"
            ]
          },
          "metadata": {},
          "execution_count": 14
        }
      ]
    },
    {
      "cell_type": "code",
      "source": [
        "s = pd.Series([1500.32,2021.54,1890.43],\n",
        "              index = ['Enero','Febrero','Marzo'],\n",
        "              name = 'ventas')\n",
        "s"
      ],
      "metadata": {
        "id": "ROlMBMkFQbnu",
        "outputId": "f72b736e-0a7d-4290-aa85-d7a9abf861df",
        "colab": {
          "base_uri": "https://localhost:8080/"
        }
      },
      "execution_count": 17,
      "outputs": [
        {
          "output_type": "execute_result",
          "data": {
            "text/plain": [
              "Enero      1500.32\n",
              "Febrero    2021.54\n",
              "Marzo      1890.43\n",
              "Name: ventas, dtype: float64"
            ]
          },
          "metadata": {},
          "execution_count": 17
        }
      ]
    }
  ]
}