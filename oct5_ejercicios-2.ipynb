{
  "nbformat": 4,
  "nbformat_minor": 0,
  "metadata": {
    "colab": {
      "provenance": []
    },
    "kernelspec": {
      "name": "python3",
      "display_name": "Python 3"
    },
    "language_info": {
      "name": "python"
    }
  },
  "cells": [
    {
      "cell_type": "code",
      "source": [
        "import numpy as np"
      ],
      "metadata": {
        "id": "9NI3qjUJEhFP"
      },
      "execution_count": null,
      "outputs": []
    },
    {
      "cell_type": "markdown",
      "source": [
        "# Ejercicios NumPy I\n",
        "\n",
        "1. Almacena en la variable `arr` un array con 10 ceros, 10 unos y 10 cuatros. Luego imprime el array y su número de elementos por pantalla.\n",
        "2. Crea la variable `arr` con los números enteros del 20 al 50 e imprímela por pantalla.\n",
        "3. Crea la variable `arr` con los números pares del 20 al 50 e imprímela por pantalla.\n",
        "4. Crea la variable `arr` con los números enteros del 20 al 50 que sean múltiplo de 5 e imprímela por pantalla.\n",
        "5. Crea la variable `arr` con 10 números aleatorios.\n",
        "6. Crea e imprime la variable `arr`, que será una matriz de 3x3 cuyos elementos son todos 1.\n",
        "7. Crea e imprime una variable `arr` que con la dimensión 3x5x4 que contenga números aleatorios.\n",
        "8. Crea e imprime una variable `arr` que contenga:\n",
        "```\n",
        "array([[  0,  10,  20,  30,  40,  50,  60,  70,  80,  90],\n",
        "       [100, 110, 120, 130, 140, 150, 160, 170, 180, 190],\n",
        "       [200, 210, 220, 230, 240, 250, 260, 270, 280, 290],\n",
        "       [300, 310, 320, 330, 340, 350, 360, 370, 380, 390],\n",
        "       [400, 410, 420, 430, 440, 450, 460, 470, 480, 490],\n",
        "       [500, 510, 520, 530, 540, 550, 560, 570, 580, 590],\n",
        "       [600, 610, 620, 630, 640, 650, 660, 670, 680, 690],\n",
        "       [700, 710, 720, 730, 740, 750, 760, 770, 780, 790],\n",
        "       [800, 810, 820, 830, 840, 850, 860, 870, 880, 890],\n",
        "       [900, 910, 920, 930, 940, 950, 960, 970, 980, 990]])\n",
        "```\n",
        "9. Crea e imprime la varible `arr`, que contendrá una matriz de dimensión 10x10 donde todos sus elementos son 0 a excepción de los bordes, que contendrán un 1.\n",
        "10. Crea e imprime la variable `arr`, que será una matriz de 5x5 cuyos elementos de la diagonal son los valores del 1 al 5 y el resto 0.\n",
        "11. Crea e imprime la variable `arr`, que será inicalmente una matriz de 3x1 de todo unos y añádele luego una columna adicional de ceros.\n",
        "\n",
        "12. Crea e imprime una variable `arr` que contenga:\n",
        "```\n",
        "array([[  0,  10,  20,  30,  40,  50,  60,  70,  80,  90],\n",
        "       [101, 111, 121, 131, 141, 151, 161, 171, 181, 191],\n",
        "       [200, 210, 220, 230, 240, 250, 260, 270, 280, 290],\n",
        "       [301, 311, 321, 331, 341, 351, 361, 371, 381, 391],\n",
        "       [400, 410, 420, 430, 440, 450, 460, 470, 480, 490],\n",
        "       [501, 511, 521, 531, 541, 551, 561, 571, 581, 591],\n",
        "       [600, 610, 620, 630, 640, 650, 660, 670, 680, 690],\n",
        "       [701, 711, 721, 731, 741, 751, 761, 771, 781, 791],\n",
        "       [800, 810, 820, 830, 840, 850, 860, 870, 880, 890],\n",
        "       [901, 911, 921, 931, 941, 951, 961, 971, 981, 991]])\n",
        "```\n",
        "13. Crea el array:\n",
        "```\n",
        "[[10 11 12 13]\n",
        " [14 15 16 17]\n",
        " [18 19 20 21]]\n",
        " ```\n",
        " y muesta para cada elemento el mensaje `El elemento en la fila .. y columna .. es ..`\n",
        "14. Crea un array con los valores del 0 al 20, ambos incluídos, y cambia el signo de los números del 7 al 12 (ambos incluídos).\n",
        "15. Escribe un trozo de código que termine imprimiendo uno de los posibles mensajes _No hay ceros/Hay ceros_ en función del valor de la variable `no_hay_ceros`, que será `True` en caso de que en el array almacenado en `arr` no hay ningún cero.\n",
        "16. Asuminedo que todos los valores del array almacenado en `arr` son numéricos, escribe un trozo de código que imprima _Todos positivos_ en caso de que todos sean mayor que cero y _No todos positivos_ en caso contrario.\n",
        "17. Escribe un trozo de código que imprima _Aceptado_ si la diferencia entre cada par de elementos de los arrays `x` e `y` es siempre menor o igual que 5 y _Rechazado_ en caso contrario.\n",
        "18. Escribe un trozo de código que imprima `Falta información` si alguno de los elementos del array `arr` tiene un valor NaN y `Todo correcto` en caso contrario.\n",
        "19. Imprime el mensaje _El resultado es: ..._ tras multiplicar elemento a elemento los vectores `x` e `y` y hacer la suma de los resultados.\n",
        "20. Comprueba si los arrays `x` e `y` son iguales elemento a elemento"
      ],
      "metadata": {
        "id": "okwJU5hKEjpE"
      }
    }
  ]
}