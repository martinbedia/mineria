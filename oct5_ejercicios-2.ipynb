{
  "nbformat": 4,
  "nbformat_minor": 0,
  "metadata": {
    "colab": {
      "provenance": [],
      "include_colab_link": true
    },
    "kernelspec": {
      "name": "python3",
      "display_name": "Python 3"
    },
    "language_info": {
      "name": "python"
    }
  },
  "cells": [
    {
      "cell_type": "markdown",
      "metadata": {
        "id": "view-in-github",
        "colab_type": "text"
      },
      "source": [
        "<a href=\"https://colab.research.google.com/github/martinbedia/mineria/blob/main/oct5_ejercicios-2.ipynb\" target=\"_parent\"><img src=\"https://colab.research.google.com/assets/colab-badge.svg\" alt=\"Open In Colab\"/></a>"
      ]
    },
    {
      "cell_type": "code",
      "source": [
        "import numpy as np"
      ],
      "metadata": {
        "id": "9NI3qjUJEhFP"
      },
      "execution_count": 2,
      "outputs": []
    },
    {
      "cell_type": "markdown",
      "source": [
        "# Ejercicios NumPy I\n",
        "\n",
        "1. Almacena en la variable `arr` un array con 10 ceros, 10 unos y 10 cuatros. Luego imprime el array y su número de elementos por pantalla.\n",
        "2. Crea la variable `arr` con los números enteros del 20 al 50 e imprímela por pantalla.\n",
        "3. Crea la variable `arr` con los números pares del 20 al 50 e imprímela por pantalla.\n",
        "4. Crea la variable `arr` con los números enteros del 20 al 50 que sean múltiplo de 5 e imprímela por pantalla.\n",
        "5. Crea la variable `arr` con 10 números aleatorios.\n",
        "6. Crea e imprime la variable `arr`, que será una matriz de 3x3 cuyos elementos son todos 1.\n",
        "7. Crea e imprime una variable `arr` que con la dimensión 3x5x4 que contenga números aleatorios.\n",
        "8. Crea e imprime una variable `arr` que contenga:\n",
        "```\n",
        "array([[  0,  10,  20,  30,  40,  50,  60,  70,  80,  90],\n",
        "       [100, 110, 120, 130, 140, 150, 160, 170, 180, 190],\n",
        "       [200, 210, 220, 230, 240, 250, 260, 270, 280, 290],\n",
        "       [300, 310, 320, 330, 340, 350, 360, 370, 380, 390],\n",
        "       [400, 410, 420, 430, 440, 450, 460, 470, 480, 490],\n",
        "       [500, 510, 520, 530, 540, 550, 560, 570, 580, 590],\n",
        "       [600, 610, 620, 630, 640, 650, 660, 670, 680, 690],\n",
        "       [700, 710, 720, 730, 740, 750, 760, 770, 780, 790],\n",
        "       [800, 810, 820, 830, 840, 850, 860, 870, 880, 890],\n",
        "       [900, 910, 920, 930, 940, 950, 960, 970, 980, 990]])\n",
        "```\n",
        "9. Crea e imprime la varible `arr`, que contendrá una matriz de dimensión 10x10 donde todos sus elementos son 0 a excepción de los bordes, que contendrán un 1.\n",
        "10. Crea e imprime la variable `arr`, que será una matriz de 5x5 cuyos elementos de la diagonal son los valores del 1 al 5 y el resto 0.\n",
        "11. Crea e imprime la variable `arr`, que será inicalmente una matriz de 3x1 de todo unos y añádele luego una columna adicional de ceros.\n",
        "\n",
        "12. Crea e imprime una variable `arr` que contenga:\n",
        "```\n",
        "array([[  0,  10,  20,  30,  40,  50,  60,  70,  80,  90],\n",
        "       [101, 111, 121, 131, 141, 151, 161, 171, 181, 191],\n",
        "       [200, 210, 220, 230, 240, 250, 260, 270, 280, 290],\n",
        "       [301, 311, 321, 331, 341, 351, 361, 371, 381, 391],\n",
        "       [400, 410, 420, 430, 440, 450, 460, 470, 480, 490],\n",
        "       [501, 511, 521, 531, 541, 551, 561, 571, 581, 591],\n",
        "       [600, 610, 620, 630, 640, 650, 660, 670, 680, 690],\n",
        "       [701, 711, 721, 731, 741, 751, 761, 771, 781, 791],\n",
        "       [800, 810, 820, 830, 840, 850, 860, 870, 880, 890],\n",
        "       [901, 911, 921, 931, 941, 951, 961, 971, 981, 991]])\n",
        "```\n",
        "13. Crea el array:\n",
        "```\n",
        "[[10 11 12 13]\n",
        " [14 15 16 17]\n",
        " [18 19 20 21]]\n",
        " ```\n",
        " y muesta para cada elemento el mensaje `El elemento en la fila .. y columna .. es ..`\n",
        "14. Crea un array con los valores del 0 al 20, ambos incluídos, y cambia el signo de los números del 7 al 12 (ambos incluídos).\n",
        "15. Escribe un trozo de código que termine imprimiendo uno de los posibles mensajes _No hay ceros/Hay ceros_ en función del valor de la variable `no_hay_ceros`, que será `True` en caso de que en el array almacenado en `arr` no hay ningún cero.\n",
        "16. Asuminedo que todos los valores del array almacenado en `arr` son numéricos, escribe un trozo de código que imprima _Todos positivos_ en caso de que todos sean mayor que cero y _No todos positivos_ en caso contrario.\n",
        "17. Escribe un trozo de código que imprima _Aceptado_ si la diferencia entre cada par de elementos de los arrays `x` e `y` es siempre menor o igual que 5 y _Rechazado_ en caso contrario.\n",
        "18. Escribe un trozo de código que imprima `Falta información` si alguno de los elementos del array `arr` tiene un valor NaN y `Todo correcto` en caso contrario.\n",
        "19. Imprime el mensaje _El resultado es: ..._ tras multiplicar elemento a elemento los vectores `x` e `y` y hacer la suma de los resultados.\n",
        "20. Comprueba si los arrays `x` e `y` son iguales elemento a elemento"
      ],
      "metadata": {
        "id": "okwJU5hKEjpE"
      }
    },
    {
      "cell_type": "code",
      "source": [
        "# Ejercicio 1\n",
        "# Almacena en la variable arr un array con 10 ceros, 10 unos y 10 cuatros. Luego imprime el array y su número de elementos por pantalla.\n",
        "arr1 = np.zeros(10)\n",
        "arr2 = np.ones(10)\n",
        "arr3 = np.array([4,4,4,4,4,4,4,4,4,4])\n",
        "arr = np.array([arr1,arr2,arr3])\n",
        "\n",
        "print(arr)\n",
        "print(arr.size)\n",
        "print(len(arr))"
      ],
      "metadata": {
        "colab": {
          "base_uri": "https://localhost:8080/"
        },
        "id": "q-w9NGTGYEtP",
        "outputId": "51968476-0fd9-4576-c9c8-f4568829c208"
      },
      "execution_count": 21,
      "outputs": [
        {
          "output_type": "stream",
          "name": "stdout",
          "text": [
            "[[0 0 0 0 0 0 0 0 0 0]\n",
            " [1 1 1 1 1 1 1 1 1 1]\n",
            " [4 4 4 4 4 4 4 4 4 4]]\n",
            "30\n",
            "3\n"
          ]
        }
      ]
    },
    {
      "cell_type": "code",
      "source": [
        "arr = np.array([0]*10+[1]*10+[4]*10)\n",
        "print(arr)\n",
        "print(arr.size)   #preferible para saber la longitud\n",
        "print(len(arr))"
      ],
      "metadata": {
        "id": "bK6L4QEXcJcw",
        "outputId": "46265b2f-429c-4498-d112-0974aef773df",
        "colab": {
          "base_uri": "https://localhost:8080/"
        }
      },
      "execution_count": 31,
      "outputs": [
        {
          "output_type": "stream",
          "name": "stdout",
          "text": [
            "[0 0 0 0 0 0 0 0 0 0 1 1 1 1 1 1 1 1 1 1 4 4 4 4 4 4 4 4 4 4]\n",
            "30\n",
            "30\n"
          ]
        }
      ]
    },
    {
      "cell_type": "code",
      "source": [
        "# Ejercicio 2\n",
        "# Crea la variable arr con los números enteros del 20 al 50 e imprímela por pantalla.\n",
        "arr = np.arange(20,51)\n",
        "print(arr)"
      ],
      "metadata": {
        "colab": {
          "base_uri": "https://localhost:8080/"
        },
        "id": "Z3EwrifFY5YQ",
        "outputId": "e5ab75e2-48c3-477c-a266-55beac0ca79c"
      },
      "execution_count": 9,
      "outputs": [
        {
          "output_type": "stream",
          "name": "stdout",
          "text": [
            "[20 21 22 23 24 25 26 27 28 29 30 31 32 33 34 35 36 37 38 39 40 41 42 43\n",
            " 44 45 46 47 48 49 50]\n"
          ]
        }
      ]
    },
    {
      "cell_type": "code",
      "source": [
        "# Ejercicio 3\n",
        "# Crea la variable arr con los números pares del 20 al 50 e imprímela por pantalla.\n",
        "arr = np.arange(20,51,2)\n",
        "print(arr)"
      ],
      "metadata": {
        "colab": {
          "base_uri": "https://localhost:8080/"
        },
        "id": "gdiOmW6ZZOWZ",
        "outputId": "b22821b5-4eef-45a9-b991-c3ad2870caf8"
      },
      "execution_count": 10,
      "outputs": [
        {
          "output_type": "stream",
          "name": "stdout",
          "text": [
            "[20 22 24 26 28 30 32 34 36 38 40 42 44 46 48 50]\n"
          ]
        }
      ]
    },
    {
      "cell_type": "code",
      "source": [
        "# Ejercicio 4\n",
        "# Crea la variable arr con los números enteros del 20 al 50 que sean múltiplo de 5 e imprímela por pantalla\n",
        "arr = np.arange(20,51,5)\n",
        "print(arr)"
      ],
      "metadata": {
        "colab": {
          "base_uri": "https://localhost:8080/"
        },
        "id": "bGj-CQ3bZWeJ",
        "outputId": "ee80280e-9262-497a-bfd7-23dd110558b0"
      },
      "execution_count": 11,
      "outputs": [
        {
          "output_type": "stream",
          "name": "stdout",
          "text": [
            "[20 25 30 35 40 45 50]\n"
          ]
        }
      ]
    },
    {
      "cell_type": "code",
      "source": [
        "# Ejercicio 5\n",
        "# Crea la variable arr con 10 números aleatorios.\n",
        "arr = np.random.rand(10)\n",
        "print(arr)"
      ],
      "metadata": {
        "id": "MX6depPTZhgv",
        "outputId": "1cab90de-f09c-4590-ebb7-e7854c29db54",
        "colab": {
          "base_uri": "https://localhost:8080/"
        }
      },
      "execution_count": 33,
      "outputs": [
        {
          "output_type": "stream",
          "name": "stdout",
          "text": [
            "[0.06827964 0.42731448 0.42692445 0.80996587 0.01113736 0.95066195\n",
            " 0.77201815 0.03704905 0.34490991 0.18412604]\n"
          ]
        }
      ]
    },
    {
      "cell_type": "code",
      "source": [
        "# Ejercicio 6\n",
        "# Crea e imprime la variable arr, que será una matriz de 3x3 cuyos elementos son todos 1.\n",
        "arr = np.array([1]*9)\n",
        "arr = arr.reshape(3,3)\n",
        "print(arr)"
      ],
      "metadata": {
        "id": "DvrC7U_rd_AP",
        "outputId": "f41ee146-f8c3-4910-b5a8-a2bb4630b0d2",
        "colab": {
          "base_uri": "https://localhost:8080/"
        }
      },
      "execution_count": 35,
      "outputs": [
        {
          "output_type": "stream",
          "name": "stdout",
          "text": [
            "[[1 1 1]\n",
            " [1 1 1]\n",
            " [1 1 1]]\n"
          ]
        }
      ]
    },
    {
      "cell_type": "code",
      "source": [
        "# Ejercicio 7\n",
        "# Crea e imprime una variable arr que con la dimensión 3x5x4 que contenga números aleatorios.\n",
        "arr = np.random.rand(60)\n",
        "arr = arr.reshape(3,5,4)\n",
        "print(arr)\n",
        "\n",
        "# en una linea\n",
        "# arr = np.random.rand(60).reshape(3,5,4)\n",
        "# print(arr)"
      ],
      "metadata": {
        "id": "K-BKNrHPee4D",
        "outputId": "b30d19ec-14d3-4ffd-afc3-148c0ca22910",
        "colab": {
          "base_uri": "https://localhost:8080/"
        }
      },
      "execution_count": 36,
      "outputs": [
        {
          "output_type": "stream",
          "name": "stdout",
          "text": [
            "[[[0.69378223 0.2235513  0.06873739 0.32246312]\n",
            "  [0.23121534 0.98562646 0.8038148  0.15222149]\n",
            "  [0.35346657 0.57343673 0.46313226 0.74752252]\n",
            "  [0.94243723 0.93679947 0.26775831 0.76978978]\n",
            "  [0.56299047 0.73904793 0.18196528 0.90991804]]\n",
            "\n",
            " [[0.77182325 0.4772426  0.34174643 0.65182432]\n",
            "  [0.68230194 0.4730434  0.77531962 0.92639234]\n",
            "  [0.73115991 0.92807903 0.30751147 0.1478018 ]\n",
            "  [0.94110148 0.24565945 0.8941631  0.40870332]\n",
            "  [0.3624481  0.94995871 0.27110698 0.81488027]]\n",
            "\n",
            " [[0.40757495 0.61141155 0.55079743 0.32799794]\n",
            "  [0.28835735 0.05252683 0.85415368 0.51768315]\n",
            "  [0.26063349 0.29884372 0.38976002 0.66213916]\n",
            "  [0.90392227 0.04964415 0.20054452 0.46588926]\n",
            "  [0.15048514 0.64614691 0.81459123 0.4291359 ]]]\n"
          ]
        }
      ]
    },
    {
      "cell_type": "code",
      "source": [
        "# Ejercicio 8\n",
        "# Crea e imprime una variable arr que contenga:\n",
        "array = np.arange(0,1000,10).reshape(10,10)\n",
        "print(array)"
      ],
      "metadata": {
        "id": "TAnXOH_vfCKC",
        "outputId": "26256e6a-13fd-4939-eac0-e21a75515f96",
        "colab": {
          "base_uri": "https://localhost:8080/"
        }
      },
      "execution_count": 44,
      "outputs": [
        {
          "output_type": "stream",
          "name": "stdout",
          "text": [
            "[[  0  10  20  30  40  50  60  70  80  90]\n",
            " [100 110 120 130 140 150 160 170 180 190]\n",
            " [200 210 220 230 240 250 260 270 280 290]\n",
            " [300 310 320 330 340 350 360 370 380 390]\n",
            " [400 410 420 430 440 450 460 470 480 490]\n",
            " [500 510 520 530 540 550 560 570 580 590]\n",
            " [600 610 620 630 640 650 660 670 680 690]\n",
            " [700 710 720 730 740 750 760 770 780 790]\n",
            " [800 810 820 830 840 850 860 870 880 890]\n",
            " [900 910 920 930 940 950 960 970 980 990]]\n"
          ]
        }
      ]
    },
    {
      "cell_type": "code",
      "source": [
        "# Ejercicio 9\n",
        "# Crea e imprime la varible arr, que contendrá una matriz de dimensión 10x10 donde todos sus elementos son 0 a excepción de los bordes, que contendrán un 1.\n",
        "arr = np.zeros(100).reshape(10,10)\n",
        "arr[[0,0]] = 1\n",
        "arr[[9,9]] = 1\n",
        "arr[0:10,0] = np.ones(10)\n",
        "arr[0:10,-1] = np.ones(10)\n",
        "print(arr)"
      ],
      "metadata": {
        "id": "Abwie_z6gg1a",
        "outputId": "7660572b-0f9f-40fe-8d3a-8e03daa309eb",
        "colab": {
          "base_uri": "https://localhost:8080/"
        }
      },
      "execution_count": 52,
      "outputs": [
        {
          "output_type": "stream",
          "name": "stdout",
          "text": [
            "[[1. 1. 1. 1. 1. 1. 1. 1. 1. 1.]\n",
            " [1. 0. 0. 0. 0. 0. 0. 0. 0. 1.]\n",
            " [1. 0. 0. 0. 0. 0. 0. 0. 0. 1.]\n",
            " [1. 0. 0. 0. 0. 0. 0. 0. 0. 1.]\n",
            " [1. 0. 0. 0. 0. 0. 0. 0. 0. 1.]\n",
            " [1. 0. 0. 0. 0. 0. 0. 0. 0. 1.]\n",
            " [1. 0. 0. 0. 0. 0. 0. 0. 0. 1.]\n",
            " [1. 0. 0. 0. 0. 0. 0. 0. 0. 1.]\n",
            " [1. 0. 0. 0. 0. 0. 0. 0. 0. 1.]\n",
            " [1. 1. 1. 1. 1. 1. 1. 1. 1. 1.]]\n"
          ]
        }
      ]
    },
    {
      "cell_type": "code",
      "source": [
        "# Ejercicio 10\n",
        "# Crea e imprime la variable arr, que será una matriz de 5x5 cuyos elementos de la diagonal son los valores del 1 al 5 y el resto 0.\n",
        "arr = np.diag(np.arange(1,6))\n",
        "print(arr)"
      ],
      "metadata": {
        "id": "SN4PnCMViglf",
        "outputId": "c106da39-fbe0-4b14-98e0-b9aa307c1c37",
        "colab": {
          "base_uri": "https://localhost:8080/"
        }
      },
      "execution_count": 55,
      "outputs": [
        {
          "output_type": "stream",
          "name": "stdout",
          "text": [
            "[[1 0 0 0 0]\n",
            " [0 2 0 0 0]\n",
            " [0 0 3 0 0]\n",
            " [0 0 0 4 0]\n",
            " [0 0 0 0 5]]\n"
          ]
        }
      ]
    }
  ]
}