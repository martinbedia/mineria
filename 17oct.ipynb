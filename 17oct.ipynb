{
  "nbformat": 4,
  "nbformat_minor": 0,
  "metadata": {
    "colab": {
      "provenance": [],
      "include_colab_link": true
    },
    "kernelspec": {
      "name": "python3",
      "display_name": "Python 3"
    },
    "language_info": {
      "name": "python"
    }
  },
  "cells": [
    {
      "cell_type": "markdown",
      "metadata": {
        "id": "view-in-github",
        "colab_type": "text"
      },
      "source": [
        "<a href=\"https://colab.research.google.com/github/martinbedia/mineria/blob/main/17oct.ipynb\" target=\"_parent\"><img src=\"https://colab.research.google.com/assets/colab-badge.svg\" alt=\"Open In Colab\"/></a>"
      ]
    },
    {
      "cell_type": "markdown",
      "source": [
        "# Clase 17 oct\n",
        "Lector de tickets de compra"
      ],
      "metadata": {
        "id": "IYFtvM_17aZc"
      }
    },
    {
      "cell_type": "code",
      "source": [
        "import pandas as pd\n",
        "import numpy as np"
      ],
      "metadata": {
        "id": "qtxXAoFD5-4Y"
      },
      "execution_count": 1,
      "outputs": []
    },
    {
      "cell_type": "code",
      "source": [
        "!pip install PyPDF2"
      ],
      "metadata": {
        "id": "tuqy0y7XDScb",
        "outputId": "1c95e147-402a-4b1d-a6ea-c17f254e510a",
        "colab": {
          "base_uri": "https://localhost:8080/"
        }
      },
      "execution_count": 9,
      "outputs": [
        {
          "output_type": "stream",
          "name": "stdout",
          "text": [
            "Collecting PyPDF2\n",
            "  Downloading pypdf2-3.0.1-py3-none-any.whl (232 kB)\n",
            "\u001b[2K     \u001b[90m━━━━━━━━━━━━━━━━━━━━━━━━━━━━━━━━━━━━━━━━\u001b[0m \u001b[32m232.6/232.6 kB\u001b[0m \u001b[31m3.5 MB/s\u001b[0m eta \u001b[36m0:00:00\u001b[0m\n",
            "\u001b[?25hInstalling collected packages: PyPDF2\n",
            "Successfully installed PyPDF2-3.0.1\n"
          ]
        }
      ]
    },
    {
      "cell_type": "code",
      "source": [
        "import glob, os   # leer archivos de un tipo concreto\n",
        "import PyPDF2  # ocr para leer pdfs\n",
        "import re"
      ],
      "metadata": {
        "id": "-6U5_QHh_O-v"
      },
      "execution_count": 33,
      "outputs": []
    },
    {
      "cell_type": "code",
      "source": [
        "!ls"
      ],
      "metadata": {
        "id": "WBIaSMVrAOjZ",
        "outputId": "0c5975c8-a989-4688-a34e-59ef99e4934c",
        "colab": {
          "base_uri": "https://localhost:8080/"
        }
      },
      "execution_count": 4,
      "outputs": [
        {
          "output_type": "stream",
          "name": "stdout",
          "text": [
            "'20230909 Mercadona 21,23 €.pdf'  '20230921 Mercadona 9,70 €.pdf'   sample_data   tickets\n"
          ]
        }
      ]
    },
    {
      "cell_type": "markdown",
      "source": [
        "rutas relativas y absolutas (lo de R)"
      ],
      "metadata": {
        "id": "828kynulBwrY"
      }
    },
    {
      "cell_type": "code",
      "source": [
        "!pwd"
      ],
      "metadata": {
        "id": "UIczCKEOAWID",
        "outputId": "e57384bd-9290-49e5-8f10-b04b29433c57",
        "colab": {
          "base_uri": "https://localhost:8080/"
        }
      },
      "execution_count": 5,
      "outputs": [
        {
          "output_type": "stream",
          "name": "stdout",
          "text": [
            "/content\n"
          ]
        }
      ]
    },
    {
      "cell_type": "code",
      "source": [
        "# para que busque en carpetas recursive=True\n",
        "glob.glob(recursive=True)"
      ],
      "metadata": {
        "id": "TNzWPHXS_rfY"
      },
      "execution_count": null,
      "outputs": []
    },
    {
      "cell_type": "code",
      "source": [
        "# leer archivos de un tipo concreto de una carpeta y sus subcarpetas\n",
        "# recursive para que busque en las subcarpetas\n",
        "ruta_carpeta_raiz = '.'\n",
        "tickets = glob.glob(os.path.join(ruta_carpeta_raiz, '**/*.pdf'),recursive=True)\n",
        "tickets"
      ],
      "metadata": {
        "id": "XA1oHITuB9u_",
        "outputId": "258c83a5-a0dc-4915-a434-812c10ab46e0",
        "colab": {
          "base_uri": "https://localhost:8080/"
        }
      },
      "execution_count": 7,
      "outputs": [
        {
          "output_type": "execute_result",
          "data": {
            "text/plain": [
              "['./20230921 Mercadona 9,70 €.pdf', './20230909 Mercadona 21,23 €.pdf']"
            ]
          },
          "metadata": {},
          "execution_count": 7
        }
      ]
    },
    {
      "cell_type": "code",
      "source": [
        "# leer los tickets para hacer un dataframe con su contenido"
      ],
      "metadata": {
        "id": "yLAhquXLCoZW"
      },
      "execution_count": null,
      "outputs": []
    },
    {
      "cell_type": "code",
      "source": [
        "# tickets[0]   # la ruta del archivo que queremos leer\n",
        "pdf_reader = PyPDF2.PdfReader(tickets[0])    # conectar el archivo pdf con el codigo en python\n",
        "ticket = pdf_reader.pages[0]   # acceder a la primera pagina\n",
        "texto_ticket = ticket.extract_text()    # lo de \\n significa salto de linea, voy a separar las lineas cuando salga eso"
      ],
      "metadata": {
        "id": "w-y_xy0aDKsr"
      },
      "execution_count": 16,
      "outputs": []
    },
    {
      "cell_type": "code",
      "source": [
        "lineas = np.array(texto_ticket.split('\\n'))\n",
        "lineas"
      ],
      "metadata": {
        "id": "8vDfAzruEeKY",
        "outputId": "650e3914-5536-40d7-912a-800be5344a5d",
        "colab": {
          "base_uri": "https://localhost:8080/"
        }
      },
      "execution_count": 18,
      "outputs": [
        {
          "output_type": "execute_result",
          "data": {
            "text/plain": [
              "array(['MERCADONA, S.A.   A-46103834', 'C/ ALFONSO ARGUELLES 2',\n",
              "       '33900 LANGREO', 'TELÉFONO: 985698053',\n",
              "       '21/09/2023 17:12  OP: 371122',\n",
              "       'FACTURA SIMPLIFICADA: 2363-011-208468',\n",
              "       'Descripción P. Unit Importe', '1MÁSCARA DE CEJAS 4,00',\n",
              "       '1PICATOSTE AJO 0,85', '1TAQUITOS SALMÓN 3,80',\n",
              "       '1DUO CANONIGOS RUCULA 1,05', 'TOTAL (€) 9,70',\n",
              "       'TARJETA BANCARIA 9,70', 'IVA BASE IMPONIBLE (€) CUOTA (€)',\n",
              "       '10% 4,23 0,42', '21% 3,31 0,69', '0% 1,05 0,00',\n",
              "       'TOTAL 8,59 1,11', 'TARJ. BANCARIA:  **** **** **** 4016',\n",
              "       'N.C: 003765716  AUT: 766364', 'AID: A0000000041010   ARC: 3030',\n",
              "       'MASTERCARD', 'Importe: 9,70 €  MASTERCARD',\n",
              "       'SE ADMITEN DEVOLUCIONES CON TICKET'], dtype='<U37')"
            ]
          },
          "metadata": {},
          "execution_count": 18
        }
      ]
    },
    {
      "cell_type": "code",
      "source": [
        "# hacer una funcion a la que le diga la ruta y me devuelva el array con las lineas\n",
        "# lineas_ticekt1 = leer_lineas_de_pdf(archivo)\n",
        "\n",
        "def leer_lineas_de_pdf (nombre_del_pdf):\n",
        "  pdf_reader = PyPDF2.PdfReader(nombre_del_pdf)\n",
        "  ticket = pdf_reader.pages[0]\n",
        "  texto_ticket = ticket.extract_text()\n",
        "  lineas = np.array(texto_ticket.split('\\n'))\n",
        "  return lineas\n"
      ],
      "metadata": {
        "id": "-L15gprnFDWH"
      },
      "execution_count": 25,
      "outputs": []
    },
    {
      "cell_type": "code",
      "source": [
        "lineas_ticket1 = leer_lineas_de_pdf(tickets[0])\n",
        "lineas_ticket2 = leer_lineas_de_pdf(tickets[1])\n",
        "\n",
        "lineas_ticket1"
      ],
      "metadata": {
        "id": "Grh1XY0AGnW3",
        "outputId": "44d0e84b-3b75-4af2-912e-50c178a5cbd2",
        "colab": {
          "base_uri": "https://localhost:8080/"
        }
      },
      "execution_count": 28,
      "outputs": [
        {
          "output_type": "execute_result",
          "data": {
            "text/plain": [
              "array(['MERCADONA, S.A.   A-46103834', 'PLAZA DAOIZ Y VELARDE 5',\n",
              "       '33009 OVIEDO', 'TELÉFONO: 985216153',\n",
              "       '09/09/2023 20:35  OP: 191484',\n",
              "       'FACTURA SIMPLIFICADA: 3433-011-051093',\n",
              "       'Descripción P. Unit Importe', '2TAQUITOS SALMÓN 3,80 7,60',\n",
              "       '1TROTTOLE TRICOLORE 0,95', '1QUESO RALLADO GOUDA 1,44',\n",
              "       '1ÑOQUIS DE PATATA 1,12', '2LECHE SEMI S/LACT 1,46 2,92',\n",
              "       '1QUESO FETA 2,35', '1PICATOSTE AJO 0,85',\n",
              "       '2NEGRA RODAJAS P3 2,00 4,00', '1PARKING 0,00',\n",
              "       'ENTRADA  20:22       SALIDA  20:35', 'TOTAL (€) 21,23',\n",
              "       'TARJETA BANCARIA 21,23', 'IVA BASE IMPONIBLE (€) CUOTA (€)',\n",
              "       '10% 11,32 1,13', '5% 1,97 0,10', '0% 6,71 0,00',\n",
              "       'TOTAL 20,00 1,23', 'TARJ. BANCARIA:  **** **** **** 4016',\n",
              "       'N.C: 003943818  AUT: 729144', 'AID: A0000000041010   ARC: 3030',\n",
              "       'MASTERCARD', 'Importe: 21,23 € MASTERCARD',\n",
              "       'SE ADMITEN DEVOLUCIONES CON TICKET', 'DISPONE DE 20 MINUTOS',\n",
              "       'PARA RETIRAR SU VEHÍCULO'], dtype='<U37')"
            ]
          },
          "metadata": {},
          "execution_count": 28
        }
      ]
    },
    {
      "cell_type": "code",
      "source": [
        "lineas = lineas_ticket1\n",
        "lineas"
      ],
      "metadata": {
        "id": "Recjl9_PHUgM",
        "outputId": "dfc4eb6a-c116-45f6-8662-646bce011736",
        "colab": {
          "base_uri": "https://localhost:8080/"
        }
      },
      "execution_count": 32,
      "outputs": [
        {
          "output_type": "execute_result",
          "data": {
            "text/plain": [
              "array(['MERCADONA, S.A.   A-46103834', 'C/ ALFONSO ARGUELLES 2',\n",
              "       '33900 LANGREO', 'TELÉFONO: 985698053',\n",
              "       '21/09/2023 17:12  OP: 371122',\n",
              "       'FACTURA SIMPLIFICADA: 2363-011-208468',\n",
              "       'Descripción P. Unit Importe', '1MÁSCARA DE CEJAS 4,00',\n",
              "       '1PICATOSTE AJO 0,85', '1TAQUITOS SALMÓN 3,80',\n",
              "       '1DUO CANONIGOS RUCULA 1,05', 'TOTAL (€) 9,70',\n",
              "       'TARJETA BANCARIA 9,70', 'IVA BASE IMPONIBLE (€) CUOTA (€)',\n",
              "       '10% 4,23 0,42', '21% 3,31 0,69', '0% 1,05 0,00',\n",
              "       'TOTAL 8,59 1,11', 'TARJ. BANCARIA:  **** **** **** 4016',\n",
              "       'N.C: 003765716  AUT: 766364', 'AID: A0000000041010   ARC: 3030',\n",
              "       'MASTERCARD', 'Importe: 9,70 €  MASTERCARD',\n",
              "       'SE ADMITEN DEVOLUCIONES CON TICKET'], dtype='<U37')"
            ]
          },
          "metadata": {},
          "execution_count": 32
        }
      ]
    },
    {
      "cell_type": "markdown",
      "source": [
        "Voy a sacar los productos. Usare una expresion regular"
      ],
      "metadata": {
        "id": "1kYe0u06HX1Q"
      }
    },
    {
      "cell_type": "code",
      "source": [
        "# \\d significa digito, busca numeros\n",
        "pattern = r'\\d{1,2},\\d{1,2}'    # expresion regular\n",
        "matches = re.finditer(pattern, \"Esta cadena contiene el precio 23,08 y tambien 7,50\")\n",
        "\n",
        "for x in matches:\n",
        "  print(x)"
      ],
      "metadata": {
        "id": "fPTy1qmTH7Zt",
        "outputId": "cd70e54d-1500-4b18-bcc6-43eb1fb730aa",
        "colab": {
          "base_uri": "https://localhost:8080/"
        }
      },
      "execution_count": 44,
      "outputs": [
        {
          "output_type": "stream",
          "name": "stdout",
          "text": [
            "<re.Match object; span=(31, 36), match='23,08'>\n",
            "<re.Match object; span=(47, 51), match='7,50'>\n"
          ]
        }
      ]
    },
    {
      "cell_type": "code",
      "source": [
        "# \\d significa digito, busca numeros\n",
        "pattern = r'\\d{1,2},\\d{1,2}'    # expresion regular\n",
        "# matches = re.finditer(pattern, \"Esta cadena contiene el precio 23.08 y tambien 7.5\")\n",
        "matches = re.finditer(pattern, \"No contiene precios\")\n",
        "print(matches)\n",
        "\n",
        "for x in matches:\n",
        "  print(\"Entro al bucle\")\n",
        "  print(x)"
      ],
      "metadata": {
        "id": "1NPLDY3SKM7U",
        "outputId": "344e19ec-3d11-4211-bece-fe15882a3f04",
        "colab": {
          "base_uri": "https://localhost:8080/"
        }
      },
      "execution_count": 46,
      "outputs": [
        {
          "output_type": "stream",
          "name": "stdout",
          "text": [
            "<callable_iterator object at 0x7f925743ef50>\n"
          ]
        }
      ]
    },
    {
      "cell_type": "markdown",
      "source": [
        "Callable significa que se puede recorrer con un bucle for"
      ],
      "metadata": {
        "id": "vl5ESPbkMUro"
      }
    },
    {
      "cell_type": "code",
      "source": [
        "# escribir una funcion que escriba true o false segun cumpla o no el pattern\n",
        "def linea_contiene_precio(linea):\n",
        "  # return True si encontre algo\n",
        "  # return false si no encontre nada\n",
        "  pattern = r'\\d{1,2},\\d{1,2}'\n",
        "  matches = re.finditer(pattern,linea)\n",
        "  # puede ocurrir dos cosas, que matches tenga elementos o no\n",
        "  # matches tiene elementos si en linea encontramos el patron\n",
        "  # matches no tiene elementos si en linea no encontramos el patron\n",
        "  # si matches tiene elementos entramos al bucle\n",
        "  # si matches no tiene elementos no entramos al bucle\n",
        "  for x in matches:\n",
        "    return True\n",
        "  return False\n",
        "\n",
        "print(linea_contiene_precio(\"Esta cadena contiene el precio 23,08 y tambien 7,50\"))\n",
        "print(linea_contiene_precio(\"Esta cadena no contiene el precio\"))"
      ],
      "metadata": {
        "id": "gngg5vciKqgG",
        "outputId": "2f76af6b-b09f-403c-802f-bad8766841be",
        "colab": {
          "base_uri": "https://localhost:8080/"
        }
      },
      "execution_count": 60,
      "outputs": [
        {
          "output_type": "stream",
          "name": "stdout",
          "text": [
            "True\n",
            "False\n"
          ]
        }
      ]
    },
    {
      "cell_type": "code",
      "source": [
        "print(lineas)"
      ],
      "metadata": {
        "id": "CFGrtZD2LL2K",
        "outputId": "03e7fa44-dfee-47eb-9297-7375b1bcfdb5",
        "colab": {
          "base_uri": "https://localhost:8080/"
        }
      },
      "execution_count": 57,
      "outputs": [
        {
          "output_type": "stream",
          "name": "stdout",
          "text": [
            "['MERCADONA, S.A.   A-46103834' 'C/ ALFONSO ARGUELLES 2' '33900 LANGREO'\n",
            " 'TELÉFONO: 985698053' '21/09/2023 17:12  OP: 371122'\n",
            " 'FACTURA SIMPLIFICADA: 2363-011-208468' 'Descripción P. Unit Importe'\n",
            " '1MÁSCARA DE CEJAS 4,00' '1PICATOSTE AJO 0,85' '1TAQUITOS SALMÓN 3,80'\n",
            " '1DUO CANONIGOS RUCULA 1,05' 'TOTAL (€) 9,70' 'TARJETA BANCARIA 9,70'\n",
            " 'IVA BASE IMPONIBLE (€) CUOTA (€)' '10% 4,23 0,42' '21% 3,31 0,69'\n",
            " '0% 1,05 0,00' 'TOTAL 8,59 1,11' 'TARJ. BANCARIA:  **** **** **** 4016'\n",
            " 'N.C: 003765716  AUT: 766364' 'AID: A0000000041010   ARC: 3030'\n",
            " 'MASTERCARD' 'Importe: 9,70 €  MASTERCARD'\n",
            " 'SE ADMITEN DEVOLUCIONES CON TICKET']\n"
          ]
        }
      ]
    },
    {
      "cell_type": "code",
      "source": [
        "np.vectorize(lambda x: linea_contiene_precio(x))(lineas)"
      ],
      "metadata": {
        "id": "oV9iW1gcO6Vf",
        "outputId": "b3d37bec-f19c-47b4-c542-7de105c38c25",
        "colab": {
          "base_uri": "https://localhost:8080/"
        }
      },
      "execution_count": 61,
      "outputs": [
        {
          "output_type": "execute_result",
          "data": {
            "text/plain": [
              "array([False, False, False, False, False, False, False,  True,  True,\n",
              "        True,  True,  True,  True, False,  True,  True,  True,  True,\n",
              "       False, False, False, False,  True, False])"
            ]
          },
          "metadata": {},
          "execution_count": 61
        }
      ]
    },
    {
      "cell_type": "code",
      "source": [
        "lineas_que_contiene_precio = [linea_contiene_precio (x) for x in lineas]   # igual a la de a vectorize\n",
        "productos = lineas[lineas_que_contiene_precio]    # para filtrar por el patron que defini"
      ],
      "metadata": {
        "id": "flJkNkKjPDk_"
      },
      "execution_count": 64,
      "outputs": []
    },
    {
      "cell_type": "code",
      "source": [
        "from numpy.core.multiarray import empty\n",
        "# crear un dataframe que tenga la estructura\n",
        "# cantidad | producto | precio   (inicialmente son np.arrays)\n",
        "# imaginad que tengo 10 datos vacios\n",
        "num_productos = 10\n",
        "\n",
        "datos = pd.DataFrame({\n",
        "    'cantidad': np.zeros(num_productos, dtype=int),\n",
        "    'producto': np.zeros(num_productos, dtype='<U20'),\n",
        "    'precio_individual': np.zeros(num_productos, dtype='<U20')\n",
        "})\n",
        "datos"
      ],
      "metadata": {
        "id": "to_0wkh5P-m3",
        "outputId": "f5bc1811-9e67-4512-905f-ba19331454d0",
        "colab": {
          "base_uri": "https://localhost:8080/",
          "height": 363
        }
      },
      "execution_count": 75,
      "outputs": [
        {
          "output_type": "execute_result",
          "data": {
            "text/plain": [
              "   cantidad producto precio_individual\n",
              "0         0                           \n",
              "1         0                           \n",
              "2         0                           \n",
              "3         0                           \n",
              "4         0                           \n",
              "5         0                           \n",
              "6         0                           \n",
              "7         0                           \n",
              "8         0                           \n",
              "9         0                           "
            ],
            "text/html": [
              "\n",
              "  <div id=\"df-d461c7c1-b799-4520-ac51-d26f8ae0e4db\" class=\"colab-df-container\">\n",
              "    <div>\n",
              "<style scoped>\n",
              "    .dataframe tbody tr th:only-of-type {\n",
              "        vertical-align: middle;\n",
              "    }\n",
              "\n",
              "    .dataframe tbody tr th {\n",
              "        vertical-align: top;\n",
              "    }\n",
              "\n",
              "    .dataframe thead th {\n",
              "        text-align: right;\n",
              "    }\n",
              "</style>\n",
              "<table border=\"1\" class=\"dataframe\">\n",
              "  <thead>\n",
              "    <tr style=\"text-align: right;\">\n",
              "      <th></th>\n",
              "      <th>cantidad</th>\n",
              "      <th>producto</th>\n",
              "      <th>precio_individual</th>\n",
              "    </tr>\n",
              "  </thead>\n",
              "  <tbody>\n",
              "    <tr>\n",
              "      <th>0</th>\n",
              "      <td>0</td>\n",
              "      <td></td>\n",
              "      <td></td>\n",
              "    </tr>\n",
              "    <tr>\n",
              "      <th>1</th>\n",
              "      <td>0</td>\n",
              "      <td></td>\n",
              "      <td></td>\n",
              "    </tr>\n",
              "    <tr>\n",
              "      <th>2</th>\n",
              "      <td>0</td>\n",
              "      <td></td>\n",
              "      <td></td>\n",
              "    </tr>\n",
              "    <tr>\n",
              "      <th>3</th>\n",
              "      <td>0</td>\n",
              "      <td></td>\n",
              "      <td></td>\n",
              "    </tr>\n",
              "    <tr>\n",
              "      <th>4</th>\n",
              "      <td>0</td>\n",
              "      <td></td>\n",
              "      <td></td>\n",
              "    </tr>\n",
              "    <tr>\n",
              "      <th>5</th>\n",
              "      <td>0</td>\n",
              "      <td></td>\n",
              "      <td></td>\n",
              "    </tr>\n",
              "    <tr>\n",
              "      <th>6</th>\n",
              "      <td>0</td>\n",
              "      <td></td>\n",
              "      <td></td>\n",
              "    </tr>\n",
              "    <tr>\n",
              "      <th>7</th>\n",
              "      <td>0</td>\n",
              "      <td></td>\n",
              "      <td></td>\n",
              "    </tr>\n",
              "    <tr>\n",
              "      <th>8</th>\n",
              "      <td>0</td>\n",
              "      <td></td>\n",
              "      <td></td>\n",
              "    </tr>\n",
              "    <tr>\n",
              "      <th>9</th>\n",
              "      <td>0</td>\n",
              "      <td></td>\n",
              "      <td></td>\n",
              "    </tr>\n",
              "  </tbody>\n",
              "</table>\n",
              "</div>\n",
              "    <div class=\"colab-df-buttons\">\n",
              "\n",
              "  <div class=\"colab-df-container\">\n",
              "    <button class=\"colab-df-convert\" onclick=\"convertToInteractive('df-d461c7c1-b799-4520-ac51-d26f8ae0e4db')\"\n",
              "            title=\"Convert this dataframe to an interactive table.\"\n",
              "            style=\"display:none;\">\n",
              "\n",
              "  <svg xmlns=\"http://www.w3.org/2000/svg\" height=\"24px\" viewBox=\"0 -960 960 960\">\n",
              "    <path d=\"M120-120v-720h720v720H120Zm60-500h600v-160H180v160Zm220 220h160v-160H400v160Zm0 220h160v-160H400v160ZM180-400h160v-160H180v160Zm440 0h160v-160H620v160ZM180-180h160v-160H180v160Zm440 0h160v-160H620v160Z\"/>\n",
              "  </svg>\n",
              "    </button>\n",
              "\n",
              "  <style>\n",
              "    .colab-df-container {\n",
              "      display:flex;\n",
              "      gap: 12px;\n",
              "    }\n",
              "\n",
              "    .colab-df-convert {\n",
              "      background-color: #E8F0FE;\n",
              "      border: none;\n",
              "      border-radius: 50%;\n",
              "      cursor: pointer;\n",
              "      display: none;\n",
              "      fill: #1967D2;\n",
              "      height: 32px;\n",
              "      padding: 0 0 0 0;\n",
              "      width: 32px;\n",
              "    }\n",
              "\n",
              "    .colab-df-convert:hover {\n",
              "      background-color: #E2EBFA;\n",
              "      box-shadow: 0px 1px 2px rgba(60, 64, 67, 0.3), 0px 1px 3px 1px rgba(60, 64, 67, 0.15);\n",
              "      fill: #174EA6;\n",
              "    }\n",
              "\n",
              "    .colab-df-buttons div {\n",
              "      margin-bottom: 4px;\n",
              "    }\n",
              "\n",
              "    [theme=dark] .colab-df-convert {\n",
              "      background-color: #3B4455;\n",
              "      fill: #D2E3FC;\n",
              "    }\n",
              "\n",
              "    [theme=dark] .colab-df-convert:hover {\n",
              "      background-color: #434B5C;\n",
              "      box-shadow: 0px 1px 3px 1px rgba(0, 0, 0, 0.15);\n",
              "      filter: drop-shadow(0px 1px 2px rgba(0, 0, 0, 0.3));\n",
              "      fill: #FFFFFF;\n",
              "    }\n",
              "  </style>\n",
              "\n",
              "    <script>\n",
              "      const buttonEl =\n",
              "        document.querySelector('#df-d461c7c1-b799-4520-ac51-d26f8ae0e4db button.colab-df-convert');\n",
              "      buttonEl.style.display =\n",
              "        google.colab.kernel.accessAllowed ? 'block' : 'none';\n",
              "\n",
              "      async function convertToInteractive(key) {\n",
              "        const element = document.querySelector('#df-d461c7c1-b799-4520-ac51-d26f8ae0e4db');\n",
              "        const dataTable =\n",
              "          await google.colab.kernel.invokeFunction('convertToInteractive',\n",
              "                                                    [key], {});\n",
              "        if (!dataTable) return;\n",
              "\n",
              "        const docLinkHtml = 'Like what you see? Visit the ' +\n",
              "          '<a target=\"_blank\" href=https://colab.research.google.com/notebooks/data_table.ipynb>data table notebook</a>'\n",
              "          + ' to learn more about interactive tables.';\n",
              "        element.innerHTML = '';\n",
              "        dataTable['output_type'] = 'display_data';\n",
              "        await google.colab.output.renderOutput(dataTable, element);\n",
              "        const docLink = document.createElement('div');\n",
              "        docLink.innerHTML = docLinkHtml;\n",
              "        element.appendChild(docLink);\n",
              "      }\n",
              "    </script>\n",
              "  </div>\n",
              "\n",
              "\n",
              "<div id=\"df-c83ef517-05d6-451c-beeb-aec2c9593c74\">\n",
              "  <button class=\"colab-df-quickchart\" onclick=\"quickchart('df-c83ef517-05d6-451c-beeb-aec2c9593c74')\"\n",
              "            title=\"Suggest charts.\"\n",
              "            style=\"display:none;\">\n",
              "\n",
              "<svg xmlns=\"http://www.w3.org/2000/svg\" height=\"24px\"viewBox=\"0 0 24 24\"\n",
              "     width=\"24px\">\n",
              "    <g>\n",
              "        <path d=\"M19 3H5c-1.1 0-2 .9-2 2v14c0 1.1.9 2 2 2h14c1.1 0 2-.9 2-2V5c0-1.1-.9-2-2-2zM9 17H7v-7h2v7zm4 0h-2V7h2v10zm4 0h-2v-4h2v4z\"/>\n",
              "    </g>\n",
              "</svg>\n",
              "  </button>\n",
              "\n",
              "<style>\n",
              "  .colab-df-quickchart {\n",
              "      --bg-color: #E8F0FE;\n",
              "      --fill-color: #1967D2;\n",
              "      --hover-bg-color: #E2EBFA;\n",
              "      --hover-fill-color: #174EA6;\n",
              "      --disabled-fill-color: #AAA;\n",
              "      --disabled-bg-color: #DDD;\n",
              "  }\n",
              "\n",
              "  [theme=dark] .colab-df-quickchart {\n",
              "      --bg-color: #3B4455;\n",
              "      --fill-color: #D2E3FC;\n",
              "      --hover-bg-color: #434B5C;\n",
              "      --hover-fill-color: #FFFFFF;\n",
              "      --disabled-bg-color: #3B4455;\n",
              "      --disabled-fill-color: #666;\n",
              "  }\n",
              "\n",
              "  .colab-df-quickchart {\n",
              "    background-color: var(--bg-color);\n",
              "    border: none;\n",
              "    border-radius: 50%;\n",
              "    cursor: pointer;\n",
              "    display: none;\n",
              "    fill: var(--fill-color);\n",
              "    height: 32px;\n",
              "    padding: 0;\n",
              "    width: 32px;\n",
              "  }\n",
              "\n",
              "  .colab-df-quickchart:hover {\n",
              "    background-color: var(--hover-bg-color);\n",
              "    box-shadow: 0 1px 2px rgba(60, 64, 67, 0.3), 0 1px 3px 1px rgba(60, 64, 67, 0.15);\n",
              "    fill: var(--button-hover-fill-color);\n",
              "  }\n",
              "\n",
              "  .colab-df-quickchart-complete:disabled,\n",
              "  .colab-df-quickchart-complete:disabled:hover {\n",
              "    background-color: var(--disabled-bg-color);\n",
              "    fill: var(--disabled-fill-color);\n",
              "    box-shadow: none;\n",
              "  }\n",
              "\n",
              "  .colab-df-spinner {\n",
              "    border: 2px solid var(--fill-color);\n",
              "    border-color: transparent;\n",
              "    border-bottom-color: var(--fill-color);\n",
              "    animation:\n",
              "      spin 1s steps(1) infinite;\n",
              "  }\n",
              "\n",
              "  @keyframes spin {\n",
              "    0% {\n",
              "      border-color: transparent;\n",
              "      border-bottom-color: var(--fill-color);\n",
              "      border-left-color: var(--fill-color);\n",
              "    }\n",
              "    20% {\n",
              "      border-color: transparent;\n",
              "      border-left-color: var(--fill-color);\n",
              "      border-top-color: var(--fill-color);\n",
              "    }\n",
              "    30% {\n",
              "      border-color: transparent;\n",
              "      border-left-color: var(--fill-color);\n",
              "      border-top-color: var(--fill-color);\n",
              "      border-right-color: var(--fill-color);\n",
              "    }\n",
              "    40% {\n",
              "      border-color: transparent;\n",
              "      border-right-color: var(--fill-color);\n",
              "      border-top-color: var(--fill-color);\n",
              "    }\n",
              "    60% {\n",
              "      border-color: transparent;\n",
              "      border-right-color: var(--fill-color);\n",
              "    }\n",
              "    80% {\n",
              "      border-color: transparent;\n",
              "      border-right-color: var(--fill-color);\n",
              "      border-bottom-color: var(--fill-color);\n",
              "    }\n",
              "    90% {\n",
              "      border-color: transparent;\n",
              "      border-bottom-color: var(--fill-color);\n",
              "    }\n",
              "  }\n",
              "</style>\n",
              "\n",
              "  <script>\n",
              "    async function quickchart(key) {\n",
              "      const quickchartButtonEl =\n",
              "        document.querySelector('#' + key + ' button');\n",
              "      quickchartButtonEl.disabled = true;  // To prevent multiple clicks.\n",
              "      quickchartButtonEl.classList.add('colab-df-spinner');\n",
              "      try {\n",
              "        const charts = await google.colab.kernel.invokeFunction(\n",
              "            'suggestCharts', [key], {});\n",
              "      } catch (error) {\n",
              "        console.error('Error during call to suggestCharts:', error);\n",
              "      }\n",
              "      quickchartButtonEl.classList.remove('colab-df-spinner');\n",
              "      quickchartButtonEl.classList.add('colab-df-quickchart-complete');\n",
              "    }\n",
              "    (() => {\n",
              "      let quickchartButtonEl =\n",
              "        document.querySelector('#df-c83ef517-05d6-451c-beeb-aec2c9593c74 button');\n",
              "      quickchartButtonEl.style.display =\n",
              "        google.colab.kernel.accessAllowed ? 'block' : 'none';\n",
              "    })();\n",
              "  </script>\n",
              "</div>\n",
              "    </div>\n",
              "  </div>\n"
            ]
          },
          "metadata": {},
          "execution_count": 75
        }
      ]
    }
  ]
}